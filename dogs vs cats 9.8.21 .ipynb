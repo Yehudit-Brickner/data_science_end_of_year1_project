{
 "cells": [
  {
   "cell_type": "markdown",
   "metadata": {},
   "source": [
    "data science end of year project part 3 cats vs dogs 9.8.21"
   ]
  },
  {
   "cell_type": "code",
   "execution_count": 1,
   "metadata": {},
   "outputs": [],
   "source": [
    "#all the imports that i will need \n",
    "import numpy as np\n",
    "import pandas as pd\n",
    "import matplotlib.pyplot as plt\n",
    "import seaborn as sns\n",
    "from sklearn.model_selection import train_test_split\n",
    "from sklearn.decomposition import PCA\n",
    "import warnings\n",
    "warnings.filterwarnings(action='ignore', category=UserWarning)\n",
    "from sklearn.model_selection import cross_val_score \n",
    "from sklearn.model_selection import cross_val_predict  \n",
    "from sklearn.metrics import confusion_matrix\n",
    "from sklearn.metrics import precision_score, recall_score  \n",
    "from sklearn.metrics import f1_score  \n",
    "from sklearn.metrics import accuracy_score\n",
    "from sklearn import metrics\n",
    "from sklearn.neighbors import KNeighborsClassifier\n",
    "from xgboost import XGBClassifier"
   ]
  },
  {
   "cell_type": "code",
   "execution_count": 2,
   "metadata": {},
   "outputs": [],
   "source": [
    "import os\n",
    "import cv2"
   ]
  },
  {
   "cell_type": "markdown",
   "metadata": {},
   "source": [
    "in the next 6 cells i will be importing the data from picture form.\n",
    "<br>when i import the pictures i will be changing the size to 100x100 pixcels and making them gray scale.\n",
    "<br>because i dont want this done every time i rerun the notebook the next cells will be text because the code has alteady been run. "
   ]
  },
  {
   "cell_type": "markdown",
   "metadata": {},
   "source": [
    "train_dir=r'C:\\Users\\nechd\\Desktop\\train1'\n",
    "test_dir=r'C:\\Users\\nechd\\Desktop\\test1'\n",
    "image_size=100"
   ]
  },
  {
   "cell_type": "markdown",
   "metadata": {},
   "source": [
    "def label_img(img):\n",
    "    word_label=img.split('.')[-3]\n",
    "    if word_label=='cat':return [0]\n",
    "    elif word_label =='dog':return [1]"
   ]
  },
  {
   "cell_type": "markdown",
   "metadata": {},
   "source": [
    "def create_train_data():\n",
    "    training_data=[]\n",
    "    for img in (os.listdir(train_dir)):\n",
    "        label=label_img(img)\n",
    "        path=os.path.join(train_dir,img)\n",
    "        img=cv2.resize(cv2.imread(path,cv2.IMREAD_GRAYSCALE),(image_size,image_size))\n",
    "        training_data.append([img,label])\n",
    "    np.save('train_data.npy',training_data)\n",
    "    return training_data"
   ]
  },
  {
   "cell_type": "markdown",
   "metadata": {},
   "source": [
    "def process_test_data():\n",
    "    testing_data=[]\n",
    "    for img in (os.listdir(test_dir)):\n",
    "        path=os.path.join(test_dir,img)\n",
    "       # img_num=img.split('.')[0]\n",
    "        img = cv2.resize(cv2.imread(path,cv2.IMREAD_GRAYSCALE),(image_size,image_size))\n",
    "        testing_data.append(img)\n",
    "    np.save('teat_data.npy',testing_data)  \n",
    "    return testing_data\n",
    "    "
   ]
  },
  {
   "cell_type": "markdown",
   "metadata": {},
   "source": [
    "train_data=create_train_data()"
   ]
  },
  {
   "cell_type": "markdown",
   "metadata": {},
   "source": [
    "testing_data_dont_touch=process_test_data()"
   ]
  },
  {
   "cell_type": "markdown",
   "metadata": {},
   "source": [
    "in the next 20 cells i will be taking the data and putting into a dataframe format then save it on the computer and reupload it.\n",
    "<br> because i dont want this done every time i rerun the notebook the next cells will be text because the code has already been run. "
   ]
  },
  {
   "cell_type": "markdown",
   "metadata": {},
   "source": [
    "def create_pic_row(y):\n",
    "    df3=pd.DataFrame(train_data[y][0][0])\n",
    "    for x in range (1,100):\n",
    "        df2=pd.DataFrame(train_data[y][0][x])\n",
    "        df3= df3.append(df2)\n",
    "    df5=pd.DataFrame(train_data[y][1])\n",
    "    df3= df3.append(df5)\n",
    "    df3=df3.T\n",
    "    return df3"
   ]
  },
  {
   "cell_type": "markdown",
   "metadata": {},
   "source": [
    "data=create_pic_row(0)\n",
    "for y in range(1,24999):\n",
    "    count=y\n",
    "    data1=create_pic_row(y) \n",
    "    data=data.append(data1) \n",
    "    print(y)\n",
    "data      \n"
   ]
  },
  {
   "cell_type": "markdown",
   "metadata": {},
   "source": [
    "data"
   ]
  },
  {
   "cell_type": "markdown",
   "metadata": {},
   "source": [
    "columns=np.arange(0,10001)\n",
    "columns\n",
    "rows=np.arange(0,24999)\n",
    "rows"
   ]
  },
  {
   "cell_type": "markdown",
   "metadata": {},
   "source": [
    "data=data.set_axis(columns, axis='columns')\n",
    "data=data.set_index(rows)"
   ]
  },
  {
   "cell_type": "markdown",
   "metadata": {},
   "source": [
    "data"
   ]
  },
  {
   "cell_type": "markdown",
   "metadata": {},
   "source": [
    "data.to_csv('cats_vs_dogs_train.csv')"
   ]
  },
  {
   "cell_type": "markdown",
   "metadata": {},
   "source": [
    "def create_pic_row_test(y):\n",
    "    df6=pd.DataFrame(testing_data_dont_touch[y][0])\n",
    "    for x in range (1,100):\n",
    "        df7=pd.DataFrame(testing_data_dont_touch[y][x])\n",
    "        df6 = df6.append(df7)\n",
    "    df6=df6.T\n",
    "    return df6"
   ]
  },
  {
   "cell_type": "markdown",
   "metadata": {},
   "source": [
    "data_testing_dont_touch=create_pic_row_test(0)\n",
    "for y in range(1,12500):\n",
    "    count=y\n",
    "    data1=create_pic_row_test(y) \n",
    "    data_testing_dont_touch=data_testing_dont_touch.append(data1) \n",
    "    print(y)\n",
    "data_testing_dont_touch      \n"
   ]
  },
  {
   "cell_type": "markdown",
   "metadata": {},
   "source": [
    "data_testing_dont_touch "
   ]
  },
  {
   "cell_type": "markdown",
   "metadata": {},
   "source": [
    "columns=np.arange(0,10000)\n",
    "columns\n",
    "rows=np.arange(0,12500)\n",
    "rows"
   ]
  },
  {
   "cell_type": "markdown",
   "metadata": {},
   "source": [
    "data_testing_dont_touch=data_testing_dont_touch.set_axis(columns, axis='columns')\n",
    "data_testing_dont_touch=data_testing_dont_touch.set_index(rows)"
   ]
  },
  {
   "cell_type": "markdown",
   "metadata": {},
   "source": [
    "data_testing_dont_touch"
   ]
  },
  {
   "cell_type": "markdown",
   "metadata": {},
   "source": [
    "data_testing_dont_touch.to_csv('cats_vs_dogs_test.csv')"
   ]
  },
  {
   "cell_type": "code",
   "execution_count": 3,
   "metadata": {},
   "outputs": [],
   "source": [
    "#importing the train data frame that is saved to my computer\n",
    "training_set=pd.read_csv(r\"C:\\Users\\nechd\\Desktop\\cats_vs_dogs_train.csv\")"
   ]
  },
  {
   "cell_type": "code",
   "execution_count": 4,
   "metadata": {},
   "outputs": [
    {
     "data": {
      "text/html": [
       "<div>\n",
       "<style scoped>\n",
       "    .dataframe tbody tr th:only-of-type {\n",
       "        vertical-align: middle;\n",
       "    }\n",
       "\n",
       "    .dataframe tbody tr th {\n",
       "        vertical-align: top;\n",
       "    }\n",
       "\n",
       "    .dataframe thead th {\n",
       "        text-align: right;\n",
       "    }\n",
       "</style>\n",
       "<table border=\"1\" class=\"dataframe\">\n",
       "  <thead>\n",
       "    <tr style=\"text-align: right;\">\n",
       "      <th></th>\n",
       "      <th>0</th>\n",
       "      <th>1</th>\n",
       "      <th>2</th>\n",
       "      <th>3</th>\n",
       "      <th>4</th>\n",
       "      <th>5</th>\n",
       "      <th>6</th>\n",
       "      <th>7</th>\n",
       "      <th>8</th>\n",
       "      <th>9</th>\n",
       "      <th>...</th>\n",
       "      <th>9991</th>\n",
       "      <th>9992</th>\n",
       "      <th>9993</th>\n",
       "      <th>9994</th>\n",
       "      <th>9995</th>\n",
       "      <th>9996</th>\n",
       "      <th>9997</th>\n",
       "      <th>9998</th>\n",
       "      <th>9999</th>\n",
       "      <th>10000</th>\n",
       "    </tr>\n",
       "  </thead>\n",
       "  <tbody>\n",
       "    <tr>\n",
       "      <th>0</th>\n",
       "      <td>168</td>\n",
       "      <td>174</td>\n",
       "      <td>177</td>\n",
       "      <td>181</td>\n",
       "      <td>185</td>\n",
       "      <td>188</td>\n",
       "      <td>190</td>\n",
       "      <td>193</td>\n",
       "      <td>196</td>\n",
       "      <td>198</td>\n",
       "      <td>...</td>\n",
       "      <td>3</td>\n",
       "      <td>3</td>\n",
       "      <td>2</td>\n",
       "      <td>2</td>\n",
       "      <td>2</td>\n",
       "      <td>2</td>\n",
       "      <td>2</td>\n",
       "      <td>2</td>\n",
       "      <td>2</td>\n",
       "      <td>0</td>\n",
       "    </tr>\n",
       "    <tr>\n",
       "      <th>1</th>\n",
       "      <td>43</td>\n",
       "      <td>44</td>\n",
       "      <td>43</td>\n",
       "      <td>42</td>\n",
       "      <td>52</td>\n",
       "      <td>34</td>\n",
       "      <td>51</td>\n",
       "      <td>40</td>\n",
       "      <td>39</td>\n",
       "      <td>63</td>\n",
       "      <td>...</td>\n",
       "      <td>47</td>\n",
       "      <td>50</td>\n",
       "      <td>49</td>\n",
       "      <td>55</td>\n",
       "      <td>63</td>\n",
       "      <td>64</td>\n",
       "      <td>89</td>\n",
       "      <td>19</td>\n",
       "      <td>36</td>\n",
       "      <td>0</td>\n",
       "    </tr>\n",
       "    <tr>\n",
       "      <th>2</th>\n",
       "      <td>39</td>\n",
       "      <td>25</td>\n",
       "      <td>43</td>\n",
       "      <td>49</td>\n",
       "      <td>47</td>\n",
       "      <td>57</td>\n",
       "      <td>58</td>\n",
       "      <td>54</td>\n",
       "      <td>53</td>\n",
       "      <td>59</td>\n",
       "      <td>...</td>\n",
       "      <td>158</td>\n",
       "      <td>150</td>\n",
       "      <td>133</td>\n",
       "      <td>135</td>\n",
       "      <td>145</td>\n",
       "      <td>160</td>\n",
       "      <td>169</td>\n",
       "      <td>171</td>\n",
       "      <td>153</td>\n",
       "      <td>0</td>\n",
       "    </tr>\n",
       "    <tr>\n",
       "      <th>3</th>\n",
       "      <td>221</td>\n",
       "      <td>224</td>\n",
       "      <td>222</td>\n",
       "      <td>228</td>\n",
       "      <td>229</td>\n",
       "      <td>224</td>\n",
       "      <td>224</td>\n",
       "      <td>235</td>\n",
       "      <td>229</td>\n",
       "      <td>227</td>\n",
       "      <td>...</td>\n",
       "      <td>212</td>\n",
       "      <td>204</td>\n",
       "      <td>204</td>\n",
       "      <td>203</td>\n",
       "      <td>215</td>\n",
       "      <td>222</td>\n",
       "      <td>217</td>\n",
       "      <td>211</td>\n",
       "      <td>213</td>\n",
       "      <td>0</td>\n",
       "    </tr>\n",
       "    <tr>\n",
       "      <th>4</th>\n",
       "      <td>115</td>\n",
       "      <td>119</td>\n",
       "      <td>122</td>\n",
       "      <td>91</td>\n",
       "      <td>83</td>\n",
       "      <td>95</td>\n",
       "      <td>132</td>\n",
       "      <td>131</td>\n",
       "      <td>149</td>\n",
       "      <td>180</td>\n",
       "      <td>...</td>\n",
       "      <td>96</td>\n",
       "      <td>97</td>\n",
       "      <td>94</td>\n",
       "      <td>100</td>\n",
       "      <td>119</td>\n",
       "      <td>95</td>\n",
       "      <td>90</td>\n",
       "      <td>95</td>\n",
       "      <td>82</td>\n",
       "      <td>0</td>\n",
       "    </tr>\n",
       "    <tr>\n",
       "      <th>...</th>\n",
       "      <td>...</td>\n",
       "      <td>...</td>\n",
       "      <td>...</td>\n",
       "      <td>...</td>\n",
       "      <td>...</td>\n",
       "      <td>...</td>\n",
       "      <td>...</td>\n",
       "      <td>...</td>\n",
       "      <td>...</td>\n",
       "      <td>...</td>\n",
       "      <td>...</td>\n",
       "      <td>...</td>\n",
       "      <td>...</td>\n",
       "      <td>...</td>\n",
       "      <td>...</td>\n",
       "      <td>...</td>\n",
       "      <td>...</td>\n",
       "      <td>...</td>\n",
       "      <td>...</td>\n",
       "      <td>...</td>\n",
       "      <td>...</td>\n",
       "    </tr>\n",
       "    <tr>\n",
       "      <th>24994</th>\n",
       "      <td>122</td>\n",
       "      <td>128</td>\n",
       "      <td>124</td>\n",
       "      <td>125</td>\n",
       "      <td>127</td>\n",
       "      <td>129</td>\n",
       "      <td>130</td>\n",
       "      <td>128</td>\n",
       "      <td>125</td>\n",
       "      <td>122</td>\n",
       "      <td>...</td>\n",
       "      <td>49</td>\n",
       "      <td>49</td>\n",
       "      <td>45</td>\n",
       "      <td>32</td>\n",
       "      <td>32</td>\n",
       "      <td>35</td>\n",
       "      <td>26</td>\n",
       "      <td>21</td>\n",
       "      <td>17</td>\n",
       "      <td>1</td>\n",
       "    </tr>\n",
       "    <tr>\n",
       "      <th>24995</th>\n",
       "      <td>140</td>\n",
       "      <td>143</td>\n",
       "      <td>142</td>\n",
       "      <td>145</td>\n",
       "      <td>146</td>\n",
       "      <td>147</td>\n",
       "      <td>148</td>\n",
       "      <td>149</td>\n",
       "      <td>148</td>\n",
       "      <td>149</td>\n",
       "      <td>...</td>\n",
       "      <td>165</td>\n",
       "      <td>166</td>\n",
       "      <td>166</td>\n",
       "      <td>167</td>\n",
       "      <td>168</td>\n",
       "      <td>168</td>\n",
       "      <td>168</td>\n",
       "      <td>168</td>\n",
       "      <td>169</td>\n",
       "      <td>1</td>\n",
       "    </tr>\n",
       "    <tr>\n",
       "      <th>24996</th>\n",
       "      <td>117</td>\n",
       "      <td>78</td>\n",
       "      <td>102</td>\n",
       "      <td>83</td>\n",
       "      <td>101</td>\n",
       "      <td>113</td>\n",
       "      <td>69</td>\n",
       "      <td>85</td>\n",
       "      <td>86</td>\n",
       "      <td>86</td>\n",
       "      <td>...</td>\n",
       "      <td>97</td>\n",
       "      <td>77</td>\n",
       "      <td>100</td>\n",
       "      <td>84</td>\n",
       "      <td>77</td>\n",
       "      <td>85</td>\n",
       "      <td>93</td>\n",
       "      <td>94</td>\n",
       "      <td>74</td>\n",
       "      <td>1</td>\n",
       "    </tr>\n",
       "    <tr>\n",
       "      <th>24997</th>\n",
       "      <td>42</td>\n",
       "      <td>35</td>\n",
       "      <td>47</td>\n",
       "      <td>58</td>\n",
       "      <td>65</td>\n",
       "      <td>46</td>\n",
       "      <td>51</td>\n",
       "      <td>57</td>\n",
       "      <td>58</td>\n",
       "      <td>40</td>\n",
       "      <td>...</td>\n",
       "      <td>133</td>\n",
       "      <td>130</td>\n",
       "      <td>125</td>\n",
       "      <td>70</td>\n",
       "      <td>113</td>\n",
       "      <td>182</td>\n",
       "      <td>127</td>\n",
       "      <td>113</td>\n",
       "      <td>167</td>\n",
       "      <td>1</td>\n",
       "    </tr>\n",
       "    <tr>\n",
       "      <th>24998</th>\n",
       "      <td>254</td>\n",
       "      <td>251</td>\n",
       "      <td>245</td>\n",
       "      <td>234</td>\n",
       "      <td>224</td>\n",
       "      <td>207</td>\n",
       "      <td>189</td>\n",
       "      <td>144</td>\n",
       "      <td>112</td>\n",
       "      <td>75</td>\n",
       "      <td>...</td>\n",
       "      <td>102</td>\n",
       "      <td>107</td>\n",
       "      <td>114</td>\n",
       "      <td>111</td>\n",
       "      <td>111</td>\n",
       "      <td>107</td>\n",
       "      <td>116</td>\n",
       "      <td>114</td>\n",
       "      <td>121</td>\n",
       "      <td>1</td>\n",
       "    </tr>\n",
       "  </tbody>\n",
       "</table>\n",
       "<p>24999 rows × 10001 columns</p>\n",
       "</div>"
      ],
      "text/plain": [
       "         0    1    2    3    4    5    6    7    8    9  ...  9991  9992  \\\n",
       "0      168  174  177  181  185  188  190  193  196  198  ...     3     3   \n",
       "1       43   44   43   42   52   34   51   40   39   63  ...    47    50   \n",
       "2       39   25   43   49   47   57   58   54   53   59  ...   158   150   \n",
       "3      221  224  222  228  229  224  224  235  229  227  ...   212   204   \n",
       "4      115  119  122   91   83   95  132  131  149  180  ...    96    97   \n",
       "...    ...  ...  ...  ...  ...  ...  ...  ...  ...  ...  ...   ...   ...   \n",
       "24994  122  128  124  125  127  129  130  128  125  122  ...    49    49   \n",
       "24995  140  143  142  145  146  147  148  149  148  149  ...   165   166   \n",
       "24996  117   78  102   83  101  113   69   85   86   86  ...    97    77   \n",
       "24997   42   35   47   58   65   46   51   57   58   40  ...   133   130   \n",
       "24998  254  251  245  234  224  207  189  144  112   75  ...   102   107   \n",
       "\n",
       "       9993  9994  9995  9996  9997  9998  9999  10000  \n",
       "0         2     2     2     2     2     2     2      0  \n",
       "1        49    55    63    64    89    19    36      0  \n",
       "2       133   135   145   160   169   171   153      0  \n",
       "3       204   203   215   222   217   211   213      0  \n",
       "4        94   100   119    95    90    95    82      0  \n",
       "...     ...   ...   ...   ...   ...   ...   ...    ...  \n",
       "24994    45    32    32    35    26    21    17      1  \n",
       "24995   166   167   168   168   168   168   169      1  \n",
       "24996   100    84    77    85    93    94    74      1  \n",
       "24997   125    70   113   182   127   113   167      1  \n",
       "24998   114   111   111   107   116   114   121      1  \n",
       "\n",
       "[24999 rows x 10001 columns]"
      ]
     },
     "execution_count": 4,
     "metadata": {},
     "output_type": "execute_result"
    }
   ],
   "source": [
    "training_set=training_set.drop(['Unnamed: 0'], axis=1)\n",
    "training_set"
   ]
  },
  {
   "cell_type": "code",
   "execution_count": 5,
   "metadata": {},
   "outputs": [],
   "source": [
    "#importing the test data frame that is saved to my computer\n",
    "testing_set_dont_touch_csv=pd.read_csv(r'C:\\Users\\nechd\\Desktop\\cats_vs_dogs_test1.csv')"
   ]
  },
  {
   "cell_type": "code",
   "execution_count": 6,
   "metadata": {},
   "outputs": [
    {
     "data": {
      "text/html": [
       "<div>\n",
       "<style scoped>\n",
       "    .dataframe tbody tr th:only-of-type {\n",
       "        vertical-align: middle;\n",
       "    }\n",
       "\n",
       "    .dataframe tbody tr th {\n",
       "        vertical-align: top;\n",
       "    }\n",
       "\n",
       "    .dataframe thead th {\n",
       "        text-align: right;\n",
       "    }\n",
       "</style>\n",
       "<table border=\"1\" class=\"dataframe\">\n",
       "  <thead>\n",
       "    <tr style=\"text-align: right;\">\n",
       "      <th></th>\n",
       "      <th>Unnamed: 0</th>\n",
       "      <th>0</th>\n",
       "      <th>1</th>\n",
       "      <th>2</th>\n",
       "      <th>3</th>\n",
       "      <th>4</th>\n",
       "      <th>5</th>\n",
       "      <th>6</th>\n",
       "      <th>7</th>\n",
       "      <th>8</th>\n",
       "      <th>...</th>\n",
       "      <th>9990</th>\n",
       "      <th>9991</th>\n",
       "      <th>9992</th>\n",
       "      <th>9993</th>\n",
       "      <th>9994</th>\n",
       "      <th>9995</th>\n",
       "      <th>9996</th>\n",
       "      <th>9997</th>\n",
       "      <th>9998</th>\n",
       "      <th>9999</th>\n",
       "    </tr>\n",
       "  </thead>\n",
       "  <tbody>\n",
       "    <tr>\n",
       "      <th>0</th>\n",
       "      <td>0</td>\n",
       "      <td>64</td>\n",
       "      <td>57</td>\n",
       "      <td>54</td>\n",
       "      <td>63</td>\n",
       "      <td>66</td>\n",
       "      <td>68</td>\n",
       "      <td>64</td>\n",
       "      <td>65</td>\n",
       "      <td>57</td>\n",
       "      <td>...</td>\n",
       "      <td>153</td>\n",
       "      <td>211</td>\n",
       "      <td>211</td>\n",
       "      <td>191</td>\n",
       "      <td>119</td>\n",
       "      <td>133</td>\n",
       "      <td>147</td>\n",
       "      <td>170</td>\n",
       "      <td>179</td>\n",
       "      <td>82</td>\n",
       "    </tr>\n",
       "    <tr>\n",
       "      <th>1</th>\n",
       "      <td>1</td>\n",
       "      <td>9</td>\n",
       "      <td>9</td>\n",
       "      <td>9</td>\n",
       "      <td>9</td>\n",
       "      <td>4</td>\n",
       "      <td>8</td>\n",
       "      <td>104</td>\n",
       "      <td>98</td>\n",
       "      <td>86</td>\n",
       "      <td>...</td>\n",
       "      <td>101</td>\n",
       "      <td>77</td>\n",
       "      <td>77</td>\n",
       "      <td>84</td>\n",
       "      <td>78</td>\n",
       "      <td>69</td>\n",
       "      <td>66</td>\n",
       "      <td>73</td>\n",
       "      <td>63</td>\n",
       "      <td>77</td>\n",
       "    </tr>\n",
       "    <tr>\n",
       "      <th>2</th>\n",
       "      <td>2</td>\n",
       "      <td>3</td>\n",
       "      <td>3</td>\n",
       "      <td>3</td>\n",
       "      <td>2</td>\n",
       "      <td>2</td>\n",
       "      <td>2</td>\n",
       "      <td>3</td>\n",
       "      <td>3</td>\n",
       "      <td>4</td>\n",
       "      <td>...</td>\n",
       "      <td>249</td>\n",
       "      <td>249</td>\n",
       "      <td>244</td>\n",
       "      <td>242</td>\n",
       "      <td>252</td>\n",
       "      <td>250</td>\n",
       "      <td>251</td>\n",
       "      <td>250</td>\n",
       "      <td>235</td>\n",
       "      <td>253</td>\n",
       "    </tr>\n",
       "    <tr>\n",
       "      <th>3</th>\n",
       "      <td>3</td>\n",
       "      <td>131</td>\n",
       "      <td>135</td>\n",
       "      <td>194</td>\n",
       "      <td>155</td>\n",
       "      <td>199</td>\n",
       "      <td>219</td>\n",
       "      <td>151</td>\n",
       "      <td>175</td>\n",
       "      <td>185</td>\n",
       "      <td>...</td>\n",
       "      <td>161</td>\n",
       "      <td>170</td>\n",
       "      <td>164</td>\n",
       "      <td>177</td>\n",
       "      <td>140</td>\n",
       "      <td>124</td>\n",
       "      <td>154</td>\n",
       "      <td>191</td>\n",
       "      <td>162</td>\n",
       "      <td>124</td>\n",
       "    </tr>\n",
       "    <tr>\n",
       "      <th>4</th>\n",
       "      <td>4</td>\n",
       "      <td>126</td>\n",
       "      <td>131</td>\n",
       "      <td>108</td>\n",
       "      <td>192</td>\n",
       "      <td>216</td>\n",
       "      <td>222</td>\n",
       "      <td>222</td>\n",
       "      <td>191</td>\n",
       "      <td>218</td>\n",
       "      <td>...</td>\n",
       "      <td>150</td>\n",
       "      <td>135</td>\n",
       "      <td>116</td>\n",
       "      <td>140</td>\n",
       "      <td>157</td>\n",
       "      <td>161</td>\n",
       "      <td>152</td>\n",
       "      <td>118</td>\n",
       "      <td>133</td>\n",
       "      <td>123</td>\n",
       "    </tr>\n",
       "    <tr>\n",
       "      <th>...</th>\n",
       "      <td>...</td>\n",
       "      <td>...</td>\n",
       "      <td>...</td>\n",
       "      <td>...</td>\n",
       "      <td>...</td>\n",
       "      <td>...</td>\n",
       "      <td>...</td>\n",
       "      <td>...</td>\n",
       "      <td>...</td>\n",
       "      <td>...</td>\n",
       "      <td>...</td>\n",
       "      <td>...</td>\n",
       "      <td>...</td>\n",
       "      <td>...</td>\n",
       "      <td>...</td>\n",
       "      <td>...</td>\n",
       "      <td>...</td>\n",
       "      <td>...</td>\n",
       "      <td>...</td>\n",
       "      <td>...</td>\n",
       "      <td>...</td>\n",
       "    </tr>\n",
       "    <tr>\n",
       "      <th>12495</th>\n",
       "      <td>12495</td>\n",
       "      <td>38</td>\n",
       "      <td>41</td>\n",
       "      <td>46</td>\n",
       "      <td>49</td>\n",
       "      <td>53</td>\n",
       "      <td>56</td>\n",
       "      <td>57</td>\n",
       "      <td>58</td>\n",
       "      <td>66</td>\n",
       "      <td>...</td>\n",
       "      <td>139</td>\n",
       "      <td>137</td>\n",
       "      <td>125</td>\n",
       "      <td>138</td>\n",
       "      <td>134</td>\n",
       "      <td>121</td>\n",
       "      <td>128</td>\n",
       "      <td>127</td>\n",
       "      <td>123</td>\n",
       "      <td>116</td>\n",
       "    </tr>\n",
       "    <tr>\n",
       "      <th>12496</th>\n",
       "      <td>12496</td>\n",
       "      <td>142</td>\n",
       "      <td>145</td>\n",
       "      <td>52</td>\n",
       "      <td>203</td>\n",
       "      <td>125</td>\n",
       "      <td>141</td>\n",
       "      <td>146</td>\n",
       "      <td>91</td>\n",
       "      <td>193</td>\n",
       "      <td>...</td>\n",
       "      <td>25</td>\n",
       "      <td>34</td>\n",
       "      <td>10</td>\n",
       "      <td>55</td>\n",
       "      <td>32</td>\n",
       "      <td>22</td>\n",
       "      <td>12</td>\n",
       "      <td>16</td>\n",
       "      <td>32</td>\n",
       "      <td>31</td>\n",
       "    </tr>\n",
       "    <tr>\n",
       "      <th>12497</th>\n",
       "      <td>12497</td>\n",
       "      <td>215</td>\n",
       "      <td>209</td>\n",
       "      <td>231</td>\n",
       "      <td>233</td>\n",
       "      <td>210</td>\n",
       "      <td>242</td>\n",
       "      <td>206</td>\n",
       "      <td>237</td>\n",
       "      <td>231</td>\n",
       "      <td>...</td>\n",
       "      <td>155</td>\n",
       "      <td>155</td>\n",
       "      <td>148</td>\n",
       "      <td>156</td>\n",
       "      <td>138</td>\n",
       "      <td>123</td>\n",
       "      <td>106</td>\n",
       "      <td>126</td>\n",
       "      <td>119</td>\n",
       "      <td>116</td>\n",
       "    </tr>\n",
       "    <tr>\n",
       "      <th>12498</th>\n",
       "      <td>12498</td>\n",
       "      <td>107</td>\n",
       "      <td>109</td>\n",
       "      <td>123</td>\n",
       "      <td>134</td>\n",
       "      <td>143</td>\n",
       "      <td>148</td>\n",
       "      <td>156</td>\n",
       "      <td>168</td>\n",
       "      <td>174</td>\n",
       "      <td>...</td>\n",
       "      <td>126</td>\n",
       "      <td>128</td>\n",
       "      <td>131</td>\n",
       "      <td>128</td>\n",
       "      <td>127</td>\n",
       "      <td>122</td>\n",
       "      <td>121</td>\n",
       "      <td>118</td>\n",
       "      <td>123</td>\n",
       "      <td>122</td>\n",
       "    </tr>\n",
       "    <tr>\n",
       "      <th>12499</th>\n",
       "      <td>12499</td>\n",
       "      <td>76</td>\n",
       "      <td>76</td>\n",
       "      <td>80</td>\n",
       "      <td>75</td>\n",
       "      <td>85</td>\n",
       "      <td>90</td>\n",
       "      <td>89</td>\n",
       "      <td>115</td>\n",
       "      <td>131</td>\n",
       "      <td>...</td>\n",
       "      <td>96</td>\n",
       "      <td>97</td>\n",
       "      <td>86</td>\n",
       "      <td>150</td>\n",
       "      <td>96</td>\n",
       "      <td>87</td>\n",
       "      <td>94</td>\n",
       "      <td>188</td>\n",
       "      <td>227</td>\n",
       "      <td>223</td>\n",
       "    </tr>\n",
       "  </tbody>\n",
       "</table>\n",
       "<p>12500 rows × 10001 columns</p>\n",
       "</div>"
      ],
      "text/plain": [
       "       Unnamed: 0    0    1    2    3    4    5    6    7    8  ...  9990  \\\n",
       "0               0   64   57   54   63   66   68   64   65   57  ...   153   \n",
       "1               1    9    9    9    9    4    8  104   98   86  ...   101   \n",
       "2               2    3    3    3    2    2    2    3    3    4  ...   249   \n",
       "3               3  131  135  194  155  199  219  151  175  185  ...   161   \n",
       "4               4  126  131  108  192  216  222  222  191  218  ...   150   \n",
       "...           ...  ...  ...  ...  ...  ...  ...  ...  ...  ...  ...   ...   \n",
       "12495       12495   38   41   46   49   53   56   57   58   66  ...   139   \n",
       "12496       12496  142  145   52  203  125  141  146   91  193  ...    25   \n",
       "12497       12497  215  209  231  233  210  242  206  237  231  ...   155   \n",
       "12498       12498  107  109  123  134  143  148  156  168  174  ...   126   \n",
       "12499       12499   76   76   80   75   85   90   89  115  131  ...    96   \n",
       "\n",
       "       9991  9992  9993  9994  9995  9996  9997  9998  9999  \n",
       "0       211   211   191   119   133   147   170   179    82  \n",
       "1        77    77    84    78    69    66    73    63    77  \n",
       "2       249   244   242   252   250   251   250   235   253  \n",
       "3       170   164   177   140   124   154   191   162   124  \n",
       "4       135   116   140   157   161   152   118   133   123  \n",
       "...     ...   ...   ...   ...   ...   ...   ...   ...   ...  \n",
       "12495   137   125   138   134   121   128   127   123   116  \n",
       "12496    34    10    55    32    22    12    16    32    31  \n",
       "12497   155   148   156   138   123   106   126   119   116  \n",
       "12498   128   131   128   127   122   121   118   123   122  \n",
       "12499    97    86   150    96    87    94   188   227   223  \n",
       "\n",
       "[12500 rows x 10001 columns]"
      ]
     },
     "execution_count": 6,
     "metadata": {},
     "output_type": "execute_result"
    }
   ],
   "source": [
    "testing_set_dont_touch_csv"
   ]
  },
  {
   "cell_type": "code",
   "execution_count": 7,
   "metadata": {},
   "outputs": [
    {
     "data": {
      "text/html": [
       "<div>\n",
       "<style scoped>\n",
       "    .dataframe tbody tr th:only-of-type {\n",
       "        vertical-align: middle;\n",
       "    }\n",
       "\n",
       "    .dataframe tbody tr th {\n",
       "        vertical-align: top;\n",
       "    }\n",
       "\n",
       "    .dataframe thead th {\n",
       "        text-align: right;\n",
       "    }\n",
       "</style>\n",
       "<table border=\"1\" class=\"dataframe\">\n",
       "  <thead>\n",
       "    <tr style=\"text-align: right;\">\n",
       "      <th></th>\n",
       "      <th>0</th>\n",
       "      <th>1</th>\n",
       "      <th>2</th>\n",
       "      <th>3</th>\n",
       "      <th>4</th>\n",
       "      <th>5</th>\n",
       "      <th>6</th>\n",
       "      <th>7</th>\n",
       "      <th>8</th>\n",
       "      <th>9</th>\n",
       "      <th>...</th>\n",
       "      <th>9990</th>\n",
       "      <th>9991</th>\n",
       "      <th>9992</th>\n",
       "      <th>9993</th>\n",
       "      <th>9994</th>\n",
       "      <th>9995</th>\n",
       "      <th>9996</th>\n",
       "      <th>9997</th>\n",
       "      <th>9998</th>\n",
       "      <th>9999</th>\n",
       "    </tr>\n",
       "  </thead>\n",
       "  <tbody>\n",
       "    <tr>\n",
       "      <th>0</th>\n",
       "      <td>64</td>\n",
       "      <td>57</td>\n",
       "      <td>54</td>\n",
       "      <td>63</td>\n",
       "      <td>66</td>\n",
       "      <td>68</td>\n",
       "      <td>64</td>\n",
       "      <td>65</td>\n",
       "      <td>57</td>\n",
       "      <td>59</td>\n",
       "      <td>...</td>\n",
       "      <td>153</td>\n",
       "      <td>211</td>\n",
       "      <td>211</td>\n",
       "      <td>191</td>\n",
       "      <td>119</td>\n",
       "      <td>133</td>\n",
       "      <td>147</td>\n",
       "      <td>170</td>\n",
       "      <td>179</td>\n",
       "      <td>82</td>\n",
       "    </tr>\n",
       "    <tr>\n",
       "      <th>1</th>\n",
       "      <td>9</td>\n",
       "      <td>9</td>\n",
       "      <td>9</td>\n",
       "      <td>9</td>\n",
       "      <td>4</td>\n",
       "      <td>8</td>\n",
       "      <td>104</td>\n",
       "      <td>98</td>\n",
       "      <td>86</td>\n",
       "      <td>84</td>\n",
       "      <td>...</td>\n",
       "      <td>101</td>\n",
       "      <td>77</td>\n",
       "      <td>77</td>\n",
       "      <td>84</td>\n",
       "      <td>78</td>\n",
       "      <td>69</td>\n",
       "      <td>66</td>\n",
       "      <td>73</td>\n",
       "      <td>63</td>\n",
       "      <td>77</td>\n",
       "    </tr>\n",
       "    <tr>\n",
       "      <th>2</th>\n",
       "      <td>3</td>\n",
       "      <td>3</td>\n",
       "      <td>3</td>\n",
       "      <td>2</td>\n",
       "      <td>2</td>\n",
       "      <td>2</td>\n",
       "      <td>3</td>\n",
       "      <td>3</td>\n",
       "      <td>4</td>\n",
       "      <td>6</td>\n",
       "      <td>...</td>\n",
       "      <td>249</td>\n",
       "      <td>249</td>\n",
       "      <td>244</td>\n",
       "      <td>242</td>\n",
       "      <td>252</td>\n",
       "      <td>250</td>\n",
       "      <td>251</td>\n",
       "      <td>250</td>\n",
       "      <td>235</td>\n",
       "      <td>253</td>\n",
       "    </tr>\n",
       "    <tr>\n",
       "      <th>3</th>\n",
       "      <td>131</td>\n",
       "      <td>135</td>\n",
       "      <td>194</td>\n",
       "      <td>155</td>\n",
       "      <td>199</td>\n",
       "      <td>219</td>\n",
       "      <td>151</td>\n",
       "      <td>175</td>\n",
       "      <td>185</td>\n",
       "      <td>191</td>\n",
       "      <td>...</td>\n",
       "      <td>161</td>\n",
       "      <td>170</td>\n",
       "      <td>164</td>\n",
       "      <td>177</td>\n",
       "      <td>140</td>\n",
       "      <td>124</td>\n",
       "      <td>154</td>\n",
       "      <td>191</td>\n",
       "      <td>162</td>\n",
       "      <td>124</td>\n",
       "    </tr>\n",
       "    <tr>\n",
       "      <th>4</th>\n",
       "      <td>126</td>\n",
       "      <td>131</td>\n",
       "      <td>108</td>\n",
       "      <td>192</td>\n",
       "      <td>216</td>\n",
       "      <td>222</td>\n",
       "      <td>222</td>\n",
       "      <td>191</td>\n",
       "      <td>218</td>\n",
       "      <td>217</td>\n",
       "      <td>...</td>\n",
       "      <td>150</td>\n",
       "      <td>135</td>\n",
       "      <td>116</td>\n",
       "      <td>140</td>\n",
       "      <td>157</td>\n",
       "      <td>161</td>\n",
       "      <td>152</td>\n",
       "      <td>118</td>\n",
       "      <td>133</td>\n",
       "      <td>123</td>\n",
       "    </tr>\n",
       "    <tr>\n",
       "      <th>...</th>\n",
       "      <td>...</td>\n",
       "      <td>...</td>\n",
       "      <td>...</td>\n",
       "      <td>...</td>\n",
       "      <td>...</td>\n",
       "      <td>...</td>\n",
       "      <td>...</td>\n",
       "      <td>...</td>\n",
       "      <td>...</td>\n",
       "      <td>...</td>\n",
       "      <td>...</td>\n",
       "      <td>...</td>\n",
       "      <td>...</td>\n",
       "      <td>...</td>\n",
       "      <td>...</td>\n",
       "      <td>...</td>\n",
       "      <td>...</td>\n",
       "      <td>...</td>\n",
       "      <td>...</td>\n",
       "      <td>...</td>\n",
       "      <td>...</td>\n",
       "    </tr>\n",
       "    <tr>\n",
       "      <th>12495</th>\n",
       "      <td>38</td>\n",
       "      <td>41</td>\n",
       "      <td>46</td>\n",
       "      <td>49</td>\n",
       "      <td>53</td>\n",
       "      <td>56</td>\n",
       "      <td>57</td>\n",
       "      <td>58</td>\n",
       "      <td>66</td>\n",
       "      <td>70</td>\n",
       "      <td>...</td>\n",
       "      <td>139</td>\n",
       "      <td>137</td>\n",
       "      <td>125</td>\n",
       "      <td>138</td>\n",
       "      <td>134</td>\n",
       "      <td>121</td>\n",
       "      <td>128</td>\n",
       "      <td>127</td>\n",
       "      <td>123</td>\n",
       "      <td>116</td>\n",
       "    </tr>\n",
       "    <tr>\n",
       "      <th>12496</th>\n",
       "      <td>142</td>\n",
       "      <td>145</td>\n",
       "      <td>52</td>\n",
       "      <td>203</td>\n",
       "      <td>125</td>\n",
       "      <td>141</td>\n",
       "      <td>146</td>\n",
       "      <td>91</td>\n",
       "      <td>193</td>\n",
       "      <td>99</td>\n",
       "      <td>...</td>\n",
       "      <td>25</td>\n",
       "      <td>34</td>\n",
       "      <td>10</td>\n",
       "      <td>55</td>\n",
       "      <td>32</td>\n",
       "      <td>22</td>\n",
       "      <td>12</td>\n",
       "      <td>16</td>\n",
       "      <td>32</td>\n",
       "      <td>31</td>\n",
       "    </tr>\n",
       "    <tr>\n",
       "      <th>12497</th>\n",
       "      <td>215</td>\n",
       "      <td>209</td>\n",
       "      <td>231</td>\n",
       "      <td>233</td>\n",
       "      <td>210</td>\n",
       "      <td>242</td>\n",
       "      <td>206</td>\n",
       "      <td>237</td>\n",
       "      <td>231</td>\n",
       "      <td>198</td>\n",
       "      <td>...</td>\n",
       "      <td>155</td>\n",
       "      <td>155</td>\n",
       "      <td>148</td>\n",
       "      <td>156</td>\n",
       "      <td>138</td>\n",
       "      <td>123</td>\n",
       "      <td>106</td>\n",
       "      <td>126</td>\n",
       "      <td>119</td>\n",
       "      <td>116</td>\n",
       "    </tr>\n",
       "    <tr>\n",
       "      <th>12498</th>\n",
       "      <td>107</td>\n",
       "      <td>109</td>\n",
       "      <td>123</td>\n",
       "      <td>134</td>\n",
       "      <td>143</td>\n",
       "      <td>148</td>\n",
       "      <td>156</td>\n",
       "      <td>168</td>\n",
       "      <td>174</td>\n",
       "      <td>178</td>\n",
       "      <td>...</td>\n",
       "      <td>126</td>\n",
       "      <td>128</td>\n",
       "      <td>131</td>\n",
       "      <td>128</td>\n",
       "      <td>127</td>\n",
       "      <td>122</td>\n",
       "      <td>121</td>\n",
       "      <td>118</td>\n",
       "      <td>123</td>\n",
       "      <td>122</td>\n",
       "    </tr>\n",
       "    <tr>\n",
       "      <th>12499</th>\n",
       "      <td>76</td>\n",
       "      <td>76</td>\n",
       "      <td>80</td>\n",
       "      <td>75</td>\n",
       "      <td>85</td>\n",
       "      <td>90</td>\n",
       "      <td>89</td>\n",
       "      <td>115</td>\n",
       "      <td>131</td>\n",
       "      <td>160</td>\n",
       "      <td>...</td>\n",
       "      <td>96</td>\n",
       "      <td>97</td>\n",
       "      <td>86</td>\n",
       "      <td>150</td>\n",
       "      <td>96</td>\n",
       "      <td>87</td>\n",
       "      <td>94</td>\n",
       "      <td>188</td>\n",
       "      <td>227</td>\n",
       "      <td>223</td>\n",
       "    </tr>\n",
       "  </tbody>\n",
       "</table>\n",
       "<p>12500 rows × 10000 columns</p>\n",
       "</div>"
      ],
      "text/plain": [
       "         0    1    2    3    4    5    6    7    8    9  ...  9990  9991  \\\n",
       "0       64   57   54   63   66   68   64   65   57   59  ...   153   211   \n",
       "1        9    9    9    9    4    8  104   98   86   84  ...   101    77   \n",
       "2        3    3    3    2    2    2    3    3    4    6  ...   249   249   \n",
       "3      131  135  194  155  199  219  151  175  185  191  ...   161   170   \n",
       "4      126  131  108  192  216  222  222  191  218  217  ...   150   135   \n",
       "...    ...  ...  ...  ...  ...  ...  ...  ...  ...  ...  ...   ...   ...   \n",
       "12495   38   41   46   49   53   56   57   58   66   70  ...   139   137   \n",
       "12496  142  145   52  203  125  141  146   91  193   99  ...    25    34   \n",
       "12497  215  209  231  233  210  242  206  237  231  198  ...   155   155   \n",
       "12498  107  109  123  134  143  148  156  168  174  178  ...   126   128   \n",
       "12499   76   76   80   75   85   90   89  115  131  160  ...    96    97   \n",
       "\n",
       "       9992  9993  9994  9995  9996  9997  9998  9999  \n",
       "0       211   191   119   133   147   170   179    82  \n",
       "1        77    84    78    69    66    73    63    77  \n",
       "2       244   242   252   250   251   250   235   253  \n",
       "3       164   177   140   124   154   191   162   124  \n",
       "4       116   140   157   161   152   118   133   123  \n",
       "...     ...   ...   ...   ...   ...   ...   ...   ...  \n",
       "12495   125   138   134   121   128   127   123   116  \n",
       "12496    10    55    32    22    12    16    32    31  \n",
       "12497   148   156   138   123   106   126   119   116  \n",
       "12498   131   128   127   122   121   118   123   122  \n",
       "12499    86   150    96    87    94   188   227   223  \n",
       "\n",
       "[12500 rows x 10000 columns]"
      ]
     },
     "execution_count": 7,
     "metadata": {},
     "output_type": "execute_result"
    }
   ],
   "source": [
    "testing_set_dont_touch_csv=testing_set_dont_touch_csv.drop(['Unnamed: 0'], axis=1)\n",
    "testing_set_dont_touch_csv"
   ]
  },
  {
   "cell_type": "code",
   "execution_count": 8,
   "metadata": {},
   "outputs": [],
   "source": [
    "#splitting the data\n",
    "train_set, test_set = train_test_split(training_set, test_size=0.2, random_state=42)"
   ]
  },
  {
   "cell_type": "code",
   "execution_count": 9,
   "metadata": {},
   "outputs": [
    {
     "data": {
      "text/html": [
       "<div>\n",
       "<style scoped>\n",
       "    .dataframe tbody tr th:only-of-type {\n",
       "        vertical-align: middle;\n",
       "    }\n",
       "\n",
       "    .dataframe tbody tr th {\n",
       "        vertical-align: top;\n",
       "    }\n",
       "\n",
       "    .dataframe thead th {\n",
       "        text-align: right;\n",
       "    }\n",
       "</style>\n",
       "<table border=\"1\" class=\"dataframe\">\n",
       "  <thead>\n",
       "    <tr style=\"text-align: right;\">\n",
       "      <th></th>\n",
       "      <th>0</th>\n",
       "      <th>1</th>\n",
       "      <th>2</th>\n",
       "      <th>3</th>\n",
       "      <th>4</th>\n",
       "      <th>5</th>\n",
       "      <th>6</th>\n",
       "      <th>7</th>\n",
       "      <th>8</th>\n",
       "      <th>9</th>\n",
       "      <th>...</th>\n",
       "      <th>9991</th>\n",
       "      <th>9992</th>\n",
       "      <th>9993</th>\n",
       "      <th>9994</th>\n",
       "      <th>9995</th>\n",
       "      <th>9996</th>\n",
       "      <th>9997</th>\n",
       "      <th>9998</th>\n",
       "      <th>9999</th>\n",
       "      <th>10000</th>\n",
       "    </tr>\n",
       "  </thead>\n",
       "  <tbody>\n",
       "    <tr>\n",
       "      <th>23310</th>\n",
       "      <td>62</td>\n",
       "      <td>69</td>\n",
       "      <td>47</td>\n",
       "      <td>35</td>\n",
       "      <td>36</td>\n",
       "      <td>66</td>\n",
       "      <td>27</td>\n",
       "      <td>35</td>\n",
       "      <td>50</td>\n",
       "      <td>85</td>\n",
       "      <td>...</td>\n",
       "      <td>133</td>\n",
       "      <td>163</td>\n",
       "      <td>151</td>\n",
       "      <td>86</td>\n",
       "      <td>132</td>\n",
       "      <td>133</td>\n",
       "      <td>163</td>\n",
       "      <td>74</td>\n",
       "      <td>102</td>\n",
       "      <td>1</td>\n",
       "    </tr>\n",
       "    <tr>\n",
       "      <th>23622</th>\n",
       "      <td>62</td>\n",
       "      <td>65</td>\n",
       "      <td>77</td>\n",
       "      <td>96</td>\n",
       "      <td>109</td>\n",
       "      <td>74</td>\n",
       "      <td>75</td>\n",
       "      <td>77</td>\n",
       "      <td>59</td>\n",
       "      <td>51</td>\n",
       "      <td>...</td>\n",
       "      <td>115</td>\n",
       "      <td>102</td>\n",
       "      <td>147</td>\n",
       "      <td>104</td>\n",
       "      <td>49</td>\n",
       "      <td>94</td>\n",
       "      <td>81</td>\n",
       "      <td>137</td>\n",
       "      <td>121</td>\n",
       "      <td>1</td>\n",
       "    </tr>\n",
       "    <tr>\n",
       "      <th>1020</th>\n",
       "      <td>20</td>\n",
       "      <td>16</td>\n",
       "      <td>23</td>\n",
       "      <td>41</td>\n",
       "      <td>45</td>\n",
       "      <td>34</td>\n",
       "      <td>30</td>\n",
       "      <td>31</td>\n",
       "      <td>30</td>\n",
       "      <td>24</td>\n",
       "      <td>...</td>\n",
       "      <td>112</td>\n",
       "      <td>100</td>\n",
       "      <td>74</td>\n",
       "      <td>39</td>\n",
       "      <td>50</td>\n",
       "      <td>115</td>\n",
       "      <td>111</td>\n",
       "      <td>109</td>\n",
       "      <td>39</td>\n",
       "      <td>0</td>\n",
       "    </tr>\n",
       "    <tr>\n",
       "      <th>12645</th>\n",
       "      <td>96</td>\n",
       "      <td>107</td>\n",
       "      <td>101</td>\n",
       "      <td>112</td>\n",
       "      <td>128</td>\n",
       "      <td>124</td>\n",
       "      <td>118</td>\n",
       "      <td>120</td>\n",
       "      <td>129</td>\n",
       "      <td>99</td>\n",
       "      <td>...</td>\n",
       "      <td>104</td>\n",
       "      <td>116</td>\n",
       "      <td>100</td>\n",
       "      <td>103</td>\n",
       "      <td>97</td>\n",
       "      <td>102</td>\n",
       "      <td>94</td>\n",
       "      <td>99</td>\n",
       "      <td>92</td>\n",
       "      <td>1</td>\n",
       "    </tr>\n",
       "    <tr>\n",
       "      <th>1533</th>\n",
       "      <td>191</td>\n",
       "      <td>189</td>\n",
       "      <td>84</td>\n",
       "      <td>101</td>\n",
       "      <td>192</td>\n",
       "      <td>197</td>\n",
       "      <td>191</td>\n",
       "      <td>99</td>\n",
       "      <td>93</td>\n",
       "      <td>86</td>\n",
       "      <td>...</td>\n",
       "      <td>23</td>\n",
       "      <td>25</td>\n",
       "      <td>22</td>\n",
       "      <td>16</td>\n",
       "      <td>20</td>\n",
       "      <td>13</td>\n",
       "      <td>18</td>\n",
       "      <td>17</td>\n",
       "      <td>14</td>\n",
       "      <td>0</td>\n",
       "    </tr>\n",
       "  </tbody>\n",
       "</table>\n",
       "<p>5 rows × 10001 columns</p>\n",
       "</div>"
      ],
      "text/plain": [
       "         0    1    2    3    4    5    6    7    8   9  ...  9991  9992  9993  \\\n",
       "23310   62   69   47   35   36   66   27   35   50  85  ...   133   163   151   \n",
       "23622   62   65   77   96  109   74   75   77   59  51  ...   115   102   147   \n",
       "1020    20   16   23   41   45   34   30   31   30  24  ...   112   100    74   \n",
       "12645   96  107  101  112  128  124  118  120  129  99  ...   104   116   100   \n",
       "1533   191  189   84  101  192  197  191   99   93  86  ...    23    25    22   \n",
       "\n",
       "       9994  9995  9996  9997  9998  9999  10000  \n",
       "23310    86   132   133   163    74   102      1  \n",
       "23622   104    49    94    81   137   121      1  \n",
       "1020     39    50   115   111   109    39      0  \n",
       "12645   103    97   102    94    99    92      1  \n",
       "1533     16    20    13    18    17    14      0  \n",
       "\n",
       "[5 rows x 10001 columns]"
      ]
     },
     "execution_count": 9,
     "metadata": {},
     "output_type": "execute_result"
    }
   ],
   "source": [
    "train_set.head()"
   ]
  },
  {
   "cell_type": "code",
   "execution_count": 10,
   "metadata": {},
   "outputs": [
    {
     "data": {
      "text/html": [
       "<div>\n",
       "<style scoped>\n",
       "    .dataframe tbody tr th:only-of-type {\n",
       "        vertical-align: middle;\n",
       "    }\n",
       "\n",
       "    .dataframe tbody tr th {\n",
       "        vertical-align: top;\n",
       "    }\n",
       "\n",
       "    .dataframe thead th {\n",
       "        text-align: right;\n",
       "    }\n",
       "</style>\n",
       "<table border=\"1\" class=\"dataframe\">\n",
       "  <thead>\n",
       "    <tr style=\"text-align: right;\">\n",
       "      <th></th>\n",
       "      <th>0</th>\n",
       "      <th>1</th>\n",
       "      <th>2</th>\n",
       "      <th>3</th>\n",
       "      <th>4</th>\n",
       "      <th>5</th>\n",
       "      <th>6</th>\n",
       "      <th>7</th>\n",
       "      <th>8</th>\n",
       "      <th>9</th>\n",
       "      <th>...</th>\n",
       "      <th>9991</th>\n",
       "      <th>9992</th>\n",
       "      <th>9993</th>\n",
       "      <th>9994</th>\n",
       "      <th>9995</th>\n",
       "      <th>9996</th>\n",
       "      <th>9997</th>\n",
       "      <th>9998</th>\n",
       "      <th>9999</th>\n",
       "      <th>10000</th>\n",
       "    </tr>\n",
       "  </thead>\n",
       "  <tbody>\n",
       "    <tr>\n",
       "      <th>6868</th>\n",
       "      <td>50</td>\n",
       "      <td>49</td>\n",
       "      <td>52</td>\n",
       "      <td>53</td>\n",
       "      <td>51</td>\n",
       "      <td>48</td>\n",
       "      <td>40</td>\n",
       "      <td>115</td>\n",
       "      <td>136</td>\n",
       "      <td>152</td>\n",
       "      <td>...</td>\n",
       "      <td>111</td>\n",
       "      <td>109</td>\n",
       "      <td>109</td>\n",
       "      <td>105</td>\n",
       "      <td>102</td>\n",
       "      <td>98</td>\n",
       "      <td>95</td>\n",
       "      <td>91</td>\n",
       "      <td>69</td>\n",
       "      <td>0</td>\n",
       "    </tr>\n",
       "    <tr>\n",
       "      <th>19677</th>\n",
       "      <td>140</td>\n",
       "      <td>141</td>\n",
       "      <td>141</td>\n",
       "      <td>142</td>\n",
       "      <td>144</td>\n",
       "      <td>139</td>\n",
       "      <td>131</td>\n",
       "      <td>127</td>\n",
       "      <td>129</td>\n",
       "      <td>137</td>\n",
       "      <td>...</td>\n",
       "      <td>49</td>\n",
       "      <td>49</td>\n",
       "      <td>51</td>\n",
       "      <td>52</td>\n",
       "      <td>50</td>\n",
       "      <td>50</td>\n",
       "      <td>51</td>\n",
       "      <td>51</td>\n",
       "      <td>51</td>\n",
       "      <td>1</td>\n",
       "    </tr>\n",
       "    <tr>\n",
       "      <th>9668</th>\n",
       "      <td>81</td>\n",
       "      <td>93</td>\n",
       "      <td>95</td>\n",
       "      <td>110</td>\n",
       "      <td>98</td>\n",
       "      <td>106</td>\n",
       "      <td>116</td>\n",
       "      <td>42</td>\n",
       "      <td>159</td>\n",
       "      <td>99</td>\n",
       "      <td>...</td>\n",
       "      <td>7</td>\n",
       "      <td>5</td>\n",
       "      <td>0</td>\n",
       "      <td>1</td>\n",
       "      <td>0</td>\n",
       "      <td>1</td>\n",
       "      <td>4</td>\n",
       "      <td>1</td>\n",
       "      <td>3</td>\n",
       "      <td>0</td>\n",
       "    </tr>\n",
       "    <tr>\n",
       "      <th>13640</th>\n",
       "      <td>233</td>\n",
       "      <td>229</td>\n",
       "      <td>149</td>\n",
       "      <td>147</td>\n",
       "      <td>127</td>\n",
       "      <td>107</td>\n",
       "      <td>105</td>\n",
       "      <td>103</td>\n",
       "      <td>104</td>\n",
       "      <td>101</td>\n",
       "      <td>...</td>\n",
       "      <td>102</td>\n",
       "      <td>104</td>\n",
       "      <td>99</td>\n",
       "      <td>97</td>\n",
       "      <td>92</td>\n",
       "      <td>88</td>\n",
       "      <td>98</td>\n",
       "      <td>99</td>\n",
       "      <td>95</td>\n",
       "      <td>1</td>\n",
       "    </tr>\n",
       "    <tr>\n",
       "      <th>14018</th>\n",
       "      <td>189</td>\n",
       "      <td>176</td>\n",
       "      <td>176</td>\n",
       "      <td>186</td>\n",
       "      <td>144</td>\n",
       "      <td>167</td>\n",
       "      <td>200</td>\n",
       "      <td>203</td>\n",
       "      <td>194</td>\n",
       "      <td>150</td>\n",
       "      <td>...</td>\n",
       "      <td>176</td>\n",
       "      <td>207</td>\n",
       "      <td>183</td>\n",
       "      <td>145</td>\n",
       "      <td>165</td>\n",
       "      <td>167</td>\n",
       "      <td>169</td>\n",
       "      <td>153</td>\n",
       "      <td>146</td>\n",
       "      <td>1</td>\n",
       "    </tr>\n",
       "  </tbody>\n",
       "</table>\n",
       "<p>5 rows × 10001 columns</p>\n",
       "</div>"
      ],
      "text/plain": [
       "         0    1    2    3    4    5    6    7    8    9  ...  9991  9992  \\\n",
       "6868    50   49   52   53   51   48   40  115  136  152  ...   111   109   \n",
       "19677  140  141  141  142  144  139  131  127  129  137  ...    49    49   \n",
       "9668    81   93   95  110   98  106  116   42  159   99  ...     7     5   \n",
       "13640  233  229  149  147  127  107  105  103  104  101  ...   102   104   \n",
       "14018  189  176  176  186  144  167  200  203  194  150  ...   176   207   \n",
       "\n",
       "       9993  9994  9995  9996  9997  9998  9999  10000  \n",
       "6868    109   105   102    98    95    91    69      0  \n",
       "19677    51    52    50    50    51    51    51      1  \n",
       "9668      0     1     0     1     4     1     3      0  \n",
       "13640    99    97    92    88    98    99    95      1  \n",
       "14018   183   145   165   167   169   153   146      1  \n",
       "\n",
       "[5 rows x 10001 columns]"
      ]
     },
     "execution_count": 10,
     "metadata": {},
     "output_type": "execute_result"
    }
   ],
   "source": [
    "test_set.head()"
   ]
  },
  {
   "cell_type": "code",
   "execution_count": 11,
   "metadata": {},
   "outputs": [],
   "source": [
    "# changing the data type and spliiting into x,y\n",
    "train_set=np.array(train_set,dtype='float32')\n",
    "test_set=np.array(test_set,dtype='float32')\n",
    "\n",
    "\n",
    "x_train_set=train_set[ : , 0:10000]\n",
    "y_train_set=train_set[ : , 10000]\n",
    "x_test_set=test_set[ : , 0:10000]\n",
    "y_test_set=test_set[ : , 10000]"
   ]
  },
  {
   "cell_type": "code",
   "execution_count": 12,
   "metadata": {},
   "outputs": [
    {
     "data": {
      "text/plain": [
       "array([[ 62.,  69.,  47., ..., 163.,  74., 102.],\n",
       "       [ 62.,  65.,  77., ...,  81., 137., 121.],\n",
       "       [ 20.,  16.,  23., ..., 111., 109.,  39.],\n",
       "       ...,\n",
       "       [ 65.,  71.,  67., ...,  40.,  41.,  31.],\n",
       "       [142., 164., 128., ..., 114., 119., 157.],\n",
       "       [111.,  73.,  60., ...,  18.,  22.,  19.]], dtype=float32)"
      ]
     },
     "execution_count": 12,
     "metadata": {},
     "output_type": "execute_result"
    }
   ],
   "source": [
    "x_train_set"
   ]
  },
  {
   "cell_type": "code",
   "execution_count": 13,
   "metadata": {},
   "outputs": [
    {
     "data": {
      "text/plain": [
       "array([1., 1., 0., ..., 0., 1., 1.], dtype=float32)"
      ]
     },
     "execution_count": 13,
     "metadata": {},
     "output_type": "execute_result"
    }
   ],
   "source": [
    "y_train_set"
   ]
  },
  {
   "cell_type": "code",
   "execution_count": 14,
   "metadata": {},
   "outputs": [
    {
     "data": {
      "text/plain": [
       "array([[ 50.,  49.,  52., ...,  95.,  91.,  69.],\n",
       "       [140., 141., 141., ...,  51.,  51.,  51.],\n",
       "       [ 81.,  93.,  95., ...,   4.,   1.,   3.],\n",
       "       ...,\n",
       "       [ 88.,  92.,  95., ..., 182., 180., 180.],\n",
       "       [201., 195., 205., ..., 150., 164., 202.],\n",
       "       [236., 236., 236., ..., 202., 198., 197.]], dtype=float32)"
      ]
     },
     "execution_count": 14,
     "metadata": {},
     "output_type": "execute_result"
    }
   ],
   "source": [
    "x_test_set"
   ]
  },
  {
   "cell_type": "code",
   "execution_count": 15,
   "metadata": {},
   "outputs": [
    {
     "data": {
      "text/plain": [
       "array([0., 1., 0., ..., 0., 1., 0.], dtype=float32)"
      ]
     },
     "execution_count": 15,
     "metadata": {},
     "output_type": "execute_result"
    }
   ],
   "source": [
    "y_test_set"
   ]
  },
  {
   "cell_type": "code",
   "execution_count": 16,
   "metadata": {},
   "outputs": [
    {
     "data": {
      "text/plain": [
       "<matplotlib.image.AxesImage at 0x1c04bc68e80>"
      ]
     },
     "execution_count": 16,
     "metadata": {},
     "output_type": "execute_result"
    },
    {
     "data": {
      "image/png": "[encoded data removed]",
      "text/plain": [
       "<Figure size 432x288 with 1 Axes>"
      ]
     },
     "metadata": {
      "needs_background": "light"
     },
     "output_type": "display_data"
    }
   ],
   "source": [
    "image1=x_train_set[0, :].reshape((100,100))\n",
    "plt.imshow(image1)"
   ]
  },
  {
   "cell_type": "code",
   "execution_count": 17,
   "metadata": {},
   "outputs": [
    {
     "data": {
      "text/plain": [
       "<matplotlib.image.AxesImage at 0x1c0b3348d90>"
      ]
     },
     "execution_count": 17,
     "metadata": {},
     "output_type": "execute_result"
    },
    {
     "data": {
      "image/png": "[encoded data removed]",
      "text/plain": [
       "<Figure size 432x288 with 1 Axes>"
      ]
     },
     "metadata": {
      "needs_background": "light"
     },
     "output_type": "display_data"
    }
   ],
   "source": [
    "image1=x_train_set[2, :].reshape((100,100))\n",
    "plt.imshow(image1)"
   ]
  },
  {
   "cell_type": "code",
   "execution_count": 62,
   "metadata": {},
   "outputs": [],
   "source": [
    "# function to represent the confussion matrix nicely\n",
    "\n",
    "def confussion_matrix (cf_matrix):\n",
    "    group_names = ['true pos', 'false pos', 'false neg', 'true neg']\n",
    "    group_counts = [\"{0:0.0f}\".format(value) for value in cf_matrix.flatten()]\n",
    "    group_percentages = [\"{0:.2%}\".format(value) for value in cf_matrix.flatten()/np.sum(cf_matrix)]\n",
    "    labels = [f\"{v1}\\n{v2}\\n{v3}\" for v1, v2, v3 in zip(group_names,group_counts,group_percentages)]\n",
    "    labels = np.asarray(labels).reshape(2,2)\n",
    "    sns.heatmap(cf_matrix, annot=labels, fmt='', cmap='Oranges')\n",
    "    "
   ]
  },
  {
   "cell_type": "code",
   "execution_count": null,
   "metadata": {},
   "outputs": [],
   "source": []
  },
  {
   "cell_type": "code",
   "execution_count": 19,
   "metadata": {},
   "outputs": [],
   "source": [
    "pca1=PCA(n_components=0.9)\n",
    "x_train_reduced1=pca1.fit_transform(x_train_set)\n",
    "x_test_reduced1=pca1.transform(x_test_set)"
   ]
  },
  {
   "cell_type": "code",
   "execution_count": 20,
   "metadata": {},
   "outputs": [
    {
     "data": {
      "text/plain": [
       "333"
      ]
     },
     "execution_count": 20,
     "metadata": {},
     "output_type": "execute_result"
    }
   ],
   "source": [
    "pca1.n_components_"
   ]
  },
  {
   "cell_type": "code",
   "execution_count": 21,
   "metadata": {},
   "outputs": [
    {
     "data": {
      "text/plain": [
       "0.616"
      ]
     },
     "execution_count": 21,
     "metadata": {},
     "output_type": "execute_result"
    }
   ],
   "source": [
    "knn1 = KNeighborsClassifier(n_neighbors=27)\n",
    "knn1.fit(x_train_reduced1, y_train_set)\n",
    "y_pred_knn1=knn1.predict(x_test_reduced1)\n",
    "accuracy_knn1=metrics.accuracy_score(y_test_set, y_pred_knn1)\n",
    "accuracy_knn1"
   ]
  },
  {
   "cell_type": "code",
   "execution_count": 63,
   "metadata": {},
   "outputs": [
    {
     "data": {
      "image/png": "[encoded data removed]",
      "text/plain": [
       "<Figure size 432x288 with 2 Axes>"
      ]
     },
     "metadata": {
      "needs_background": "light"
     },
     "output_type": "display_data"
    }
   ],
   "source": [
    "mat_knn1=confusion_matrix(y_test_set, y_pred_knn1)\n",
    "confussion_matrix(mat_knn1)"
   ]
  },
  {
   "cell_type": "code",
   "execution_count": 23,
   "metadata": {},
   "outputs": [
    {
     "name": "stdout",
     "output_type": "stream",
     "text": [
      "precision_score_knn: 0.6035936927026035\n",
      "recall_score_knn: 0.6623742454728371\n",
      "f1_score_knn: 0.6316193399846508\n"
     ]
    }
   ],
   "source": [
    "print(\"precision_score_knn:\",precision_score(y_test_set, y_pred_knn1)) \n",
    "print(\"recall_score_knn:\",recall_score(y_test_set, y_pred_knn1))\n",
    "print(\"f1_score_knn:\",f1_score(y_test_set, y_pred_knn1))"
   ]
  },
  {
   "cell_type": "code",
   "execution_count": 24,
   "metadata": {},
   "outputs": [
    {
     "name": "stdout",
     "output_type": "stream",
     "text": [
      "[0.6085    0.604     0.61775   0.6015    0.6084021] mean: 0.6080304201050263\n"
     ]
    }
   ],
   "source": [
    "#cross validation\n",
    "cv_scores_knn1=cross_val_score(knn1, x_train_reduced1, y_train_set, cv=5, scoring=\"accuracy\")\n",
    "print(cv_scores_knn1, \"mean:\", np.mean(cv_scores_knn1))"
   ]
  },
  {
   "cell_type": "code",
   "execution_count": null,
   "metadata": {},
   "outputs": [],
   "source": []
  },
  {
   "cell_type": "code",
   "execution_count": 25,
   "metadata": {},
   "outputs": [
    {
     "data": {
      "text/plain": [
       "0.6424"
      ]
     },
     "execution_count": 25,
     "metadata": {},
     "output_type": "execute_result"
    }
   ],
   "source": [
    "XG1=XGBClassifier(n_estimators=400, max_depth=2, eta=0.1, subsample=0.7, colsample_bytree=0.8,\n",
    "                 use_label_encoder =False,eval_metric = \"logloss\")\n",
    "XG1.fit(x_train_reduced1, y_train_set)\n",
    "y_pred_XG1=XG1.predict(x_test_reduced1)\n",
    "accuracy_XG1=metrics.accuracy_score(y_test_set, y_pred_XG1)\n",
    "accuracy_XG1"
   ]
  },
  {
   "cell_type": "code",
   "execution_count": 64,
   "metadata": {},
   "outputs": [
    {
     "data": {
      "image/png": "[encoded data removed]",
      "text/plain": [
       "<Figure size 432x288 with 2 Axes>"
      ]
     },
     "metadata": {
      "needs_background": "light"
     },
     "output_type": "display_data"
    }
   ],
   "source": [
    "mat_XG1=confusion_matrix(y_test_set, y_pred_XG1)\n",
    "confussion_matrix(mat_XG1)"
   ]
  },
  {
   "cell_type": "code",
   "execution_count": 27,
   "metadata": {},
   "outputs": [
    {
     "name": "stdout",
     "output_type": "stream",
     "text": [
      "precision_score_XG1: 0.6368276403612093\n",
      "recall_score_XG1: 0.6527162977867204\n",
      "f1_score_XG1: 0.6446740858505565\n"
     ]
    }
   ],
   "source": [
    "print(\"precision_score_XG1:\",precision_score(y_test_set, y_pred_XG1)) \n",
    "print(\"recall_score_XG1:\",recall_score(y_test_set, y_pred_XG1))\n",
    "print(\"f1_score_XG1:\",f1_score(y_test_set, y_pred_XG1))"
   ]
  },
  {
   "cell_type": "code",
   "execution_count": 28,
   "metadata": {},
   "outputs": [
    {
     "name": "stdout",
     "output_type": "stream",
     "text": [
      "[0.628      0.63725    0.64225    0.64775    0.64216054] mean: 0.6394821080270068\n"
     ]
    }
   ],
   "source": [
    "#cross validation\n",
    "cv_scores_XG1=cross_val_score(XG1, x_train_reduced1, y_train_set, cv=5, scoring=\"accuracy\")\n",
    "print(cv_scores_XG1, \"mean:\", np.mean(cv_scores_XG1))"
   ]
  },
  {
   "cell_type": "code",
   "execution_count": null,
   "metadata": {},
   "outputs": [],
   "source": []
  },
  {
   "cell_type": "code",
   "execution_count": null,
   "metadata": {},
   "outputs": [],
   "source": []
  },
  {
   "cell_type": "code",
   "execution_count": null,
   "metadata": {},
   "outputs": [],
   "source": []
  },
  {
   "cell_type": "code",
   "execution_count": 29,
   "metadata": {},
   "outputs": [],
   "source": [
    "pca2=PCA(n_components=0.8)\n",
    "x_train_reduced2=pca2.fit_transform(x_train_set)\n",
    "x_train_recovered2=pca2.inverse_transform(x_train_reduced2)\n",
    "x_test_reduced2=pca2.transform(x_test_set)\n",
    "x_test_recovered2=pca2.inverse_transform(x_test_reduced2)"
   ]
  },
  {
   "cell_type": "code",
   "execution_count": 30,
   "metadata": {},
   "outputs": [
    {
     "data": {
      "text/plain": [
       "72"
      ]
     },
     "execution_count": 30,
     "metadata": {},
     "output_type": "execute_result"
    }
   ],
   "source": [
    "pca2.n_components_"
   ]
  },
  {
   "cell_type": "code",
   "execution_count": 31,
   "metadata": {},
   "outputs": [
    {
     "data": {
      "text/plain": [
       "0.6236"
      ]
     },
     "execution_count": 31,
     "metadata": {},
     "output_type": "execute_result"
    }
   ],
   "source": [
    "knn2 = KNeighborsClassifier(n_neighbors=16)\n",
    "knn2.fit(x_train_recovered2, y_train_set)\n",
    "y_pred_knn2=knn2.predict(x_test_recovered2)\n",
    "accuracy_knn2=metrics.accuracy_score(y_test_set, y_pred_knn2)\n",
    "accuracy_knn2"
   ]
  },
  {
   "cell_type": "code",
   "execution_count": 65,
   "metadata": {},
   "outputs": [
    {
     "data": {
      "image/png": "[encoded data removed]",
      "text/plain": [
       "<Figure size 432x288 with 2 Axes>"
      ]
     },
     "metadata": {
      "needs_background": "light"
     },
     "output_type": "display_data"
    }
   ],
   "source": [
    "mat_knn2=confusion_matrix(y_test_set, y_pred_knn2)\n",
    "confussion_matrix(mat_knn2)"
   ]
  },
  {
   "cell_type": "code",
   "execution_count": 33,
   "metadata": {},
   "outputs": [
    {
     "name": "stdout",
     "output_type": "stream",
     "text": [
      "precision_score_knn2: 0.6140749148694665\n",
      "recall_score_knn2: 0.6531187122736418\n",
      "f1_score_knn2: 0.6329953198127926\n"
     ]
    }
   ],
   "source": [
    "print(\"precision_score_knn2:\",precision_score(y_test_set, y_pred_knn2)) \n",
    "print(\"recall_score_knn2:\",recall_score(y_test_set, y_pred_knn2))\n",
    "print(\"f1_score_knn2:\",f1_score(y_test_set, y_pred_knn2))"
   ]
  },
  {
   "cell_type": "code",
   "execution_count": 34,
   "metadata": {},
   "outputs": [
    {
     "name": "stdout",
     "output_type": "stream",
     "text": [
      "[0.61575    0.61075    0.61       0.598      0.60290073] mean: 0.607480145036259\n"
     ]
    }
   ],
   "source": [
    "#cross validation\n",
    "cv_scores_knn2=cross_val_score(knn2, x_train_reduced2, y_train_set, cv=5, scoring=\"accuracy\")\n",
    "print(cv_scores_knn2, \"mean:\", np.mean(cv_scores_knn2))"
   ]
  },
  {
   "cell_type": "code",
   "execution_count": null,
   "metadata": {},
   "outputs": [],
   "source": []
  },
  {
   "cell_type": "code",
   "execution_count": 35,
   "metadata": {},
   "outputs": [
    {
     "data": {
      "text/plain": [
       "0.6256"
      ]
     },
     "execution_count": 35,
     "metadata": {},
     "output_type": "execute_result"
    }
   ],
   "source": [
    "XG2=XGBClassifier(n_estimators=400, max_depth=2, eta=0.1, subsample=0.7, colsample_bytree=0.8,\n",
    "                 use_label_encoder =False,eval_metric = \"logloss\")\n",
    "XG2.fit(x_train_reduced2, y_train_set)\n",
    "y_pred_XG2=XG2.predict(x_test_reduced2)\n",
    "accuracy_XG2=metrics.accuracy_score(y_test_set, y_pred_XG2)\n",
    "accuracy_XG2"
   ]
  },
  {
   "cell_type": "code",
   "execution_count": 66,
   "metadata": {},
   "outputs": [
    {
     "data": {
      "image/png": "[encoded data removed]",
      "text/plain": [
       "<Figure size 432x288 with 2 Axes>"
      ]
     },
     "metadata": {
      "needs_background": "light"
     },
     "output_type": "display_data"
    }
   ],
   "source": [
    "mat_XG2=confusion_matrix(y_test_set, y_pred_XG2)\n",
    "confussion_matrix(mat_XG2)"
   ]
  },
  {
   "cell_type": "code",
   "execution_count": 37,
   "metadata": {},
   "outputs": [
    {
     "name": "stdout",
     "output_type": "stream",
     "text": [
      "precision_score_XG2: 0.6131413805832411\n",
      "recall_score_XG2: 0.6684104627766599\n",
      "f1_score_XG2: 0.639584135541009\n"
     ]
    }
   ],
   "source": [
    "print(\"precision_score_XG2:\",precision_score(y_test_set, y_pred_XG2)) \n",
    "print(\"recall_score_XG2:\",recall_score(y_test_set, y_pred_XG2))\n",
    "print(\"f1_score_XG2:\",f1_score(y_test_set, y_pred_XG2))"
   ]
  },
  {
   "cell_type": "code",
   "execution_count": 38,
   "metadata": {},
   "outputs": [
    {
     "name": "stdout",
     "output_type": "stream",
     "text": [
      "[0.631      0.63125    0.6255     0.623      0.61990498] mean: 0.6261309952488122\n"
     ]
    }
   ],
   "source": [
    "#cross validation\n",
    "cv_scores_XG2=cross_val_score(XG2, x_train_reduced2, y_train_set, cv=5, scoring=\"accuracy\")\n",
    "print(cv_scores_XG2, \"mean:\", np.mean(cv_scores_XG2))"
   ]
  },
  {
   "cell_type": "code",
   "execution_count": null,
   "metadata": {},
   "outputs": [],
   "source": []
  },
  {
   "cell_type": "code",
   "execution_count": null,
   "metadata": {},
   "outputs": [],
   "source": []
  },
  {
   "cell_type": "code",
   "execution_count": 39,
   "metadata": {},
   "outputs": [],
   "source": [
    "pca3=PCA(n_components=0.7)\n",
    "x_train_reduced3=pca3.fit_transform(x_train_set)\n",
    "x_train_recovered3=pca3.inverse_transform(x_train_reduced3)\n",
    "x_test_reduced3=pca3.transform(x_test_set)\n",
    "x_test_recovered3=pca3.inverse_transform(x_test_reduced3)"
   ]
  },
  {
   "cell_type": "code",
   "execution_count": 40,
   "metadata": {},
   "outputs": [
    {
     "data": {
      "text/plain": [
       "26"
      ]
     },
     "execution_count": 40,
     "metadata": {},
     "output_type": "execute_result"
    }
   ],
   "source": [
    "pca3.n_components_"
   ]
  },
  {
   "cell_type": "code",
   "execution_count": 41,
   "metadata": {},
   "outputs": [
    {
     "data": {
      "text/plain": [
       "array([  5,  10,  15,  20,  25,  30,  35,  40,  45,  50,  55,  60,  65,\n",
       "        70,  75,  80,  85,  90,  95, 100, 105, 110, 115, 120, 125, 130,\n",
       "       135, 140, 145, 150, 155, 160, 165, 170, 175, 180, 185, 190, 195,\n",
       "       200, 205, 210, 215, 220, 225, 230, 235, 240, 245, 250, 255, 260,\n",
       "       265, 270, 275, 280, 285, 290, 295, 300, 305, 310, 315, 320, 325,\n",
       "       330, 335, 340, 345, 350, 355, 360, 365, 370, 375, 380, 385, 390,\n",
       "       395, 400, 405, 410, 415, 420, 425, 430, 435, 440, 445, 450, 455,\n",
       "       460, 465, 470, 475, 480, 485, 490, 495, 500])"
      ]
     },
     "execution_count": 41,
     "metadata": {},
     "output_type": "execute_result"
    }
   ],
   "source": [
    "arr=np.arange(5,505,5)\n",
    "arr"
   ]
  },
  {
   "cell_type": "code",
   "execution_count": 42,
   "metadata": {},
   "outputs": [
    {
     "name": "stdout",
     "output_type": "stream",
     "text": [
      "5 0.6024\n",
      "10 0.6122\n",
      "15 0.614\n",
      "20 0.6152\n",
      "25 0.6048\n",
      "30 0.6088\n",
      "35 0.6066\n",
      "40 0.6078\n",
      "45 0.6048\n",
      "50 0.609\n",
      "55 0.6028\n",
      "60 0.6048\n",
      "65 0.6\n",
      "70 0.6052\n",
      "75 0.5994\n",
      "80 0.604\n",
      "85 0.6008\n",
      "90 0.6018\n",
      "95 0.601\n",
      "100 0.6026\n",
      "105 0.5984\n",
      "110 0.5998\n",
      "115 0.5964\n",
      "120 0.601\n",
      "125 0.5948\n",
      "130 0.5984\n",
      "135 0.5964\n",
      "140 0.5948\n",
      "145 0.5974\n",
      "150 0.6014\n",
      "155 0.6004\n",
      "160 0.602\n",
      "165 0.5988\n",
      "170 0.5966\n",
      "175 0.5958\n",
      "180 0.5966\n",
      "185 0.5936\n",
      "190 0.5978\n",
      "195 0.5946\n",
      "200 0.5954\n",
      "205 0.5954\n",
      "210 0.5968\n",
      "215 0.5952\n",
      "220 0.5962\n",
      "225 0.5968\n",
      "230 0.5942\n",
      "235 0.5952\n",
      "240 0.593\n",
      "245 0.594\n",
      "250 0.5948\n",
      "255 0.5916\n",
      "260 0.5936\n",
      "265 0.5936\n",
      "270 0.5906\n",
      "275 0.5906\n",
      "280 0.5898\n",
      "285 0.5912\n",
      "290 0.5912\n",
      "295 0.5918\n",
      "300 0.5898\n",
      "305 0.5912\n",
      "310 0.592\n",
      "315 0.5922\n",
      "320 0.5918\n",
      "325 0.59\n",
      "330 0.5894\n",
      "335 0.5868\n",
      "340 0.5892\n",
      "345 0.5866\n",
      "350 0.5872\n",
      "355 0.585\n",
      "360 0.5874\n",
      "365 0.5842\n",
      "370 0.586\n",
      "375 0.5842\n",
      "380 0.5844\n",
      "385 0.5846\n",
      "390 0.5858\n",
      "395 0.5848\n",
      "400 0.5862\n",
      "405 0.5844\n",
      "410 0.584\n",
      "415 0.5844\n",
      "420 0.5856\n",
      "425 0.5846\n",
      "430 0.5846\n",
      "435 0.5824\n",
      "440 0.584\n",
      "445 0.5846\n",
      "450 0.5848\n",
      "455 0.5836\n",
      "460 0.5842\n",
      "465 0.5826\n",
      "470 0.5832\n",
      "475 0.5814\n",
      "480 0.5826\n",
      "485 0.5836\n",
      "490 0.5832\n",
      "495 0.5818\n",
      "500 0.5834\n"
     ]
    }
   ],
   "source": [
    "for x in arr:\n",
    "    knn_x=KNeighborsClassifier(n_neighbors=x)\n",
    "    knn_x.fit(x_train_reduced3, y_train_set)\n",
    "    y_pred_knn_x=knn_x.predict(x_test_reduced3)\n",
    "    accuracy_knn_x=metrics.accuracy_score(y_test_set, y_pred_knn_x)\n",
    "    print (x,accuracy_knn_x )"
   ]
  },
  {
   "cell_type": "code",
   "execution_count": 43,
   "metadata": {},
   "outputs": [
    {
     "name": "stdout",
     "output_type": "stream",
     "text": [
      "10 0.6122\n",
      "11 0.6074\n",
      "12 0.6068\n",
      "13 0.6082\n",
      "14 0.612\n",
      "15 0.614\n",
      "16 0.6178\n",
      "17 0.6118\n",
      "18 0.6208\n",
      "19 0.6066\n",
      "20 0.6152\n",
      "21 0.6078\n",
      "22 0.614\n",
      "23 0.6034\n",
      "24 0.6118\n"
     ]
    }
   ],
   "source": [
    "for x in range(10,25):\n",
    "    knn_x=KNeighborsClassifier(n_neighbors=x)\n",
    "    knn_x.fit(x_train_reduced3, y_train_set)\n",
    "    y_pred_knn_x=knn_x.predict(x_test_reduced3)\n",
    "    accuracy_knn_x=metrics.accuracy_score(y_test_set, y_pred_knn_x)\n",
    "    print (x,accuracy_knn_x )  "
   ]
  },
  {
   "cell_type": "code",
   "execution_count": null,
   "metadata": {},
   "outputs": [],
   "source": []
  },
  {
   "cell_type": "code",
   "execution_count": null,
   "metadata": {},
   "outputs": [],
   "source": []
  },
  {
   "cell_type": "code",
   "execution_count": 44,
   "metadata": {},
   "outputs": [
    {
     "data": {
      "text/plain": [
       "0.6178"
      ]
     },
     "execution_count": 44,
     "metadata": {},
     "output_type": "execute_result"
    }
   ],
   "source": [
    "knn3 = KNeighborsClassifier(n_neighbors=16)\n",
    "knn3.fit(x_train_reduced3, y_train_set)\n",
    "y_pred_knn3=knn3.predict(x_test_reduced3)\n",
    "accuracy_knn3=metrics.accuracy_score(y_test_set, y_pred_knn3)\n",
    "accuracy_knn3"
   ]
  },
  {
   "cell_type": "code",
   "execution_count": 67,
   "metadata": {},
   "outputs": [
    {
     "data": {
      "image/png": "[encoded data removed]",
      "text/plain": [
       "<Figure size 432x288 with 2 Axes>"
      ]
     },
     "metadata": {
      "needs_background": "light"
     },
     "output_type": "display_data"
    }
   ],
   "source": [
    "mat_knn3=confusion_matrix(y_test_set, y_pred_knn3)\n",
    "confussion_matrix(mat_knn3)"
   ]
  },
  {
   "cell_type": "code",
   "execution_count": 46,
   "metadata": {},
   "outputs": [
    {
     "name": "stdout",
     "output_type": "stream",
     "text": [
      "precision_score_knn3: 0.6044395924308588\n",
      "recall_score_knn3: 0.6684104627766599\n",
      "f1_score_knn3: 0.6348175042996369\n"
     ]
    }
   ],
   "source": [
    "print(\"precision_score_knn3:\",precision_score(y_test_set, y_pred_knn3)) \n",
    "print(\"recall_score_knn3:\",recall_score(y_test_set, y_pred_knn3))\n",
    "print(\"f1_score_knn3:\",f1_score(y_test_set, y_pred_knn3))"
   ]
  },
  {
   "cell_type": "code",
   "execution_count": 47,
   "metadata": {},
   "outputs": [
    {
     "name": "stdout",
     "output_type": "stream",
     "text": [
      "[0.613      0.59975    0.62       0.6115     0.60615154] mean: 0.6100803075768942\n"
     ]
    }
   ],
   "source": [
    "#cross validation\n",
    "cv_scores_knn3=cross_val_score(knn3, x_train_reduced3, y_train_set, cv=5, scoring=\"accuracy\")\n",
    "print(cv_scores_knn3, \"mean:\", np.mean(cv_scores_knn3))"
   ]
  },
  {
   "cell_type": "code",
   "execution_count": null,
   "metadata": {},
   "outputs": [],
   "source": []
  },
  {
   "cell_type": "code",
   "execution_count": 48,
   "metadata": {},
   "outputs": [
    {
     "data": {
      "text/plain": [
       "0.6332"
      ]
     },
     "execution_count": 48,
     "metadata": {},
     "output_type": "execute_result"
    }
   ],
   "source": [
    "XG3=XGBClassifier(n_estimators=400, max_depth=2, eta=0.1, subsample=0.7, colsample_bytree=0.8,\n",
    "                 use_label_encoder =False,eval_metric = \"logloss\")\n",
    "XG3.fit(x_train_recovered3, y_train_set)\n",
    "y_pred_XG3=XG3.predict(x_test_recovered3)\n",
    "accuracy_XG3=metrics.accuracy_score(y_test_set, y_pred_XG3)\n",
    "accuracy_XG3"
   ]
  },
  {
   "cell_type": "code",
   "execution_count": 68,
   "metadata": {},
   "outputs": [
    {
     "data": {
      "image/png": "[encoded data removed]",
      "text/plain": [
       "<Figure size 432x288 with 2 Axes>"
      ]
     },
     "metadata": {
      "needs_background": "light"
     },
     "output_type": "display_data"
    }
   ],
   "source": [
    "mat_XG3=confusion_matrix(y_test_set, y_pred_XG3)\n",
    "confussion_matrix(mat_XG3)"
   ]
  },
  {
   "cell_type": "code",
   "execution_count": 50,
   "metadata": {},
   "outputs": [
    {
     "name": "stdout",
     "output_type": "stream",
     "text": [
      "precision_score_XG3: 0.6138509968520461\n",
      "recall_score_XG3: 0.7062374245472837\n",
      "f1_score_XG3: 0.656811377245509\n"
     ]
    }
   ],
   "source": [
    "print(\"precision_score_XG3:\",precision_score(y_test_set, y_pred_XG3)) \n",
    "print(\"recall_score_XG3:\",recall_score(y_test_set, y_pred_XG3))\n",
    "print(\"f1_score_XG3:\",f1_score(y_test_set, y_pred_XG3))"
   ]
  },
  {
   "cell_type": "code",
   "execution_count": 51,
   "metadata": {},
   "outputs": [
    {
     "name": "stdout",
     "output_type": "stream",
     "text": [
      "[0.62225   0.628     0.63      0.626     0.6224056] mean: 0.6257311202800699\n"
     ]
    }
   ],
   "source": [
    "#cross validation\n",
    "cv_scores_XG3=cross_val_score(XG3, x_train_reduced3, y_train_set, cv=5, scoring=\"accuracy\")\n",
    "print(cv_scores_XG3, \"mean:\", np.mean(cv_scores_XG3))"
   ]
  },
  {
   "cell_type": "code",
   "execution_count": null,
   "metadata": {},
   "outputs": [],
   "source": []
  }
 ],
 "metadata": {
  "kernelspec": {
   "display_name": "Python 3",
   "language": "python",
   "name": "python3"
  },
  "language_info": {
   "codemirror_mode": {
    "name": "ipython",
    "version": 3
   },
   "file_extension": ".py",
   "mimetype": "text/x-python",
   "name": "python",
   "nbconvert_exporter": "python",
   "pygments_lexer": "ipython3",
   "version": "3.8.3"
  }
 },
 "nbformat": 4,
 "nbformat_minor": 4
}

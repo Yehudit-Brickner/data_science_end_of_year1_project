{
 "cells": [
  {
   "cell_type": "markdown",
   "metadata": {},
   "source": [
    "data science end of year project part 3 cats vs dogs 9.8.21"
   ]
  },
  {
   "cell_type": "code",
   "execution_count": 1,
   "metadata": {},
   "outputs": [],
   "source": [
    "#all the imports that i will need \n",
    "import numpy as np\n",
    "import pandas as pd\n",
    "import matplotlib.pyplot as plt\n",
    "import seaborn as sns\n",
    "from sklearn.model_selection import train_test_split\n",
    "from sklearn.decomposition import PCA\n",
    "import warnings\n",
    "warnings.filterwarnings(action='ignore', category=UserWarning)\n",
    "from sklearn.model_selection import cross_val_score \n",
    "from sklearn.model_selection import cross_val_predict  \n",
    "from sklearn.metrics import confusion_matrix\n",
    "from sklearn.metrics import precision_score, recall_score  \n",
    "from sklearn.metrics import f1_score  \n",
    "from sklearn.metrics import accuracy_score\n",
    "from sklearn import metrics\n",
    "from sklearn.neighbors import KNeighborsClassifier\n",
    "from xgboost import XGBClassifier"
   ]
  },
  {
   "cell_type": "code",
   "execution_count": 2,
   "metadata": {},
   "outputs": [],
   "source": [
    "import os\n",
    "import cv2"
   ]
  },
  {
   "cell_type": "markdown",
   "metadata": {},
   "source": [
    "in the next 4 cells i will be importing the data from picture form.\n",
    "<br>when i import the pictures i will be changing the size to 100x100 pixcels and making them gray scale.\n",
    "<br>because i dont want this done every time i rerun the notebook the next cells will be text because the code has alteady been run. "
   ]
  },
  {
   "cell_type": "code",
   "execution_count": 3,
   "metadata": {},
   "outputs": [],
   "source": [
    "# train_dir=r'C:\\Users\\nechd\\Desktop\\train1'\n",
    "# test_dir=r'C:\\Users\\nechd\\Desktop\\test1'\n",
    "# image_size=100"
   ]
  },
  {
   "cell_type": "code",
   "execution_count": 4,
   "metadata": {},
   "outputs": [],
   "source": [
    "#def label_img(img):\n",
    "#    word_label=img.split('.')[-3]\n",
    "#    if word_label=='cat':return [0]\n",
    "#    elif word_label =='dog':return [1]"
   ]
  },
  {
   "cell_type": "code",
   "execution_count": 5,
   "metadata": {},
   "outputs": [],
   "source": [
    "#def create_train_data():\n",
    "#    training_data=[]\n",
    "#    for img in (os.listdir(train_dir)):\n",
    "#        label=label_img(img)\n",
    "#        path=os.path.join(train_dir,img)\n",
    "#        img=cv2.resize(cv2.imread(path,cv2.IMREAD_GRAYSCALE),(image_size,image_size))\n",
    "#        training_data.append([img,label])\n",
    "#    np.save('train_data.npy',training_data)\n",
    "#    return training_data"
   ]
  },
  {
   "cell_type": "code",
   "execution_count": 6,
   "metadata": {},
   "outputs": [],
   "source": [
    "# train_data=create_train_data()"
   ]
  },
  {
   "cell_type": "markdown",
   "metadata": {},
   "source": [
    "in the next 5 cells i will be taking the data and putting into a dataframe format then save it on the computer and reupload it.\n",
    "<br> because i dont want this done every time i rerun the notebook the next cells will be text because the code has already been run. "
   ]
  },
  {
   "cell_type": "code",
   "execution_count": 7,
   "metadata": {},
   "outputs": [],
   "source": [
    "# def create_pic_row(y):\n",
    "#    df3=pd.DataFrame(train_data[y][0][0])\n",
    "#    for x in range (1,100):\n",
    "#        df2=pd.DataFrame(train_data[y][0][x])\n",
    "#        df3= df3.append(df2)\n",
    "#    df5=pd.DataFrame(train_data[y][1])\n",
    "#    df3= df3.append(df5)\n",
    "#    df3=df3.T\n",
    "#    return df3"
   ]
  },
  {
   "cell_type": "code",
   "execution_count": 8,
   "metadata": {},
   "outputs": [],
   "source": [
    "#data=create_pic_row(0)\n",
    "#for y in range(1,24999):\n",
    "#    count=y\n",
    "#    data1=create_pic_row(y) \n",
    "#    data=data.append(data1) \n",
    "#    print(y)\n",
    "#data      \n"
   ]
  },
  {
   "cell_type": "code",
   "execution_count": 9,
   "metadata": {},
   "outputs": [],
   "source": [
    "#columns=np.arange(0,10001)\n",
    "#rows=np.arange(0,24999)"
   ]
  },
  {
   "cell_type": "code",
   "execution_count": 10,
   "metadata": {},
   "outputs": [],
   "source": [
    "#data=data.set_axis(columns, axis='columns')\n",
    "#data=data.set_index(rows)"
   ]
  },
  {
   "cell_type": "code",
   "execution_count": 11,
   "metadata": {},
   "outputs": [],
   "source": [
    "#data.to_csv('cats_vs_dogs_train.csv')"
   ]
  },
  {
   "cell_type": "code",
   "execution_count": 12,
   "metadata": {},
   "outputs": [],
   "source": [
    "#importing the train data frame that is saved to my computer\n",
    "training_set=pd.read_csv(r\"C:\\Users\\nechd\\Desktop\\cats_vs_dogs_train.csv\")"
   ]
  },
  {
   "cell_type": "code",
   "execution_count": 13,
   "metadata": {},
   "outputs": [
    {
     "data": {
      "text/html": [
       "<div>\n",
       "<style scoped>\n",
       "    .dataframe tbody tr th:only-of-type {\n",
       "        vertical-align: middle;\n",
       "    }\n",
       "\n",
       "    .dataframe tbody tr th {\n",
       "        vertical-align: top;\n",
       "    }\n",
       "\n",
       "    .dataframe thead th {\n",
       "        text-align: right;\n",
       "    }\n",
       "</style>\n",
       "<table border=\"1\" class=\"dataframe\">\n",
       "  <thead>\n",
       "    <tr style=\"text-align: right;\">\n",
       "      <th></th>\n",
       "      <th>0</th>\n",
       "      <th>1</th>\n",
       "      <th>2</th>\n",
       "      <th>3</th>\n",
       "      <th>4</th>\n",
       "      <th>5</th>\n",
       "      <th>6</th>\n",
       "      <th>7</th>\n",
       "      <th>8</th>\n",
       "      <th>9</th>\n",
       "      <th>...</th>\n",
       "      <th>9991</th>\n",
       "      <th>9992</th>\n",
       "      <th>9993</th>\n",
       "      <th>9994</th>\n",
       "      <th>9995</th>\n",
       "      <th>9996</th>\n",
       "      <th>9997</th>\n",
       "      <th>9998</th>\n",
       "      <th>9999</th>\n",
       "      <th>10000</th>\n",
       "    </tr>\n",
       "  </thead>\n",
       "  <tbody>\n",
       "    <tr>\n",
       "      <th>0</th>\n",
       "      <td>168</td>\n",
       "      <td>174</td>\n",
       "      <td>177</td>\n",
       "      <td>181</td>\n",
       "      <td>185</td>\n",
       "      <td>188</td>\n",
       "      <td>190</td>\n",
       "      <td>193</td>\n",
       "      <td>196</td>\n",
       "      <td>198</td>\n",
       "      <td>...</td>\n",
       "      <td>3</td>\n",
       "      <td>3</td>\n",
       "      <td>2</td>\n",
       "      <td>2</td>\n",
       "      <td>2</td>\n",
       "      <td>2</td>\n",
       "      <td>2</td>\n",
       "      <td>2</td>\n",
       "      <td>2</td>\n",
       "      <td>0</td>\n",
       "    </tr>\n",
       "    <tr>\n",
       "      <th>1</th>\n",
       "      <td>43</td>\n",
       "      <td>44</td>\n",
       "      <td>43</td>\n",
       "      <td>42</td>\n",
       "      <td>52</td>\n",
       "      <td>34</td>\n",
       "      <td>51</td>\n",
       "      <td>40</td>\n",
       "      <td>39</td>\n",
       "      <td>63</td>\n",
       "      <td>...</td>\n",
       "      <td>47</td>\n",
       "      <td>50</td>\n",
       "      <td>49</td>\n",
       "      <td>55</td>\n",
       "      <td>63</td>\n",
       "      <td>64</td>\n",
       "      <td>89</td>\n",
       "      <td>19</td>\n",
       "      <td>36</td>\n",
       "      <td>0</td>\n",
       "    </tr>\n",
       "    <tr>\n",
       "      <th>2</th>\n",
       "      <td>39</td>\n",
       "      <td>25</td>\n",
       "      <td>43</td>\n",
       "      <td>49</td>\n",
       "      <td>47</td>\n",
       "      <td>57</td>\n",
       "      <td>58</td>\n",
       "      <td>54</td>\n",
       "      <td>53</td>\n",
       "      <td>59</td>\n",
       "      <td>...</td>\n",
       "      <td>158</td>\n",
       "      <td>150</td>\n",
       "      <td>133</td>\n",
       "      <td>135</td>\n",
       "      <td>145</td>\n",
       "      <td>160</td>\n",
       "      <td>169</td>\n",
       "      <td>171</td>\n",
       "      <td>153</td>\n",
       "      <td>0</td>\n",
       "    </tr>\n",
       "    <tr>\n",
       "      <th>3</th>\n",
       "      <td>221</td>\n",
       "      <td>224</td>\n",
       "      <td>222</td>\n",
       "      <td>228</td>\n",
       "      <td>229</td>\n",
       "      <td>224</td>\n",
       "      <td>224</td>\n",
       "      <td>235</td>\n",
       "      <td>229</td>\n",
       "      <td>227</td>\n",
       "      <td>...</td>\n",
       "      <td>212</td>\n",
       "      <td>204</td>\n",
       "      <td>204</td>\n",
       "      <td>203</td>\n",
       "      <td>215</td>\n",
       "      <td>222</td>\n",
       "      <td>217</td>\n",
       "      <td>211</td>\n",
       "      <td>213</td>\n",
       "      <td>0</td>\n",
       "    </tr>\n",
       "    <tr>\n",
       "      <th>4</th>\n",
       "      <td>115</td>\n",
       "      <td>119</td>\n",
       "      <td>122</td>\n",
       "      <td>91</td>\n",
       "      <td>83</td>\n",
       "      <td>95</td>\n",
       "      <td>132</td>\n",
       "      <td>131</td>\n",
       "      <td>149</td>\n",
       "      <td>180</td>\n",
       "      <td>...</td>\n",
       "      <td>96</td>\n",
       "      <td>97</td>\n",
       "      <td>94</td>\n",
       "      <td>100</td>\n",
       "      <td>119</td>\n",
       "      <td>95</td>\n",
       "      <td>90</td>\n",
       "      <td>95</td>\n",
       "      <td>82</td>\n",
       "      <td>0</td>\n",
       "    </tr>\n",
       "    <tr>\n",
       "      <th>...</th>\n",
       "      <td>...</td>\n",
       "      <td>...</td>\n",
       "      <td>...</td>\n",
       "      <td>...</td>\n",
       "      <td>...</td>\n",
       "      <td>...</td>\n",
       "      <td>...</td>\n",
       "      <td>...</td>\n",
       "      <td>...</td>\n",
       "      <td>...</td>\n",
       "      <td>...</td>\n",
       "      <td>...</td>\n",
       "      <td>...</td>\n",
       "      <td>...</td>\n",
       "      <td>...</td>\n",
       "      <td>...</td>\n",
       "      <td>...</td>\n",
       "      <td>...</td>\n",
       "      <td>...</td>\n",
       "      <td>...</td>\n",
       "      <td>...</td>\n",
       "    </tr>\n",
       "    <tr>\n",
       "      <th>24994</th>\n",
       "      <td>122</td>\n",
       "      <td>128</td>\n",
       "      <td>124</td>\n",
       "      <td>125</td>\n",
       "      <td>127</td>\n",
       "      <td>129</td>\n",
       "      <td>130</td>\n",
       "      <td>128</td>\n",
       "      <td>125</td>\n",
       "      <td>122</td>\n",
       "      <td>...</td>\n",
       "      <td>49</td>\n",
       "      <td>49</td>\n",
       "      <td>45</td>\n",
       "      <td>32</td>\n",
       "      <td>32</td>\n",
       "      <td>35</td>\n",
       "      <td>26</td>\n",
       "      <td>21</td>\n",
       "      <td>17</td>\n",
       "      <td>1</td>\n",
       "    </tr>\n",
       "    <tr>\n",
       "      <th>24995</th>\n",
       "      <td>140</td>\n",
       "      <td>143</td>\n",
       "      <td>142</td>\n",
       "      <td>145</td>\n",
       "      <td>146</td>\n",
       "      <td>147</td>\n",
       "      <td>148</td>\n",
       "      <td>149</td>\n",
       "      <td>148</td>\n",
       "      <td>149</td>\n",
       "      <td>...</td>\n",
       "      <td>165</td>\n",
       "      <td>166</td>\n",
       "      <td>166</td>\n",
       "      <td>167</td>\n",
       "      <td>168</td>\n",
       "      <td>168</td>\n",
       "      <td>168</td>\n",
       "      <td>168</td>\n",
       "      <td>169</td>\n",
       "      <td>1</td>\n",
       "    </tr>\n",
       "    <tr>\n",
       "      <th>24996</th>\n",
       "      <td>117</td>\n",
       "      <td>78</td>\n",
       "      <td>102</td>\n",
       "      <td>83</td>\n",
       "      <td>101</td>\n",
       "      <td>113</td>\n",
       "      <td>69</td>\n",
       "      <td>85</td>\n",
       "      <td>86</td>\n",
       "      <td>86</td>\n",
       "      <td>...</td>\n",
       "      <td>97</td>\n",
       "      <td>77</td>\n",
       "      <td>100</td>\n",
       "      <td>84</td>\n",
       "      <td>77</td>\n",
       "      <td>85</td>\n",
       "      <td>93</td>\n",
       "      <td>94</td>\n",
       "      <td>74</td>\n",
       "      <td>1</td>\n",
       "    </tr>\n",
       "    <tr>\n",
       "      <th>24997</th>\n",
       "      <td>42</td>\n",
       "      <td>35</td>\n",
       "      <td>47</td>\n",
       "      <td>58</td>\n",
       "      <td>65</td>\n",
       "      <td>46</td>\n",
       "      <td>51</td>\n",
       "      <td>57</td>\n",
       "      <td>58</td>\n",
       "      <td>40</td>\n",
       "      <td>...</td>\n",
       "      <td>133</td>\n",
       "      <td>130</td>\n",
       "      <td>125</td>\n",
       "      <td>70</td>\n",
       "      <td>113</td>\n",
       "      <td>182</td>\n",
       "      <td>127</td>\n",
       "      <td>113</td>\n",
       "      <td>167</td>\n",
       "      <td>1</td>\n",
       "    </tr>\n",
       "    <tr>\n",
       "      <th>24998</th>\n",
       "      <td>254</td>\n",
       "      <td>251</td>\n",
       "      <td>245</td>\n",
       "      <td>234</td>\n",
       "      <td>224</td>\n",
       "      <td>207</td>\n",
       "      <td>189</td>\n",
       "      <td>144</td>\n",
       "      <td>112</td>\n",
       "      <td>75</td>\n",
       "      <td>...</td>\n",
       "      <td>102</td>\n",
       "      <td>107</td>\n",
       "      <td>114</td>\n",
       "      <td>111</td>\n",
       "      <td>111</td>\n",
       "      <td>107</td>\n",
       "      <td>116</td>\n",
       "      <td>114</td>\n",
       "      <td>121</td>\n",
       "      <td>1</td>\n",
       "    </tr>\n",
       "  </tbody>\n",
       "</table>\n",
       "<p>24999 rows × 10001 columns</p>\n",
       "</div>"
      ],
      "text/plain": [
       "         0    1    2    3    4    5    6    7    8    9  ...  9991  9992  \\\n",
       "0      168  174  177  181  185  188  190  193  196  198  ...     3     3   \n",
       "1       43   44   43   42   52   34   51   40   39   63  ...    47    50   \n",
       "2       39   25   43   49   47   57   58   54   53   59  ...   158   150   \n",
       "3      221  224  222  228  229  224  224  235  229  227  ...   212   204   \n",
       "4      115  119  122   91   83   95  132  131  149  180  ...    96    97   \n",
       "...    ...  ...  ...  ...  ...  ...  ...  ...  ...  ...  ...   ...   ...   \n",
       "24994  122  128  124  125  127  129  130  128  125  122  ...    49    49   \n",
       "24995  140  143  142  145  146  147  148  149  148  149  ...   165   166   \n",
       "24996  117   78  102   83  101  113   69   85   86   86  ...    97    77   \n",
       "24997   42   35   47   58   65   46   51   57   58   40  ...   133   130   \n",
       "24998  254  251  245  234  224  207  189  144  112   75  ...   102   107   \n",
       "\n",
       "       9993  9994  9995  9996  9997  9998  9999  10000  \n",
       "0         2     2     2     2     2     2     2      0  \n",
       "1        49    55    63    64    89    19    36      0  \n",
       "2       133   135   145   160   169   171   153      0  \n",
       "3       204   203   215   222   217   211   213      0  \n",
       "4        94   100   119    95    90    95    82      0  \n",
       "...     ...   ...   ...   ...   ...   ...   ...    ...  \n",
       "24994    45    32    32    35    26    21    17      1  \n",
       "24995   166   167   168   168   168   168   169      1  \n",
       "24996   100    84    77    85    93    94    74      1  \n",
       "24997   125    70   113   182   127   113   167      1  \n",
       "24998   114   111   111   107   116   114   121      1  \n",
       "\n",
       "[24999 rows x 10001 columns]"
      ]
     },
     "execution_count": 13,
     "metadata": {},
     "output_type": "execute_result"
    }
   ],
   "source": [
    "training_set=training_set.drop(['Unnamed: 0'], axis=1)\n",
    "training_set"
   ]
  },
  {
   "cell_type": "code",
   "execution_count": null,
   "metadata": {},
   "outputs": [],
   "source": []
  },
  {
   "cell_type": "code",
   "execution_count": null,
   "metadata": {},
   "outputs": [],
   "source": []
  },
  {
   "cell_type": "code",
   "execution_count": 14,
   "metadata": {},
   "outputs": [],
   "source": [
    "#splitting the data\n",
    "# i need to split it into 3 parts \n",
    "train_set, test_set1 = train_test_split(training_set, test_size=0.3, random_state=42)\n",
    "test_set, test_set_dont_touch=train_test_split(test_set1, test_size=0.5, random_state=42)"
   ]
  },
  {
   "cell_type": "code",
   "execution_count": 15,
   "metadata": {},
   "outputs": [
    {
     "name": "stdout",
     "output_type": "stream",
     "text": [
      "<class 'pandas.core.frame.DataFrame'>\n",
      "Int64Index: 17499 entries, 4913 to 23654\n",
      "Columns: 10001 entries, 0 to 10000\n",
      "dtypes: int64(10001)\n",
      "memory usage: 1.3 GB\n"
     ]
    }
   ],
   "source": [
    "train_set.info()"
   ]
  },
  {
   "cell_type": "code",
   "execution_count": 16,
   "metadata": {},
   "outputs": [
    {
     "name": "stdout",
     "output_type": "stream",
     "text": [
      "<class 'pandas.core.frame.DataFrame'>\n",
      "Int64Index: 3750 entries, 23922 to 24214\n",
      "Columns: 10001 entries, 0 to 10000\n",
      "dtypes: int64(10001)\n",
      "memory usage: 286.2 MB\n"
     ]
    }
   ],
   "source": [
    "test_set.info()"
   ]
  },
  {
   "cell_type": "code",
   "execution_count": 17,
   "metadata": {},
   "outputs": [
    {
     "name": "stdout",
     "output_type": "stream",
     "text": [
      "<class 'pandas.core.frame.DataFrame'>\n",
      "Int64Index: 3750 entries, 17149 to 8198\n",
      "Columns: 10001 entries, 0 to 10000\n",
      "dtypes: int64(10001)\n",
      "memory usage: 286.2 MB\n"
     ]
    }
   ],
   "source": [
    "test_set_dont_touch.info()"
   ]
  },
  {
   "cell_type": "code",
   "execution_count": 18,
   "metadata": {},
   "outputs": [
    {
     "data": {
      "text/html": [
       "<div>\n",
       "<style scoped>\n",
       "    .dataframe tbody tr th:only-of-type {\n",
       "        vertical-align: middle;\n",
       "    }\n",
       "\n",
       "    .dataframe tbody tr th {\n",
       "        vertical-align: top;\n",
       "    }\n",
       "\n",
       "    .dataframe thead th {\n",
       "        text-align: right;\n",
       "    }\n",
       "</style>\n",
       "<table border=\"1\" class=\"dataframe\">\n",
       "  <thead>\n",
       "    <tr style=\"text-align: right;\">\n",
       "      <th></th>\n",
       "      <th>0</th>\n",
       "      <th>1</th>\n",
       "      <th>2</th>\n",
       "      <th>3</th>\n",
       "      <th>4</th>\n",
       "      <th>5</th>\n",
       "      <th>6</th>\n",
       "      <th>7</th>\n",
       "      <th>8</th>\n",
       "      <th>9</th>\n",
       "      <th>...</th>\n",
       "      <th>9991</th>\n",
       "      <th>9992</th>\n",
       "      <th>9993</th>\n",
       "      <th>9994</th>\n",
       "      <th>9995</th>\n",
       "      <th>9996</th>\n",
       "      <th>9997</th>\n",
       "      <th>9998</th>\n",
       "      <th>9999</th>\n",
       "      <th>10000</th>\n",
       "    </tr>\n",
       "  </thead>\n",
       "  <tbody>\n",
       "    <tr>\n",
       "      <th>4913</th>\n",
       "      <td>28</td>\n",
       "      <td>39</td>\n",
       "      <td>55</td>\n",
       "      <td>74</td>\n",
       "      <td>26</td>\n",
       "      <td>15</td>\n",
       "      <td>21</td>\n",
       "      <td>19</td>\n",
       "      <td>9</td>\n",
       "      <td>18</td>\n",
       "      <td>...</td>\n",
       "      <td>203</td>\n",
       "      <td>207</td>\n",
       "      <td>206</td>\n",
       "      <td>205</td>\n",
       "      <td>205</td>\n",
       "      <td>206</td>\n",
       "      <td>199</td>\n",
       "      <td>194</td>\n",
       "      <td>192</td>\n",
       "      <td>0</td>\n",
       "    </tr>\n",
       "    <tr>\n",
       "      <th>9338</th>\n",
       "      <td>237</td>\n",
       "      <td>241</td>\n",
       "      <td>239</td>\n",
       "      <td>240</td>\n",
       "      <td>242</td>\n",
       "      <td>238</td>\n",
       "      <td>237</td>\n",
       "      <td>236</td>\n",
       "      <td>233</td>\n",
       "      <td>237</td>\n",
       "      <td>...</td>\n",
       "      <td>168</td>\n",
       "      <td>158</td>\n",
       "      <td>159</td>\n",
       "      <td>118</td>\n",
       "      <td>127</td>\n",
       "      <td>147</td>\n",
       "      <td>141</td>\n",
       "      <td>145</td>\n",
       "      <td>175</td>\n",
       "      <td>0</td>\n",
       "    </tr>\n",
       "    <tr>\n",
       "      <th>24210</th>\n",
       "      <td>205</td>\n",
       "      <td>188</td>\n",
       "      <td>163</td>\n",
       "      <td>135</td>\n",
       "      <td>123</td>\n",
       "      <td>140</td>\n",
       "      <td>137</td>\n",
       "      <td>124</td>\n",
       "      <td>111</td>\n",
       "      <td>100</td>\n",
       "      <td>...</td>\n",
       "      <td>171</td>\n",
       "      <td>168</td>\n",
       "      <td>169</td>\n",
       "      <td>166</td>\n",
       "      <td>156</td>\n",
       "      <td>138</td>\n",
       "      <td>115</td>\n",
       "      <td>100</td>\n",
       "      <td>90</td>\n",
       "      <td>1</td>\n",
       "    </tr>\n",
       "    <tr>\n",
       "      <th>18790</th>\n",
       "      <td>85</td>\n",
       "      <td>87</td>\n",
       "      <td>84</td>\n",
       "      <td>81</td>\n",
       "      <td>83</td>\n",
       "      <td>84</td>\n",
       "      <td>87</td>\n",
       "      <td>89</td>\n",
       "      <td>91</td>\n",
       "      <td>92</td>\n",
       "      <td>...</td>\n",
       "      <td>70</td>\n",
       "      <td>43</td>\n",
       "      <td>28</td>\n",
       "      <td>82</td>\n",
       "      <td>40</td>\n",
       "      <td>34</td>\n",
       "      <td>75</td>\n",
       "      <td>87</td>\n",
       "      <td>52</td>\n",
       "      <td>1</td>\n",
       "    </tr>\n",
       "    <tr>\n",
       "      <th>16066</th>\n",
       "      <td>134</td>\n",
       "      <td>131</td>\n",
       "      <td>132</td>\n",
       "      <td>133</td>\n",
       "      <td>128</td>\n",
       "      <td>122</td>\n",
       "      <td>123</td>\n",
       "      <td>117</td>\n",
       "      <td>109</td>\n",
       "      <td>112</td>\n",
       "      <td>...</td>\n",
       "      <td>78</td>\n",
       "      <td>114</td>\n",
       "      <td>102</td>\n",
       "      <td>85</td>\n",
       "      <td>140</td>\n",
       "      <td>123</td>\n",
       "      <td>122</td>\n",
       "      <td>108</td>\n",
       "      <td>107</td>\n",
       "      <td>1</td>\n",
       "    </tr>\n",
       "  </tbody>\n",
       "</table>\n",
       "<p>5 rows × 10001 columns</p>\n",
       "</div>"
      ],
      "text/plain": [
       "         0    1    2    3    4    5    6    7    8    9  ...  9991  9992  \\\n",
       "4913    28   39   55   74   26   15   21   19    9   18  ...   203   207   \n",
       "9338   237  241  239  240  242  238  237  236  233  237  ...   168   158   \n",
       "24210  205  188  163  135  123  140  137  124  111  100  ...   171   168   \n",
       "18790   85   87   84   81   83   84   87   89   91   92  ...    70    43   \n",
       "16066  134  131  132  133  128  122  123  117  109  112  ...    78   114   \n",
       "\n",
       "       9993  9994  9995  9996  9997  9998  9999  10000  \n",
       "4913    206   205   205   206   199   194   192      0  \n",
       "9338    159   118   127   147   141   145   175      0  \n",
       "24210   169   166   156   138   115   100    90      1  \n",
       "18790    28    82    40    34    75    87    52      1  \n",
       "16066   102    85   140   123   122   108   107      1  \n",
       "\n",
       "[5 rows x 10001 columns]"
      ]
     },
     "execution_count": 18,
     "metadata": {},
     "output_type": "execute_result"
    }
   ],
   "source": [
    "train_set.head()"
   ]
  },
  {
   "cell_type": "code",
   "execution_count": 19,
   "metadata": {},
   "outputs": [
    {
     "data": {
      "text/html": [
       "<div>\n",
       "<style scoped>\n",
       "    .dataframe tbody tr th:only-of-type {\n",
       "        vertical-align: middle;\n",
       "    }\n",
       "\n",
       "    .dataframe tbody tr th {\n",
       "        vertical-align: top;\n",
       "    }\n",
       "\n",
       "    .dataframe thead th {\n",
       "        text-align: right;\n",
       "    }\n",
       "</style>\n",
       "<table border=\"1\" class=\"dataframe\">\n",
       "  <thead>\n",
       "    <tr style=\"text-align: right;\">\n",
       "      <th></th>\n",
       "      <th>0</th>\n",
       "      <th>1</th>\n",
       "      <th>2</th>\n",
       "      <th>3</th>\n",
       "      <th>4</th>\n",
       "      <th>5</th>\n",
       "      <th>6</th>\n",
       "      <th>7</th>\n",
       "      <th>8</th>\n",
       "      <th>9</th>\n",
       "      <th>...</th>\n",
       "      <th>9991</th>\n",
       "      <th>9992</th>\n",
       "      <th>9993</th>\n",
       "      <th>9994</th>\n",
       "      <th>9995</th>\n",
       "      <th>9996</th>\n",
       "      <th>9997</th>\n",
       "      <th>9998</th>\n",
       "      <th>9999</th>\n",
       "      <th>10000</th>\n",
       "    </tr>\n",
       "  </thead>\n",
       "  <tbody>\n",
       "    <tr>\n",
       "      <th>23922</th>\n",
       "      <td>142</td>\n",
       "      <td>160</td>\n",
       "      <td>141</td>\n",
       "      <td>146</td>\n",
       "      <td>162</td>\n",
       "      <td>159</td>\n",
       "      <td>167</td>\n",
       "      <td>168</td>\n",
       "      <td>169</td>\n",
       "      <td>168</td>\n",
       "      <td>...</td>\n",
       "      <td>21</td>\n",
       "      <td>21</td>\n",
       "      <td>20</td>\n",
       "      <td>18</td>\n",
       "      <td>20</td>\n",
       "      <td>19</td>\n",
       "      <td>21</td>\n",
       "      <td>23</td>\n",
       "      <td>23</td>\n",
       "      <td>1</td>\n",
       "    </tr>\n",
       "    <tr>\n",
       "      <th>3852</th>\n",
       "      <td>28</td>\n",
       "      <td>24</td>\n",
       "      <td>29</td>\n",
       "      <td>25</td>\n",
       "      <td>27</td>\n",
       "      <td>29</td>\n",
       "      <td>29</td>\n",
       "      <td>24</td>\n",
       "      <td>27</td>\n",
       "      <td>24</td>\n",
       "      <td>...</td>\n",
       "      <td>29</td>\n",
       "      <td>28</td>\n",
       "      <td>27</td>\n",
       "      <td>27</td>\n",
       "      <td>31</td>\n",
       "      <td>29</td>\n",
       "      <td>32</td>\n",
       "      <td>26</td>\n",
       "      <td>29</td>\n",
       "      <td>0</td>\n",
       "    </tr>\n",
       "    <tr>\n",
       "      <th>16283</th>\n",
       "      <td>213</td>\n",
       "      <td>225</td>\n",
       "      <td>223</td>\n",
       "      <td>220</td>\n",
       "      <td>235</td>\n",
       "      <td>230</td>\n",
       "      <td>243</td>\n",
       "      <td>209</td>\n",
       "      <td>241</td>\n",
       "      <td>229</td>\n",
       "      <td>...</td>\n",
       "      <td>255</td>\n",
       "      <td>248</td>\n",
       "      <td>241</td>\n",
       "      <td>198</td>\n",
       "      <td>240</td>\n",
       "      <td>231</td>\n",
       "      <td>224</td>\n",
       "      <td>225</td>\n",
       "      <td>221</td>\n",
       "      <td>1</td>\n",
       "    </tr>\n",
       "    <tr>\n",
       "      <th>4271</th>\n",
       "      <td>110</td>\n",
       "      <td>98</td>\n",
       "      <td>126</td>\n",
       "      <td>129</td>\n",
       "      <td>127</td>\n",
       "      <td>131</td>\n",
       "      <td>124</td>\n",
       "      <td>132</td>\n",
       "      <td>166</td>\n",
       "      <td>158</td>\n",
       "      <td>...</td>\n",
       "      <td>227</td>\n",
       "      <td>215</td>\n",
       "      <td>231</td>\n",
       "      <td>220</td>\n",
       "      <td>221</td>\n",
       "      <td>220</td>\n",
       "      <td>215</td>\n",
       "      <td>225</td>\n",
       "      <td>225</td>\n",
       "      <td>0</td>\n",
       "    </tr>\n",
       "    <tr>\n",
       "      <th>11337</th>\n",
       "      <td>216</td>\n",
       "      <td>209</td>\n",
       "      <td>198</td>\n",
       "      <td>215</td>\n",
       "      <td>204</td>\n",
       "      <td>175</td>\n",
       "      <td>214</td>\n",
       "      <td>221</td>\n",
       "      <td>216</td>\n",
       "      <td>202</td>\n",
       "      <td>...</td>\n",
       "      <td>150</td>\n",
       "      <td>111</td>\n",
       "      <td>112</td>\n",
       "      <td>123</td>\n",
       "      <td>125</td>\n",
       "      <td>141</td>\n",
       "      <td>150</td>\n",
       "      <td>147</td>\n",
       "      <td>208</td>\n",
       "      <td>0</td>\n",
       "    </tr>\n",
       "  </tbody>\n",
       "</table>\n",
       "<p>5 rows × 10001 columns</p>\n",
       "</div>"
      ],
      "text/plain": [
       "         0    1    2    3    4    5    6    7    8    9  ...  9991  9992  \\\n",
       "23922  142  160  141  146  162  159  167  168  169  168  ...    21    21   \n",
       "3852    28   24   29   25   27   29   29   24   27   24  ...    29    28   \n",
       "16283  213  225  223  220  235  230  243  209  241  229  ...   255   248   \n",
       "4271   110   98  126  129  127  131  124  132  166  158  ...   227   215   \n",
       "11337  216  209  198  215  204  175  214  221  216  202  ...   150   111   \n",
       "\n",
       "       9993  9994  9995  9996  9997  9998  9999  10000  \n",
       "23922    20    18    20    19    21    23    23      1  \n",
       "3852     27    27    31    29    32    26    29      0  \n",
       "16283   241   198   240   231   224   225   221      1  \n",
       "4271    231   220   221   220   215   225   225      0  \n",
       "11337   112   123   125   141   150   147   208      0  \n",
       "\n",
       "[5 rows x 10001 columns]"
      ]
     },
     "execution_count": 19,
     "metadata": {},
     "output_type": "execute_result"
    }
   ],
   "source": [
    "test_set.head()"
   ]
  },
  {
   "cell_type": "code",
   "execution_count": 62,
   "metadata": {},
   "outputs": [
    {
     "ename": "AttributeError",
     "evalue": "'numpy.ndarray' object has no attribute 'head'",
     "output_type": "error",
     "traceback": [
      "\u001b[1;31m---------------------------------------------------------------------------\u001b[0m",
      "\u001b[1;31mAttributeError\u001b[0m                            Traceback (most recent call last)",
      "\u001b[1;32m<ipython-input-62-d7262347bae1>\u001b[0m in \u001b[0;36m<module>\u001b[1;34m\u001b[0m\n\u001b[1;32m----> 1\u001b[1;33m \u001b[0mtest_set_dont_touch\u001b[0m\u001b[1;33m.\u001b[0m\u001b[0mhead\u001b[0m\u001b[1;33m(\u001b[0m\u001b[1;33m)\u001b[0m\u001b[1;33m\u001b[0m\u001b[1;33m\u001b[0m\u001b[0m\n\u001b[0m",
      "\u001b[1;31mAttributeError\u001b[0m: 'numpy.ndarray' object has no attribute 'head'"
     ]
    }
   ],
   "source": [
    "test_set_dont_touch.head()"
   ]
  },
  {
   "cell_type": "code",
   "execution_count": 20,
   "metadata": {},
   "outputs": [],
   "source": [
    "# changing the data type and spliiting into x,y\n",
    "train_set=np.array(train_set,dtype='float32')\n",
    "test_set=np.array(test_set,dtype='float32')\n",
    "test_set_dont_touch=np.array(test_set,dtype='float32')\n",
    "\n",
    "x_train_set=train_set[ : , 0:10000]\n",
    "y_train_set=train_set[ : , 10000]\n",
    "x_test_set=test_set[ : , 0:10000]\n",
    "y_test_set=test_set[ : , 10000]\n",
    "x_test_set_dont_touch=test_set_dont_touch[ : , 0:10000]\n",
    "y_test_set_dont_touch=test_set_dont_touch[ : , 10000]"
   ]
  },
  {
   "cell_type": "code",
   "execution_count": 21,
   "metadata": {},
   "outputs": [
    {
     "data": {
      "text/plain": [
       "array([[ 28.,  39.,  55., ..., 199., 194., 192.],\n",
       "       [237., 241., 239., ..., 141., 145., 175.],\n",
       "       [205., 188., 163., ..., 115., 100.,  90.],\n",
       "       ...,\n",
       "       [ 65.,  71.,  67., ...,  40.,  41.,  31.],\n",
       "       [142., 164., 128., ..., 114., 119., 157.],\n",
       "       [111.,  73.,  60., ...,  18.,  22.,  19.]], dtype=float32)"
      ]
     },
     "execution_count": 21,
     "metadata": {},
     "output_type": "execute_result"
    }
   ],
   "source": [
    "x_train_set"
   ]
  },
  {
   "cell_type": "code",
   "execution_count": 22,
   "metadata": {},
   "outputs": [
    {
     "data": {
      "text/plain": [
       "array([0., 0., 1., ..., 0., 1., 1.], dtype=float32)"
      ]
     },
     "execution_count": 22,
     "metadata": {},
     "output_type": "execute_result"
    }
   ],
   "source": [
    "y_train_set"
   ]
  },
  {
   "cell_type": "code",
   "execution_count": 23,
   "metadata": {},
   "outputs": [
    {
     "data": {
      "text/plain": [
       "array([[142., 160., 141., ...,  21.,  23.,  23.],\n",
       "       [ 28.,  24.,  29., ...,  32.,  26.,  29.],\n",
       "       [213., 225., 223., ..., 224., 225., 221.],\n",
       "       ...,\n",
       "       [129., 136.,  93., ..., 139., 153., 134.],\n",
       "       [ 68.,  67.,  81., ...,  37.,  35.,  37.],\n",
       "       [ 80.,  85.,  91., ...,  65.,  66.,  69.]], dtype=float32)"
      ]
     },
     "execution_count": 23,
     "metadata": {},
     "output_type": "execute_result"
    }
   ],
   "source": [
    "x_test_set"
   ]
  },
  {
   "cell_type": "code",
   "execution_count": 24,
   "metadata": {},
   "outputs": [
    {
     "data": {
      "text/plain": [
       "array([1., 0., 1., ..., 1., 0., 1.], dtype=float32)"
      ]
     },
     "execution_count": 24,
     "metadata": {},
     "output_type": "execute_result"
    }
   ],
   "source": [
    "y_test_set"
   ]
  },
  {
   "cell_type": "code",
   "execution_count": 68,
   "metadata": {},
   "outputs": [
    {
     "data": {
      "text/plain": [
       "<matplotlib.image.AxesImage at 0x1db0784d790>"
      ]
     },
     "execution_count": 68,
     "metadata": {},
     "output_type": "execute_result"
    },
    {
     "data": {
      "image/png": "[encoded data removed]",
      "text/plain": [
       "<Figure size 432x288 with 1 Axes>"
      ]
     },
     "metadata": {
      "needs_background": "light"
     },
     "output_type": "display_data"
    }
   ],
   "source": [
    "image1=x_train_set[7, :].reshape((100,100))\n",
    "plt.imshow(image1)"
   ]
  },
  {
   "cell_type": "code",
   "execution_count": 63,
   "metadata": {},
   "outputs": [
    {
     "data": {
      "text/plain": [
       "<matplotlib.image.AxesImage at 0x1db0aefdc40>"
      ]
     },
     "execution_count": 63,
     "metadata": {},
     "output_type": "execute_result"
    },
    {
     "data": {
      "image/png": "[encoded data removed]",
      "text/plain": [
       "<Figure size 432x288 with 1 Axes>"
      ]
     },
     "metadata": {
      "needs_background": "light"
     },
     "output_type": "display_data"
    }
   ],
   "source": [
    "image1=x_train_set[1, :].reshape((100,100))\n",
    "plt.imshow(image1)"
   ]
  },
  {
   "cell_type": "code",
   "execution_count": 27,
   "metadata": {},
   "outputs": [],
   "source": [
    "# function to represent the confussion matrix nicely\n",
    "\n",
    "def confussion_matrix (cf_matrix):\n",
    "    group_names = ['true pos', 'false pos', 'false neg', 'true neg']\n",
    "    group_counts = [\"{0:0.0f}\".format(value) for value in cf_matrix.flatten()]\n",
    "    group_percentages = [\"{0:.2%}\".format(value) for value in cf_matrix.flatten()/np.sum(cf_matrix)]\n",
    "    labels = [f\"{v1}\\n{v2}\\n{v3}\" for v1, v2, v3 in zip(group_names,group_counts,group_percentages)]\n",
    "    labels = np.asarray(labels).reshape(2,2)\n",
    "    sns.heatmap(cf_matrix, annot=labels, fmt='', cmap='Oranges')  "
   ]
  },
  {
   "cell_type": "code",
   "execution_count": null,
   "metadata": {},
   "outputs": [],
   "source": []
  },
  {
   "cell_type": "code",
   "execution_count": 28,
   "metadata": {},
   "outputs": [],
   "source": [
    "pca1=PCA(n_components=0.9)\n",
    "x_train_reduced1=pca1.fit_transform(x_train_set)\n",
    "x_test_reduced1=pca1.transform(x_test_set)"
   ]
  },
  {
   "cell_type": "code",
   "execution_count": 29,
   "metadata": {},
   "outputs": [
    {
     "data": {
      "text/plain": [
       "331"
      ]
     },
     "execution_count": 29,
     "metadata": {},
     "output_type": "execute_result"
    }
   ],
   "source": [
    "pca1.n_components_"
   ]
  },
  {
   "cell_type": "code",
   "execution_count": 70,
   "metadata": {},
   "outputs": [
    {
     "data": {
      "text/plain": [
       "array([ 5, 10, 15, 20, 25, 30, 35, 40, 45, 50, 55])"
      ]
     },
     "execution_count": 70,
     "metadata": {},
     "output_type": "execute_result"
    }
   ],
   "source": [
    "arr=np.arange(5,60,5)\n",
    "arr"
   ]
  },
  {
   "cell_type": "code",
   "execution_count": null,
   "metadata": {},
   "outputs": [
    {
     "name": "stdout",
     "output_type": "stream",
     "text": [
      "5 0.5984\n"
     ]
    }
   ],
   "source": [
    "for x in arr:\n",
    "    knn_x=KNeighborsClassifier(n_neighbors=x)\n",
    "    knn_x.fit(x_train_reduced1, y_train_set)\n",
    "    y_pred_knn_x=knn_x.predict(x_test_reduced1)\n",
    "    accuracy_knn_x=metrics.accuracy_score(y_test_set, y_pred_knn_x)\n",
    "    print (x,accuracy_knn_x )"
   ]
  },
  {
   "cell_type": "code",
   "execution_count": 30,
   "metadata": {},
   "outputs": [
    {
     "data": {
      "text/plain": [
       "0.6269333333333333"
      ]
     },
     "execution_count": 30,
     "metadata": {},
     "output_type": "execute_result"
    }
   ],
   "source": [
    "knn1 = KNeighborsClassifier(n_neighbors=27)\n",
    "knn1.fit(x_train_reduced1, y_train_set)\n",
    "y_pred_knn1=knn1.predict(x_test_reduced1)\n",
    "accuracy_knn1=metrics.accuracy_score(y_test_set, y_pred_knn1)\n",
    "accuracy_knn1"
   ]
  },
  {
   "cell_type": "code",
   "execution_count": 31,
   "metadata": {},
   "outputs": [
    {
     "data": {
      "image/png": "[encoded data removed]",
      "text/plain": [
       "<Figure size 432x288 with 2 Axes>"
      ]
     },
     "metadata": {
      "needs_background": "light"
     },
     "output_type": "display_data"
    }
   ],
   "source": [
    "mat_knn1=confusion_matrix(y_test_set, y_pred_knn1)\n",
    "confussion_matrix(mat_knn1)"
   ]
  },
  {
   "cell_type": "code",
   "execution_count": 32,
   "metadata": {},
   "outputs": [
    {
     "name": "stdout",
     "output_type": "stream",
     "text": [
      "precision_score_knn: 0.6113602391629297\n",
      "recall_score_knn: 0.6646803900325027\n",
      "f1_score_knn: 0.6369063067739423\n"
     ]
    }
   ],
   "source": [
    "print(\"precision_score_knn:\",precision_score(y_test_set, y_pred_knn1)) \n",
    "print(\"recall_score_knn:\",recall_score(y_test_set, y_pred_knn1))\n",
    "print(\"f1_score_knn:\",f1_score(y_test_set, y_pred_knn1))"
   ]
  },
  {
   "cell_type": "code",
   "execution_count": 33,
   "metadata": {},
   "outputs": [
    {
     "name": "stdout",
     "output_type": "stream",
     "text": [
      "[0.60142857 0.60057143 0.606      0.61742857 0.60045727] mean: 0.6051771689870575\n"
     ]
    }
   ],
   "source": [
    "#cross validation\n",
    "cv_scores_knn1=cross_val_score(knn1, x_train_reduced1, y_train_set, cv=5, scoring=\"accuracy\")\n",
    "print(cv_scores_knn1, \"mean:\", np.mean(cv_scores_knn1))"
   ]
  },
  {
   "cell_type": "code",
   "execution_count": null,
   "metadata": {},
   "outputs": [],
   "source": []
  },
  {
   "cell_type": "code",
   "execution_count": 34,
   "metadata": {},
   "outputs": [
    {
     "data": {
      "text/plain": [
       "0.652"
      ]
     },
     "execution_count": 34,
     "metadata": {},
     "output_type": "execute_result"
    }
   ],
   "source": [
    "XG1=XGBClassifier(n_estimators=400, max_depth=2, eta=0.1, subsample=0.7, colsample_bytree=0.8,\n",
    "                 use_label_encoder =False,eval_metric = \"logloss\")\n",
    "XG1.fit(x_train_reduced1, y_train_set)\n",
    "y_pred_XG1=XG1.predict(x_test_reduced1)\n",
    "accuracy_XG1=metrics.accuracy_score(y_test_set, y_pred_XG1)\n",
    "accuracy_XG1"
   ]
  },
  {
   "cell_type": "code",
   "execution_count": 35,
   "metadata": {},
   "outputs": [
    {
     "data": {
      "image/png": "[encoded data removed]",
      "text/plain": [
       "<Figure size 432x288 with 2 Axes>"
      ]
     },
     "metadata": {
      "needs_background": "light"
     },
     "output_type": "display_data"
    }
   ],
   "source": [
    "mat_XG1=confusion_matrix(y_test_set, y_pred_XG1)\n",
    "confussion_matrix(mat_XG1)"
   ]
  },
  {
   "cell_type": "code",
   "execution_count": 36,
   "metadata": {},
   "outputs": [
    {
     "name": "stdout",
     "output_type": "stream",
     "text": [
      "precision_score_XG1: 0.645822102425876\n",
      "recall_score_XG1: 0.6489707475622969\n",
      "f1_score_XG1: 0.6473925965955147\n"
     ]
    }
   ],
   "source": [
    "print(\"precision_score_XG1:\",precision_score(y_test_set, y_pred_XG1)) \n",
    "print(\"recall_score_XG1:\",recall_score(y_test_set, y_pred_XG1))\n",
    "print(\"f1_score_XG1:\",f1_score(y_test_set, y_pred_XG1))"
   ]
  },
  {
   "cell_type": "code",
   "execution_count": 37,
   "metadata": {},
   "outputs": [
    {
     "name": "stdout",
     "output_type": "stream",
     "text": [
      "[0.63028571 0.63542857 0.61771429 0.63628571 0.64675622] mean: 0.6332941003552035\n"
     ]
    }
   ],
   "source": [
    "#cross validation\n",
    "cv_scores_XG1=cross_val_score(XG1, x_train_reduced1, y_train_set, cv=5, scoring=\"accuracy\")\n",
    "print(cv_scores_XG1, \"mean:\", np.mean(cv_scores_XG1))"
   ]
  },
  {
   "cell_type": "code",
   "execution_count": null,
   "metadata": {},
   "outputs": [],
   "source": []
  },
  {
   "cell_type": "code",
   "execution_count": null,
   "metadata": {},
   "outputs": [],
   "source": []
  },
  {
   "cell_type": "code",
   "execution_count": null,
   "metadata": {},
   "outputs": [],
   "source": []
  },
  {
   "cell_type": "code",
   "execution_count": 38,
   "metadata": {},
   "outputs": [],
   "source": [
    "pca2=PCA(n_components=0.8)\n",
    "x_train_reduced2=pca2.fit_transform(x_train_set)\n",
    "x_train_recovered2=pca2.inverse_transform(x_train_reduced2)\n",
    "x_test_reduced2=pca2.transform(x_test_set)\n",
    "x_test_recovered2=pca2.inverse_transform(x_test_reduced2)"
   ]
  },
  {
   "cell_type": "code",
   "execution_count": 39,
   "metadata": {},
   "outputs": [
    {
     "data": {
      "text/plain": [
       "72"
      ]
     },
     "execution_count": 39,
     "metadata": {},
     "output_type": "execute_result"
    }
   ],
   "source": [
    "pca2.n_components_"
   ]
  },
  {
   "cell_type": "code",
   "execution_count": 40,
   "metadata": {},
   "outputs": [
    {
     "data": {
      "text/plain": [
       "0.6218666666666667"
      ]
     },
     "execution_count": 40,
     "metadata": {},
     "output_type": "execute_result"
    }
   ],
   "source": [
    "knn2 = KNeighborsClassifier(n_neighbors=16)\n",
    "knn2.fit(x_train_recovered2, y_train_set)\n",
    "y_pred_knn2=knn2.predict(x_test_recovered2)\n",
    "accuracy_knn2=metrics.accuracy_score(y_test_set, y_pred_knn2)\n",
    "accuracy_knn2"
   ]
  },
  {
   "cell_type": "code",
   "execution_count": 41,
   "metadata": {},
   "outputs": [
    {
     "data": {
      "image/png": "[encoded data removed]",
      "text/plain": [
       "<Figure size 432x288 with 2 Axes>"
      ]
     },
     "metadata": {
      "needs_background": "light"
     },
     "output_type": "display_data"
    }
   ],
   "source": [
    "mat_knn2=confusion_matrix(y_test_set, y_pred_knn2)\n",
    "confussion_matrix(mat_knn2)"
   ]
  },
  {
   "cell_type": "code",
   "execution_count": 42,
   "metadata": {},
   "outputs": [
    {
     "name": "stdout",
     "output_type": "stream",
     "text": [
      "precision_score_knn2: 0.6118077324973876\n",
      "recall_score_knn2: 0.6343445287107259\n",
      "f1_score_knn2: 0.622872340425532\n"
     ]
    }
   ],
   "source": [
    "print(\"precision_score_knn2:\",precision_score(y_test_set, y_pred_knn2)) \n",
    "print(\"recall_score_knn2:\",recall_score(y_test_set, y_pred_knn2))\n",
    "print(\"f1_score_knn2:\",f1_score(y_test_set, y_pred_knn2))"
   ]
  },
  {
   "cell_type": "code",
   "execution_count": 43,
   "metadata": {},
   "outputs": [
    {
     "name": "stdout",
     "output_type": "stream",
     "text": [
      "[0.61114286 0.60428571 0.59685714 0.60628571 0.59531295] mean: 0.6027768750255176\n"
     ]
    }
   ],
   "source": [
    "#cross validation\n",
    "cv_scores_knn2=cross_val_score(knn2, x_train_reduced2, y_train_set, cv=5, scoring=\"accuracy\")\n",
    "print(cv_scores_knn2, \"mean:\", np.mean(cv_scores_knn2))"
   ]
  },
  {
   "cell_type": "code",
   "execution_count": null,
   "metadata": {},
   "outputs": [],
   "source": []
  },
  {
   "cell_type": "code",
   "execution_count": 44,
   "metadata": {},
   "outputs": [
    {
     "data": {
      "text/plain": [
       "0.6256"
      ]
     },
     "execution_count": 44,
     "metadata": {},
     "output_type": "execute_result"
    }
   ],
   "source": [
    "XG2=XGBClassifier(n_estimators=400, max_depth=2, eta=0.1, subsample=0.7, colsample_bytree=0.8,\n",
    "                 use_label_encoder =False,eval_metric = \"logloss\")\n",
    "XG2.fit(x_train_reduced2, y_train_set)\n",
    "y_pred_XG2=XG2.predict(x_test_reduced2)\n",
    "accuracy_XG2=metrics.accuracy_score(y_test_set, y_pred_XG2)\n",
    "accuracy_XG2"
   ]
  },
  {
   "cell_type": "code",
   "execution_count": 45,
   "metadata": {},
   "outputs": [
    {
     "data": {
      "image/png": "[encoded data removed]",
      "text/plain": [
       "<Figure size 432x288 with 2 Axes>"
      ]
     },
     "metadata": {
      "needs_background": "light"
     },
     "output_type": "display_data"
    }
   ],
   "source": [
    "mat_XG2=confusion_matrix(y_test_set, y_pred_XG2)\n",
    "confussion_matrix(mat_XG2)"
   ]
  },
  {
   "cell_type": "code",
   "execution_count": 46,
   "metadata": {},
   "outputs": [
    {
     "name": "stdout",
     "output_type": "stream",
     "text": [
      "precision_score_XG2: 0.612410986775178\n",
      "recall_score_XG2: 0.6522210184182016\n",
      "f1_score_XG2: 0.6316894018887722\n"
     ]
    }
   ],
   "source": [
    "print(\"precision_score_XG2:\",precision_score(y_test_set, y_pred_XG2)) \n",
    "print(\"recall_score_XG2:\",recall_score(y_test_set, y_pred_XG2))\n",
    "print(\"f1_score_XG2:\",f1_score(y_test_set, y_pred_XG2))"
   ]
  },
  {
   "cell_type": "code",
   "execution_count": 47,
   "metadata": {},
   "outputs": [
    {
     "name": "stdout",
     "output_type": "stream",
     "text": [
      "[0.63942857 0.63057143 0.62142857 0.62742857 0.62103458] mean: 0.6279783448332176\n"
     ]
    }
   ],
   "source": [
    "#cross validation\n",
    "cv_scores_XG2=cross_val_score(XG2, x_train_reduced2, y_train_set, cv=5, scoring=\"accuracy\")\n",
    "print(cv_scores_XG2, \"mean:\", np.mean(cv_scores_XG2))"
   ]
  },
  {
   "cell_type": "code",
   "execution_count": null,
   "metadata": {},
   "outputs": [],
   "source": []
  },
  {
   "cell_type": "code",
   "execution_count": null,
   "metadata": {},
   "outputs": [],
   "source": []
  },
  {
   "cell_type": "code",
   "execution_count": 48,
   "metadata": {},
   "outputs": [],
   "source": [
    "pca3=PCA(n_components=0.7)\n",
    "x_train_reduced3=pca3.fit_transform(x_train_set)\n",
    "x_train_recovered3=pca3.inverse_transform(x_train_reduced3)\n",
    "x_test_reduced3=pca3.transform(x_test_set)\n",
    "x_test_recovered3=pca3.inverse_transform(x_test_reduced3)"
   ]
  },
  {
   "cell_type": "code",
   "execution_count": 49,
   "metadata": {},
   "outputs": [
    {
     "data": {
      "text/plain": [
       "25"
      ]
     },
     "execution_count": 49,
     "metadata": {},
     "output_type": "execute_result"
    }
   ],
   "source": [
    "pca3.n_components_"
   ]
  },
  {
   "cell_type": "code",
   "execution_count": 69,
   "metadata": {},
   "outputs": [
    {
     "data": {
      "text/plain": [
       "array([ 5, 10, 15, 20, 25, 30, 35, 40, 45, 50, 55])"
      ]
     },
     "execution_count": 69,
     "metadata": {},
     "output_type": "execute_result"
    }
   ],
   "source": [
    "arr=np.arange(5,60,5)\n",
    "arr"
   ]
  },
  {
   "cell_type": "code",
   "execution_count": 51,
   "metadata": {},
   "outputs": [
    {
     "name": "stdout",
     "output_type": "stream",
     "text": [
      "5 0.5954666666666667\n",
      "10 0.6197333333333334\n",
      "15 0.6173333333333333\n",
      "20 0.6298666666666667\n",
      "25 0.6178666666666667\n",
      "30 0.6264\n",
      "35 0.6229333333333333\n",
      "40 0.6232\n",
      "45 0.6176\n",
      "50 0.6264\n",
      "55 0.6189333333333333\n",
      "60 0.624\n",
      "65 0.6130666666666666\n",
      "70 0.6176\n",
      "75 0.612\n",
      "80 0.6168\n",
      "85 0.6085333333333334\n",
      "90 0.6125333333333334\n",
      "95 0.6061333333333333\n",
      "100 0.6112\n",
      "105 0.6074666666666667\n",
      "110 0.6085333333333334\n",
      "115 0.6061333333333333\n",
      "120 0.6072\n",
      "125 0.6058666666666667\n",
      "130 0.6069333333333333\n",
      "135 0.6042666666666666\n",
      "140 0.6066666666666667\n",
      "145 0.6024\n",
      "150 0.6058666666666667\n",
      "155 0.6016\n",
      "160 0.6050666666666666\n",
      "165 0.5981333333333333\n",
      "170 0.5986666666666667\n",
      "175 0.6018666666666667\n",
      "180 0.6026666666666667\n",
      "185 0.5973333333333334\n",
      "190 0.6013333333333334\n",
      "195 0.5954666666666667\n",
      "200 0.5986666666666667\n",
      "205 0.5970666666666666\n",
      "210 0.5954666666666667\n",
      "215 0.5930666666666666\n",
      "220 0.5933333333333334\n",
      "225 0.5957333333333333\n",
      "230 0.5944\n",
      "235 0.5962666666666666\n",
      "240 0.5981333333333333\n",
      "245 0.5936\n",
      "250 0.5944\n",
      "255 0.5933333333333334\n",
      "260 0.596\n",
      "265 0.5896\n",
      "270 0.5917333333333333\n",
      "275 0.5909333333333333\n",
      "280 0.5896\n",
      "285 0.5906666666666667\n",
      "290 0.5904\n",
      "295 0.5906666666666667\n",
      "300 0.5893333333333334\n",
      "305 0.5896\n",
      "310 0.5888\n",
      "315 0.5856\n",
      "320 0.5882666666666667\n",
      "325 0.5885333333333334\n",
      "330 0.5914666666666667\n",
      "335 0.5869333333333333\n",
      "340 0.5896\n",
      "345 0.5877333333333333\n",
      "350 0.5888\n",
      "355 0.5861333333333333\n",
      "360 0.5858666666666666\n",
      "365 0.5853333333333334\n",
      "370 0.5856\n",
      "375 0.5850666666666666\n",
      "380 0.5853333333333334\n",
      "385 0.5824\n",
      "390 0.5864\n",
      "395 0.5842666666666667\n",
      "400 0.5848\n",
      "405 0.5842666666666667\n",
      "410 0.5874666666666667\n",
      "415 0.584\n",
      "420 0.5866666666666667\n",
      "425 0.5866666666666667\n",
      "430 0.5848\n",
      "435 0.5853333333333334\n",
      "440 0.5850666666666666\n",
      "445 0.5834666666666667\n",
      "450 0.5826666666666667\n",
      "455 0.5837333333333333\n",
      "460 0.5834666666666667\n",
      "465 0.584\n",
      "470 0.5832\n",
      "475 0.5829333333333333\n",
      "480 0.5832\n",
      "485 0.5821333333333333\n",
      "490 0.5818666666666666\n",
      "495 0.5802666666666667\n",
      "500 0.5810666666666666\n"
     ]
    }
   ],
   "source": [
    "for x in arr:\n",
    "    knn_x=KNeighborsClassifier(n_neighbors=x)\n",
    "    knn_x.fit(x_train_reduced3, y_train_set)\n",
    "    y_pred_knn_x=knn_x.predict(x_test_reduced3)\n",
    "    accuracy_knn_x=metrics.accuracy_score(y_test_set, y_pred_knn_x)\n",
    "    print (x,accuracy_knn_x )"
   ]
  },
  {
   "cell_type": "code",
   "execution_count": 61,
   "metadata": {},
   "outputs": [
    {
     "name": "stdout",
     "output_type": "stream",
     "text": [
      "10 0.6197333333333334\n",
      "11 0.6106666666666667\n",
      "12 0.6234666666666666\n",
      "13 0.6130666666666666\n",
      "14 0.6237333333333334\n",
      "15 0.6173333333333333\n",
      "16 0.6253333333333333\n",
      "17 0.6242666666666666\n",
      "18 0.6314666666666666\n",
      "19 0.6232\n",
      "20 0.6298666666666667\n",
      "21 0.6189333333333333\n",
      "22 0.6245333333333334\n",
      "23 0.6178666666666667\n",
      "24 0.6208\n",
      "25 0.6178666666666667\n",
      "26 0.6245333333333334\n",
      "27 0.6186666666666667\n",
      "28 0.6232\n",
      "29 0.6170666666666667\n"
     ]
    }
   ],
   "source": [
    "for x in range(10,30):\n",
    "    knn_x=KNeighborsClassifier(n_neighbors=x)\n",
    "    knn_x.fit(x_train_reduced3, y_train_set)\n",
    "    y_pred_knn_x=knn_x.predict(x_test_reduced3)\n",
    "    accuracy_knn_x=metrics.accuracy_score(y_test_set, y_pred_knn_x)\n",
    "    print (x,accuracy_knn_x )  "
   ]
  },
  {
   "cell_type": "code",
   "execution_count": null,
   "metadata": {},
   "outputs": [],
   "source": []
  },
  {
   "cell_type": "code",
   "execution_count": null,
   "metadata": {},
   "outputs": [],
   "source": []
  },
  {
   "cell_type": "code",
   "execution_count": 53,
   "metadata": {},
   "outputs": [
    {
     "data": {
      "text/plain": [
       "0.6253333333333333"
      ]
     },
     "execution_count": 53,
     "metadata": {},
     "output_type": "execute_result"
    }
   ],
   "source": [
    "knn3 = KNeighborsClassifier(n_neighbors=16)\n",
    "knn3.fit(x_train_reduced3, y_train_set)\n",
    "y_pred_knn3=knn3.predict(x_test_reduced3)\n",
    "accuracy_knn3=metrics.accuracy_score(y_test_set, y_pred_knn3)\n",
    "accuracy_knn3"
   ]
  },
  {
   "cell_type": "code",
   "execution_count": 54,
   "metadata": {},
   "outputs": [
    {
     "data": {
      "image/png": "[encoded data removed]",
      "text/plain": [
       "<Figure size 432x288 with 2 Axes>"
      ]
     },
     "metadata": {
      "needs_background": "light"
     },
     "output_type": "display_data"
    }
   ],
   "source": [
    "mat_knn3=confusion_matrix(y_test_set, y_pred_knn3)\n",
    "confussion_matrix(mat_knn3)"
   ]
  },
  {
   "cell_type": "code",
   "execution_count": 55,
   "metadata": {},
   "outputs": [
    {
     "name": "stdout",
     "output_type": "stream",
     "text": [
      "precision_score_knn3: 0.6081412457086808\n",
      "recall_score_knn3: 0.6717226435536294\n",
      "f1_score_knn3: 0.6383526383526383\n"
     ]
    }
   ],
   "source": [
    "print(\"precision_score_knn3:\",precision_score(y_test_set, y_pred_knn3)) \n",
    "print(\"recall_score_knn3:\",recall_score(y_test_set, y_pred_knn3))\n",
    "print(\"f1_score_knn3:\",f1_score(y_test_set, y_pred_knn3))"
   ]
  },
  {
   "cell_type": "code",
   "execution_count": 56,
   "metadata": {},
   "outputs": [
    {
     "name": "stdout",
     "output_type": "stream",
     "text": [
      "[0.602      0.60228571 0.61371429 0.616      0.59502715] mean: 0.6058054301228923\n"
     ]
    }
   ],
   "source": [
    "#cross validation\n",
    "cv_scores_knn3=cross_val_score(knn3, x_train_reduced3, y_train_set, cv=5, scoring=\"accuracy\")\n",
    "print(cv_scores_knn3, \"mean:\", np.mean(cv_scores_knn3))"
   ]
  },
  {
   "cell_type": "code",
   "execution_count": null,
   "metadata": {},
   "outputs": [],
   "source": []
  },
  {
   "cell_type": "code",
   "execution_count": 57,
   "metadata": {},
   "outputs": [
    {
     "data": {
      "text/plain": [
       "0.6330666666666667"
      ]
     },
     "execution_count": 57,
     "metadata": {},
     "output_type": "execute_result"
    }
   ],
   "source": [
    "XG3=XGBClassifier(n_estimators=400, max_depth=2, eta=0.1, subsample=0.7, colsample_bytree=0.8,\n",
    "                 use_label_encoder =False,eval_metric = \"logloss\")\n",
    "XG3.fit(x_train_recovered3, y_train_set)\n",
    "y_pred_XG3=XG3.predict(x_test_recovered3)\n",
    "accuracy_XG3=metrics.accuracy_score(y_test_set, y_pred_XG3)\n",
    "accuracy_XG3"
   ]
  },
  {
   "cell_type": "code",
   "execution_count": 58,
   "metadata": {},
   "outputs": [
    {
     "data": {
      "image/png": "[encoded data removed]",
      "text/plain": [
       "<Figure size 432x288 with 2 Axes>"
      ]
     },
     "metadata": {
      "needs_background": "light"
     },
     "output_type": "display_data"
    }
   ],
   "source": [
    "mat_XG3=confusion_matrix(y_test_set, y_pred_XG3)\n",
    "confussion_matrix(mat_XG3)"
   ]
  },
  {
   "cell_type": "code",
   "execution_count": 59,
   "metadata": {},
   "outputs": [
    {
     "name": "stdout",
     "output_type": "stream",
     "text": [
      "precision_score_XG3: 0.6128722382324687\n",
      "recall_score_XG3: 0.6912242686890574\n",
      "f1_score_XG3: 0.6496945010183299\n"
     ]
    }
   ],
   "source": [
    "print(\"precision_score_XG3:\",precision_score(y_test_set, y_pred_XG3)) \n",
    "print(\"recall_score_XG3:\",recall_score(y_test_set, y_pred_XG3))\n",
    "print(\"f1_score_XG3:\",f1_score(y_test_set, y_pred_XG3))"
   ]
  },
  {
   "cell_type": "code",
   "execution_count": 60,
   "metadata": {},
   "outputs": [
    {
     "name": "stdout",
     "output_type": "stream",
     "text": [
      "[0.62685714 0.62714286 0.62114286 0.63457143 0.62103458] mean: 0.6261497734046462\n"
     ]
    }
   ],
   "source": [
    "#cross validation\n",
    "cv_scores_XG3=cross_val_score(XG3, x_train_reduced3, y_train_set, cv=5, scoring=\"accuracy\")\n",
    "print(cv_scores_XG3, \"mean:\", np.mean(cv_scores_XG3))"
   ]
  },
  {
   "cell_type": "code",
   "execution_count": null,
   "metadata": {},
   "outputs": [],
   "source": []
  }
 ],
 "metadata": {
  "kernelspec": {
   "display_name": "Python 3",
   "language": "python",
   "name": "python3"
  },
  "language_info": {
   "codemirror_mode": {
    "name": "ipython",
    "version": 3
   },
   "file_extension": ".py",
   "mimetype": "text/x-python",
   "name": "python",
   "nbconvert_exporter": "python",
   "pygments_lexer": "ipython3",
   "version": "3.8.3"
  }
 },
 "nbformat": 4,
 "nbformat_minor": 4
}

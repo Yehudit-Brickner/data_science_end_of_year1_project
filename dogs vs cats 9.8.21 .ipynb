{
 "cells": [
  {
   "cell_type": "markdown",
   "metadata": {},
   "source": [
    "data science end of year project part 3 cats vs dogs 9.8.21"
   ]
  },
  {
   "cell_type": "code",
   "execution_count": 1,
   "metadata": {},
   "outputs": [],
   "source": [
    "#all the imports that i will need \n",
    "import numpy as np\n",
    "import pandas as pd\n",
    "import matplotlib.pyplot as plt\n",
    "import seaborn as sns\n",
    "from sklearn.model_selection import train_test_split\n",
    "from sklearn.decomposition import PCA\n",
    "import warnings\n",
    "warnings.filterwarnings(action='ignore', category=UserWarning)\n",
    "from sklearn.model_selection import cross_val_score \n",
    "from sklearn.model_selection import cross_val_predict  \n",
    "from sklearn.metrics import confusion_matrix\n",
    "from sklearn.metrics import precision_score, recall_score  \n",
    "from sklearn.metrics import f1_score  \n",
    "from sklearn.metrics import accuracy_score\n",
    "from sklearn import metrics\n",
    "from sklearn.neighbors import KNeighborsClassifier\n",
    "from xgboost import XGBClassifier\n",
    "from sklearn.ensemble import RandomForestClassifier"
   ]
  },
  {
   "cell_type": "code",
   "execution_count": 2,
   "metadata": {},
   "outputs": [],
   "source": [
    "import os\n",
    "import cv2"
   ]
  },
  {
   "cell_type": "markdown",
   "metadata": {},
   "source": [
    "in the next 4 cells i will be importing the data from picture form.\n",
    "<br>when i import the pictures i will be changing the size to 100x100 pixcels and making them gray scale.\n",
    "<br>because i dont want this done every time i rerun the notebook the next cells will be text because the code has alteady been run. "
   ]
  },
  {
   "cell_type": "code",
   "execution_count": 3,
   "metadata": {},
   "outputs": [],
   "source": [
    "# train_dir=r'C:\\Users\\nechd\\Desktop\\train1'\n",
    "# test_dir=r'C:\\Users\\nechd\\Desktop\\test1'\n",
    "# image_size=100"
   ]
  },
  {
   "cell_type": "code",
   "execution_count": 4,
   "metadata": {},
   "outputs": [],
   "source": [
    "#def label_img(img):\n",
    "#    word_label=img.split('.')[-3]\n",
    "#    if word_label=='cat':return [0]\n",
    "#    elif word_label =='dog':return [1]"
   ]
  },
  {
   "cell_type": "code",
   "execution_count": 5,
   "metadata": {},
   "outputs": [],
   "source": [
    "#def create_train_data():\n",
    "#    training_data=[]\n",
    "#    for img in (os.listdir(train_dir)):\n",
    "#        label=label_img(img)\n",
    "#        path=os.path.join(train_dir,img)\n",
    "#        img=cv2.resize(cv2.imread(path,cv2.IMREAD_GRAYSCALE),(image_size,image_size))\n",
    "#        training_data.append([img,label])\n",
    "#    np.save('train_data.npy',training_data)\n",
    "#    return training_data"
   ]
  },
  {
   "cell_type": "code",
   "execution_count": 6,
   "metadata": {},
   "outputs": [],
   "source": [
    "# train_data=create_train_data()"
   ]
  },
  {
   "cell_type": "markdown",
   "metadata": {},
   "source": [
    "in the next 5 cells i will be taking the data and putting into a dataframe format then save it on the computer and reupload it.\n",
    "<br> because i dont want this done every time i rerun the notebook the next cells will be text because the code has already been run. "
   ]
  },
  {
   "cell_type": "code",
   "execution_count": 7,
   "metadata": {},
   "outputs": [],
   "source": [
    "# def create_pic_row(y):\n",
    "#    df3=pd.DataFrame(train_data[y][0][0])\n",
    "#    for x in range (1,100):\n",
    "#        df2=pd.DataFrame(train_data[y][0][x])\n",
    "#        df3= df3.append(df2)\n",
    "#    df5=pd.DataFrame(train_data[y][1])\n",
    "#    df3= df3.append(df5)\n",
    "#    df3=df3.T\n",
    "#    return df3"
   ]
  },
  {
   "cell_type": "code",
   "execution_count": 8,
   "metadata": {},
   "outputs": [],
   "source": [
    "#data=create_pic_row(0)\n",
    "#for y in range(1,24999):\n",
    "#    count=y\n",
    "#    data1=create_pic_row(y) \n",
    "#    data=data.append(data1) \n",
    "#    print(y)\n",
    "#data      \n"
   ]
  },
  {
   "cell_type": "code",
   "execution_count": 9,
   "metadata": {},
   "outputs": [],
   "source": [
    "#columns=np.arange(0,10001)\n",
    "#rows=np.arange(0,24999)"
   ]
  },
  {
   "cell_type": "code",
   "execution_count": 10,
   "metadata": {},
   "outputs": [],
   "source": [
    "#data=data.set_axis(columns, axis='columns')\n",
    "#data=data.set_index(rows)"
   ]
  },
  {
   "cell_type": "code",
   "execution_count": 11,
   "metadata": {},
   "outputs": [],
   "source": [
    "#data.to_csv('cats_vs_dogs_train.csv')"
   ]
  },
  {
   "cell_type": "code",
   "execution_count": 12,
   "metadata": {},
   "outputs": [],
   "source": [
    "#importing the train data frame that is saved to my computer\n",
    "training_set=pd.read_csv(r\"C:\\Users\\nechd\\Desktop\\cats_vs_dogs_train.csv\")"
   ]
  },
  {
   "cell_type": "code",
   "execution_count": 13,
   "metadata": {},
   "outputs": [
    {
     "data": {
      "text/html": [
       "<div>\n",
       "<style scoped>\n",
       "    .dataframe tbody tr th:only-of-type {\n",
       "        vertical-align: middle;\n",
       "    }\n",
       "\n",
       "    .dataframe tbody tr th {\n",
       "        vertical-align: top;\n",
       "    }\n",
       "\n",
       "    .dataframe thead th {\n",
       "        text-align: right;\n",
       "    }\n",
       "</style>\n",
       "<table border=\"1\" class=\"dataframe\">\n",
       "  <thead>\n",
       "    <tr style=\"text-align: right;\">\n",
       "      <th></th>\n",
       "      <th>0</th>\n",
       "      <th>1</th>\n",
       "      <th>2</th>\n",
       "      <th>3</th>\n",
       "      <th>4</th>\n",
       "      <th>5</th>\n",
       "      <th>6</th>\n",
       "      <th>7</th>\n",
       "      <th>8</th>\n",
       "      <th>9</th>\n",
       "      <th>...</th>\n",
       "      <th>9991</th>\n",
       "      <th>9992</th>\n",
       "      <th>9993</th>\n",
       "      <th>9994</th>\n",
       "      <th>9995</th>\n",
       "      <th>9996</th>\n",
       "      <th>9997</th>\n",
       "      <th>9998</th>\n",
       "      <th>9999</th>\n",
       "      <th>10000</th>\n",
       "    </tr>\n",
       "  </thead>\n",
       "  <tbody>\n",
       "    <tr>\n",
       "      <th>0</th>\n",
       "      <td>168</td>\n",
       "      <td>174</td>\n",
       "      <td>177</td>\n",
       "      <td>181</td>\n",
       "      <td>185</td>\n",
       "      <td>188</td>\n",
       "      <td>190</td>\n",
       "      <td>193</td>\n",
       "      <td>196</td>\n",
       "      <td>198</td>\n",
       "      <td>...</td>\n",
       "      <td>3</td>\n",
       "      <td>3</td>\n",
       "      <td>2</td>\n",
       "      <td>2</td>\n",
       "      <td>2</td>\n",
       "      <td>2</td>\n",
       "      <td>2</td>\n",
       "      <td>2</td>\n",
       "      <td>2</td>\n",
       "      <td>0</td>\n",
       "    </tr>\n",
       "    <tr>\n",
       "      <th>1</th>\n",
       "      <td>43</td>\n",
       "      <td>44</td>\n",
       "      <td>43</td>\n",
       "      <td>42</td>\n",
       "      <td>52</td>\n",
       "      <td>34</td>\n",
       "      <td>51</td>\n",
       "      <td>40</td>\n",
       "      <td>39</td>\n",
       "      <td>63</td>\n",
       "      <td>...</td>\n",
       "      <td>47</td>\n",
       "      <td>50</td>\n",
       "      <td>49</td>\n",
       "      <td>55</td>\n",
       "      <td>63</td>\n",
       "      <td>64</td>\n",
       "      <td>89</td>\n",
       "      <td>19</td>\n",
       "      <td>36</td>\n",
       "      <td>0</td>\n",
       "    </tr>\n",
       "    <tr>\n",
       "      <th>2</th>\n",
       "      <td>39</td>\n",
       "      <td>25</td>\n",
       "      <td>43</td>\n",
       "      <td>49</td>\n",
       "      <td>47</td>\n",
       "      <td>57</td>\n",
       "      <td>58</td>\n",
       "      <td>54</td>\n",
       "      <td>53</td>\n",
       "      <td>59</td>\n",
       "      <td>...</td>\n",
       "      <td>158</td>\n",
       "      <td>150</td>\n",
       "      <td>133</td>\n",
       "      <td>135</td>\n",
       "      <td>145</td>\n",
       "      <td>160</td>\n",
       "      <td>169</td>\n",
       "      <td>171</td>\n",
       "      <td>153</td>\n",
       "      <td>0</td>\n",
       "    </tr>\n",
       "    <tr>\n",
       "      <th>3</th>\n",
       "      <td>221</td>\n",
       "      <td>224</td>\n",
       "      <td>222</td>\n",
       "      <td>228</td>\n",
       "      <td>229</td>\n",
       "      <td>224</td>\n",
       "      <td>224</td>\n",
       "      <td>235</td>\n",
       "      <td>229</td>\n",
       "      <td>227</td>\n",
       "      <td>...</td>\n",
       "      <td>212</td>\n",
       "      <td>204</td>\n",
       "      <td>204</td>\n",
       "      <td>203</td>\n",
       "      <td>215</td>\n",
       "      <td>222</td>\n",
       "      <td>217</td>\n",
       "      <td>211</td>\n",
       "      <td>213</td>\n",
       "      <td>0</td>\n",
       "    </tr>\n",
       "    <tr>\n",
       "      <th>4</th>\n",
       "      <td>115</td>\n",
       "      <td>119</td>\n",
       "      <td>122</td>\n",
       "      <td>91</td>\n",
       "      <td>83</td>\n",
       "      <td>95</td>\n",
       "      <td>132</td>\n",
       "      <td>131</td>\n",
       "      <td>149</td>\n",
       "      <td>180</td>\n",
       "      <td>...</td>\n",
       "      <td>96</td>\n",
       "      <td>97</td>\n",
       "      <td>94</td>\n",
       "      <td>100</td>\n",
       "      <td>119</td>\n",
       "      <td>95</td>\n",
       "      <td>90</td>\n",
       "      <td>95</td>\n",
       "      <td>82</td>\n",
       "      <td>0</td>\n",
       "    </tr>\n",
       "    <tr>\n",
       "      <th>...</th>\n",
       "      <td>...</td>\n",
       "      <td>...</td>\n",
       "      <td>...</td>\n",
       "      <td>...</td>\n",
       "      <td>...</td>\n",
       "      <td>...</td>\n",
       "      <td>...</td>\n",
       "      <td>...</td>\n",
       "      <td>...</td>\n",
       "      <td>...</td>\n",
       "      <td>...</td>\n",
       "      <td>...</td>\n",
       "      <td>...</td>\n",
       "      <td>...</td>\n",
       "      <td>...</td>\n",
       "      <td>...</td>\n",
       "      <td>...</td>\n",
       "      <td>...</td>\n",
       "      <td>...</td>\n",
       "      <td>...</td>\n",
       "      <td>...</td>\n",
       "    </tr>\n",
       "    <tr>\n",
       "      <th>24994</th>\n",
       "      <td>122</td>\n",
       "      <td>128</td>\n",
       "      <td>124</td>\n",
       "      <td>125</td>\n",
       "      <td>127</td>\n",
       "      <td>129</td>\n",
       "      <td>130</td>\n",
       "      <td>128</td>\n",
       "      <td>125</td>\n",
       "      <td>122</td>\n",
       "      <td>...</td>\n",
       "      <td>49</td>\n",
       "      <td>49</td>\n",
       "      <td>45</td>\n",
       "      <td>32</td>\n",
       "      <td>32</td>\n",
       "      <td>35</td>\n",
       "      <td>26</td>\n",
       "      <td>21</td>\n",
       "      <td>17</td>\n",
       "      <td>1</td>\n",
       "    </tr>\n",
       "    <tr>\n",
       "      <th>24995</th>\n",
       "      <td>140</td>\n",
       "      <td>143</td>\n",
       "      <td>142</td>\n",
       "      <td>145</td>\n",
       "      <td>146</td>\n",
       "      <td>147</td>\n",
       "      <td>148</td>\n",
       "      <td>149</td>\n",
       "      <td>148</td>\n",
       "      <td>149</td>\n",
       "      <td>...</td>\n",
       "      <td>165</td>\n",
       "      <td>166</td>\n",
       "      <td>166</td>\n",
       "      <td>167</td>\n",
       "      <td>168</td>\n",
       "      <td>168</td>\n",
       "      <td>168</td>\n",
       "      <td>168</td>\n",
       "      <td>169</td>\n",
       "      <td>1</td>\n",
       "    </tr>\n",
       "    <tr>\n",
       "      <th>24996</th>\n",
       "      <td>117</td>\n",
       "      <td>78</td>\n",
       "      <td>102</td>\n",
       "      <td>83</td>\n",
       "      <td>101</td>\n",
       "      <td>113</td>\n",
       "      <td>69</td>\n",
       "      <td>85</td>\n",
       "      <td>86</td>\n",
       "      <td>86</td>\n",
       "      <td>...</td>\n",
       "      <td>97</td>\n",
       "      <td>77</td>\n",
       "      <td>100</td>\n",
       "      <td>84</td>\n",
       "      <td>77</td>\n",
       "      <td>85</td>\n",
       "      <td>93</td>\n",
       "      <td>94</td>\n",
       "      <td>74</td>\n",
       "      <td>1</td>\n",
       "    </tr>\n",
       "    <tr>\n",
       "      <th>24997</th>\n",
       "      <td>42</td>\n",
       "      <td>35</td>\n",
       "      <td>47</td>\n",
       "      <td>58</td>\n",
       "      <td>65</td>\n",
       "      <td>46</td>\n",
       "      <td>51</td>\n",
       "      <td>57</td>\n",
       "      <td>58</td>\n",
       "      <td>40</td>\n",
       "      <td>...</td>\n",
       "      <td>133</td>\n",
       "      <td>130</td>\n",
       "      <td>125</td>\n",
       "      <td>70</td>\n",
       "      <td>113</td>\n",
       "      <td>182</td>\n",
       "      <td>127</td>\n",
       "      <td>113</td>\n",
       "      <td>167</td>\n",
       "      <td>1</td>\n",
       "    </tr>\n",
       "    <tr>\n",
       "      <th>24998</th>\n",
       "      <td>254</td>\n",
       "      <td>251</td>\n",
       "      <td>245</td>\n",
       "      <td>234</td>\n",
       "      <td>224</td>\n",
       "      <td>207</td>\n",
       "      <td>189</td>\n",
       "      <td>144</td>\n",
       "      <td>112</td>\n",
       "      <td>75</td>\n",
       "      <td>...</td>\n",
       "      <td>102</td>\n",
       "      <td>107</td>\n",
       "      <td>114</td>\n",
       "      <td>111</td>\n",
       "      <td>111</td>\n",
       "      <td>107</td>\n",
       "      <td>116</td>\n",
       "      <td>114</td>\n",
       "      <td>121</td>\n",
       "      <td>1</td>\n",
       "    </tr>\n",
       "  </tbody>\n",
       "</table>\n",
       "<p>24999 rows × 10001 columns</p>\n",
       "</div>"
      ],
      "text/plain": [
       "         0    1    2    3    4    5    6    7    8    9  ...  9991  9992  \\\n",
       "0      168  174  177  181  185  188  190  193  196  198  ...     3     3   \n",
       "1       43   44   43   42   52   34   51   40   39   63  ...    47    50   \n",
       "2       39   25   43   49   47   57   58   54   53   59  ...   158   150   \n",
       "3      221  224  222  228  229  224  224  235  229  227  ...   212   204   \n",
       "4      115  119  122   91   83   95  132  131  149  180  ...    96    97   \n",
       "...    ...  ...  ...  ...  ...  ...  ...  ...  ...  ...  ...   ...   ...   \n",
       "24994  122  128  124  125  127  129  130  128  125  122  ...    49    49   \n",
       "24995  140  143  142  145  146  147  148  149  148  149  ...   165   166   \n",
       "24996  117   78  102   83  101  113   69   85   86   86  ...    97    77   \n",
       "24997   42   35   47   58   65   46   51   57   58   40  ...   133   130   \n",
       "24998  254  251  245  234  224  207  189  144  112   75  ...   102   107   \n",
       "\n",
       "       9993  9994  9995  9996  9997  9998  9999  10000  \n",
       "0         2     2     2     2     2     2     2      0  \n",
       "1        49    55    63    64    89    19    36      0  \n",
       "2       133   135   145   160   169   171   153      0  \n",
       "3       204   203   215   222   217   211   213      0  \n",
       "4        94   100   119    95    90    95    82      0  \n",
       "...     ...   ...   ...   ...   ...   ...   ...    ...  \n",
       "24994    45    32    32    35    26    21    17      1  \n",
       "24995   166   167   168   168   168   168   169      1  \n",
       "24996   100    84    77    85    93    94    74      1  \n",
       "24997   125    70   113   182   127   113   167      1  \n",
       "24998   114   111   111   107   116   114   121      1  \n",
       "\n",
       "[24999 rows x 10001 columns]"
      ]
     },
     "execution_count": 13,
     "metadata": {},
     "output_type": "execute_result"
    }
   ],
   "source": [
    "training_set=training_set.drop(['Unnamed: 0'], axis=1)\n",
    "training_set"
   ]
  },
  {
   "cell_type": "code",
   "execution_count": 14,
   "metadata": {},
   "outputs": [
    {
     "data": {
      "text/html": [
       "<div>\n",
       "<style scoped>\n",
       "    .dataframe tbody tr th:only-of-type {\n",
       "        vertical-align: middle;\n",
       "    }\n",
       "\n",
       "    .dataframe tbody tr th {\n",
       "        vertical-align: top;\n",
       "    }\n",
       "\n",
       "    .dataframe thead th {\n",
       "        text-align: right;\n",
       "    }\n",
       "</style>\n",
       "<table border=\"1\" class=\"dataframe\">\n",
       "  <thead>\n",
       "    <tr style=\"text-align: right;\">\n",
       "      <th></th>\n",
       "      <th>0</th>\n",
       "      <th>1</th>\n",
       "      <th>2</th>\n",
       "      <th>3</th>\n",
       "      <th>4</th>\n",
       "      <th>5</th>\n",
       "      <th>6</th>\n",
       "      <th>7</th>\n",
       "      <th>8</th>\n",
       "      <th>9</th>\n",
       "      <th>...</th>\n",
       "      <th>9991</th>\n",
       "      <th>9992</th>\n",
       "      <th>9993</th>\n",
       "      <th>9994</th>\n",
       "      <th>9995</th>\n",
       "      <th>9996</th>\n",
       "      <th>9997</th>\n",
       "      <th>9998</th>\n",
       "      <th>9999</th>\n",
       "      <th>10000</th>\n",
       "    </tr>\n",
       "  </thead>\n",
       "  <tbody>\n",
       "    <tr>\n",
       "      <th>0</th>\n",
       "      <td>168</td>\n",
       "      <td>174</td>\n",
       "      <td>177</td>\n",
       "      <td>181</td>\n",
       "      <td>185</td>\n",
       "      <td>188</td>\n",
       "      <td>190</td>\n",
       "      <td>193</td>\n",
       "      <td>196</td>\n",
       "      <td>198</td>\n",
       "      <td>...</td>\n",
       "      <td>3</td>\n",
       "      <td>3</td>\n",
       "      <td>2</td>\n",
       "      <td>2</td>\n",
       "      <td>2</td>\n",
       "      <td>2</td>\n",
       "      <td>2</td>\n",
       "      <td>2</td>\n",
       "      <td>2</td>\n",
       "      <td>0</td>\n",
       "    </tr>\n",
       "    <tr>\n",
       "      <th>1</th>\n",
       "      <td>43</td>\n",
       "      <td>44</td>\n",
       "      <td>43</td>\n",
       "      <td>42</td>\n",
       "      <td>52</td>\n",
       "      <td>34</td>\n",
       "      <td>51</td>\n",
       "      <td>40</td>\n",
       "      <td>39</td>\n",
       "      <td>63</td>\n",
       "      <td>...</td>\n",
       "      <td>47</td>\n",
       "      <td>50</td>\n",
       "      <td>49</td>\n",
       "      <td>55</td>\n",
       "      <td>63</td>\n",
       "      <td>64</td>\n",
       "      <td>89</td>\n",
       "      <td>19</td>\n",
       "      <td>36</td>\n",
       "      <td>0</td>\n",
       "    </tr>\n",
       "    <tr>\n",
       "      <th>2</th>\n",
       "      <td>39</td>\n",
       "      <td>25</td>\n",
       "      <td>43</td>\n",
       "      <td>49</td>\n",
       "      <td>47</td>\n",
       "      <td>57</td>\n",
       "      <td>58</td>\n",
       "      <td>54</td>\n",
       "      <td>53</td>\n",
       "      <td>59</td>\n",
       "      <td>...</td>\n",
       "      <td>158</td>\n",
       "      <td>150</td>\n",
       "      <td>133</td>\n",
       "      <td>135</td>\n",
       "      <td>145</td>\n",
       "      <td>160</td>\n",
       "      <td>169</td>\n",
       "      <td>171</td>\n",
       "      <td>153</td>\n",
       "      <td>0</td>\n",
       "    </tr>\n",
       "    <tr>\n",
       "      <th>3</th>\n",
       "      <td>221</td>\n",
       "      <td>224</td>\n",
       "      <td>222</td>\n",
       "      <td>228</td>\n",
       "      <td>229</td>\n",
       "      <td>224</td>\n",
       "      <td>224</td>\n",
       "      <td>235</td>\n",
       "      <td>229</td>\n",
       "      <td>227</td>\n",
       "      <td>...</td>\n",
       "      <td>212</td>\n",
       "      <td>204</td>\n",
       "      <td>204</td>\n",
       "      <td>203</td>\n",
       "      <td>215</td>\n",
       "      <td>222</td>\n",
       "      <td>217</td>\n",
       "      <td>211</td>\n",
       "      <td>213</td>\n",
       "      <td>0</td>\n",
       "    </tr>\n",
       "    <tr>\n",
       "      <th>4</th>\n",
       "      <td>115</td>\n",
       "      <td>119</td>\n",
       "      <td>122</td>\n",
       "      <td>91</td>\n",
       "      <td>83</td>\n",
       "      <td>95</td>\n",
       "      <td>132</td>\n",
       "      <td>131</td>\n",
       "      <td>149</td>\n",
       "      <td>180</td>\n",
       "      <td>...</td>\n",
       "      <td>96</td>\n",
       "      <td>97</td>\n",
       "      <td>94</td>\n",
       "      <td>100</td>\n",
       "      <td>119</td>\n",
       "      <td>95</td>\n",
       "      <td>90</td>\n",
       "      <td>95</td>\n",
       "      <td>82</td>\n",
       "      <td>0</td>\n",
       "    </tr>\n",
       "    <tr>\n",
       "      <th>...</th>\n",
       "      <td>...</td>\n",
       "      <td>...</td>\n",
       "      <td>...</td>\n",
       "      <td>...</td>\n",
       "      <td>...</td>\n",
       "      <td>...</td>\n",
       "      <td>...</td>\n",
       "      <td>...</td>\n",
       "      <td>...</td>\n",
       "      <td>...</td>\n",
       "      <td>...</td>\n",
       "      <td>...</td>\n",
       "      <td>...</td>\n",
       "      <td>...</td>\n",
       "      <td>...</td>\n",
       "      <td>...</td>\n",
       "      <td>...</td>\n",
       "      <td>...</td>\n",
       "      <td>...</td>\n",
       "      <td>...</td>\n",
       "      <td>...</td>\n",
       "    </tr>\n",
       "    <tr>\n",
       "      <th>24994</th>\n",
       "      <td>122</td>\n",
       "      <td>128</td>\n",
       "      <td>124</td>\n",
       "      <td>125</td>\n",
       "      <td>127</td>\n",
       "      <td>129</td>\n",
       "      <td>130</td>\n",
       "      <td>128</td>\n",
       "      <td>125</td>\n",
       "      <td>122</td>\n",
       "      <td>...</td>\n",
       "      <td>49</td>\n",
       "      <td>49</td>\n",
       "      <td>45</td>\n",
       "      <td>32</td>\n",
       "      <td>32</td>\n",
       "      <td>35</td>\n",
       "      <td>26</td>\n",
       "      <td>21</td>\n",
       "      <td>17</td>\n",
       "      <td>1</td>\n",
       "    </tr>\n",
       "    <tr>\n",
       "      <th>24995</th>\n",
       "      <td>140</td>\n",
       "      <td>143</td>\n",
       "      <td>142</td>\n",
       "      <td>145</td>\n",
       "      <td>146</td>\n",
       "      <td>147</td>\n",
       "      <td>148</td>\n",
       "      <td>149</td>\n",
       "      <td>148</td>\n",
       "      <td>149</td>\n",
       "      <td>...</td>\n",
       "      <td>165</td>\n",
       "      <td>166</td>\n",
       "      <td>166</td>\n",
       "      <td>167</td>\n",
       "      <td>168</td>\n",
       "      <td>168</td>\n",
       "      <td>168</td>\n",
       "      <td>168</td>\n",
       "      <td>169</td>\n",
       "      <td>1</td>\n",
       "    </tr>\n",
       "    <tr>\n",
       "      <th>24996</th>\n",
       "      <td>117</td>\n",
       "      <td>78</td>\n",
       "      <td>102</td>\n",
       "      <td>83</td>\n",
       "      <td>101</td>\n",
       "      <td>113</td>\n",
       "      <td>69</td>\n",
       "      <td>85</td>\n",
       "      <td>86</td>\n",
       "      <td>86</td>\n",
       "      <td>...</td>\n",
       "      <td>97</td>\n",
       "      <td>77</td>\n",
       "      <td>100</td>\n",
       "      <td>84</td>\n",
       "      <td>77</td>\n",
       "      <td>85</td>\n",
       "      <td>93</td>\n",
       "      <td>94</td>\n",
       "      <td>74</td>\n",
       "      <td>1</td>\n",
       "    </tr>\n",
       "    <tr>\n",
       "      <th>24997</th>\n",
       "      <td>42</td>\n",
       "      <td>35</td>\n",
       "      <td>47</td>\n",
       "      <td>58</td>\n",
       "      <td>65</td>\n",
       "      <td>46</td>\n",
       "      <td>51</td>\n",
       "      <td>57</td>\n",
       "      <td>58</td>\n",
       "      <td>40</td>\n",
       "      <td>...</td>\n",
       "      <td>133</td>\n",
       "      <td>130</td>\n",
       "      <td>125</td>\n",
       "      <td>70</td>\n",
       "      <td>113</td>\n",
       "      <td>182</td>\n",
       "      <td>127</td>\n",
       "      <td>113</td>\n",
       "      <td>167</td>\n",
       "      <td>1</td>\n",
       "    </tr>\n",
       "    <tr>\n",
       "      <th>24998</th>\n",
       "      <td>254</td>\n",
       "      <td>251</td>\n",
       "      <td>245</td>\n",
       "      <td>234</td>\n",
       "      <td>224</td>\n",
       "      <td>207</td>\n",
       "      <td>189</td>\n",
       "      <td>144</td>\n",
       "      <td>112</td>\n",
       "      <td>75</td>\n",
       "      <td>...</td>\n",
       "      <td>102</td>\n",
       "      <td>107</td>\n",
       "      <td>114</td>\n",
       "      <td>111</td>\n",
       "      <td>111</td>\n",
       "      <td>107</td>\n",
       "      <td>116</td>\n",
       "      <td>114</td>\n",
       "      <td>121</td>\n",
       "      <td>1</td>\n",
       "    </tr>\n",
       "  </tbody>\n",
       "</table>\n",
       "<p>24999 rows × 10001 columns</p>\n",
       "</div>"
      ],
      "text/plain": [
       "         0    1    2    3    4    5    6    7    8    9  ...  9991  9992  \\\n",
       "0      168  174  177  181  185  188  190  193  196  198  ...     3     3   \n",
       "1       43   44   43   42   52   34   51   40   39   63  ...    47    50   \n",
       "2       39   25   43   49   47   57   58   54   53   59  ...   158   150   \n",
       "3      221  224  222  228  229  224  224  235  229  227  ...   212   204   \n",
       "4      115  119  122   91   83   95  132  131  149  180  ...    96    97   \n",
       "...    ...  ...  ...  ...  ...  ...  ...  ...  ...  ...  ...   ...   ...   \n",
       "24994  122  128  124  125  127  129  130  128  125  122  ...    49    49   \n",
       "24995  140  143  142  145  146  147  148  149  148  149  ...   165   166   \n",
       "24996  117   78  102   83  101  113   69   85   86   86  ...    97    77   \n",
       "24997   42   35   47   58   65   46   51   57   58   40  ...   133   130   \n",
       "24998  254  251  245  234  224  207  189  144  112   75  ...   102   107   \n",
       "\n",
       "       9993  9994  9995  9996  9997  9998  9999  10000  \n",
       "0         2     2     2     2     2     2     2      0  \n",
       "1        49    55    63    64    89    19    36      0  \n",
       "2       133   135   145   160   169   171   153      0  \n",
       "3       204   203   215   222   217   211   213      0  \n",
       "4        94   100   119    95    90    95    82      0  \n",
       "...     ...   ...   ...   ...   ...   ...   ...    ...  \n",
       "24994    45    32    32    35    26    21    17      1  \n",
       "24995   166   167   168   168   168   168   169      1  \n",
       "24996   100    84    77    85    93    94    74      1  \n",
       "24997   125    70   113   182   127   113   167      1  \n",
       "24998   114   111   111   107   116   114   121      1  \n",
       "\n",
       "[24999 rows x 10001 columns]"
      ]
     },
     "execution_count": 14,
     "metadata": {},
     "output_type": "execute_result"
    }
   ],
   "source": [
    "training_set1=training_set\n",
    "training_set1"
   ]
  },
  {
   "cell_type": "code",
   "execution_count": 15,
   "metadata": {},
   "outputs": [
    {
     "data": {
      "text/html": [
       "<div>\n",
       "<style scoped>\n",
       "    .dataframe tbody tr th:only-of-type {\n",
       "        vertical-align: middle;\n",
       "    }\n",
       "\n",
       "    .dataframe tbody tr th {\n",
       "        vertical-align: top;\n",
       "    }\n",
       "\n",
       "    .dataframe thead th {\n",
       "        text-align: right;\n",
       "    }\n",
       "</style>\n",
       "<table border=\"1\" class=\"dataframe\">\n",
       "  <thead>\n",
       "    <tr style=\"text-align: right;\">\n",
       "      <th></th>\n",
       "    </tr>\n",
       "  </thead>\n",
       "  <tbody>\n",
       "  </tbody>\n",
       "</table>\n",
       "</div>"
      ],
      "text/plain": [
       "Empty DataFrame\n",
       "Columns: []\n",
       "Index: []"
      ]
     },
     "execution_count": 15,
     "metadata": {},
     "output_type": "execute_result"
    }
   ],
   "source": [
    "label=pd.DataFrame()\n",
    "label"
   ]
  },
  {
   "cell_type": "code",
   "execution_count": 16,
   "metadata": {},
   "outputs": [
    {
     "data": {
      "text/plain": [
       "0        0\n",
       "1        0\n",
       "2        0\n",
       "3        0\n",
       "4        0\n",
       "        ..\n",
       "24994    1\n",
       "24995    1\n",
       "24996    1\n",
       "24997    1\n",
       "24998    1\n",
       "Name: 10000, Length: 24999, dtype: int64"
      ]
     },
     "execution_count": 16,
     "metadata": {},
     "output_type": "execute_result"
    }
   ],
   "source": [
    "label=training_set1['10000']\n",
    "label"
   ]
  },
  {
   "cell_type": "code",
   "execution_count": 17,
   "metadata": {},
   "outputs": [
    {
     "data": {
      "text/html": [
       "<div>\n",
       "<style scoped>\n",
       "    .dataframe tbody tr th:only-of-type {\n",
       "        vertical-align: middle;\n",
       "    }\n",
       "\n",
       "    .dataframe tbody tr th {\n",
       "        vertical-align: top;\n",
       "    }\n",
       "\n",
       "    .dataframe thead th {\n",
       "        text-align: right;\n",
       "    }\n",
       "</style>\n",
       "<table border=\"1\" class=\"dataframe\">\n",
       "  <thead>\n",
       "    <tr style=\"text-align: right;\">\n",
       "      <th></th>\n",
       "      <th>0</th>\n",
       "      <th>1</th>\n",
       "      <th>2</th>\n",
       "      <th>3</th>\n",
       "      <th>4</th>\n",
       "      <th>5</th>\n",
       "      <th>6</th>\n",
       "      <th>7</th>\n",
       "      <th>8</th>\n",
       "      <th>9</th>\n",
       "      <th>...</th>\n",
       "      <th>9991</th>\n",
       "      <th>9992</th>\n",
       "      <th>9993</th>\n",
       "      <th>9994</th>\n",
       "      <th>9995</th>\n",
       "      <th>9996</th>\n",
       "      <th>9997</th>\n",
       "      <th>9998</th>\n",
       "      <th>9999</th>\n",
       "      <th>10000</th>\n",
       "    </tr>\n",
       "  </thead>\n",
       "  <tbody>\n",
       "    <tr>\n",
       "      <th>0</th>\n",
       "      <td>0.658824</td>\n",
       "      <td>0.682353</td>\n",
       "      <td>0.694118</td>\n",
       "      <td>0.709804</td>\n",
       "      <td>0.725490</td>\n",
       "      <td>0.737255</td>\n",
       "      <td>0.745098</td>\n",
       "      <td>0.756863</td>\n",
       "      <td>0.768627</td>\n",
       "      <td>0.776471</td>\n",
       "      <td>...</td>\n",
       "      <td>0.011765</td>\n",
       "      <td>0.011765</td>\n",
       "      <td>0.007843</td>\n",
       "      <td>0.007843</td>\n",
       "      <td>0.007843</td>\n",
       "      <td>0.007843</td>\n",
       "      <td>0.007843</td>\n",
       "      <td>0.007843</td>\n",
       "      <td>0.007843</td>\n",
       "      <td>0.000000</td>\n",
       "    </tr>\n",
       "    <tr>\n",
       "      <th>1</th>\n",
       "      <td>0.168627</td>\n",
       "      <td>0.172549</td>\n",
       "      <td>0.168627</td>\n",
       "      <td>0.164706</td>\n",
       "      <td>0.203922</td>\n",
       "      <td>0.133333</td>\n",
       "      <td>0.200000</td>\n",
       "      <td>0.156863</td>\n",
       "      <td>0.152941</td>\n",
       "      <td>0.247059</td>\n",
       "      <td>...</td>\n",
       "      <td>0.184314</td>\n",
       "      <td>0.196078</td>\n",
       "      <td>0.192157</td>\n",
       "      <td>0.215686</td>\n",
       "      <td>0.247059</td>\n",
       "      <td>0.250980</td>\n",
       "      <td>0.349020</td>\n",
       "      <td>0.074510</td>\n",
       "      <td>0.141176</td>\n",
       "      <td>0.000000</td>\n",
       "    </tr>\n",
       "    <tr>\n",
       "      <th>2</th>\n",
       "      <td>0.152941</td>\n",
       "      <td>0.098039</td>\n",
       "      <td>0.168627</td>\n",
       "      <td>0.192157</td>\n",
       "      <td>0.184314</td>\n",
       "      <td>0.223529</td>\n",
       "      <td>0.227451</td>\n",
       "      <td>0.211765</td>\n",
       "      <td>0.207843</td>\n",
       "      <td>0.231373</td>\n",
       "      <td>...</td>\n",
       "      <td>0.619608</td>\n",
       "      <td>0.588235</td>\n",
       "      <td>0.521569</td>\n",
       "      <td>0.529412</td>\n",
       "      <td>0.568627</td>\n",
       "      <td>0.627451</td>\n",
       "      <td>0.662745</td>\n",
       "      <td>0.670588</td>\n",
       "      <td>0.600000</td>\n",
       "      <td>0.000000</td>\n",
       "    </tr>\n",
       "    <tr>\n",
       "      <th>3</th>\n",
       "      <td>0.866667</td>\n",
       "      <td>0.878431</td>\n",
       "      <td>0.870588</td>\n",
       "      <td>0.894118</td>\n",
       "      <td>0.898039</td>\n",
       "      <td>0.878431</td>\n",
       "      <td>0.878431</td>\n",
       "      <td>0.921569</td>\n",
       "      <td>0.898039</td>\n",
       "      <td>0.890196</td>\n",
       "      <td>...</td>\n",
       "      <td>0.831373</td>\n",
       "      <td>0.800000</td>\n",
       "      <td>0.800000</td>\n",
       "      <td>0.796078</td>\n",
       "      <td>0.843137</td>\n",
       "      <td>0.870588</td>\n",
       "      <td>0.850980</td>\n",
       "      <td>0.827451</td>\n",
       "      <td>0.835294</td>\n",
       "      <td>0.000000</td>\n",
       "    </tr>\n",
       "    <tr>\n",
       "      <th>4</th>\n",
       "      <td>0.450980</td>\n",
       "      <td>0.466667</td>\n",
       "      <td>0.478431</td>\n",
       "      <td>0.356863</td>\n",
       "      <td>0.325490</td>\n",
       "      <td>0.372549</td>\n",
       "      <td>0.517647</td>\n",
       "      <td>0.513725</td>\n",
       "      <td>0.584314</td>\n",
       "      <td>0.705882</td>\n",
       "      <td>...</td>\n",
       "      <td>0.376471</td>\n",
       "      <td>0.380392</td>\n",
       "      <td>0.368627</td>\n",
       "      <td>0.392157</td>\n",
       "      <td>0.466667</td>\n",
       "      <td>0.372549</td>\n",
       "      <td>0.352941</td>\n",
       "      <td>0.372549</td>\n",
       "      <td>0.321569</td>\n",
       "      <td>0.000000</td>\n",
       "    </tr>\n",
       "    <tr>\n",
       "      <th>...</th>\n",
       "      <td>...</td>\n",
       "      <td>...</td>\n",
       "      <td>...</td>\n",
       "      <td>...</td>\n",
       "      <td>...</td>\n",
       "      <td>...</td>\n",
       "      <td>...</td>\n",
       "      <td>...</td>\n",
       "      <td>...</td>\n",
       "      <td>...</td>\n",
       "      <td>...</td>\n",
       "      <td>...</td>\n",
       "      <td>...</td>\n",
       "      <td>...</td>\n",
       "      <td>...</td>\n",
       "      <td>...</td>\n",
       "      <td>...</td>\n",
       "      <td>...</td>\n",
       "      <td>...</td>\n",
       "      <td>...</td>\n",
       "      <td>...</td>\n",
       "    </tr>\n",
       "    <tr>\n",
       "      <th>24994</th>\n",
       "      <td>0.478431</td>\n",
       "      <td>0.501961</td>\n",
       "      <td>0.486275</td>\n",
       "      <td>0.490196</td>\n",
       "      <td>0.498039</td>\n",
       "      <td>0.505882</td>\n",
       "      <td>0.509804</td>\n",
       "      <td>0.501961</td>\n",
       "      <td>0.490196</td>\n",
       "      <td>0.478431</td>\n",
       "      <td>...</td>\n",
       "      <td>0.192157</td>\n",
       "      <td>0.192157</td>\n",
       "      <td>0.176471</td>\n",
       "      <td>0.125490</td>\n",
       "      <td>0.125490</td>\n",
       "      <td>0.137255</td>\n",
       "      <td>0.101961</td>\n",
       "      <td>0.082353</td>\n",
       "      <td>0.066667</td>\n",
       "      <td>0.003922</td>\n",
       "    </tr>\n",
       "    <tr>\n",
       "      <th>24995</th>\n",
       "      <td>0.549020</td>\n",
       "      <td>0.560784</td>\n",
       "      <td>0.556863</td>\n",
       "      <td>0.568627</td>\n",
       "      <td>0.572549</td>\n",
       "      <td>0.576471</td>\n",
       "      <td>0.580392</td>\n",
       "      <td>0.584314</td>\n",
       "      <td>0.580392</td>\n",
       "      <td>0.584314</td>\n",
       "      <td>...</td>\n",
       "      <td>0.647059</td>\n",
       "      <td>0.650980</td>\n",
       "      <td>0.650980</td>\n",
       "      <td>0.654902</td>\n",
       "      <td>0.658824</td>\n",
       "      <td>0.658824</td>\n",
       "      <td>0.658824</td>\n",
       "      <td>0.658824</td>\n",
       "      <td>0.662745</td>\n",
       "      <td>0.003922</td>\n",
       "    </tr>\n",
       "    <tr>\n",
       "      <th>24996</th>\n",
       "      <td>0.458824</td>\n",
       "      <td>0.305882</td>\n",
       "      <td>0.400000</td>\n",
       "      <td>0.325490</td>\n",
       "      <td>0.396078</td>\n",
       "      <td>0.443137</td>\n",
       "      <td>0.270588</td>\n",
       "      <td>0.333333</td>\n",
       "      <td>0.337255</td>\n",
       "      <td>0.337255</td>\n",
       "      <td>...</td>\n",
       "      <td>0.380392</td>\n",
       "      <td>0.301961</td>\n",
       "      <td>0.392157</td>\n",
       "      <td>0.329412</td>\n",
       "      <td>0.301961</td>\n",
       "      <td>0.333333</td>\n",
       "      <td>0.364706</td>\n",
       "      <td>0.368627</td>\n",
       "      <td>0.290196</td>\n",
       "      <td>0.003922</td>\n",
       "    </tr>\n",
       "    <tr>\n",
       "      <th>24997</th>\n",
       "      <td>0.164706</td>\n",
       "      <td>0.137255</td>\n",
       "      <td>0.184314</td>\n",
       "      <td>0.227451</td>\n",
       "      <td>0.254902</td>\n",
       "      <td>0.180392</td>\n",
       "      <td>0.200000</td>\n",
       "      <td>0.223529</td>\n",
       "      <td>0.227451</td>\n",
       "      <td>0.156863</td>\n",
       "      <td>...</td>\n",
       "      <td>0.521569</td>\n",
       "      <td>0.509804</td>\n",
       "      <td>0.490196</td>\n",
       "      <td>0.274510</td>\n",
       "      <td>0.443137</td>\n",
       "      <td>0.713725</td>\n",
       "      <td>0.498039</td>\n",
       "      <td>0.443137</td>\n",
       "      <td>0.654902</td>\n",
       "      <td>0.003922</td>\n",
       "    </tr>\n",
       "    <tr>\n",
       "      <th>24998</th>\n",
       "      <td>0.996078</td>\n",
       "      <td>0.984314</td>\n",
       "      <td>0.960784</td>\n",
       "      <td>0.917647</td>\n",
       "      <td>0.878431</td>\n",
       "      <td>0.811765</td>\n",
       "      <td>0.741176</td>\n",
       "      <td>0.564706</td>\n",
       "      <td>0.439216</td>\n",
       "      <td>0.294118</td>\n",
       "      <td>...</td>\n",
       "      <td>0.400000</td>\n",
       "      <td>0.419608</td>\n",
       "      <td>0.447059</td>\n",
       "      <td>0.435294</td>\n",
       "      <td>0.435294</td>\n",
       "      <td>0.419608</td>\n",
       "      <td>0.454902</td>\n",
       "      <td>0.447059</td>\n",
       "      <td>0.474510</td>\n",
       "      <td>0.003922</td>\n",
       "    </tr>\n",
       "  </tbody>\n",
       "</table>\n",
       "<p>24999 rows × 10001 columns</p>\n",
       "</div>"
      ],
      "text/plain": [
       "              0         1         2         3         4         5         6  \\\n",
       "0      0.658824  0.682353  0.694118  0.709804  0.725490  0.737255  0.745098   \n",
       "1      0.168627  0.172549  0.168627  0.164706  0.203922  0.133333  0.200000   \n",
       "2      0.152941  0.098039  0.168627  0.192157  0.184314  0.223529  0.227451   \n",
       "3      0.866667  0.878431  0.870588  0.894118  0.898039  0.878431  0.878431   \n",
       "4      0.450980  0.466667  0.478431  0.356863  0.325490  0.372549  0.517647   \n",
       "...         ...       ...       ...       ...       ...       ...       ...   \n",
       "24994  0.478431  0.501961  0.486275  0.490196  0.498039  0.505882  0.509804   \n",
       "24995  0.549020  0.560784  0.556863  0.568627  0.572549  0.576471  0.580392   \n",
       "24996  0.458824  0.305882  0.400000  0.325490  0.396078  0.443137  0.270588   \n",
       "24997  0.164706  0.137255  0.184314  0.227451  0.254902  0.180392  0.200000   \n",
       "24998  0.996078  0.984314  0.960784  0.917647  0.878431  0.811765  0.741176   \n",
       "\n",
       "              7         8         9  ...      9991      9992      9993  \\\n",
       "0      0.756863  0.768627  0.776471  ...  0.011765  0.011765  0.007843   \n",
       "1      0.156863  0.152941  0.247059  ...  0.184314  0.196078  0.192157   \n",
       "2      0.211765  0.207843  0.231373  ...  0.619608  0.588235  0.521569   \n",
       "3      0.921569  0.898039  0.890196  ...  0.831373  0.800000  0.800000   \n",
       "4      0.513725  0.584314  0.705882  ...  0.376471  0.380392  0.368627   \n",
       "...         ...       ...       ...  ...       ...       ...       ...   \n",
       "24994  0.501961  0.490196  0.478431  ...  0.192157  0.192157  0.176471   \n",
       "24995  0.584314  0.580392  0.584314  ...  0.647059  0.650980  0.650980   \n",
       "24996  0.333333  0.337255  0.337255  ...  0.380392  0.301961  0.392157   \n",
       "24997  0.223529  0.227451  0.156863  ...  0.521569  0.509804  0.490196   \n",
       "24998  0.564706  0.439216  0.294118  ...  0.400000  0.419608  0.447059   \n",
       "\n",
       "           9994      9995      9996      9997      9998      9999     10000  \n",
       "0      0.007843  0.007843  0.007843  0.007843  0.007843  0.007843  0.000000  \n",
       "1      0.215686  0.247059  0.250980  0.349020  0.074510  0.141176  0.000000  \n",
       "2      0.529412  0.568627  0.627451  0.662745  0.670588  0.600000  0.000000  \n",
       "3      0.796078  0.843137  0.870588  0.850980  0.827451  0.835294  0.000000  \n",
       "4      0.392157  0.466667  0.372549  0.352941  0.372549  0.321569  0.000000  \n",
       "...         ...       ...       ...       ...       ...       ...       ...  \n",
       "24994  0.125490  0.125490  0.137255  0.101961  0.082353  0.066667  0.003922  \n",
       "24995  0.654902  0.658824  0.658824  0.658824  0.658824  0.662745  0.003922  \n",
       "24996  0.329412  0.301961  0.333333  0.364706  0.368627  0.290196  0.003922  \n",
       "24997  0.274510  0.443137  0.713725  0.498039  0.443137  0.654902  0.003922  \n",
       "24998  0.435294  0.435294  0.419608  0.454902  0.447059  0.474510  0.003922  \n",
       "\n",
       "[24999 rows x 10001 columns]"
      ]
     },
     "execution_count": 17,
     "metadata": {},
     "output_type": "execute_result"
    }
   ],
   "source": [
    "training_set1=training_set1.div(255)\n",
    "training_set1"
   ]
  },
  {
   "cell_type": "code",
   "execution_count": 18,
   "metadata": {},
   "outputs": [
    {
     "data": {
      "text/html": [
       "<div>\n",
       "<style scoped>\n",
       "    .dataframe tbody tr th:only-of-type {\n",
       "        vertical-align: middle;\n",
       "    }\n",
       "\n",
       "    .dataframe tbody tr th {\n",
       "        vertical-align: top;\n",
       "    }\n",
       "\n",
       "    .dataframe thead th {\n",
       "        text-align: right;\n",
       "    }\n",
       "</style>\n",
       "<table border=\"1\" class=\"dataframe\">\n",
       "  <thead>\n",
       "    <tr style=\"text-align: right;\">\n",
       "      <th></th>\n",
       "      <th>0</th>\n",
       "      <th>1</th>\n",
       "      <th>2</th>\n",
       "      <th>3</th>\n",
       "      <th>4</th>\n",
       "      <th>5</th>\n",
       "      <th>6</th>\n",
       "      <th>7</th>\n",
       "      <th>8</th>\n",
       "      <th>9</th>\n",
       "      <th>...</th>\n",
       "      <th>9990</th>\n",
       "      <th>9991</th>\n",
       "      <th>9992</th>\n",
       "      <th>9993</th>\n",
       "      <th>9994</th>\n",
       "      <th>9995</th>\n",
       "      <th>9996</th>\n",
       "      <th>9997</th>\n",
       "      <th>9998</th>\n",
       "      <th>9999</th>\n",
       "    </tr>\n",
       "  </thead>\n",
       "  <tbody>\n",
       "    <tr>\n",
       "      <th>0</th>\n",
       "      <td>0.658824</td>\n",
       "      <td>0.682353</td>\n",
       "      <td>0.694118</td>\n",
       "      <td>0.709804</td>\n",
       "      <td>0.725490</td>\n",
       "      <td>0.737255</td>\n",
       "      <td>0.745098</td>\n",
       "      <td>0.756863</td>\n",
       "      <td>0.768627</td>\n",
       "      <td>0.776471</td>\n",
       "      <td>...</td>\n",
       "      <td>0.011765</td>\n",
       "      <td>0.011765</td>\n",
       "      <td>0.011765</td>\n",
       "      <td>0.007843</td>\n",
       "      <td>0.007843</td>\n",
       "      <td>0.007843</td>\n",
       "      <td>0.007843</td>\n",
       "      <td>0.007843</td>\n",
       "      <td>0.007843</td>\n",
       "      <td>0.007843</td>\n",
       "    </tr>\n",
       "    <tr>\n",
       "      <th>1</th>\n",
       "      <td>0.168627</td>\n",
       "      <td>0.172549</td>\n",
       "      <td>0.168627</td>\n",
       "      <td>0.164706</td>\n",
       "      <td>0.203922</td>\n",
       "      <td>0.133333</td>\n",
       "      <td>0.200000</td>\n",
       "      <td>0.156863</td>\n",
       "      <td>0.152941</td>\n",
       "      <td>0.247059</td>\n",
       "      <td>...</td>\n",
       "      <td>0.172549</td>\n",
       "      <td>0.184314</td>\n",
       "      <td>0.196078</td>\n",
       "      <td>0.192157</td>\n",
       "      <td>0.215686</td>\n",
       "      <td>0.247059</td>\n",
       "      <td>0.250980</td>\n",
       "      <td>0.349020</td>\n",
       "      <td>0.074510</td>\n",
       "      <td>0.141176</td>\n",
       "    </tr>\n",
       "    <tr>\n",
       "      <th>2</th>\n",
       "      <td>0.152941</td>\n",
       "      <td>0.098039</td>\n",
       "      <td>0.168627</td>\n",
       "      <td>0.192157</td>\n",
       "      <td>0.184314</td>\n",
       "      <td>0.223529</td>\n",
       "      <td>0.227451</td>\n",
       "      <td>0.211765</td>\n",
       "      <td>0.207843</td>\n",
       "      <td>0.231373</td>\n",
       "      <td>...</td>\n",
       "      <td>0.600000</td>\n",
       "      <td>0.619608</td>\n",
       "      <td>0.588235</td>\n",
       "      <td>0.521569</td>\n",
       "      <td>0.529412</td>\n",
       "      <td>0.568627</td>\n",
       "      <td>0.627451</td>\n",
       "      <td>0.662745</td>\n",
       "      <td>0.670588</td>\n",
       "      <td>0.600000</td>\n",
       "    </tr>\n",
       "    <tr>\n",
       "      <th>3</th>\n",
       "      <td>0.866667</td>\n",
       "      <td>0.878431</td>\n",
       "      <td>0.870588</td>\n",
       "      <td>0.894118</td>\n",
       "      <td>0.898039</td>\n",
       "      <td>0.878431</td>\n",
       "      <td>0.878431</td>\n",
       "      <td>0.921569</td>\n",
       "      <td>0.898039</td>\n",
       "      <td>0.890196</td>\n",
       "      <td>...</td>\n",
       "      <td>0.905882</td>\n",
       "      <td>0.831373</td>\n",
       "      <td>0.800000</td>\n",
       "      <td>0.800000</td>\n",
       "      <td>0.796078</td>\n",
       "      <td>0.843137</td>\n",
       "      <td>0.870588</td>\n",
       "      <td>0.850980</td>\n",
       "      <td>0.827451</td>\n",
       "      <td>0.835294</td>\n",
       "    </tr>\n",
       "    <tr>\n",
       "      <th>4</th>\n",
       "      <td>0.450980</td>\n",
       "      <td>0.466667</td>\n",
       "      <td>0.478431</td>\n",
       "      <td>0.356863</td>\n",
       "      <td>0.325490</td>\n",
       "      <td>0.372549</td>\n",
       "      <td>0.517647</td>\n",
       "      <td>0.513725</td>\n",
       "      <td>0.584314</td>\n",
       "      <td>0.705882</td>\n",
       "      <td>...</td>\n",
       "      <td>0.364706</td>\n",
       "      <td>0.376471</td>\n",
       "      <td>0.380392</td>\n",
       "      <td>0.368627</td>\n",
       "      <td>0.392157</td>\n",
       "      <td>0.466667</td>\n",
       "      <td>0.372549</td>\n",
       "      <td>0.352941</td>\n",
       "      <td>0.372549</td>\n",
       "      <td>0.321569</td>\n",
       "    </tr>\n",
       "    <tr>\n",
       "      <th>...</th>\n",
       "      <td>...</td>\n",
       "      <td>...</td>\n",
       "      <td>...</td>\n",
       "      <td>...</td>\n",
       "      <td>...</td>\n",
       "      <td>...</td>\n",
       "      <td>...</td>\n",
       "      <td>...</td>\n",
       "      <td>...</td>\n",
       "      <td>...</td>\n",
       "      <td>...</td>\n",
       "      <td>...</td>\n",
       "      <td>...</td>\n",
       "      <td>...</td>\n",
       "      <td>...</td>\n",
       "      <td>...</td>\n",
       "      <td>...</td>\n",
       "      <td>...</td>\n",
       "      <td>...</td>\n",
       "      <td>...</td>\n",
       "      <td>...</td>\n",
       "    </tr>\n",
       "    <tr>\n",
       "      <th>24994</th>\n",
       "      <td>0.478431</td>\n",
       "      <td>0.501961</td>\n",
       "      <td>0.486275</td>\n",
       "      <td>0.490196</td>\n",
       "      <td>0.498039</td>\n",
       "      <td>0.505882</td>\n",
       "      <td>0.509804</td>\n",
       "      <td>0.501961</td>\n",
       "      <td>0.490196</td>\n",
       "      <td>0.478431</td>\n",
       "      <td>...</td>\n",
       "      <td>0.207843</td>\n",
       "      <td>0.192157</td>\n",
       "      <td>0.192157</td>\n",
       "      <td>0.176471</td>\n",
       "      <td>0.125490</td>\n",
       "      <td>0.125490</td>\n",
       "      <td>0.137255</td>\n",
       "      <td>0.101961</td>\n",
       "      <td>0.082353</td>\n",
       "      <td>0.066667</td>\n",
       "    </tr>\n",
       "    <tr>\n",
       "      <th>24995</th>\n",
       "      <td>0.549020</td>\n",
       "      <td>0.560784</td>\n",
       "      <td>0.556863</td>\n",
       "      <td>0.568627</td>\n",
       "      <td>0.572549</td>\n",
       "      <td>0.576471</td>\n",
       "      <td>0.580392</td>\n",
       "      <td>0.584314</td>\n",
       "      <td>0.580392</td>\n",
       "      <td>0.584314</td>\n",
       "      <td>...</td>\n",
       "      <td>0.643137</td>\n",
       "      <td>0.647059</td>\n",
       "      <td>0.650980</td>\n",
       "      <td>0.650980</td>\n",
       "      <td>0.654902</td>\n",
       "      <td>0.658824</td>\n",
       "      <td>0.658824</td>\n",
       "      <td>0.658824</td>\n",
       "      <td>0.658824</td>\n",
       "      <td>0.662745</td>\n",
       "    </tr>\n",
       "    <tr>\n",
       "      <th>24996</th>\n",
       "      <td>0.458824</td>\n",
       "      <td>0.305882</td>\n",
       "      <td>0.400000</td>\n",
       "      <td>0.325490</td>\n",
       "      <td>0.396078</td>\n",
       "      <td>0.443137</td>\n",
       "      <td>0.270588</td>\n",
       "      <td>0.333333</td>\n",
       "      <td>0.337255</td>\n",
       "      <td>0.337255</td>\n",
       "      <td>...</td>\n",
       "      <td>0.376471</td>\n",
       "      <td>0.380392</td>\n",
       "      <td>0.301961</td>\n",
       "      <td>0.392157</td>\n",
       "      <td>0.329412</td>\n",
       "      <td>0.301961</td>\n",
       "      <td>0.333333</td>\n",
       "      <td>0.364706</td>\n",
       "      <td>0.368627</td>\n",
       "      <td>0.290196</td>\n",
       "    </tr>\n",
       "    <tr>\n",
       "      <th>24997</th>\n",
       "      <td>0.164706</td>\n",
       "      <td>0.137255</td>\n",
       "      <td>0.184314</td>\n",
       "      <td>0.227451</td>\n",
       "      <td>0.254902</td>\n",
       "      <td>0.180392</td>\n",
       "      <td>0.200000</td>\n",
       "      <td>0.223529</td>\n",
       "      <td>0.227451</td>\n",
       "      <td>0.156863</td>\n",
       "      <td>...</td>\n",
       "      <td>0.396078</td>\n",
       "      <td>0.521569</td>\n",
       "      <td>0.509804</td>\n",
       "      <td>0.490196</td>\n",
       "      <td>0.274510</td>\n",
       "      <td>0.443137</td>\n",
       "      <td>0.713725</td>\n",
       "      <td>0.498039</td>\n",
       "      <td>0.443137</td>\n",
       "      <td>0.654902</td>\n",
       "    </tr>\n",
       "    <tr>\n",
       "      <th>24998</th>\n",
       "      <td>0.996078</td>\n",
       "      <td>0.984314</td>\n",
       "      <td>0.960784</td>\n",
       "      <td>0.917647</td>\n",
       "      <td>0.878431</td>\n",
       "      <td>0.811765</td>\n",
       "      <td>0.741176</td>\n",
       "      <td>0.564706</td>\n",
       "      <td>0.439216</td>\n",
       "      <td>0.294118</td>\n",
       "      <td>...</td>\n",
       "      <td>0.462745</td>\n",
       "      <td>0.400000</td>\n",
       "      <td>0.419608</td>\n",
       "      <td>0.447059</td>\n",
       "      <td>0.435294</td>\n",
       "      <td>0.435294</td>\n",
       "      <td>0.419608</td>\n",
       "      <td>0.454902</td>\n",
       "      <td>0.447059</td>\n",
       "      <td>0.474510</td>\n",
       "    </tr>\n",
       "  </tbody>\n",
       "</table>\n",
       "<p>24999 rows × 10000 columns</p>\n",
       "</div>"
      ],
      "text/plain": [
       "              0         1         2         3         4         5         6  \\\n",
       "0      0.658824  0.682353  0.694118  0.709804  0.725490  0.737255  0.745098   \n",
       "1      0.168627  0.172549  0.168627  0.164706  0.203922  0.133333  0.200000   \n",
       "2      0.152941  0.098039  0.168627  0.192157  0.184314  0.223529  0.227451   \n",
       "3      0.866667  0.878431  0.870588  0.894118  0.898039  0.878431  0.878431   \n",
       "4      0.450980  0.466667  0.478431  0.356863  0.325490  0.372549  0.517647   \n",
       "...         ...       ...       ...       ...       ...       ...       ...   \n",
       "24994  0.478431  0.501961  0.486275  0.490196  0.498039  0.505882  0.509804   \n",
       "24995  0.549020  0.560784  0.556863  0.568627  0.572549  0.576471  0.580392   \n",
       "24996  0.458824  0.305882  0.400000  0.325490  0.396078  0.443137  0.270588   \n",
       "24997  0.164706  0.137255  0.184314  0.227451  0.254902  0.180392  0.200000   \n",
       "24998  0.996078  0.984314  0.960784  0.917647  0.878431  0.811765  0.741176   \n",
       "\n",
       "              7         8         9  ...      9990      9991      9992  \\\n",
       "0      0.756863  0.768627  0.776471  ...  0.011765  0.011765  0.011765   \n",
       "1      0.156863  0.152941  0.247059  ...  0.172549  0.184314  0.196078   \n",
       "2      0.211765  0.207843  0.231373  ...  0.600000  0.619608  0.588235   \n",
       "3      0.921569  0.898039  0.890196  ...  0.905882  0.831373  0.800000   \n",
       "4      0.513725  0.584314  0.705882  ...  0.364706  0.376471  0.380392   \n",
       "...         ...       ...       ...  ...       ...       ...       ...   \n",
       "24994  0.501961  0.490196  0.478431  ...  0.207843  0.192157  0.192157   \n",
       "24995  0.584314  0.580392  0.584314  ...  0.643137  0.647059  0.650980   \n",
       "24996  0.333333  0.337255  0.337255  ...  0.376471  0.380392  0.301961   \n",
       "24997  0.223529  0.227451  0.156863  ...  0.396078  0.521569  0.509804   \n",
       "24998  0.564706  0.439216  0.294118  ...  0.462745  0.400000  0.419608   \n",
       "\n",
       "           9993      9994      9995      9996      9997      9998      9999  \n",
       "0      0.007843  0.007843  0.007843  0.007843  0.007843  0.007843  0.007843  \n",
       "1      0.192157  0.215686  0.247059  0.250980  0.349020  0.074510  0.141176  \n",
       "2      0.521569  0.529412  0.568627  0.627451  0.662745  0.670588  0.600000  \n",
       "3      0.800000  0.796078  0.843137  0.870588  0.850980  0.827451  0.835294  \n",
       "4      0.368627  0.392157  0.466667  0.372549  0.352941  0.372549  0.321569  \n",
       "...         ...       ...       ...       ...       ...       ...       ...  \n",
       "24994  0.176471  0.125490  0.125490  0.137255  0.101961  0.082353  0.066667  \n",
       "24995  0.650980  0.654902  0.658824  0.658824  0.658824  0.658824  0.662745  \n",
       "24996  0.392157  0.329412  0.301961  0.333333  0.364706  0.368627  0.290196  \n",
       "24997  0.490196  0.274510  0.443137  0.713725  0.498039  0.443137  0.654902  \n",
       "24998  0.447059  0.435294  0.435294  0.419608  0.454902  0.447059  0.474510  \n",
       "\n",
       "[24999 rows x 10000 columns]"
      ]
     },
     "execution_count": 18,
     "metadata": {},
     "output_type": "execute_result"
    }
   ],
   "source": [
    "training_set1=training_set1.drop(['10000'], axis=1)\n",
    "training_set1"
   ]
  },
  {
   "cell_type": "code",
   "execution_count": 19,
   "metadata": {},
   "outputs": [
    {
     "data": {
      "text/html": [
       "<div>\n",
       "<style scoped>\n",
       "    .dataframe tbody tr th:only-of-type {\n",
       "        vertical-align: middle;\n",
       "    }\n",
       "\n",
       "    .dataframe tbody tr th {\n",
       "        vertical-align: top;\n",
       "    }\n",
       "\n",
       "    .dataframe thead th {\n",
       "        text-align: right;\n",
       "    }\n",
       "</style>\n",
       "<table border=\"1\" class=\"dataframe\">\n",
       "  <thead>\n",
       "    <tr style=\"text-align: right;\">\n",
       "      <th></th>\n",
       "      <th>0</th>\n",
       "      <th>1</th>\n",
       "      <th>2</th>\n",
       "      <th>3</th>\n",
       "      <th>4</th>\n",
       "      <th>5</th>\n",
       "      <th>6</th>\n",
       "      <th>7</th>\n",
       "      <th>8</th>\n",
       "      <th>9</th>\n",
       "      <th>...</th>\n",
       "      <th>9991</th>\n",
       "      <th>9992</th>\n",
       "      <th>9993</th>\n",
       "      <th>9994</th>\n",
       "      <th>9995</th>\n",
       "      <th>9996</th>\n",
       "      <th>9997</th>\n",
       "      <th>9998</th>\n",
       "      <th>9999</th>\n",
       "      <th>label</th>\n",
       "    </tr>\n",
       "  </thead>\n",
       "  <tbody>\n",
       "    <tr>\n",
       "      <th>0</th>\n",
       "      <td>0.658824</td>\n",
       "      <td>0.682353</td>\n",
       "      <td>0.694118</td>\n",
       "      <td>0.709804</td>\n",
       "      <td>0.725490</td>\n",
       "      <td>0.737255</td>\n",
       "      <td>0.745098</td>\n",
       "      <td>0.756863</td>\n",
       "      <td>0.768627</td>\n",
       "      <td>0.776471</td>\n",
       "      <td>...</td>\n",
       "      <td>0.011765</td>\n",
       "      <td>0.011765</td>\n",
       "      <td>0.007843</td>\n",
       "      <td>0.007843</td>\n",
       "      <td>0.007843</td>\n",
       "      <td>0.007843</td>\n",
       "      <td>0.007843</td>\n",
       "      <td>0.007843</td>\n",
       "      <td>0.007843</td>\n",
       "      <td>0</td>\n",
       "    </tr>\n",
       "    <tr>\n",
       "      <th>1</th>\n",
       "      <td>0.168627</td>\n",
       "      <td>0.172549</td>\n",
       "      <td>0.168627</td>\n",
       "      <td>0.164706</td>\n",
       "      <td>0.203922</td>\n",
       "      <td>0.133333</td>\n",
       "      <td>0.200000</td>\n",
       "      <td>0.156863</td>\n",
       "      <td>0.152941</td>\n",
       "      <td>0.247059</td>\n",
       "      <td>...</td>\n",
       "      <td>0.184314</td>\n",
       "      <td>0.196078</td>\n",
       "      <td>0.192157</td>\n",
       "      <td>0.215686</td>\n",
       "      <td>0.247059</td>\n",
       "      <td>0.250980</td>\n",
       "      <td>0.349020</td>\n",
       "      <td>0.074510</td>\n",
       "      <td>0.141176</td>\n",
       "      <td>0</td>\n",
       "    </tr>\n",
       "    <tr>\n",
       "      <th>2</th>\n",
       "      <td>0.152941</td>\n",
       "      <td>0.098039</td>\n",
       "      <td>0.168627</td>\n",
       "      <td>0.192157</td>\n",
       "      <td>0.184314</td>\n",
       "      <td>0.223529</td>\n",
       "      <td>0.227451</td>\n",
       "      <td>0.211765</td>\n",
       "      <td>0.207843</td>\n",
       "      <td>0.231373</td>\n",
       "      <td>...</td>\n",
       "      <td>0.619608</td>\n",
       "      <td>0.588235</td>\n",
       "      <td>0.521569</td>\n",
       "      <td>0.529412</td>\n",
       "      <td>0.568627</td>\n",
       "      <td>0.627451</td>\n",
       "      <td>0.662745</td>\n",
       "      <td>0.670588</td>\n",
       "      <td>0.600000</td>\n",
       "      <td>0</td>\n",
       "    </tr>\n",
       "    <tr>\n",
       "      <th>3</th>\n",
       "      <td>0.866667</td>\n",
       "      <td>0.878431</td>\n",
       "      <td>0.870588</td>\n",
       "      <td>0.894118</td>\n",
       "      <td>0.898039</td>\n",
       "      <td>0.878431</td>\n",
       "      <td>0.878431</td>\n",
       "      <td>0.921569</td>\n",
       "      <td>0.898039</td>\n",
       "      <td>0.890196</td>\n",
       "      <td>...</td>\n",
       "      <td>0.831373</td>\n",
       "      <td>0.800000</td>\n",
       "      <td>0.800000</td>\n",
       "      <td>0.796078</td>\n",
       "      <td>0.843137</td>\n",
       "      <td>0.870588</td>\n",
       "      <td>0.850980</td>\n",
       "      <td>0.827451</td>\n",
       "      <td>0.835294</td>\n",
       "      <td>0</td>\n",
       "    </tr>\n",
       "    <tr>\n",
       "      <th>4</th>\n",
       "      <td>0.450980</td>\n",
       "      <td>0.466667</td>\n",
       "      <td>0.478431</td>\n",
       "      <td>0.356863</td>\n",
       "      <td>0.325490</td>\n",
       "      <td>0.372549</td>\n",
       "      <td>0.517647</td>\n",
       "      <td>0.513725</td>\n",
       "      <td>0.584314</td>\n",
       "      <td>0.705882</td>\n",
       "      <td>...</td>\n",
       "      <td>0.376471</td>\n",
       "      <td>0.380392</td>\n",
       "      <td>0.368627</td>\n",
       "      <td>0.392157</td>\n",
       "      <td>0.466667</td>\n",
       "      <td>0.372549</td>\n",
       "      <td>0.352941</td>\n",
       "      <td>0.372549</td>\n",
       "      <td>0.321569</td>\n",
       "      <td>0</td>\n",
       "    </tr>\n",
       "    <tr>\n",
       "      <th>...</th>\n",
       "      <td>...</td>\n",
       "      <td>...</td>\n",
       "      <td>...</td>\n",
       "      <td>...</td>\n",
       "      <td>...</td>\n",
       "      <td>...</td>\n",
       "      <td>...</td>\n",
       "      <td>...</td>\n",
       "      <td>...</td>\n",
       "      <td>...</td>\n",
       "      <td>...</td>\n",
       "      <td>...</td>\n",
       "      <td>...</td>\n",
       "      <td>...</td>\n",
       "      <td>...</td>\n",
       "      <td>...</td>\n",
       "      <td>...</td>\n",
       "      <td>...</td>\n",
       "      <td>...</td>\n",
       "      <td>...</td>\n",
       "      <td>...</td>\n",
       "    </tr>\n",
       "    <tr>\n",
       "      <th>24994</th>\n",
       "      <td>0.478431</td>\n",
       "      <td>0.501961</td>\n",
       "      <td>0.486275</td>\n",
       "      <td>0.490196</td>\n",
       "      <td>0.498039</td>\n",
       "      <td>0.505882</td>\n",
       "      <td>0.509804</td>\n",
       "      <td>0.501961</td>\n",
       "      <td>0.490196</td>\n",
       "      <td>0.478431</td>\n",
       "      <td>...</td>\n",
       "      <td>0.192157</td>\n",
       "      <td>0.192157</td>\n",
       "      <td>0.176471</td>\n",
       "      <td>0.125490</td>\n",
       "      <td>0.125490</td>\n",
       "      <td>0.137255</td>\n",
       "      <td>0.101961</td>\n",
       "      <td>0.082353</td>\n",
       "      <td>0.066667</td>\n",
       "      <td>1</td>\n",
       "    </tr>\n",
       "    <tr>\n",
       "      <th>24995</th>\n",
       "      <td>0.549020</td>\n",
       "      <td>0.560784</td>\n",
       "      <td>0.556863</td>\n",
       "      <td>0.568627</td>\n",
       "      <td>0.572549</td>\n",
       "      <td>0.576471</td>\n",
       "      <td>0.580392</td>\n",
       "      <td>0.584314</td>\n",
       "      <td>0.580392</td>\n",
       "      <td>0.584314</td>\n",
       "      <td>...</td>\n",
       "      <td>0.647059</td>\n",
       "      <td>0.650980</td>\n",
       "      <td>0.650980</td>\n",
       "      <td>0.654902</td>\n",
       "      <td>0.658824</td>\n",
       "      <td>0.658824</td>\n",
       "      <td>0.658824</td>\n",
       "      <td>0.658824</td>\n",
       "      <td>0.662745</td>\n",
       "      <td>1</td>\n",
       "    </tr>\n",
       "    <tr>\n",
       "      <th>24996</th>\n",
       "      <td>0.458824</td>\n",
       "      <td>0.305882</td>\n",
       "      <td>0.400000</td>\n",
       "      <td>0.325490</td>\n",
       "      <td>0.396078</td>\n",
       "      <td>0.443137</td>\n",
       "      <td>0.270588</td>\n",
       "      <td>0.333333</td>\n",
       "      <td>0.337255</td>\n",
       "      <td>0.337255</td>\n",
       "      <td>...</td>\n",
       "      <td>0.380392</td>\n",
       "      <td>0.301961</td>\n",
       "      <td>0.392157</td>\n",
       "      <td>0.329412</td>\n",
       "      <td>0.301961</td>\n",
       "      <td>0.333333</td>\n",
       "      <td>0.364706</td>\n",
       "      <td>0.368627</td>\n",
       "      <td>0.290196</td>\n",
       "      <td>1</td>\n",
       "    </tr>\n",
       "    <tr>\n",
       "      <th>24997</th>\n",
       "      <td>0.164706</td>\n",
       "      <td>0.137255</td>\n",
       "      <td>0.184314</td>\n",
       "      <td>0.227451</td>\n",
       "      <td>0.254902</td>\n",
       "      <td>0.180392</td>\n",
       "      <td>0.200000</td>\n",
       "      <td>0.223529</td>\n",
       "      <td>0.227451</td>\n",
       "      <td>0.156863</td>\n",
       "      <td>...</td>\n",
       "      <td>0.521569</td>\n",
       "      <td>0.509804</td>\n",
       "      <td>0.490196</td>\n",
       "      <td>0.274510</td>\n",
       "      <td>0.443137</td>\n",
       "      <td>0.713725</td>\n",
       "      <td>0.498039</td>\n",
       "      <td>0.443137</td>\n",
       "      <td>0.654902</td>\n",
       "      <td>1</td>\n",
       "    </tr>\n",
       "    <tr>\n",
       "      <th>24998</th>\n",
       "      <td>0.996078</td>\n",
       "      <td>0.984314</td>\n",
       "      <td>0.960784</td>\n",
       "      <td>0.917647</td>\n",
       "      <td>0.878431</td>\n",
       "      <td>0.811765</td>\n",
       "      <td>0.741176</td>\n",
       "      <td>0.564706</td>\n",
       "      <td>0.439216</td>\n",
       "      <td>0.294118</td>\n",
       "      <td>...</td>\n",
       "      <td>0.400000</td>\n",
       "      <td>0.419608</td>\n",
       "      <td>0.447059</td>\n",
       "      <td>0.435294</td>\n",
       "      <td>0.435294</td>\n",
       "      <td>0.419608</td>\n",
       "      <td>0.454902</td>\n",
       "      <td>0.447059</td>\n",
       "      <td>0.474510</td>\n",
       "      <td>1</td>\n",
       "    </tr>\n",
       "  </tbody>\n",
       "</table>\n",
       "<p>24999 rows × 10001 columns</p>\n",
       "</div>"
      ],
      "text/plain": [
       "              0         1         2         3         4         5         6  \\\n",
       "0      0.658824  0.682353  0.694118  0.709804  0.725490  0.737255  0.745098   \n",
       "1      0.168627  0.172549  0.168627  0.164706  0.203922  0.133333  0.200000   \n",
       "2      0.152941  0.098039  0.168627  0.192157  0.184314  0.223529  0.227451   \n",
       "3      0.866667  0.878431  0.870588  0.894118  0.898039  0.878431  0.878431   \n",
       "4      0.450980  0.466667  0.478431  0.356863  0.325490  0.372549  0.517647   \n",
       "...         ...       ...       ...       ...       ...       ...       ...   \n",
       "24994  0.478431  0.501961  0.486275  0.490196  0.498039  0.505882  0.509804   \n",
       "24995  0.549020  0.560784  0.556863  0.568627  0.572549  0.576471  0.580392   \n",
       "24996  0.458824  0.305882  0.400000  0.325490  0.396078  0.443137  0.270588   \n",
       "24997  0.164706  0.137255  0.184314  0.227451  0.254902  0.180392  0.200000   \n",
       "24998  0.996078  0.984314  0.960784  0.917647  0.878431  0.811765  0.741176   \n",
       "\n",
       "              7         8         9  ...      9991      9992      9993  \\\n",
       "0      0.756863  0.768627  0.776471  ...  0.011765  0.011765  0.007843   \n",
       "1      0.156863  0.152941  0.247059  ...  0.184314  0.196078  0.192157   \n",
       "2      0.211765  0.207843  0.231373  ...  0.619608  0.588235  0.521569   \n",
       "3      0.921569  0.898039  0.890196  ...  0.831373  0.800000  0.800000   \n",
       "4      0.513725  0.584314  0.705882  ...  0.376471  0.380392  0.368627   \n",
       "...         ...       ...       ...  ...       ...       ...       ...   \n",
       "24994  0.501961  0.490196  0.478431  ...  0.192157  0.192157  0.176471   \n",
       "24995  0.584314  0.580392  0.584314  ...  0.647059  0.650980  0.650980   \n",
       "24996  0.333333  0.337255  0.337255  ...  0.380392  0.301961  0.392157   \n",
       "24997  0.223529  0.227451  0.156863  ...  0.521569  0.509804  0.490196   \n",
       "24998  0.564706  0.439216  0.294118  ...  0.400000  0.419608  0.447059   \n",
       "\n",
       "           9994      9995      9996      9997      9998      9999  label  \n",
       "0      0.007843  0.007843  0.007843  0.007843  0.007843  0.007843      0  \n",
       "1      0.215686  0.247059  0.250980  0.349020  0.074510  0.141176      0  \n",
       "2      0.529412  0.568627  0.627451  0.662745  0.670588  0.600000      0  \n",
       "3      0.796078  0.843137  0.870588  0.850980  0.827451  0.835294      0  \n",
       "4      0.392157  0.466667  0.372549  0.352941  0.372549  0.321569      0  \n",
       "...         ...       ...       ...       ...       ...       ...    ...  \n",
       "24994  0.125490  0.125490  0.137255  0.101961  0.082353  0.066667      1  \n",
       "24995  0.654902  0.658824  0.658824  0.658824  0.658824  0.662745      1  \n",
       "24996  0.329412  0.301961  0.333333  0.364706  0.368627  0.290196      1  \n",
       "24997  0.274510  0.443137  0.713725  0.498039  0.443137  0.654902      1  \n",
       "24998  0.435294  0.435294  0.419608  0.454902  0.447059  0.474510      1  \n",
       "\n",
       "[24999 rows x 10001 columns]"
      ]
     },
     "execution_count": 19,
     "metadata": {},
     "output_type": "execute_result"
    }
   ],
   "source": [
    "training_set1['label']=label\n",
    "training_set1"
   ]
  },
  {
   "cell_type": "code",
   "execution_count": null,
   "metadata": {},
   "outputs": [],
   "source": [
    "\n"
   ]
  },
  {
   "cell_type": "code",
   "execution_count": 20,
   "metadata": {},
   "outputs": [],
   "source": [
    "#splitting the data\n",
    "# i need to split it into 3 parts \n",
    "train_set, test_set1 = train_test_split(training_set1, test_size=0.3, random_state=42)\n",
    "test_set, test_set_dont_touch=train_test_split(test_set1, test_size=0.5, random_state=42)"
   ]
  },
  {
   "cell_type": "code",
   "execution_count": 21,
   "metadata": {},
   "outputs": [
    {
     "name": "stdout",
     "output_type": "stream",
     "text": [
      "<class 'pandas.core.frame.DataFrame'>\n",
      "Int64Index: 17499 entries, 4913 to 23654\n",
      "Columns: 10001 entries, 0 to label\n",
      "dtypes: float64(10000), int64(1)\n",
      "memory usage: 1.3 GB\n"
     ]
    }
   ],
   "source": [
    "train_set.info()"
   ]
  },
  {
   "cell_type": "code",
   "execution_count": 22,
   "metadata": {},
   "outputs": [
    {
     "name": "stdout",
     "output_type": "stream",
     "text": [
      "<class 'pandas.core.frame.DataFrame'>\n",
      "Int64Index: 3750 entries, 23922 to 24214\n",
      "Columns: 10001 entries, 0 to label\n",
      "dtypes: float64(10000), int64(1)\n",
      "memory usage: 286.2 MB\n"
     ]
    }
   ],
   "source": [
    "test_set.info()"
   ]
  },
  {
   "cell_type": "code",
   "execution_count": 23,
   "metadata": {},
   "outputs": [
    {
     "name": "stdout",
     "output_type": "stream",
     "text": [
      "<class 'pandas.core.frame.DataFrame'>\n",
      "Int64Index: 3750 entries, 17149 to 8198\n",
      "Columns: 10001 entries, 0 to label\n",
      "dtypes: float64(10000), int64(1)\n",
      "memory usage: 286.2 MB\n"
     ]
    }
   ],
   "source": [
    "test_set_dont_touch.info()"
   ]
  },
  {
   "cell_type": "code",
   "execution_count": 24,
   "metadata": {},
   "outputs": [
    {
     "data": {
      "text/html": [
       "<div>\n",
       "<style scoped>\n",
       "    .dataframe tbody tr th:only-of-type {\n",
       "        vertical-align: middle;\n",
       "    }\n",
       "\n",
       "    .dataframe tbody tr th {\n",
       "        vertical-align: top;\n",
       "    }\n",
       "\n",
       "    .dataframe thead th {\n",
       "        text-align: right;\n",
       "    }\n",
       "</style>\n",
       "<table border=\"1\" class=\"dataframe\">\n",
       "  <thead>\n",
       "    <tr style=\"text-align: right;\">\n",
       "      <th></th>\n",
       "      <th>0</th>\n",
       "      <th>1</th>\n",
       "      <th>2</th>\n",
       "      <th>3</th>\n",
       "      <th>4</th>\n",
       "      <th>5</th>\n",
       "      <th>6</th>\n",
       "      <th>7</th>\n",
       "      <th>8</th>\n",
       "      <th>9</th>\n",
       "      <th>...</th>\n",
       "      <th>9991</th>\n",
       "      <th>9992</th>\n",
       "      <th>9993</th>\n",
       "      <th>9994</th>\n",
       "      <th>9995</th>\n",
       "      <th>9996</th>\n",
       "      <th>9997</th>\n",
       "      <th>9998</th>\n",
       "      <th>9999</th>\n",
       "      <th>label</th>\n",
       "    </tr>\n",
       "  </thead>\n",
       "  <tbody>\n",
       "    <tr>\n",
       "      <th>4913</th>\n",
       "      <td>0.109804</td>\n",
       "      <td>0.152941</td>\n",
       "      <td>0.215686</td>\n",
       "      <td>0.290196</td>\n",
       "      <td>0.101961</td>\n",
       "      <td>0.058824</td>\n",
       "      <td>0.082353</td>\n",
       "      <td>0.074510</td>\n",
       "      <td>0.035294</td>\n",
       "      <td>0.070588</td>\n",
       "      <td>...</td>\n",
       "      <td>0.796078</td>\n",
       "      <td>0.811765</td>\n",
       "      <td>0.807843</td>\n",
       "      <td>0.803922</td>\n",
       "      <td>0.803922</td>\n",
       "      <td>0.807843</td>\n",
       "      <td>0.780392</td>\n",
       "      <td>0.760784</td>\n",
       "      <td>0.752941</td>\n",
       "      <td>0</td>\n",
       "    </tr>\n",
       "    <tr>\n",
       "      <th>9338</th>\n",
       "      <td>0.929412</td>\n",
       "      <td>0.945098</td>\n",
       "      <td>0.937255</td>\n",
       "      <td>0.941176</td>\n",
       "      <td>0.949020</td>\n",
       "      <td>0.933333</td>\n",
       "      <td>0.929412</td>\n",
       "      <td>0.925490</td>\n",
       "      <td>0.913725</td>\n",
       "      <td>0.929412</td>\n",
       "      <td>...</td>\n",
       "      <td>0.658824</td>\n",
       "      <td>0.619608</td>\n",
       "      <td>0.623529</td>\n",
       "      <td>0.462745</td>\n",
       "      <td>0.498039</td>\n",
       "      <td>0.576471</td>\n",
       "      <td>0.552941</td>\n",
       "      <td>0.568627</td>\n",
       "      <td>0.686275</td>\n",
       "      <td>0</td>\n",
       "    </tr>\n",
       "    <tr>\n",
       "      <th>24210</th>\n",
       "      <td>0.803922</td>\n",
       "      <td>0.737255</td>\n",
       "      <td>0.639216</td>\n",
       "      <td>0.529412</td>\n",
       "      <td>0.482353</td>\n",
       "      <td>0.549020</td>\n",
       "      <td>0.537255</td>\n",
       "      <td>0.486275</td>\n",
       "      <td>0.435294</td>\n",
       "      <td>0.392157</td>\n",
       "      <td>...</td>\n",
       "      <td>0.670588</td>\n",
       "      <td>0.658824</td>\n",
       "      <td>0.662745</td>\n",
       "      <td>0.650980</td>\n",
       "      <td>0.611765</td>\n",
       "      <td>0.541176</td>\n",
       "      <td>0.450980</td>\n",
       "      <td>0.392157</td>\n",
       "      <td>0.352941</td>\n",
       "      <td>1</td>\n",
       "    </tr>\n",
       "    <tr>\n",
       "      <th>18790</th>\n",
       "      <td>0.333333</td>\n",
       "      <td>0.341176</td>\n",
       "      <td>0.329412</td>\n",
       "      <td>0.317647</td>\n",
       "      <td>0.325490</td>\n",
       "      <td>0.329412</td>\n",
       "      <td>0.341176</td>\n",
       "      <td>0.349020</td>\n",
       "      <td>0.356863</td>\n",
       "      <td>0.360784</td>\n",
       "      <td>...</td>\n",
       "      <td>0.274510</td>\n",
       "      <td>0.168627</td>\n",
       "      <td>0.109804</td>\n",
       "      <td>0.321569</td>\n",
       "      <td>0.156863</td>\n",
       "      <td>0.133333</td>\n",
       "      <td>0.294118</td>\n",
       "      <td>0.341176</td>\n",
       "      <td>0.203922</td>\n",
       "      <td>1</td>\n",
       "    </tr>\n",
       "    <tr>\n",
       "      <th>16066</th>\n",
       "      <td>0.525490</td>\n",
       "      <td>0.513725</td>\n",
       "      <td>0.517647</td>\n",
       "      <td>0.521569</td>\n",
       "      <td>0.501961</td>\n",
       "      <td>0.478431</td>\n",
       "      <td>0.482353</td>\n",
       "      <td>0.458824</td>\n",
       "      <td>0.427451</td>\n",
       "      <td>0.439216</td>\n",
       "      <td>...</td>\n",
       "      <td>0.305882</td>\n",
       "      <td>0.447059</td>\n",
       "      <td>0.400000</td>\n",
       "      <td>0.333333</td>\n",
       "      <td>0.549020</td>\n",
       "      <td>0.482353</td>\n",
       "      <td>0.478431</td>\n",
       "      <td>0.423529</td>\n",
       "      <td>0.419608</td>\n",
       "      <td>1</td>\n",
       "    </tr>\n",
       "  </tbody>\n",
       "</table>\n",
       "<p>5 rows × 10001 columns</p>\n",
       "</div>"
      ],
      "text/plain": [
       "              0         1         2         3         4         5         6  \\\n",
       "4913   0.109804  0.152941  0.215686  0.290196  0.101961  0.058824  0.082353   \n",
       "9338   0.929412  0.945098  0.937255  0.941176  0.949020  0.933333  0.929412   \n",
       "24210  0.803922  0.737255  0.639216  0.529412  0.482353  0.549020  0.537255   \n",
       "18790  0.333333  0.341176  0.329412  0.317647  0.325490  0.329412  0.341176   \n",
       "16066  0.525490  0.513725  0.517647  0.521569  0.501961  0.478431  0.482353   \n",
       "\n",
       "              7         8         9  ...      9991      9992      9993  \\\n",
       "4913   0.074510  0.035294  0.070588  ...  0.796078  0.811765  0.807843   \n",
       "9338   0.925490  0.913725  0.929412  ...  0.658824  0.619608  0.623529   \n",
       "24210  0.486275  0.435294  0.392157  ...  0.670588  0.658824  0.662745   \n",
       "18790  0.349020  0.356863  0.360784  ...  0.274510  0.168627  0.109804   \n",
       "16066  0.458824  0.427451  0.439216  ...  0.305882  0.447059  0.400000   \n",
       "\n",
       "           9994      9995      9996      9997      9998      9999  label  \n",
       "4913   0.803922  0.803922  0.807843  0.780392  0.760784  0.752941      0  \n",
       "9338   0.462745  0.498039  0.576471  0.552941  0.568627  0.686275      0  \n",
       "24210  0.650980  0.611765  0.541176  0.450980  0.392157  0.352941      1  \n",
       "18790  0.321569  0.156863  0.133333  0.294118  0.341176  0.203922      1  \n",
       "16066  0.333333  0.549020  0.482353  0.478431  0.423529  0.419608      1  \n",
       "\n",
       "[5 rows x 10001 columns]"
      ]
     },
     "execution_count": 24,
     "metadata": {},
     "output_type": "execute_result"
    }
   ],
   "source": [
    "train_set.head()"
   ]
  },
  {
   "cell_type": "code",
   "execution_count": 25,
   "metadata": {},
   "outputs": [
    {
     "data": {
      "text/html": [
       "<div>\n",
       "<style scoped>\n",
       "    .dataframe tbody tr th:only-of-type {\n",
       "        vertical-align: middle;\n",
       "    }\n",
       "\n",
       "    .dataframe tbody tr th {\n",
       "        vertical-align: top;\n",
       "    }\n",
       "\n",
       "    .dataframe thead th {\n",
       "        text-align: right;\n",
       "    }\n",
       "</style>\n",
       "<table border=\"1\" class=\"dataframe\">\n",
       "  <thead>\n",
       "    <tr style=\"text-align: right;\">\n",
       "      <th></th>\n",
       "      <th>0</th>\n",
       "      <th>1</th>\n",
       "      <th>2</th>\n",
       "      <th>3</th>\n",
       "      <th>4</th>\n",
       "      <th>5</th>\n",
       "      <th>6</th>\n",
       "      <th>7</th>\n",
       "      <th>8</th>\n",
       "      <th>9</th>\n",
       "      <th>...</th>\n",
       "      <th>9991</th>\n",
       "      <th>9992</th>\n",
       "      <th>9993</th>\n",
       "      <th>9994</th>\n",
       "      <th>9995</th>\n",
       "      <th>9996</th>\n",
       "      <th>9997</th>\n",
       "      <th>9998</th>\n",
       "      <th>9999</th>\n",
       "      <th>label</th>\n",
       "    </tr>\n",
       "  </thead>\n",
       "  <tbody>\n",
       "    <tr>\n",
       "      <th>23922</th>\n",
       "      <td>0.556863</td>\n",
       "      <td>0.627451</td>\n",
       "      <td>0.552941</td>\n",
       "      <td>0.572549</td>\n",
       "      <td>0.635294</td>\n",
       "      <td>0.623529</td>\n",
       "      <td>0.654902</td>\n",
       "      <td>0.658824</td>\n",
       "      <td>0.662745</td>\n",
       "      <td>0.658824</td>\n",
       "      <td>...</td>\n",
       "      <td>0.082353</td>\n",
       "      <td>0.082353</td>\n",
       "      <td>0.078431</td>\n",
       "      <td>0.070588</td>\n",
       "      <td>0.078431</td>\n",
       "      <td>0.074510</td>\n",
       "      <td>0.082353</td>\n",
       "      <td>0.090196</td>\n",
       "      <td>0.090196</td>\n",
       "      <td>1</td>\n",
       "    </tr>\n",
       "    <tr>\n",
       "      <th>3852</th>\n",
       "      <td>0.109804</td>\n",
       "      <td>0.094118</td>\n",
       "      <td>0.113725</td>\n",
       "      <td>0.098039</td>\n",
       "      <td>0.105882</td>\n",
       "      <td>0.113725</td>\n",
       "      <td>0.113725</td>\n",
       "      <td>0.094118</td>\n",
       "      <td>0.105882</td>\n",
       "      <td>0.094118</td>\n",
       "      <td>...</td>\n",
       "      <td>0.113725</td>\n",
       "      <td>0.109804</td>\n",
       "      <td>0.105882</td>\n",
       "      <td>0.105882</td>\n",
       "      <td>0.121569</td>\n",
       "      <td>0.113725</td>\n",
       "      <td>0.125490</td>\n",
       "      <td>0.101961</td>\n",
       "      <td>0.113725</td>\n",
       "      <td>0</td>\n",
       "    </tr>\n",
       "    <tr>\n",
       "      <th>16283</th>\n",
       "      <td>0.835294</td>\n",
       "      <td>0.882353</td>\n",
       "      <td>0.874510</td>\n",
       "      <td>0.862745</td>\n",
       "      <td>0.921569</td>\n",
       "      <td>0.901961</td>\n",
       "      <td>0.952941</td>\n",
       "      <td>0.819608</td>\n",
       "      <td>0.945098</td>\n",
       "      <td>0.898039</td>\n",
       "      <td>...</td>\n",
       "      <td>1.000000</td>\n",
       "      <td>0.972549</td>\n",
       "      <td>0.945098</td>\n",
       "      <td>0.776471</td>\n",
       "      <td>0.941176</td>\n",
       "      <td>0.905882</td>\n",
       "      <td>0.878431</td>\n",
       "      <td>0.882353</td>\n",
       "      <td>0.866667</td>\n",
       "      <td>1</td>\n",
       "    </tr>\n",
       "    <tr>\n",
       "      <th>4271</th>\n",
       "      <td>0.431373</td>\n",
       "      <td>0.384314</td>\n",
       "      <td>0.494118</td>\n",
       "      <td>0.505882</td>\n",
       "      <td>0.498039</td>\n",
       "      <td>0.513725</td>\n",
       "      <td>0.486275</td>\n",
       "      <td>0.517647</td>\n",
       "      <td>0.650980</td>\n",
       "      <td>0.619608</td>\n",
       "      <td>...</td>\n",
       "      <td>0.890196</td>\n",
       "      <td>0.843137</td>\n",
       "      <td>0.905882</td>\n",
       "      <td>0.862745</td>\n",
       "      <td>0.866667</td>\n",
       "      <td>0.862745</td>\n",
       "      <td>0.843137</td>\n",
       "      <td>0.882353</td>\n",
       "      <td>0.882353</td>\n",
       "      <td>0</td>\n",
       "    </tr>\n",
       "    <tr>\n",
       "      <th>11337</th>\n",
       "      <td>0.847059</td>\n",
       "      <td>0.819608</td>\n",
       "      <td>0.776471</td>\n",
       "      <td>0.843137</td>\n",
       "      <td>0.800000</td>\n",
       "      <td>0.686275</td>\n",
       "      <td>0.839216</td>\n",
       "      <td>0.866667</td>\n",
       "      <td>0.847059</td>\n",
       "      <td>0.792157</td>\n",
       "      <td>...</td>\n",
       "      <td>0.588235</td>\n",
       "      <td>0.435294</td>\n",
       "      <td>0.439216</td>\n",
       "      <td>0.482353</td>\n",
       "      <td>0.490196</td>\n",
       "      <td>0.552941</td>\n",
       "      <td>0.588235</td>\n",
       "      <td>0.576471</td>\n",
       "      <td>0.815686</td>\n",
       "      <td>0</td>\n",
       "    </tr>\n",
       "  </tbody>\n",
       "</table>\n",
       "<p>5 rows × 10001 columns</p>\n",
       "</div>"
      ],
      "text/plain": [
       "              0         1         2         3         4         5         6  \\\n",
       "23922  0.556863  0.627451  0.552941  0.572549  0.635294  0.623529  0.654902   \n",
       "3852   0.109804  0.094118  0.113725  0.098039  0.105882  0.113725  0.113725   \n",
       "16283  0.835294  0.882353  0.874510  0.862745  0.921569  0.901961  0.952941   \n",
       "4271   0.431373  0.384314  0.494118  0.505882  0.498039  0.513725  0.486275   \n",
       "11337  0.847059  0.819608  0.776471  0.843137  0.800000  0.686275  0.839216   \n",
       "\n",
       "              7         8         9  ...      9991      9992      9993  \\\n",
       "23922  0.658824  0.662745  0.658824  ...  0.082353  0.082353  0.078431   \n",
       "3852   0.094118  0.105882  0.094118  ...  0.113725  0.109804  0.105882   \n",
       "16283  0.819608  0.945098  0.898039  ...  1.000000  0.972549  0.945098   \n",
       "4271   0.517647  0.650980  0.619608  ...  0.890196  0.843137  0.905882   \n",
       "11337  0.866667  0.847059  0.792157  ...  0.588235  0.435294  0.439216   \n",
       "\n",
       "           9994      9995      9996      9997      9998      9999  label  \n",
       "23922  0.070588  0.078431  0.074510  0.082353  0.090196  0.090196      1  \n",
       "3852   0.105882  0.121569  0.113725  0.125490  0.101961  0.113725      0  \n",
       "16283  0.776471  0.941176  0.905882  0.878431  0.882353  0.866667      1  \n",
       "4271   0.862745  0.866667  0.862745  0.843137  0.882353  0.882353      0  \n",
       "11337  0.482353  0.490196  0.552941  0.588235  0.576471  0.815686      0  \n",
       "\n",
       "[5 rows x 10001 columns]"
      ]
     },
     "execution_count": 25,
     "metadata": {},
     "output_type": "execute_result"
    }
   ],
   "source": [
    "test_set.head()"
   ]
  },
  {
   "cell_type": "code",
   "execution_count": 26,
   "metadata": {},
   "outputs": [
    {
     "data": {
      "text/html": [
       "<div>\n",
       "<style scoped>\n",
       "    .dataframe tbody tr th:only-of-type {\n",
       "        vertical-align: middle;\n",
       "    }\n",
       "\n",
       "    .dataframe tbody tr th {\n",
       "        vertical-align: top;\n",
       "    }\n",
       "\n",
       "    .dataframe thead th {\n",
       "        text-align: right;\n",
       "    }\n",
       "</style>\n",
       "<table border=\"1\" class=\"dataframe\">\n",
       "  <thead>\n",
       "    <tr style=\"text-align: right;\">\n",
       "      <th></th>\n",
       "      <th>0</th>\n",
       "      <th>1</th>\n",
       "      <th>2</th>\n",
       "      <th>3</th>\n",
       "      <th>4</th>\n",
       "      <th>5</th>\n",
       "      <th>6</th>\n",
       "      <th>7</th>\n",
       "      <th>8</th>\n",
       "      <th>9</th>\n",
       "      <th>...</th>\n",
       "      <th>9991</th>\n",
       "      <th>9992</th>\n",
       "      <th>9993</th>\n",
       "      <th>9994</th>\n",
       "      <th>9995</th>\n",
       "      <th>9996</th>\n",
       "      <th>9997</th>\n",
       "      <th>9998</th>\n",
       "      <th>9999</th>\n",
       "      <th>label</th>\n",
       "    </tr>\n",
       "  </thead>\n",
       "  <tbody>\n",
       "    <tr>\n",
       "      <th>17149</th>\n",
       "      <td>0.607843</td>\n",
       "      <td>0.647059</td>\n",
       "      <td>0.580392</td>\n",
       "      <td>0.537255</td>\n",
       "      <td>0.517647</td>\n",
       "      <td>0.592157</td>\n",
       "      <td>0.549020</td>\n",
       "      <td>0.580392</td>\n",
       "      <td>0.545098</td>\n",
       "      <td>0.568627</td>\n",
       "      <td>...</td>\n",
       "      <td>0.321569</td>\n",
       "      <td>0.258824</td>\n",
       "      <td>0.372549</td>\n",
       "      <td>0.470588</td>\n",
       "      <td>0.407843</td>\n",
       "      <td>0.392157</td>\n",
       "      <td>0.321569</td>\n",
       "      <td>0.400000</td>\n",
       "      <td>0.200000</td>\n",
       "      <td>1</td>\n",
       "    </tr>\n",
       "    <tr>\n",
       "      <th>11072</th>\n",
       "      <td>0.211765</td>\n",
       "      <td>0.211765</td>\n",
       "      <td>0.211765</td>\n",
       "      <td>0.219608</td>\n",
       "      <td>0.219608</td>\n",
       "      <td>0.223529</td>\n",
       "      <td>0.227451</td>\n",
       "      <td>0.227451</td>\n",
       "      <td>0.235294</td>\n",
       "      <td>0.239216</td>\n",
       "      <td>...</td>\n",
       "      <td>0.847059</td>\n",
       "      <td>0.854902</td>\n",
       "      <td>0.843137</td>\n",
       "      <td>0.870588</td>\n",
       "      <td>0.733333</td>\n",
       "      <td>0.725490</td>\n",
       "      <td>0.733333</td>\n",
       "      <td>0.639216</td>\n",
       "      <td>0.800000</td>\n",
       "      <td>0</td>\n",
       "    </tr>\n",
       "    <tr>\n",
       "      <th>11766</th>\n",
       "      <td>0.333333</td>\n",
       "      <td>0.360784</td>\n",
       "      <td>0.337255</td>\n",
       "      <td>0.337255</td>\n",
       "      <td>0.317647</td>\n",
       "      <td>0.325490</td>\n",
       "      <td>0.329412</td>\n",
       "      <td>0.321569</td>\n",
       "      <td>0.294118</td>\n",
       "      <td>0.313725</td>\n",
       "      <td>...</td>\n",
       "      <td>0.643137</td>\n",
       "      <td>0.615686</td>\n",
       "      <td>0.615686</td>\n",
       "      <td>0.611765</td>\n",
       "      <td>0.615686</td>\n",
       "      <td>0.611765</td>\n",
       "      <td>0.611765</td>\n",
       "      <td>0.619608</td>\n",
       "      <td>0.615686</td>\n",
       "      <td>0</td>\n",
       "    </tr>\n",
       "    <tr>\n",
       "      <th>1794</th>\n",
       "      <td>0.050980</td>\n",
       "      <td>0.031373</td>\n",
       "      <td>0.047059</td>\n",
       "      <td>0.023529</td>\n",
       "      <td>0.027451</td>\n",
       "      <td>0.066667</td>\n",
       "      <td>0.023529</td>\n",
       "      <td>0.039216</td>\n",
       "      <td>0.066667</td>\n",
       "      <td>0.066667</td>\n",
       "      <td>...</td>\n",
       "      <td>0.023529</td>\n",
       "      <td>0.023529</td>\n",
       "      <td>0.019608</td>\n",
       "      <td>0.015686</td>\n",
       "      <td>0.019608</td>\n",
       "      <td>0.015686</td>\n",
       "      <td>0.007843</td>\n",
       "      <td>0.007843</td>\n",
       "      <td>0.007843</td>\n",
       "      <td>0</td>\n",
       "    </tr>\n",
       "    <tr>\n",
       "      <th>1086</th>\n",
       "      <td>0.133333</td>\n",
       "      <td>0.054902</td>\n",
       "      <td>0.039216</td>\n",
       "      <td>0.168627</td>\n",
       "      <td>0.117647</td>\n",
       "      <td>0.058824</td>\n",
       "      <td>0.082353</td>\n",
       "      <td>0.050980</td>\n",
       "      <td>0.227451</td>\n",
       "      <td>0.176471</td>\n",
       "      <td>...</td>\n",
       "      <td>0.262745</td>\n",
       "      <td>0.215686</td>\n",
       "      <td>0.188235</td>\n",
       "      <td>0.207843</td>\n",
       "      <td>0.129412</td>\n",
       "      <td>0.278431</td>\n",
       "      <td>0.282353</td>\n",
       "      <td>0.152941</td>\n",
       "      <td>0.149020</td>\n",
       "      <td>0</td>\n",
       "    </tr>\n",
       "  </tbody>\n",
       "</table>\n",
       "<p>5 rows × 10001 columns</p>\n",
       "</div>"
      ],
      "text/plain": [
       "              0         1         2         3         4         5         6  \\\n",
       "17149  0.607843  0.647059  0.580392  0.537255  0.517647  0.592157  0.549020   \n",
       "11072  0.211765  0.211765  0.211765  0.219608  0.219608  0.223529  0.227451   \n",
       "11766  0.333333  0.360784  0.337255  0.337255  0.317647  0.325490  0.329412   \n",
       "1794   0.050980  0.031373  0.047059  0.023529  0.027451  0.066667  0.023529   \n",
       "1086   0.133333  0.054902  0.039216  0.168627  0.117647  0.058824  0.082353   \n",
       "\n",
       "              7         8         9  ...      9991      9992      9993  \\\n",
       "17149  0.580392  0.545098  0.568627  ...  0.321569  0.258824  0.372549   \n",
       "11072  0.227451  0.235294  0.239216  ...  0.847059  0.854902  0.843137   \n",
       "11766  0.321569  0.294118  0.313725  ...  0.643137  0.615686  0.615686   \n",
       "1794   0.039216  0.066667  0.066667  ...  0.023529  0.023529  0.019608   \n",
       "1086   0.050980  0.227451  0.176471  ...  0.262745  0.215686  0.188235   \n",
       "\n",
       "           9994      9995      9996      9997      9998      9999  label  \n",
       "17149  0.470588  0.407843  0.392157  0.321569  0.400000  0.200000      1  \n",
       "11072  0.870588  0.733333  0.725490  0.733333  0.639216  0.800000      0  \n",
       "11766  0.611765  0.615686  0.611765  0.611765  0.619608  0.615686      0  \n",
       "1794   0.015686  0.019608  0.015686  0.007843  0.007843  0.007843      0  \n",
       "1086   0.207843  0.129412  0.278431  0.282353  0.152941  0.149020      0  \n",
       "\n",
       "[5 rows x 10001 columns]"
      ]
     },
     "execution_count": 26,
     "metadata": {},
     "output_type": "execute_result"
    }
   ],
   "source": [
    "test_set_dont_touch.head()"
   ]
  },
  {
   "cell_type": "code",
   "execution_count": 27,
   "metadata": {},
   "outputs": [],
   "source": [
    "# changing the data type and spliiting into x,y\n",
    "train_set=np.array(train_set,dtype='float32')\n",
    "test_set=np.array(test_set,dtype='float32')\n",
    "test_set_dont_touch=np.array(test_set,dtype='float32')\n",
    "\n",
    "x_train_set=train_set[ : , 0:10000]\n",
    "y_train_set=train_set[ : , 10000]\n",
    "x_test_set=test_set[ : , 0:10000]\n",
    "y_test_set=test_set[ : , 10000]\n",
    "x_test_set_dont_touch=test_set_dont_touch[ : , 0:10000]\n",
    "y_test_set_dont_touch=test_set_dont_touch[ : , 10000]"
   ]
  },
  {
   "cell_type": "code",
   "execution_count": 28,
   "metadata": {},
   "outputs": [
    {
     "data": {
      "text/plain": [
       "array([[0.10980392, 0.15294118, 0.21568628, ..., 0.78039217, 0.7607843 ,\n",
       "        0.7529412 ],\n",
       "       [0.92941177, 0.94509804, 0.9372549 , ..., 0.5529412 , 0.5686275 ,\n",
       "        0.6862745 ],\n",
       "       [0.8039216 , 0.7372549 , 0.6392157 , ..., 0.4509804 , 0.39215687,\n",
       "        0.3529412 ],\n",
       "       ...,\n",
       "       [0.25490198, 0.2784314 , 0.2627451 , ..., 0.15686275, 0.16078432,\n",
       "        0.12156863],\n",
       "       [0.5568628 , 0.6431373 , 0.5019608 , ..., 0.44705883, 0.46666667,\n",
       "        0.6156863 ],\n",
       "       [0.43529412, 0.28627452, 0.23529412, ..., 0.07058824, 0.08627451,\n",
       "        0.07450981]], dtype=float32)"
      ]
     },
     "execution_count": 28,
     "metadata": {},
     "output_type": "execute_result"
    }
   ],
   "source": [
    "x_train_set"
   ]
  },
  {
   "cell_type": "code",
   "execution_count": 29,
   "metadata": {},
   "outputs": [
    {
     "data": {
      "text/plain": [
       "array([0., 0., 1., ..., 0., 1., 1.], dtype=float32)"
      ]
     },
     "execution_count": 29,
     "metadata": {},
     "output_type": "execute_result"
    }
   ],
   "source": [
    "y_train_set"
   ]
  },
  {
   "cell_type": "code",
   "execution_count": 30,
   "metadata": {},
   "outputs": [
    {
     "data": {
      "text/plain": [
       "array([[0.5568628 , 0.627451  , 0.5529412 , ..., 0.08235294, 0.09019608,\n",
       "        0.09019608],\n",
       "       [0.10980392, 0.09411765, 0.11372549, ..., 0.1254902 , 0.10196079,\n",
       "        0.11372549],\n",
       "       [0.8352941 , 0.88235295, 0.8745098 , ..., 0.8784314 , 0.88235295,\n",
       "        0.8666667 ],\n",
       "       ...,\n",
       "       [0.5058824 , 0.53333336, 0.3647059 , ..., 0.54509807, 0.6       ,\n",
       "        0.5254902 ],\n",
       "       [0.26666668, 0.2627451 , 0.31764707, ..., 0.14509805, 0.13725491,\n",
       "        0.14509805],\n",
       "       [0.3137255 , 0.33333334, 0.35686275, ..., 0.25490198, 0.25882354,\n",
       "        0.27058825]], dtype=float32)"
      ]
     },
     "execution_count": 30,
     "metadata": {},
     "output_type": "execute_result"
    }
   ],
   "source": [
    "x_test_set"
   ]
  },
  {
   "cell_type": "code",
   "execution_count": 31,
   "metadata": {},
   "outputs": [
    {
     "data": {
      "text/plain": [
       "array([1., 0., 1., ..., 1., 0., 1.], dtype=float32)"
      ]
     },
     "execution_count": 31,
     "metadata": {},
     "output_type": "execute_result"
    }
   ],
   "source": [
    "y_test_set"
   ]
  },
  {
   "cell_type": "code",
   "execution_count": 32,
   "metadata": {},
   "outputs": [
    {
     "data": {
      "text/plain": [
       "<matplotlib.image.AxesImage at 0x162265b3d00>"
      ]
     },
     "execution_count": 32,
     "metadata": {},
     "output_type": "execute_result"
    },
    {
     "data": {
      "image/png": "[encoded data removed]",
      "text/plain": [
       "<Figure size 432x288 with 1 Axes>"
      ]
     },
     "metadata": {
      "needs_background": "light"
     },
     "output_type": "display_data"
    }
   ],
   "source": [
    "image1=x_train_set[7, :].reshape((100,100))\n",
    "plt.imshow(image1)"
   ]
  },
  {
   "cell_type": "code",
   "execution_count": 33,
   "metadata": {},
   "outputs": [
    {
     "data": {
      "text/plain": [
       "<matplotlib.image.AxesImage at 0x162171176d0>"
      ]
     },
     "execution_count": 33,
     "metadata": {},
     "output_type": "execute_result"
    },
    {
     "data": {
      "image/png": "[encoded data removed]",
      "text/plain": [
       "<Figure size 432x288 with 1 Axes>"
      ]
     },
     "metadata": {
      "needs_background": "light"
     },
     "output_type": "display_data"
    }
   ],
   "source": [
    "image1=x_train_set[1, :].reshape((100,100))\n",
    "plt.imshow(image1)"
   ]
  },
  {
   "cell_type": "code",
   "execution_count": 34,
   "metadata": {},
   "outputs": [],
   "source": [
    "# function to represent the confussion matrix nicely\n",
    "\n",
    "def confussion_matrix (cf_matrix):\n",
    "    group_names = ['true pos', 'false pos', 'false neg', 'true neg']\n",
    "    group_counts = [\"{0:0.0f}\".format(value) for value in cf_matrix.flatten()]\n",
    "    group_percentages = [\"{0:.2%}\".format(value) for value in cf_matrix.flatten()/np.sum(cf_matrix)]\n",
    "    labels = [f\"{v1}\\n{v2}\\n{v3}\" for v1, v2, v3 in zip(group_names,group_counts,group_percentages)]\n",
    "    labels = np.asarray(labels).reshape(2,2)\n",
    "    sns.heatmap(cf_matrix, annot=labels, fmt='', cmap='Oranges')  "
   ]
  },
  {
   "cell_type": "markdown",
   "metadata": {},
   "source": [
    "## PCA 0.9"
   ]
  },
  {
   "cell_type": "code",
   "execution_count": 35,
   "metadata": {},
   "outputs": [],
   "source": [
    "pca1=PCA(n_components=0.9)\n",
    "x_train_reduced1=pca1.fit_transform(x_train_set)\n",
    "x_test_reduced1=pca1.transform(x_test_set)"
   ]
  },
  {
   "cell_type": "code",
   "execution_count": 36,
   "metadata": {},
   "outputs": [
    {
     "data": {
      "text/plain": [
       "331"
      ]
     },
     "execution_count": 36,
     "metadata": {},
     "output_type": "execute_result"
    }
   ],
   "source": [
    "pca1.n_components_"
   ]
  },
  {
   "cell_type": "code",
   "execution_count": 37,
   "metadata": {},
   "outputs": [
    {
     "data": {
      "text/plain": [
       "array([ 5, 10, 15, 20, 25, 30, 35, 40, 45, 50, 55, 60, 65, 70, 75])"
      ]
     },
     "execution_count": 37,
     "metadata": {},
     "output_type": "execute_result"
    }
   ],
   "source": [
    "arr=np.arange(5,80,5)\n",
    "arr"
   ]
  },
  {
   "cell_type": "code",
   "execution_count": 38,
   "metadata": {},
   "outputs": [
    {
     "name": "stdout",
     "output_type": "stream",
     "text": [
      "5 0.5984\n",
      "10 0.6146666666666667\n",
      "15 0.6221333333333333\n",
      "20 0.6210666666666667\n",
      "25 0.6253333333333333\n",
      "30 0.6253333333333333\n",
      "35 0.6264\n",
      "40 0.6349333333333333\n",
      "45 0.6306666666666667\n",
      "50 0.6368\n",
      "55 0.6362666666666666\n",
      "60 0.6336\n",
      "65 0.6362666666666666\n",
      "70 0.6328\n",
      "75 0.6322666666666666\n"
     ]
    }
   ],
   "source": [
    "for x in arr:\n",
    "    knn_x=KNeighborsClassifier(n_neighbors=x)\n",
    "    knn_x.fit(x_train_reduced1, y_train_set)\n",
    "    y_pred_knn_x=knn_x.predict(x_test_reduced1)\n",
    "    accuracy_knn_x=metrics.accuracy_score(y_test_set, y_pred_knn_x)\n",
    "    print (x,accuracy_knn_x )"
   ]
  },
  {
   "cell_type": "code",
   "execution_count": 39,
   "metadata": {},
   "outputs": [
    {
     "data": {
      "text/plain": [
       "array([40, 41, 42, 43, 44, 45, 46, 47, 48, 49, 50, 51, 52, 53, 54, 55])"
      ]
     },
     "execution_count": 39,
     "metadata": {},
     "output_type": "execute_result"
    }
   ],
   "source": [
    "arr1=np.arange(40,56,1)\n",
    "arr1"
   ]
  },
  {
   "cell_type": "code",
   "execution_count": 40,
   "metadata": {},
   "outputs": [
    {
     "name": "stdout",
     "output_type": "stream",
     "text": [
      "40\n",
      "41\n",
      "42 0.6352\n",
      "43\n",
      "44\n",
      "45\n",
      "46\n",
      "47\n",
      "48 0.6378666666666667\n",
      "49\n",
      "50 0.6368\n",
      "51\n",
      "52 0.6392\n",
      "53 0.6352\n",
      "54 0.64\n",
      "55 0.6362666666666666\n"
     ]
    }
   ],
   "source": [
    "for x in arr1:\n",
    "    knn_x=KNeighborsClassifier(n_neighbors=x)\n",
    "    knn_x.fit(x_train_reduced1, y_train_set)\n",
    "    y_pred_knn_x=knn_x.predict(x_test_reduced1)\n",
    "    accuracy_knn_x=metrics.accuracy_score(y_test_set, y_pred_knn_x)\n",
    "    if (accuracy_knn_x>0.635):\n",
    "        print (x,accuracy_knn_x )\n",
    "    else:\n",
    "        print(x)"
   ]
  },
  {
   "cell_type": "code",
   "execution_count": 41,
   "metadata": {},
   "outputs": [
    {
     "data": {
      "text/plain": [
       "0.6392"
      ]
     },
     "execution_count": 41,
     "metadata": {},
     "output_type": "execute_result"
    }
   ],
   "source": [
    "knn1 = KNeighborsClassifier(n_neighbors=52)\n",
    "knn1.fit(x_train_reduced1, y_train_set)\n",
    "y_pred_knn1=knn1.predict(x_test_reduced1)\n",
    "accuracy_knn1=metrics.accuracy_score(y_test_set, y_pred_knn1)\n",
    "accuracy_knn1"
   ]
  },
  {
   "cell_type": "code",
   "execution_count": 42,
   "metadata": {},
   "outputs": [
    {
     "data": {
      "image/png": "[encoded data removed]",
      "text/plain": [
       "<Figure size 432x288 with 2 Axes>"
      ]
     },
     "metadata": {
      "needs_background": "light"
     },
     "output_type": "display_data"
    }
   ],
   "source": [
    "mat_knn1=confusion_matrix(y_test_set, y_pred_knn1)\n",
    "confussion_matrix(mat_knn1)"
   ]
  },
  {
   "cell_type": "code",
   "execution_count": 43,
   "metadata": {},
   "outputs": [
    {
     "name": "stdout",
     "output_type": "stream",
     "text": [
      "precision_score_knn: 0.6224540486835569\n",
      "recall_score_knn: 0.6787648970747562\n",
      "f1_score_knn: 0.6493910339466183\n"
     ]
    }
   ],
   "source": [
    "print(\"precision_score_knn:\",precision_score(y_test_set, y_pred_knn1)) \n",
    "print(\"recall_score_knn:\",recall_score(y_test_set, y_pred_knn1))\n",
    "print(\"f1_score_knn:\",f1_score(y_test_set, y_pred_knn1))"
   ]
  },
  {
   "cell_type": "code",
   "execution_count": 44,
   "metadata": {},
   "outputs": [
    {
     "name": "stdout",
     "output_type": "stream",
     "text": [
      "[0.60657143 0.592      0.61685714 0.62       0.60245785] mean: 0.6075772833054343\n"
     ]
    }
   ],
   "source": [
    "#cross validation\n",
    "cv_scores_knn1=cross_val_score(knn1, x_train_reduced1, y_train_set, cv=5, scoring=\"accuracy\")\n",
    "print(cv_scores_knn1, \"mean:\", np.mean(cv_scores_knn1))"
   ]
  },
  {
   "cell_type": "code",
   "execution_count": 45,
   "metadata": {},
   "outputs": [
    {
     "data": {
      "image/png": "[encoded data removed]",
      "text/plain": [
       "<Figure size 432x288 with 2 Axes>"
      ]
     },
     "metadata": {
      "needs_background": "light"
     },
     "output_type": "display_data"
    }
   ],
   "source": [
    "y_pred_knn1_c = cross_val_predict(knn1,  x_train_reduced1, y_train_set, cv=5)\n",
    "cofussion_knn1=confusion_matrix(y_train_set, y_pred_knn1_c)\n",
    "confussion_matrix(cofussion_knn1)"
   ]
  },
  {
   "cell_type": "code",
   "execution_count": 46,
   "metadata": {},
   "outputs": [
    {
     "name": "stdout",
     "output_type": "stream",
     "text": [
      "precision_score: 0.5952284674484432\n",
      "recall_score: 0.67283739001257\n",
      "f1_score: 0.631657994957893\n"
     ]
    }
   ],
   "source": [
    "print(\"precision_score:\",precision_score(y_train_set, y_pred_knn1_c)) \n",
    "print(\"recall_score:\",recall_score(y_train_set, y_pred_knn1_c))\n",
    "print(\"f1_score:\",f1_score(y_train_set, y_pred_knn1_c))"
   ]
  },
  {
   "cell_type": "code",
   "execution_count": 47,
   "metadata": {},
   "outputs": [
    {
     "data": {
      "text/plain": [
       "array([ 25,  50,  75, 100, 125, 150, 175, 200, 225, 250, 275, 300, 325,\n",
       "       350, 375, 400, 425, 450, 475, 500])"
      ]
     },
     "execution_count": 47,
     "metadata": {},
     "output_type": "execute_result"
    }
   ],
   "source": [
    "arr2=np.arange(25,525,25)\n",
    "arr2"
   ]
  },
  {
   "cell_type": "code",
   "execution_count": 48,
   "metadata": {},
   "outputs": [
    {
     "name": "stdout",
     "output_type": "stream",
     "text": [
      "25\n",
      "50\n",
      "75\n",
      "100 0.636\n",
      "125 0.6368\n",
      "150 0.6418666666666667\n",
      "175 0.6381333333333333\n",
      "200 0.6368\n",
      "225 0.6397333333333334\n",
      "250 0.6429333333333334\n",
      "275 0.6426666666666667\n",
      "300 0.6394666666666666\n",
      "325 0.6448\n",
      "350 0.6474666666666666\n",
      "375 0.6509333333333334\n",
      "400 0.6506666666666666\n",
      "425 0.6536\n",
      "450 0.6525333333333333\n",
      "475 0.652\n",
      "500 0.6517333333333334\n"
     ]
    }
   ],
   "source": [
    "for x in arr2:\n",
    "    XG1=XGBClassifier(n_estimators=x, max_depth=2, eta=0.1, subsample=0.7, colsample_bytree=0.8,\n",
    "                 use_label_encoder =False,eval_metric = \"logloss\")\n",
    "    XG1.fit(x_train_reduced1, y_train_set)\n",
    "    y_pred_XG1=XG1.predict(x_test_reduced1)\n",
    "    accuracy_XG1=metrics.accuracy_score(y_test_set, y_pred_XG1)\n",
    "    if (accuracy_XG1>0.635):\n",
    "        print (x,accuracy_XG1 )\n",
    "    else:\n",
    "        print(x)"
   ]
  },
  {
   "cell_type": "code",
   "execution_count": 49,
   "metadata": {},
   "outputs": [
    {
     "data": {
      "text/plain": [
       "0.6536"
      ]
     },
     "execution_count": 49,
     "metadata": {},
     "output_type": "execute_result"
    }
   ],
   "source": [
    "XG1=XGBClassifier(n_estimators=425, max_depth=2, eta=0.1, subsample=0.7, colsample_bytree=0.8,\n",
    "                 use_label_encoder =False,eval_metric = \"logloss\")\n",
    "XG1.fit(x_train_reduced1, y_train_set)\n",
    "y_pred_XG1=XG1.predict(x_test_reduced1)\n",
    "accuracy_XG1=metrics.accuracy_score(y_test_set, y_pred_XG1)\n",
    "accuracy_XG1"
   ]
  },
  {
   "cell_type": "code",
   "execution_count": 50,
   "metadata": {},
   "outputs": [
    {
     "data": {
      "image/png": "[encoded data removed]",
      "text/plain": [
       "<Figure size 432x288 with 2 Axes>"
      ]
     },
     "metadata": {
      "needs_background": "light"
     },
     "output_type": "display_data"
    }
   ],
   "source": [
    "mat_XG1=confusion_matrix(y_test_set, y_pred_XG1)\n",
    "confussion_matrix(mat_XG1)"
   ]
  },
  {
   "cell_type": "code",
   "execution_count": 51,
   "metadata": {},
   "outputs": [
    {
     "name": "stdout",
     "output_type": "stream",
     "text": [
      "precision_score_XG1: 0.6490463215258856\n",
      "recall_score_XG1: 0.6451787648970747\n",
      "f1_score_XG1: 0.6471067644661777\n"
     ]
    }
   ],
   "source": [
    "print(\"precision_score_XG1:\",precision_score(y_test_set, y_pred_XG1)) \n",
    "print(\"recall_score_XG1:\",recall_score(y_test_set, y_pred_XG1))\n",
    "print(\"f1_score_XG1:\",f1_score(y_test_set, y_pred_XG1))"
   ]
  },
  {
   "cell_type": "code",
   "execution_count": 52,
   "metadata": {},
   "outputs": [
    {
     "name": "stdout",
     "output_type": "stream",
     "text": [
      "[0.62628571 0.63685714 0.62714286 0.63685714 0.64475564] mean: 0.6343797003225412\n"
     ]
    }
   ],
   "source": [
    "#cross validation\n",
    "cv_scores_XG1=cross_val_score(XG1, x_train_reduced1, y_train_set, cv=5, scoring=\"accuracy\")\n",
    "print(cv_scores_XG1, \"mean:\", np.mean(cv_scores_XG1))"
   ]
  },
  {
   "cell_type": "code",
   "execution_count": 53,
   "metadata": {},
   "outputs": [
    {
     "data": {
      "image/png": "[encoded data removed]",
      "text/plain": [
       "<Figure size 432x288 with 2 Axes>"
      ]
     },
     "metadata": {
      "needs_background": "light"
     },
     "output_type": "display_data"
    }
   ],
   "source": [
    "y_pred_xg1_c = cross_val_predict(XG1,  x_train_reduced1, y_train_set, cv=5)\n",
    "cofussion_xg1=confusion_matrix(y_train_set, y_pred_xg1_c)\n",
    "confussion_matrix(cofussion_xg1)"
   ]
  },
  {
   "cell_type": "code",
   "execution_count": 54,
   "metadata": {},
   "outputs": [
    {
     "name": "stdout",
     "output_type": "stream",
     "text": [
      "precision_score: 0.6305336735826029\n",
      "recall_score: 0.6494114958290481\n",
      "f1_score: 0.6398333708624183\n"
     ]
    }
   ],
   "source": [
    "print(\"precision_score:\",precision_score(y_train_set, y_pred_xg1_c)) \n",
    "print(\"recall_score:\",recall_score(y_train_set, y_pred_xg1_c))\n",
    "print(\"f1_score:\",f1_score(y_train_set, y_pred_xg1_c))"
   ]
  },
  {
   "cell_type": "code",
   "execution_count": null,
   "metadata": {},
   "outputs": [],
   "source": []
  },
  {
   "cell_type": "code",
   "execution_count": 55,
   "metadata": {},
   "outputs": [
    {
     "data": {
      "text/plain": [
       "0.5946666666666667"
      ]
     },
     "execution_count": 55,
     "metadata": {},
     "output_type": "execute_result"
    }
   ],
   "source": [
    "forest1= RandomForestClassifier(random_state=429)\n",
    "forest1.fit(x_train_reduced1, y_train_set)\n",
    "y_pred_forest1=forest1.predict(x_test_reduced1)\n",
    "accuracy_forest1=metrics.accuracy_score(y_test_set, y_pred_forest1)\n",
    "accuracy_forest1"
   ]
  },
  {
   "cell_type": "code",
   "execution_count": 56,
   "metadata": {},
   "outputs": [
    {
     "data": {
      "image/png": "[encoded data removed]",
      "text/plain": [
       "<Figure size 432x288 with 2 Axes>"
      ]
     },
     "metadata": {
      "needs_background": "light"
     },
     "output_type": "display_data"
    }
   ],
   "source": [
    "mat_forest1=confusion_matrix(y_test_set, y_pred_forest1)\n",
    "confussion_matrix(mat_forest1)"
   ]
  },
  {
   "cell_type": "code",
   "execution_count": 57,
   "metadata": {},
   "outputs": [
    {
     "name": "stdout",
     "output_type": "stream",
     "text": [
      "precision_score: 0.5885869565217391\n",
      "recall_score: 0.5866738894907909\n",
      "f1_score: 0.5876288659793814\n"
     ]
    }
   ],
   "source": [
    "print(\"precision_score:\",precision_score(y_test_set, y_pred_forest1)) \n",
    "print(\"recall_score:\",recall_score(y_test_set, y_pred_forest1))\n",
    "print(\"f1_score:\",f1_score(y_test_set, y_pred_forest1))"
   ]
  },
  {
   "cell_type": "code",
   "execution_count": 58,
   "metadata": {},
   "outputs": [
    {
     "name": "stdout",
     "output_type": "stream",
     "text": [
      "[0.58571429 0.58857143 0.57828571 0.612      0.60503001] mean: 0.5939202874290614\n"
     ]
    }
   ],
   "source": [
    "#cross validation\n",
    "cv_scores_forest1=cross_val_score(forest1, x_train_reduced1, y_train_set, cv=5, scoring=\"accuracy\")\n",
    "print(cv_scores_forest1, \"mean:\", np.mean(cv_scores_forest1))"
   ]
  },
  {
   "cell_type": "code",
   "execution_count": 59,
   "metadata": {},
   "outputs": [
    {
     "data": {
      "image/png": "[encoded data removed]",
      "text/plain": [
       "<Figure size 432x288 with 2 Axes>"
      ]
     },
     "metadata": {
      "needs_background": "light"
     },
     "output_type": "display_data"
    }
   ],
   "source": [
    "y_pred_forest1_c = cross_val_predict(forest1,  x_train_reduced1, y_train_set, cv=5)\n",
    "cofussion_forest1=confusion_matrix(y_train_set, y_pred_forest1_c)\n",
    "confussion_matrix(cofussion_forest1)"
   ]
  },
  {
   "cell_type": "code",
   "execution_count": 60,
   "metadata": {},
   "outputs": [
    {
     "name": "stdout",
     "output_type": "stream",
     "text": [
      "precision_score: 0.5940967852648439\n",
      "recall_score: 0.5934178950977032\n",
      "f1_score: 0.5937571461239425\n"
     ]
    }
   ],
   "source": [
    "print(\"precision_score:\",precision_score(y_train_set, y_pred_forest1_c)) \n",
    "print(\"recall_score:\",recall_score(y_train_set, y_pred_forest1_c))\n",
    "print(\"f1_score:\",f1_score(y_train_set, y_pred_forest1_c))"
   ]
  },
  {
   "cell_type": "code",
   "execution_count": null,
   "metadata": {},
   "outputs": [],
   "source": []
  },
  {
   "cell_type": "code",
   "execution_count": null,
   "metadata": {},
   "outputs": [],
   "source": []
  },
  {
   "cell_type": "code",
   "execution_count": null,
   "metadata": {},
   "outputs": [],
   "source": []
  },
  {
   "cell_type": "markdown",
   "metadata": {},
   "source": [
    "## PCA 0.8"
   ]
  },
  {
   "cell_type": "code",
   "execution_count": 61,
   "metadata": {},
   "outputs": [],
   "source": [
    "pca2=PCA(n_components=0.8)\n",
    "x_train_reduced2=pca2.fit_transform(x_train_set)\n",
    "x_train_recovered2=pca2.inverse_transform(x_train_reduced2)\n",
    "x_test_reduced2=pca2.transform(x_test_set)\n",
    "x_test_recovered2=pca2.inverse_transform(x_test_reduced2)"
   ]
  },
  {
   "cell_type": "code",
   "execution_count": 62,
   "metadata": {},
   "outputs": [
    {
     "data": {
      "text/plain": [
       "72"
      ]
     },
     "execution_count": 62,
     "metadata": {},
     "output_type": "execute_result"
    }
   ],
   "source": [
    "pca2.n_components_"
   ]
  },
  {
   "cell_type": "code",
   "execution_count": 63,
   "metadata": {},
   "outputs": [
    {
     "name": "stdout",
     "output_type": "stream",
     "text": [
      "5 0.6024\n",
      "10 0.6128\n",
      "15 0.6149333333333333\n",
      "20 0.6330666666666667\n",
      "25 0.6293333333333333\n",
      "30 0.6336\n",
      "35 0.6298666666666667\n",
      "40 0.6328\n",
      "45 0.6290666666666667\n",
      "50 0.6314666666666666\n",
      "55 0.628\n",
      "60 0.6346666666666667\n",
      "65 0.6282666666666666\n",
      "70 0.6237333333333334\n",
      "75 0.6157333333333334\n"
     ]
    }
   ],
   "source": [
    "for x in arr:\n",
    "    knn_x=KNeighborsClassifier(n_neighbors=x)\n",
    "    knn_x.fit(x_train_reduced2, y_train_set)\n",
    "    y_pred_knn_x=knn_x.predict(x_test_reduced2)\n",
    "    accuracy_knn_x=metrics.accuracy_score(y_test_set, y_pred_knn_x)\n",
    "    print (x,accuracy_knn_x )"
   ]
  },
  {
   "cell_type": "code",
   "execution_count": 64,
   "metadata": {},
   "outputs": [
    {
     "data": {
      "text/plain": [
       "0.6218666666666667"
      ]
     },
     "execution_count": 64,
     "metadata": {},
     "output_type": "execute_result"
    }
   ],
   "source": [
    "knn2 = KNeighborsClassifier(n_neighbors=16)\n",
    "knn2.fit(x_train_recovered2, y_train_set)\n",
    "y_pred_knn2=knn2.predict(x_test_recovered2)\n",
    "accuracy_knn2=metrics.accuracy_score(y_test_set, y_pred_knn2)\n",
    "accuracy_knn2"
   ]
  },
  {
   "cell_type": "code",
   "execution_count": 65,
   "metadata": {},
   "outputs": [
    {
     "data": {
      "image/png": "[encoded data removed]",
      "text/plain": [
       "<Figure size 432x288 with 2 Axes>"
      ]
     },
     "metadata": {
      "needs_background": "light"
     },
     "output_type": "display_data"
    }
   ],
   "source": [
    "mat_knn2=confusion_matrix(y_test_set, y_pred_knn2)\n",
    "confussion_matrix(mat_knn2)"
   ]
  },
  {
   "cell_type": "code",
   "execution_count": 66,
   "metadata": {},
   "outputs": [
    {
     "name": "stdout",
     "output_type": "stream",
     "text": [
      "precision_score_knn2: 0.6118077324973876\n",
      "recall_score_knn2: 0.6343445287107259\n",
      "f1_score_knn2: 0.622872340425532\n"
     ]
    }
   ],
   "source": [
    "print(\"precision_score_knn2:\",precision_score(y_test_set, y_pred_knn2)) \n",
    "print(\"recall_score_knn2:\",recall_score(y_test_set, y_pred_knn2))\n",
    "print(\"f1_score_knn2:\",f1_score(y_test_set, y_pred_knn2))"
   ]
  },
  {
   "cell_type": "code",
   "execution_count": 67,
   "metadata": {},
   "outputs": [
    {
     "name": "stdout",
     "output_type": "stream",
     "text": [
      "[0.61114286 0.60428571 0.59685714 0.60628571 0.59531295] mean: 0.6027768750255176\n"
     ]
    }
   ],
   "source": [
    "#cross validation\n",
    "cv_scores_knn2=cross_val_score(knn2, x_train_reduced2, y_train_set, cv=5, scoring=\"accuracy\")\n",
    "print(cv_scores_knn2, \"mean:\", np.mean(cv_scores_knn2))"
   ]
  },
  {
   "cell_type": "code",
   "execution_count": 68,
   "metadata": {},
   "outputs": [
    {
     "data": {
      "image/png": "[encoded data removed]",
      "text/plain": [
       "<Figure size 432x288 with 2 Axes>"
      ]
     },
     "metadata": {
      "needs_background": "light"
     },
     "output_type": "display_data"
    }
   ],
   "source": [
    "y_pred_knn2_c = cross_val_predict(knn2,  x_train_reduced2, y_train_set, cv=5)\n",
    "cofussion_knn2=confusion_matrix(y_train_set, y_pred_knn2_c)\n",
    "confussion_matrix(cofussion_knn2)"
   ]
  },
  {
   "cell_type": "code",
   "execution_count": 69,
   "metadata": {},
   "outputs": [
    {
     "name": "stdout",
     "output_type": "stream",
     "text": [
      "precision_score: 0.5978048250380352\n",
      "recall_score: 0.6286138727002628\n",
      "f1_score: 0.6128223695204144\n"
     ]
    }
   ],
   "source": [
    "print(\"precision_score:\",precision_score(y_train_set, y_pred_knn2_c)) \n",
    "print(\"recall_score:\",recall_score(y_train_set, y_pred_knn2_c))\n",
    "print(\"f1_score:\",f1_score(y_train_set, y_pred_knn2_c))"
   ]
  },
  {
   "cell_type": "code",
   "execution_count": null,
   "metadata": {},
   "outputs": [],
   "source": []
  },
  {
   "cell_type": "code",
   "execution_count": 70,
   "metadata": {},
   "outputs": [
    {
     "name": "stdout",
     "output_type": "stream",
     "text": [
      "25\n",
      "50 0.6309333333333333\n",
      "75 0.6296\n",
      "100 0.6336\n",
      "125 0.6325333333333333\n",
      "150 0.6333333333333333\n",
      "175 0.6304\n",
      "200 0.6325333333333333\n",
      "225 0.6357333333333334\n",
      "250 0.6354666666666666\n",
      "275 0.6378666666666667\n",
      "300 0.6376\n",
      "325 0.6386666666666667\n",
      "350 0.6368\n",
      "375 0.6392\n",
      "400 0.6378666666666667\n",
      "425 0.6370666666666667\n",
      "450 0.6416\n",
      "475 0.6394666666666666\n",
      "500 0.6394666666666666\n"
     ]
    }
   ],
   "source": [
    "for x in arr2:\n",
    "    XG2=XGBClassifier(n_estimators=x, max_depth=2, eta=0.1, subsample=0.7, colsample_bytree=0.8,\n",
    "                 use_label_encoder =False,eval_metric = \"logloss\")\n",
    "    XG2.fit(x_train_reduced2, y_train_set)\n",
    "    y_pred_XG2=XG2.predict(x_test_reduced2)\n",
    "    accuracy_XG2=metrics.accuracy_score(y_test_set, y_pred_XG2)\n",
    "    if (accuracy_XG2>0.625):\n",
    "        print (x,accuracy_XG2 )\n",
    "    else:\n",
    "        print(x)"
   ]
  },
  {
   "cell_type": "code",
   "execution_count": 71,
   "metadata": {},
   "outputs": [
    {
     "name": "stdout",
     "output_type": "stream",
     "text": [
      "350 0.6368\n",
      "355 0.6362666666666666\n",
      "360 0.6373333333333333\n",
      "365 0.6381333333333333\n",
      "370 0.6386666666666667\n",
      "375 0.6392\n",
      "380 0.6384\n",
      "385 0.6373333333333333\n",
      "390 0.6376\n",
      "395 0.6378666666666667\n",
      "400 0.6378666666666667\n",
      "405 0.6365333333333333\n",
      "410 0.6338666666666667\n",
      "415 0.6365333333333333\n",
      "420 0.6384\n",
      "425 0.6370666666666667\n",
      "430 0.6418666666666667\n",
      "435 0.6429333333333334\n",
      "440 0.6418666666666667\n",
      "445 0.6424\n",
      "450 0.6416\n",
      "455 0.6418666666666667\n",
      "460 0.64\n",
      "465 0.6386666666666667\n",
      "470 0.6384\n",
      "475 0.6394666666666666\n",
      "480 0.6386666666666667\n",
      "485 0.6386666666666667\n",
      "490 0.6405333333333333\n",
      "495 0.6394666666666666\n",
      "500 0.6394666666666666\n",
      "505 0.6402666666666667\n",
      "510 0.6381333333333333\n",
      "515 0.636\n",
      "520 0.6370666666666667\n"
     ]
    }
   ],
   "source": [
    "arr3=np.arange(350,525,5)\n",
    "for x in arr3:\n",
    "    XG2=XGBClassifier(n_estimators=x, max_depth=2, eta=0.1, subsample=0.7, colsample_bytree=0.8,\n",
    "                 use_label_encoder =False,eval_metric = \"logloss\")\n",
    "    XG2.fit(x_train_reduced2, y_train_set)\n",
    "    y_pred_XG2=XG2.predict(x_test_reduced2)\n",
    "    accuracy_XG2=metrics.accuracy_score(y_test_set, y_pred_XG2)\n",
    "    if (accuracy_XG2>0.625):\n",
    "        print (x,accuracy_XG2 )\n",
    "    else:\n",
    "        print(x)"
   ]
  },
  {
   "cell_type": "code",
   "execution_count": 72,
   "metadata": {},
   "outputs": [
    {
     "data": {
      "text/plain": [
       "0.6402666666666667"
      ]
     },
     "execution_count": 72,
     "metadata": {},
     "output_type": "execute_result"
    }
   ],
   "source": [
    "XG2=XGBClassifier(n_estimators=505, max_depth=2, eta=0.1, subsample=0.7, colsample_bytree=0.8,\n",
    "                 use_label_encoder =False,eval_metric = \"logloss\")\n",
    "XG2.fit(x_train_reduced2, y_train_set)\n",
    "y_pred_XG2=XG2.predict(x_test_reduced2)\n",
    "accuracy_XG2=metrics.accuracy_score(y_test_set, y_pred_XG2)\n",
    "accuracy_XG2"
   ]
  },
  {
   "cell_type": "code",
   "execution_count": 73,
   "metadata": {},
   "outputs": [
    {
     "data": {
      "image/png": "[encoded data removed]",
      "text/plain": [
       "<Figure size 432x288 with 2 Axes>"
      ]
     },
     "metadata": {
      "needs_background": "light"
     },
     "output_type": "display_data"
    }
   ],
   "source": [
    "mat_XG2=confusion_matrix(y_test_set, y_pred_XG2)\n",
    "confussion_matrix(mat_XG2)"
   ]
  },
  {
   "cell_type": "code",
   "execution_count": 74,
   "metadata": {},
   "outputs": [
    {
     "name": "stdout",
     "output_type": "stream",
     "text": [
      "precision_score_XG2: 0.6267210606833248\n",
      "recall_score_XG2: 0.6657638136511376\n",
      "f1_score_XG2: 0.6456527449435251\n"
     ]
    }
   ],
   "source": [
    "print(\"precision_score_XG2:\",precision_score(y_test_set, y_pred_XG2)) \n",
    "print(\"recall_score_XG2:\",recall_score(y_test_set, y_pred_XG2))\n",
    "print(\"f1_score_XG2:\",f1_score(y_test_set, y_pred_XG2))"
   ]
  },
  {
   "cell_type": "code",
   "execution_count": 75,
   "metadata": {},
   "outputs": [
    {
     "name": "stdout",
     "output_type": "stream",
     "text": [
      "[0.63742857 0.62657143 0.62685714 0.63571429 0.62474993] mean: 0.6302642714244886\n"
     ]
    }
   ],
   "source": [
    "#cross validation\n",
    "cv_scores_XG2=cross_val_score(XG2, x_train_reduced2, y_train_set, cv=5, scoring=\"accuracy\")\n",
    "print(cv_scores_XG2, \"mean:\", np.mean(cv_scores_XG2))"
   ]
  },
  {
   "cell_type": "code",
   "execution_count": 76,
   "metadata": {},
   "outputs": [
    {
     "data": {
      "image/png": "[encoded data removed]",
      "text/plain": [
       "<Figure size 432x288 with 2 Axes>"
      ]
     },
     "metadata": {
      "needs_background": "light"
     },
     "output_type": "display_data"
    }
   ],
   "source": [
    "y_pred_xg2_c = cross_val_predict(XG2,  x_train_reduced2, y_train_set, cv=5)\n",
    "cofussion_xg2=confusion_matrix(y_train_set, y_pred_xg2_c)\n",
    "confussion_matrix(cofussion_xg2)"
   ]
  },
  {
   "cell_type": "code",
   "execution_count": 77,
   "metadata": {},
   "outputs": [
    {
     "name": "stdout",
     "output_type": "stream",
     "text": [
      "precision_score: 0.6233639805300162\n",
      "recall_score: 0.6585533081933493\n",
      "f1_score: 0.6404756612580573\n"
     ]
    }
   ],
   "source": [
    "print(\"precision_score:\",precision_score(y_train_set, y_pred_xg2_c)) \n",
    "print(\"recall_score:\",recall_score(y_train_set, y_pred_xg2_c))\n",
    "print(\"f1_score:\",f1_score(y_train_set, y_pred_xg2_c))"
   ]
  },
  {
   "cell_type": "code",
   "execution_count": null,
   "metadata": {},
   "outputs": [],
   "source": []
  },
  {
   "cell_type": "markdown",
   "metadata": {},
   "source": [
    "## PCA 0.7"
   ]
  },
  {
   "cell_type": "code",
   "execution_count": 78,
   "metadata": {},
   "outputs": [],
   "source": [
    "pca3=PCA(n_components=0.7)\n",
    "x_train_reduced3=pca3.fit_transform(x_train_set)\n",
    "x_train_recovered3=pca3.inverse_transform(x_train_reduced3)\n",
    "x_test_reduced3=pca3.transform(x_test_set)\n",
    "x_test_recovered3=pca3.inverse_transform(x_test_reduced3)"
   ]
  },
  {
   "cell_type": "code",
   "execution_count": 79,
   "metadata": {},
   "outputs": [
    {
     "data": {
      "text/plain": [
       "25"
      ]
     },
     "execution_count": 79,
     "metadata": {},
     "output_type": "execute_result"
    }
   ],
   "source": [
    "pca3.n_components_"
   ]
  },
  {
   "cell_type": "code",
   "execution_count": 80,
   "metadata": {},
   "outputs": [
    {
     "data": {
      "text/plain": [
       "array([ 5, 10, 15, 20, 25, 30, 35, 40, 45, 50, 55])"
      ]
     },
     "execution_count": 80,
     "metadata": {},
     "output_type": "execute_result"
    }
   ],
   "source": [
    "arr=np.arange(5,60,5)\n",
    "arr"
   ]
  },
  {
   "cell_type": "code",
   "execution_count": 81,
   "metadata": {},
   "outputs": [
    {
     "name": "stdout",
     "output_type": "stream",
     "text": [
      "5 0.5954666666666667\n",
      "10 0.6197333333333334\n",
      "15 0.6173333333333333\n",
      "20 0.6298666666666667\n",
      "25 0.6178666666666667\n",
      "30 0.6264\n",
      "35 0.6229333333333333\n",
      "40 0.6232\n",
      "45 0.6176\n",
      "50 0.6264\n",
      "55 0.6189333333333333\n"
     ]
    }
   ],
   "source": [
    "for x in arr:\n",
    "    knn_x=KNeighborsClassifier(n_neighbors=x)\n",
    "    knn_x.fit(x_train_reduced3, y_train_set)\n",
    "    y_pred_knn_x=knn_x.predict(x_test_reduced3)\n",
    "    accuracy_knn_x=metrics.accuracy_score(y_test_set, y_pred_knn_x)\n",
    "    print (x,accuracy_knn_x )"
   ]
  },
  {
   "cell_type": "code",
   "execution_count": 82,
   "metadata": {},
   "outputs": [
    {
     "name": "stdout",
     "output_type": "stream",
     "text": [
      "10 0.6197333333333334\n",
      "11 0.6106666666666667\n",
      "12 0.6234666666666666\n",
      "13 0.6130666666666666\n",
      "14 0.6237333333333334\n",
      "15 0.6173333333333333\n",
      "16 0.6253333333333333\n",
      "17 0.6242666666666666\n",
      "18 0.6314666666666666\n",
      "19 0.6232\n",
      "20 0.6298666666666667\n",
      "21 0.6189333333333333\n",
      "22 0.6245333333333334\n",
      "23 0.6178666666666667\n",
      "24 0.6208\n",
      "25 0.6178666666666667\n",
      "26 0.6245333333333334\n",
      "27 0.6186666666666667\n",
      "28 0.6232\n",
      "29 0.6170666666666667\n"
     ]
    }
   ],
   "source": [
    "for x in range(10,30):\n",
    "    knn_x=KNeighborsClassifier(n_neighbors=x)\n",
    "    knn_x.fit(x_train_reduced3, y_train_set)\n",
    "    y_pred_knn_x=knn_x.predict(x_test_reduced3)\n",
    "    accuracy_knn_x=metrics.accuracy_score(y_test_set, y_pred_knn_x)\n",
    "    print (x,accuracy_knn_x )  "
   ]
  },
  {
   "cell_type": "code",
   "execution_count": null,
   "metadata": {},
   "outputs": [],
   "source": []
  },
  {
   "cell_type": "code",
   "execution_count": null,
   "metadata": {},
   "outputs": [],
   "source": []
  },
  {
   "cell_type": "code",
   "execution_count": 83,
   "metadata": {},
   "outputs": [
    {
     "data": {
      "text/plain": [
       "0.6253333333333333"
      ]
     },
     "execution_count": 83,
     "metadata": {},
     "output_type": "execute_result"
    }
   ],
   "source": [
    "knn3 = KNeighborsClassifier(n_neighbors=16)\n",
    "knn3.fit(x_train_reduced3, y_train_set)\n",
    "y_pred_knn3=knn3.predict(x_test_reduced3)\n",
    "accuracy_knn3=metrics.accuracy_score(y_test_set, y_pred_knn3)\n",
    "accuracy_knn3"
   ]
  },
  {
   "cell_type": "code",
   "execution_count": 84,
   "metadata": {},
   "outputs": [
    {
     "data": {
      "image/png": "[encoded data removed]",
      "text/plain": [
       "<Figure size 432x288 with 2 Axes>"
      ]
     },
     "metadata": {
      "needs_background": "light"
     },
     "output_type": "display_data"
    }
   ],
   "source": [
    "mat_knn3=confusion_matrix(y_test_set, y_pred_knn3)\n",
    "confussion_matrix(mat_knn3)"
   ]
  },
  {
   "cell_type": "code",
   "execution_count": 85,
   "metadata": {},
   "outputs": [
    {
     "name": "stdout",
     "output_type": "stream",
     "text": [
      "precision_score_knn3: 0.6081412457086808\n",
      "recall_score_knn3: 0.6717226435536294\n",
      "f1_score_knn3: 0.6383526383526383\n"
     ]
    }
   ],
   "source": [
    "print(\"precision_score_knn3:\",precision_score(y_test_set, y_pred_knn3)) \n",
    "print(\"recall_score_knn3:\",recall_score(y_test_set, y_pred_knn3))\n",
    "print(\"f1_score_knn3:\",f1_score(y_test_set, y_pred_knn3))"
   ]
  },
  {
   "cell_type": "code",
   "execution_count": 86,
   "metadata": {},
   "outputs": [
    {
     "name": "stdout",
     "output_type": "stream",
     "text": [
      "[0.602      0.60228571 0.61371429 0.616      0.59502715] mean: 0.6058054301228923\n"
     ]
    }
   ],
   "source": [
    "#cross validation\n",
    "cv_scores_knn3=cross_val_score(knn3, x_train_reduced3, y_train_set, cv=5, scoring=\"accuracy\")\n",
    "print(cv_scores_knn3, \"mean:\", np.mean(cv_scores_knn3))"
   ]
  },
  {
   "cell_type": "code",
   "execution_count": 87,
   "metadata": {},
   "outputs": [
    {
     "data": {
      "image/png": "[encoded data removed]",
      "text/plain": [
       "<Figure size 432x288 with 2 Axes>"
      ]
     },
     "metadata": {
      "needs_background": "light"
     },
     "output_type": "display_data"
    }
   ],
   "source": [
    "y_pred_knn3_c = cross_val_predict(knn3,  x_train_reduced3, y_train_set, cv=5)\n",
    "cofussion_knn3=confusion_matrix(y_train_set, y_pred_knn3_c)\n",
    "confussion_matrix(cofussion_knn3)"
   ]
  },
  {
   "cell_type": "code",
   "execution_count": 88,
   "metadata": {},
   "outputs": [
    {
     "name": "stdout",
     "output_type": "stream",
     "text": [
      "precision_score: 0.5961398775552558\n",
      "recall_score: 0.6564964004113816\n",
      "f1_score: 0.6248640417663693\n"
     ]
    }
   ],
   "source": [
    "print(\"precision_score:\",precision_score(y_train_set, y_pred_knn3_c)) \n",
    "print(\"recall_score:\",recall_score(y_train_set, y_pred_knn3_c))\n",
    "print(\"f1_score:\",f1_score(y_train_set, y_pred_knn3_c))"
   ]
  },
  {
   "cell_type": "code",
   "execution_count": null,
   "metadata": {},
   "outputs": [],
   "source": []
  },
  {
   "cell_type": "code",
   "execution_count": null,
   "metadata": {},
   "outputs": [],
   "source": []
  },
  {
   "cell_type": "code",
   "execution_count": 89,
   "metadata": {},
   "outputs": [
    {
     "data": {
      "text/plain": [
       "0.6317333333333334"
      ]
     },
     "execution_count": 89,
     "metadata": {},
     "output_type": "execute_result"
    }
   ],
   "source": [
    "XG3=XGBClassifier(n_estimators=400, max_depth=2, eta=0.1, subsample=0.7, colsample_bytree=0.8,\n",
    "                 use_label_encoder =False,eval_metric = \"logloss\")\n",
    "XG3.fit(x_train_recovered3, y_train_set)\n",
    "y_pred_XG3=XG3.predict(x_test_recovered3)\n",
    "accuracy_XG3=metrics.accuracy_score(y_test_set, y_pred_XG3)\n",
    "accuracy_XG3"
   ]
  },
  {
   "cell_type": "code",
   "execution_count": 90,
   "metadata": {},
   "outputs": [
    {
     "data": {
      "image/png": "[encoded data removed]",
      "text/plain": [
       "<Figure size 432x288 with 2 Axes>"
      ]
     },
     "metadata": {
      "needs_background": "light"
     },
     "output_type": "display_data"
    }
   ],
   "source": [
    "mat_XG3=confusion_matrix(y_test_set, y_pred_XG3)\n",
    "confussion_matrix(mat_XG3)"
   ]
  },
  {
   "cell_type": "code",
   "execution_count": 91,
   "metadata": {},
   "outputs": [
    {
     "name": "stdout",
     "output_type": "stream",
     "text": [
      "precision_score_XG3: 0.6118326118326118\n",
      "recall_score_XG3: 0.6890574214517876\n",
      "f1_score_XG3: 0.6481528662420382\n"
     ]
    }
   ],
   "source": [
    "print(\"precision_score_XG3:\",precision_score(y_test_set, y_pred_XG3)) \n",
    "print(\"recall_score_XG3:\",recall_score(y_test_set, y_pred_XG3))\n",
    "print(\"f1_score_XG3:\",f1_score(y_test_set, y_pred_XG3))"
   ]
  },
  {
   "cell_type": "code",
   "execution_count": 92,
   "metadata": {},
   "outputs": [
    {
     "name": "stdout",
     "output_type": "stream",
     "text": [
      "[0.62542857 0.62142857 0.61485714 0.63657143 0.62246356] mean: 0.6241498550606296\n"
     ]
    }
   ],
   "source": [
    "#cross validation\n",
    "cv_scores_XG3=cross_val_score(XG3, x_train_reduced3, y_train_set, cv=5, scoring=\"accuracy\")\n",
    "print(cv_scores_XG3, \"mean:\", np.mean(cv_scores_XG3))"
   ]
  },
  {
   "cell_type": "code",
   "execution_count": null,
   "metadata": {},
   "outputs": [],
   "source": []
  }
 ],
 "metadata": {
  "kernelspec": {
   "display_name": "Python 3",
   "language": "python",
   "name": "python3"
  },
  "language_info": {
   "codemirror_mode": {
    "name": "ipython",
    "version": 3
   },
   "file_extension": ".py",
   "mimetype": "text/x-python",
   "name": "python",
   "nbconvert_exporter": "python",
   "pygments_lexer": "ipython3",
   "version": "3.8.3"
  }
 },
 "nbformat": 4,
 "nbformat_minor": 4
}

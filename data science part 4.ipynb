{
 "cells": [
  {
   "cell_type": "markdown",
   "metadata": {},
   "source": [
    "data scienc end of year part 4"
   ]
  },
  {
   "cell_type": "code",
   "execution_count": 460,
   "metadata": {},
   "outputs": [],
   "source": [
    "import numpy as np\n",
    "import pandas as pd\n",
    "import seaborn as sns\n",
    "import matplotlib.pyplot as plt\n",
    "from sklearn.model_selection import train_test_split\n",
    "from sklearn.decomposition import PCA\n",
    "import warnings\n",
    "warnings.filterwarnings(action='ignore', category=UserWarning)\n",
    "from sklearn.model_selection import cross_val_score \n",
    "from sklearn.model_selection import cross_val_predict  \n",
    "from sklearn.metrics import confusion_matrix\n",
    "from sklearn.metrics import precision_score, recall_score \n",
    "from sklearn.metrics import f1_score  \n",
    "from sklearn.metrics import accuracy_score\n",
    "from sklearn import metrics\n",
    "from sklearn.neighbors import KNeighborsClassifier\n",
    "from xgboost import XGBClassifier\n",
    "from sklearn.ensemble import AdaBoostClassifier\n",
    "from sklearn.ensemble import GradientBoostingClassifier\n",
    "from sklearn.ensemble import VotingClassifier\n",
    "from sklearn.linear_model import LogisticRegression\n"
   ]
  },
  {
   "cell_type": "code",
   "execution_count": 2,
   "metadata": {},
   "outputs": [],
   "source": [
    "# importing the data sets for alone\n",
    "\n",
    "\n",
    "df_alone_person1=pd.read_csv(r'C:\\Users\\nechd\\Desktop\\data_science_part4\\extraFiles\\Training\\Evyatar Cohen\\Evyatar636771054555711409Alone.csv')\n",
    "df_alone_person2=pd.read_csv(r'C:\\Users\\nechd\\Desktop\\data_science_part4\\extraFiles\\Training\\Nofar Social_Nuero\\Nofar636759796290435160Alone.csv')\n",
    "df_alone_person3=pd.read_csv(r'C:\\Users\\nechd\\Desktop\\data_science_part4\\extraFiles\\Training\\Oriya Social_Nuero\\Oriya636759806131350399Sync.csv')\n",
    "df_alone_person4=pd.read_csv(r'C:\\Users\\nechd\\Desktop\\data_science_part4\\extraFiles\\Training\\Orya Kalmanovitz\\OryaB636771082736601528Alone.csv')\n",
    "df_alone_person5=pd.read_csv(r'C:\\Users\\nechd\\Desktop\\data_science_part4\\extraFiles\\Training\\Revital Marbel\\Revital636770955999435879Alone.csv')\n",
    "df_alone_person6=pd.read_csv(r'C:\\Users\\nechd\\Desktop\\data_science_part4\\extraFiles\\Training\\Shahar Terner\\Sachar636771047408504303Alone.csv')\n",
    "df_alone_person7=pd.read_csv(r'C:\\Users\\nechd\\Desktop\\data_science_part4\\extraFiles\\Training\\Shelly Social_Nuero\\Shelly636759788383205274Alone.csv')\n",
    "df_alone_person8=pd.read_csv(r'C:\\Users\\nechd\\Desktop\\data_science_part4\\extraFiles\\Training\\Yael Hagai\\Yael636771061659067649Alone.csv')\n",
    "df_alone_person9=pd.read_csv(r'C:\\Users\\nechd\\Desktop\\data_science_part4\\extraFiles\\Training\\Yoel Raz\\Yoel636760922573364655Alone.csv')\n",
    "df_hand_right=pd.read_csv(r'C:\\Users\\nechd\\Desktop\\data_science_part4\\extraFiles\\HandRight.csv')"
   ]
  },
  {
   "cell_type": "code",
   "execution_count": null,
   "metadata": {},
   "outputs": [],
   "source": []
  },
  {
   "cell_type": "code",
   "execution_count": null,
   "metadata": {},
   "outputs": [],
   "source": []
  },
  {
   "cell_type": "code",
   "execution_count": 116,
   "metadata": {},
   "outputs": [],
   "source": [
    "columns_right=('Time_r','Frame ID_r','Hand Type_r','Position X_r','Position Y_r','Position Z_r','Velocity X_r','Velocity y_r',\n",
    "               'Velocity Z_r','Pitch_r','Roll_r','Yaw_r','Wrist Pos X_r','Wrist Pos X_r','Wrist Pos Y_r','Wrist Pos Z_r',\n",
    "               'Elbow pos X_r','Elbow pos Y_r','Elbow pos Z_r','Grab Strenth_r','Grab Angle_r','Pinch Strength_r')"
   ]
  },
  {
   "cell_type": "code",
   "execution_count": 117,
   "metadata": {},
   "outputs": [
    {
     "data": {
      "text/html": [
       "<div>\n",
       "<style scoped>\n",
       "    .dataframe tbody tr th:only-of-type {\n",
       "        vertical-align: middle;\n",
       "    }\n",
       "\n",
       "    .dataframe tbody tr th {\n",
       "        vertical-align: top;\n",
       "    }\n",
       "\n",
       "    .dataframe thead th {\n",
       "        text-align: right;\n",
       "    }\n",
       "</style>\n",
       "<table border=\"1\" class=\"dataframe\">\n",
       "  <thead>\n",
       "    <tr style=\"text-align: right;\">\n",
       "      <th></th>\n",
       "      <th>Time_r</th>\n",
       "      <th>Frame ID_r</th>\n",
       "      <th>Hand Type_r</th>\n",
       "      <th>Position X_r</th>\n",
       "      <th>Position Y_r</th>\n",
       "      <th>Position Z_r</th>\n",
       "      <th>Velocity X_r</th>\n",
       "      <th>Velocity y_r</th>\n",
       "      <th>Velocity Z_r</th>\n",
       "      <th>Pitch_r</th>\n",
       "      <th>...</th>\n",
       "      <th>Wrist Pos X_r</th>\n",
       "      <th>Wrist Pos X_r</th>\n",
       "      <th>Wrist Pos Y_r</th>\n",
       "      <th>Wrist Pos Z_r</th>\n",
       "      <th>Elbow pos X_r</th>\n",
       "      <th>Elbow pos Y_r</th>\n",
       "      <th>Elbow pos Z_r</th>\n",
       "      <th>Grab Strenth_r</th>\n",
       "      <th>Grab Angle_r</th>\n",
       "      <th>Pinch Strength_r</th>\n",
       "    </tr>\n",
       "  </thead>\n",
       "  <tbody>\n",
       "    <tr>\n",
       "      <th>0</th>\n",
       "      <td>128.2883</td>\n",
       "      <td>15478</td>\n",
       "      <td>right</td>\n",
       "      <td>1</td>\n",
       "      <td>15.67167</td>\n",
       "      <td>226.2064</td>\n",
       "      <td>20.2647</td>\n",
       "      <td>34.26665</td>\n",
       "      <td>-195.2147</td>\n",
       "      <td>-35.04302</td>\n",
       "      <td>...</td>\n",
       "      <td>-0.2778</td>\n",
       "      <td>46.88831</td>\n",
       "      <td>207.3548</td>\n",
       "      <td>86.23589</td>\n",
       "      <td>203.8337</td>\n",
       "      <td>49.33507</td>\n",
       "      <td>237.4553</td>\n",
       "      <td>0.0</td>\n",
       "      <td>0.206389</td>\n",
       "      <td>0.0</td>\n",
       "    </tr>\n",
       "  </tbody>\n",
       "</table>\n",
       "<p>1 rows × 22 columns</p>\n",
       "</div>"
      ],
      "text/plain": [
       "     Time_r  Frame ID_r Hand Type_r  Position X_r  Position Y_r  Position Z_r  \\\n",
       "0  128.2883       15478       right             1      15.67167      226.2064   \n",
       "\n",
       "   Velocity X_r  Velocity y_r  Velocity Z_r   Pitch_r  ...  Wrist Pos X_r  \\\n",
       "0       20.2647      34.26665     -195.2147 -35.04302  ...        -0.2778   \n",
       "\n",
       "   Wrist Pos X_r  Wrist Pos Y_r  Wrist Pos Z_r  Elbow pos X_r  Elbow pos Y_r  \\\n",
       "0       46.88831       207.3548       86.23589       203.8337       49.33507   \n",
       "\n",
       "   Elbow pos Z_r  Grab Strenth_r  Grab Angle_r  Pinch Strength_r  \n",
       "0       237.4553             0.0      0.206389               0.0  \n",
       "\n",
       "[1 rows x 22 columns]"
      ]
     },
     "execution_count": 117,
     "metadata": {},
     "output_type": "execute_result"
    }
   ],
   "source": [
    "# changing the nmes for the columns in the right hand data frame\n",
    "df_hand_right=df_hand_right.set_axis(columns_right, axis='columns') \n",
    "df_hand_right.head(1)"
   ]
  },
  {
   "cell_type": "code",
   "execution_count": null,
   "metadata": {},
   "outputs": [],
   "source": []
  },
  {
   "cell_type": "code",
   "execution_count": null,
   "metadata": {},
   "outputs": [],
   "source": []
  },
  {
   "cell_type": "code",
   "execution_count": 118,
   "metadata": {},
   "outputs": [
    {
     "data": {
      "text/html": [
       "<div>\n",
       "<style scoped>\n",
       "    .dataframe tbody tr th:only-of-type {\n",
       "        vertical-align: middle;\n",
       "    }\n",
       "\n",
       "    .dataframe tbody tr th {\n",
       "        vertical-align: top;\n",
       "    }\n",
       "\n",
       "    .dataframe thead th {\n",
       "        text-align: right;\n",
       "    }\n",
       "</style>\n",
       "<table border=\"1\" class=\"dataframe\">\n",
       "  <thead>\n",
       "    <tr style=\"text-align: right;\">\n",
       "      <th></th>\n",
       "      <th>Time_r</th>\n",
       "      <th>Frame ID_r</th>\n",
       "      <th>Hand Type_r</th>\n",
       "      <th>Position X_r</th>\n",
       "      <th>Position Y_r</th>\n",
       "      <th>Position Z_r</th>\n",
       "      <th>Velocity X_r</th>\n",
       "      <th>Velocity y_r</th>\n",
       "      <th>Velocity Z_r</th>\n",
       "      <th>Pitch_r</th>\n",
       "      <th>...</th>\n",
       "      <th>Wrist Pos X_r</th>\n",
       "      <th>Wrist Pos X_r</th>\n",
       "      <th>Wrist Pos Y_r</th>\n",
       "      <th>Wrist Pos Z_r</th>\n",
       "      <th>Elbow pos X_r</th>\n",
       "      <th>Elbow pos Y_r</th>\n",
       "      <th>Elbow pos Z_r</th>\n",
       "      <th>Grab Strenth_r</th>\n",
       "      <th>Grab Angle_r</th>\n",
       "      <th>Pinch Strength_r</th>\n",
       "    </tr>\n",
       "  </thead>\n",
       "  <tbody>\n",
       "    <tr>\n",
       "      <th>0</th>\n",
       "      <td>128.2883</td>\n",
       "      <td>15478</td>\n",
       "      <td>right</td>\n",
       "      <td>1</td>\n",
       "      <td>15.67167</td>\n",
       "      <td>226.2064</td>\n",
       "      <td>20.2647</td>\n",
       "      <td>34.26665</td>\n",
       "      <td>-195.2147</td>\n",
       "      <td>-35.04302</td>\n",
       "      <td>...</td>\n",
       "      <td>-0.2778</td>\n",
       "      <td>46.88831</td>\n",
       "      <td>207.3548</td>\n",
       "      <td>86.23589</td>\n",
       "      <td>203.8337</td>\n",
       "      <td>49.33507</td>\n",
       "      <td>237.4553</td>\n",
       "      <td>0.0</td>\n",
       "      <td>0.206389</td>\n",
       "      <td>0.0</td>\n",
       "    </tr>\n",
       "  </tbody>\n",
       "</table>\n",
       "<p>1 rows × 22 columns</p>\n",
       "</div>"
      ],
      "text/plain": [
       "     Time_r  Frame ID_r Hand Type_r  Position X_r  Position Y_r  Position Z_r  \\\n",
       "0  128.2883       15478       right             1      15.67167      226.2064   \n",
       "\n",
       "   Velocity X_r  Velocity y_r  Velocity Z_r   Pitch_r  ...  Wrist Pos X_r  \\\n",
       "0       20.2647      34.26665     -195.2147 -35.04302  ...        -0.2778   \n",
       "\n",
       "   Wrist Pos X_r  Wrist Pos Y_r  Wrist Pos Z_r  Elbow pos X_r  Elbow pos Y_r  \\\n",
       "0       46.88831       207.3548       86.23589       203.8337       49.33507   \n",
       "\n",
       "   Elbow pos Z_r  Grab Strenth_r  Grab Angle_r  Pinch Strength_r  \n",
       "0       237.4553             0.0      0.206389               0.0  \n",
       "\n",
       "[1 rows x 22 columns]"
      ]
     },
     "execution_count": 118,
     "metadata": {},
     "output_type": "execute_result"
    }
   ],
   "source": [
    "# deleting rows with null values\n",
    "\n",
    "df_alone_person1=df_alone_person1.dropna('index','any')\n",
    "df_alone_person2=df_alone_person2.dropna('index','any')\n",
    "df_alone_person3=df_alone_person3.dropna('index','any')\n",
    "df_alone_person4=df_alone_person4.dropna('index','any')\n",
    "df_alone_person5=df_alone_person5.dropna('index','any')\n",
    "df_alone_person6=df_alone_person6.dropna('index','any')\n",
    "df_alone_person7=df_alone_person7.dropna('index','any')\n",
    "df_alone_person8=df_alone_person8.dropna('index','any')\n",
    "df_alone_person9=df_alone_person9.dropna('index','any')\n",
    "df_hand_right=df_hand_right.dropna('index','any')\n"
   ]
  },
  {
   "cell_type": "code",
   "execution_count": 120,
   "metadata": {},
   "outputs": [],
   "source": [
    "# adding the right hand to the left\n",
    "df_alone_person1_combo=pd.concat([df_alone_person1,df_hand_right],axis=1,)\n",
    "df_alone_person2_combo=pd.concat([df_alone_person2,df_hand_right],axis=1,)\n",
    "df_alone_person3_combo=pd.concat([df_alone_person3,df_hand_right],axis=1,)\n",
    "df_alone_person4_combo=pd.concat([df_alone_person4,df_hand_right],axis=1,)\n",
    "df_alone_person5_combo=pd.concat([df_alone_person5,df_hand_right],axis=1,)\n",
    "df_alone_person6_combo=pd.concat([df_alone_person6,df_hand_right],axis=1,)\n",
    "df_alone_person7_combo=pd.concat([df_alone_person7,df_hand_right],axis=1,)\n",
    "df_alone_person8_combo=pd.concat([df_alone_person8,df_hand_right],axis=1,)\n",
    "df_alone_person9_combo=pd.concat([df_alone_person9,df_hand_right],axis=1,)"
   ]
  },
  {
   "cell_type": "code",
   "execution_count": 122,
   "metadata": {},
   "outputs": [],
   "source": [
    "df_alone_person1_combo=df_alone_person1_combo.loc[df_alone_person1_combo[' # hands']==1]\n",
    "df_alone_person2_combo=df_alone_person2_combo.loc[df_alone_person2_combo[' # hands']==1]\n",
    "df_alone_person3_combo=df_alone_person3_combo.loc[df_alone_person3_combo[' # hands']==1]\n",
    "df_alone_person4_combo=df_alone_person4_combo.loc[df_alone_person4_combo[' # hands']==1]\n",
    "df_alone_person5_combo=df_alone_person5_combo.loc[df_alone_person5_combo[' # hands']==1]\n",
    "df_alone_person6_combo=df_alone_person6_combo.loc[df_alone_person6_combo[' # hands']==1]\n",
    "df_alone_person7_combo=df_alone_person7_combo.loc[df_alone_person7_combo[' # hands']==1]\n",
    "df_alone_person8_combo=df_alone_person8_combo.loc[df_alone_person8_combo[' # hands']==1]\n",
    "df_alone_person9_combo=df_alone_person9_combo.loc[df_alone_person9_combo[' # hands']==1]"
   ]
  },
  {
   "cell_type": "code",
   "execution_count": 123,
   "metadata": {},
   "outputs": [],
   "source": [
    "# adding a laybel\n",
    "\n",
    "df_alone_person1_combo[\"type\"]=0\n",
    "df_alone_person2_combo[\"type\"]=0\n",
    "df_alone_person3_combo[\"type\"]=0\n",
    "df_alone_person4_combo[\"type\"]=0\n",
    "df_alone_person5_combo[\"type\"]=0\n",
    "df_alone_person6_combo[\"type\"]=0\n",
    "df_alone_person7_combo[\"type\"]=0\n",
    "df_alone_person8_combo[\"type\"]=0\n",
    "df_alone_person9_combo[\"type\"]=0"
   ]
  },
  {
   "cell_type": "code",
   "execution_count": 125,
   "metadata": {
    "scrolled": false
   },
   "outputs": [],
   "source": [
    "df_alone_person1_combo=df_alone_person1_combo.set_index('Time')\n",
    "df_alone_person2_combo=df_alone_person2_combo.set_index('Time')\n",
    "df_alone_person3_combo=df_alone_person3_combo.set_index('Time')\n",
    "df_alone_person4_combo=df_alone_person4_combo.set_index('Time')\n",
    "df_alone_person5_combo=df_alone_person5_combo.set_index('Time')\n",
    "df_alone_person6_combo=df_alone_person6_combo.set_index('Time')\n",
    "df_alone_person7_combo=df_alone_person7_combo.set_index('Time')\n",
    "df_alone_person8_combo=df_alone_person8_combo.set_index('Time')\n",
    "df_alone_person9_combo=df_alone_person9_combo.set_index('Time')"
   ]
  },
  {
   "cell_type": "code",
   "execution_count": 126,
   "metadata": {},
   "outputs": [],
   "source": [
    "df_alone_person1_combo=df_alone_person1_combo.dropna('index','any')\n",
    "df_alone_person2_combo=df_alone_person2_combo.dropna('index','any')\n",
    "df_alone_person3_combo=df_alone_person3_combo.dropna('index','any')\n",
    "df_alone_person4_combo=df_alone_person4_combo.dropna('index','any')\n",
    "df_alone_person5_combo=df_alone_person5_combo.dropna('index','any')\n",
    "df_alone_person6_combo=df_alone_person6_combo.dropna('index','any')\n",
    "df_alone_person7_combo=df_alone_person7_combo.dropna('index','any')\n",
    "df_alone_person8_combo=df_alone_person8_combo.dropna('index','any')\n",
    "df_alone_person9_combo=df_alone_person9_combo.dropna('index','any')"
   ]
  },
  {
   "cell_type": "code",
   "execution_count": 128,
   "metadata": {},
   "outputs": [],
   "source": [
    "# getting rid of the 7 first secounds\n",
    "\n",
    "df_alone_person1_combo=df_alone_person1_combo.iloc[700:]\n",
    "df_alone_person2_combo=df_alone_person2_combo.iloc[700:]\n",
    "df_alone_person3_combo=df_alone_person3_combo.iloc[700:]\n",
    "df_alone_person4_combo=df_alone_person4_combo.iloc[700:]\n",
    "df_alone_person5_combo=df_alone_person5_combo.iloc[700:]\n",
    "df_alone_person6_combo=df_alone_person6_combo.iloc[700:]\n",
    "df_alone_person7_combo=df_alone_person7_combo.iloc[700:]\n",
    "df_alone_person8_combo=df_alone_person8_combo.iloc[700:]\n",
    "df_alone_person9_combo=df_alone_person9_combo.iloc[700:]"
   ]
  },
  {
   "cell_type": "code",
   "execution_count": 129,
   "metadata": {},
   "outputs": [],
   "source": [
    "# importing the data sets for sync\n",
    "\n",
    "df_sync_person1=pd.read_csv(r'C:\\Users\\nechd\\Desktop\\data_science_part4\\extraFiles\\Training\\Evyatar Cohen\\Evyatar636771053639929594Sync.csv')\n",
    "df_sync_person2=pd.read_csv(r'C:\\Users\\nechd\\Desktop\\data_science_part4\\extraFiles\\Training\\Nofar Social_Nuero\\Nofar636759797397919664Sync.csv')\n",
    "df_sync_person3=pd.read_csv(r'C:\\Users\\nechd\\Desktop\\data_science_part4\\extraFiles\\Training\\Oriya Social_Nuero\\Oriya636759806131350399Sync.csv')\n",
    "df_sync_person4=pd.read_csv(r'C:\\Users\\nechd\\Desktop\\data_science_part4\\extraFiles\\Training\\Orya Kalmanovitz\\OryaB636771084494502229Sync.csv')\n",
    "df_sync_person5=pd.read_csv(r'C:\\Users\\nechd\\Desktop\\data_science_part4\\extraFiles\\Training\\Revital Marbel\\Revital636770957894370062Sync.csv')\n",
    "df_sync_person6=pd.read_csv(r'C:\\Users\\nechd\\Desktop\\data_science_part4\\extraFiles\\Training\\Shahar Terner\\Sachar636771046527112972Sync.csv')\n",
    "df_sync_person7=pd.read_csv(r'C:\\Users\\nechd\\Desktop\\data_science_part4\\extraFiles\\Training\\Shelly Social_Nuero\\Shelly636759789526313406Sync.csv')\n",
    "df_sync_person8=pd.read_csv(r'C:\\Users\\nechd\\Desktop\\data_science_part4\\extraFiles\\Training\\Yael Hagai\\Yael636771060699529085Sync.csv')\n",
    "df_sync_person9=pd.read_csv(r'C:\\Users\\nechd\\Desktop\\data_science_part4\\extraFiles\\Training\\Yoel Raz\\Yoel636760923490742912Sync.csv')"
   ]
  },
  {
   "cell_type": "code",
   "execution_count": 130,
   "metadata": {},
   "outputs": [],
   "source": [
    "#seperating the left hand from the right hand\n",
    "\n",
    "df_sync_person1_r=df_sync_person1.loc[df_sync_person1[' Hand Type']==\"right\"]\n",
    "df_sync_person1_l=df_sync_person1.loc[df_sync_person1[' Hand Type']==\"left\"]\n",
    "df_sync_person2_r=df_sync_person2.loc[df_sync_person2[' Hand Type']==\"right\"]\n",
    "df_sync_person2_l=df_sync_person2.loc[df_sync_person2[' Hand Type']==\"left\"]\n",
    "df_sync_person3_r=df_sync_person3.loc[df_sync_person3[' Hand Type']==\"right\"]\n",
    "df_sync_person3_l=df_sync_person3.loc[df_sync_person3[' Hand Type']==\"left\"]\n",
    "df_sync_person4_r=df_sync_person4.loc[df_sync_person4[' Hand Type']==\"right\"]\n",
    "df_sync_person4_l=df_sync_person4.loc[df_sync_person4[' Hand Type']==\"left\"]\n",
    "df_sync_person5_r=df_sync_person5.loc[df_sync_person5[' Hand Type']==\"right\"]\n",
    "df_sync_person5_l=df_sync_person5.loc[df_sync_person5[' Hand Type']==\"left\"]\n",
    "df_sync_person6_r=df_sync_person6.loc[df_sync_person6[' Hand Type']==\"right\"]\n",
    "df_sync_person6_l=df_sync_person6.loc[df_sync_person6[' Hand Type']==\"left\"]\n",
    "df_sync_person7_r=df_sync_person7.loc[df_sync_person7[' Hand Type']==\"right\"]\n",
    "df_sync_person7_l=df_sync_person7.loc[df_sync_person7[' Hand Type']==\"left\"]\n",
    "df_sync_person8_r=df_sync_person8.loc[df_sync_person8[' Hand Type']==\"right\"]\n",
    "df_sync_person8_l=df_sync_person8.loc[df_sync_person8[' Hand Type']==\"left\"]\n",
    "df_sync_person9_r=df_sync_person9.loc[df_sync_person9[' Hand Type']==\"right\"]\n",
    "df_sync_person9_l=df_sync_person9.loc[df_sync_person9[' Hand Type']==\"left\"]\n"
   ]
  },
  {
   "cell_type": "code",
   "execution_count": 131,
   "metadata": {},
   "outputs": [],
   "source": [
    "# changing the names of the right hand columns\n",
    "df_sync_person1_r=df_sync_person1_r.set_axis(columns_right, axis='columns')\n",
    "df_sync_person2_r=df_sync_person2_r.set_axis(columns_right, axis='columns')\n",
    "df_sync_person3_r=df_sync_person3_r.set_axis(columns_right, axis='columns')\n",
    "df_sync_person4_r=df_sync_person4_r.set_axis(columns_right, axis='columns')\n",
    "df_sync_person5_r=df_sync_person5_r.set_axis(columns_right, axis='columns')\n",
    "df_sync_person6_r=df_sync_person6_r.set_axis(columns_right, axis='columns')\n",
    "df_sync_person7_r=df_sync_person7_r.set_axis(columns_right, axis='columns')\n",
    "df_sync_person8_r=df_sync_person8_r.set_axis(columns_right, axis='columns')\n",
    "df_sync_person9_r=df_sync_person9_r.set_axis(columns_right, axis='columns')"
   ]
  },
  {
   "cell_type": "code",
   "execution_count": 132,
   "metadata": {},
   "outputs": [],
   "source": [
    "# setting the index to the time stamp to the left and right data frames\n",
    "df_sync_person1_r=df_sync_person1_r.set_index('Time_r')\n",
    "df_sync_person1_l=df_sync_person1_l.set_index('Time')\n",
    "df_sync_person2_r=df_sync_person2_r.set_index('Time_r')\n",
    "df_sync_person2_l=df_sync_person2_l.set_index('Time')\n",
    "df_sync_person3_r=df_sync_person3_r.set_index('Time_r')\n",
    "df_sync_person3_l=df_sync_person3_l.set_index('Time')\n",
    "df_sync_person4_r=df_sync_person4_r.set_index('Time_r')\n",
    "df_sync_person4_l=df_sync_person4_l.set_index('Time')\n",
    "df_sync_person5_r=df_sync_person5_r.set_index('Time_r')\n",
    "df_sync_person5_l=df_sync_person5_l.set_index('Time')\n",
    "df_sync_person6_r=df_sync_person6_r.set_index('Time_r')\n",
    "df_sync_person6_l=df_sync_person6_l.set_index('Time')\n",
    "df_sync_person7_r=df_sync_person7_r.set_index('Time_r')\n",
    "df_sync_person7_l=df_sync_person7_l.set_index('Time')\n",
    "df_sync_person8_r=df_sync_person8_r.set_index('Time_r')\n",
    "df_sync_person8_l=df_sync_person8_l.set_index('Time')\n",
    "df_sync_person9_r=df_sync_person9_r.set_index('Time_r')\n",
    "df_sync_person9_l=df_sync_person9_l.set_index('Time')"
   ]
  },
  {
   "cell_type": "code",
   "execution_count": 133,
   "metadata": {},
   "outputs": [],
   "source": [
    "#combing the left and right back together so that they are in 1 row by the time stamp\n",
    "\n",
    "df_sync_person1_combo=pd.concat([df_sync_person1_l,df_sync_person1_r],axis=1,)\n",
    "df_sync_person2_combo=pd.concat([df_sync_person2_l,df_sync_person2_r],axis=1,)\n",
    "df_sync_person3_combo=pd.concat([df_sync_person3_l,df_sync_person3_r],axis=1,)\n",
    "df_sync_person4_combo=pd.concat([df_sync_person4_l,df_sync_person4_r],axis=1,)\n",
    "df_sync_person5_combo=pd.concat([df_sync_person5_l,df_sync_person5_r],axis=1,)\n",
    "df_sync_person6_combo=pd.concat([df_sync_person6_l,df_sync_person6_r],axis=1,)\n",
    "df_sync_person7_combo=pd.concat([df_sync_person7_l,df_sync_person7_r],axis=1,)\n",
    "df_sync_person8_combo=pd.concat([df_sync_person8_l,df_sync_person8_r],axis=1,)\n",
    "df_sync_person9_combo=pd.concat([df_sync_person9_l,df_sync_person9_r],axis=1,)"
   ]
  },
  {
   "cell_type": "code",
   "execution_count": 134,
   "metadata": {},
   "outputs": [],
   "source": [
    "# only keeping the rows that have two hands\n",
    "\n",
    "df_sync_person1_combo=df_sync_person1_combo.loc[df_sync_person1_combo[' # hands']==2]\n",
    "df_sync_person2_combo=df_sync_person2_combo.loc[df_sync_person2_combo[' # hands']==2]\n",
    "df_sync_person3_combo=df_sync_person3_combo.loc[df_sync_person3_combo[' # hands']==2]\n",
    "df_sync_person4_combo=df_sync_person4_combo.loc[df_sync_person4_combo[' # hands']==2]\n",
    "df_sync_person5_combo=df_sync_person5_combo.loc[df_sync_person5_combo[' # hands']==2]\n",
    "df_sync_person6_combo=df_sync_person6_combo.loc[df_sync_person6_combo[' # hands']==2]\n",
    "df_sync_person7_combo=df_sync_person7_combo.loc[df_sync_person7_combo[' # hands']==2]\n",
    "df_sync_person8_combo=df_sync_person8_combo.loc[df_sync_person8_combo[' # hands']==2]\n",
    "df_sync_person9_combo=df_sync_person9_combo.loc[df_sync_person9_combo[' # hands']==2]"
   ]
  },
  {
   "cell_type": "code",
   "execution_count": 135,
   "metadata": {},
   "outputs": [],
   "source": [
    "df_sync_person1_combo[\"type\"]=1\n",
    "df_sync_person2_combo[\"type\"]=1\n",
    "df_sync_person3_combo[\"type\"]=1\n",
    "df_sync_person4_combo[\"type\"]=1\n",
    "df_sync_person5_combo[\"type\"]=1\n",
    "df_sync_person6_combo[\"type\"]=1\n",
    "df_sync_person7_combo[\"type\"]=1\n",
    "df_sync_person8_combo[\"type\"]=1\n",
    "df_sync_person9_combo[\"type\"]=1"
   ]
  },
  {
   "cell_type": "code",
   "execution_count": 136,
   "metadata": {},
   "outputs": [],
   "source": [
    "df_sync_person1_combo=df_sync_person1_combo.iloc[700:]\n",
    "df_sync_person2_combo=df_sync_person2_combo.iloc[700:]\n",
    "df_sync_person3_combo=df_sync_person3_combo.iloc[700:]\n",
    "df_sync_person4_combo=df_sync_person4_combo.iloc[700:]\n",
    "df_sync_person5_combo=df_sync_person5_combo.iloc[700:]\n",
    "df_sync_person6_combo=df_sync_person6_combo.iloc[700:]\n",
    "df_sync_person7_combo=df_sync_person7_combo.iloc[700:]\n",
    "df_sync_person8_combo=df_sync_person8_combo.iloc[700:]\n",
    "df_sync_person9_combo=df_sync_person9_combo.iloc[700:]"
   ]
  },
  {
   "cell_type": "code",
   "execution_count": 137,
   "metadata": {},
   "outputs": [],
   "source": [
    "# importing the data sets for spontanius\n",
    "\n",
    "df_spontan_person1=pd.read_csv(r'C:\\Users\\nechd\\Desktop\\data_science_part4\\extraFiles\\Training\\Evyatar Cohen\\Evyatar636771052727603804Spontan.csv')\n",
    "df_spontan_person2=pd.read_csv(r'C:\\Users\\nechd\\Desktop\\data_science_part4\\extraFiles\\Training\\Nofar Social_Nuero\\Nofar636759795182793299Spontan.csv')\n",
    "df_spontan_person3=pd.read_csv(r'C:\\Users\\nechd\\Desktop\\data_science_part4\\extraFiles\\Training\\Oriya Social_Nuero\\Oriya636759804404113837Spontan.csv')\n",
    "df_spontan_person4=pd.read_csv(r'C:\\Users\\nechd\\Desktop\\data_science_part4\\extraFiles\\Training\\Orya Kalmanovitz\\OryaB636771083605535985Spontan.csv')\n",
    "df_spontan_person5=pd.read_csv(r'C:\\Users\\nechd\\Desktop\\data_science_part4\\extraFiles\\Training\\Revital Marbel\\Revital636770957038873193Spontan.csv')\n",
    "df_spontan_person6=pd.read_csv(r'C:\\Users\\nechd\\Desktop\\data_science_part4\\extraFiles\\Training\\Shahar Terner\\Sachar636771045591258071Spontan.csv')\n",
    "df_spontan_person7=pd.read_csv(r'C:\\Users\\nechd\\Desktop\\data_science_part4\\extraFiles\\Training\\Shelly Social_Nuero\\Shelly636759787508979097Spontan.csv')\n",
    "df_spontan_person8=pd.read_csv(r'C:\\Users\\nechd\\Desktop\\data_science_part4\\extraFiles\\Training\\Yael Hagai\\Yael636771059544754823Spontan.csv')\n",
    "df_spontan_person9=pd.read_csv(r'C:\\Users\\nechd\\Desktop\\data_science_part4\\extraFiles\\Training\\Yoel Raz\\Yoel636760921663075813Spontan.csv')"
   ]
  },
  {
   "cell_type": "code",
   "execution_count": 138,
   "metadata": {},
   "outputs": [],
   "source": [
    "#seperating the left hand from the right hand\n",
    "\n",
    "df_spontan_person1_r=df_spontan_person1.loc[df_spontan_person1[' Hand Type']==\"right\"]\n",
    "df_spontan_person1_l=df_spontan_person1.loc[df_spontan_person1[' Hand Type']==\"left\"]\n",
    "df_spontan_person2_r=df_spontan_person2.loc[df_spontan_person2[' Hand Type']==\"right\"]\n",
    "df_spontan_person2_l=df_spontan_person2.loc[df_spontan_person2[' Hand Type']==\"left\"]\n",
    "df_spontan_person3_r=df_spontan_person3.loc[df_spontan_person3[' Hand Type']==\"right\"]\n",
    "df_spontan_person3_l=df_spontan_person3.loc[df_spontan_person3[' Hand Type']==\"left\"]\n",
    "df_spontan_person4_r=df_spontan_person4.loc[df_spontan_person4[' Hand Type']==\"right\"]\n",
    "df_spontan_person4_l=df_spontan_person4.loc[df_spontan_person4[' Hand Type']==\"left\"]\n",
    "df_spontan_person5_r=df_spontan_person5.loc[df_spontan_person5[' Hand Type']==\"right\"]\n",
    "df_spontan_person5_l=df_spontan_person5.loc[df_spontan_person5[' Hand Type']==\"left\"]\n",
    "df_spontan_person6_r=df_spontan_person6.loc[df_spontan_person6[' Hand Type']==\"right\"]\n",
    "df_spontan_person6_l=df_spontan_person6.loc[df_spontan_person6[' Hand Type']==\"left\"]\n",
    "df_spontan_person7_r=df_spontan_person7.loc[df_spontan_person7[' Hand Type']==\"right\"]\n",
    "df_spontan_person7_l=df_spontan_person7.loc[df_spontan_person7[' Hand Type']==\"left\"]\n",
    "df_spontan_person8_r=df_spontan_person8.loc[df_spontan_person8[' Hand Type']==\"right\"]\n",
    "df_spontan_person8_l=df_spontan_person8.loc[df_spontan_person8[' Hand Type']==\"left\"]\n",
    "df_spontan_person9_r=df_spontan_person9.loc[df_spontan_person9[' Hand Type']==\"right\"]\n",
    "df_spontan_person9_l=df_spontan_person9.loc[df_spontan_person9[' Hand Type']==\"left\"]\n",
    "\n"
   ]
  },
  {
   "cell_type": "code",
   "execution_count": 139,
   "metadata": {},
   "outputs": [],
   "source": [
    "# changing the names of the right hand columns\n",
    "\n",
    "df_spontan_person1_r=df_spontan_person1_r.set_axis(columns_right, axis='columns')\n",
    "df_spontan_person2_r=df_spontan_person2_r.set_axis(columns_right, axis='columns')\n",
    "df_spontan_person3_r=df_spontan_person3_r.set_axis(columns_right, axis='columns')\n",
    "df_spontan_person4_r=df_spontan_person4_r.set_axis(columns_right, axis='columns')\n",
    "df_spontan_person5_r=df_spontan_person5_r.set_axis(columns_right, axis='columns')\n",
    "df_spontan_person6_r=df_spontan_person6_r.set_axis(columns_right, axis='columns')\n",
    "df_spontan_person7_r=df_spontan_person7_r.set_axis(columns_right, axis='columns')\n",
    "df_spontan_person8_r=df_spontan_person8_r.set_axis(columns_right, axis='columns')\n",
    "df_spontan_person9_r=df_spontan_person9_r.set_axis(columns_right, axis='columns')\n"
   ]
  },
  {
   "cell_type": "code",
   "execution_count": 140,
   "metadata": {},
   "outputs": [],
   "source": [
    "# setting the index to the time stamp to the left and right data frames\n",
    "\n",
    "df_spontan_person1_r=df_spontan_person1_r.set_index('Time_r')\n",
    "df_spontan_person1_l=df_spontan_person1_l.set_index('Time')\n",
    "df_spontan_person2_r=df_spontan_person2_r.set_index('Time_r')\n",
    "df_spontan_person2_l=df_spontan_person2_l.set_index('Time')\n",
    "df_spontan_person3_r=df_spontan_person3_r.set_index('Time_r')\n",
    "df_spontan_person3_l=df_spontan_person3_l.set_index('Time')\n",
    "df_spontan_person4_r=df_spontan_person4_r.set_index('Time_r')\n",
    "df_spontan_person4_l=df_spontan_person4_l.set_index('Time')\n",
    "df_spontan_person5_r=df_spontan_person5_r.set_index('Time_r')\n",
    "df_spontan_person5_l=df_spontan_person5_l.set_index('Time')\n",
    "df_spontan_person6_r=df_spontan_person6_r.set_index('Time_r')\n",
    "df_spontan_person6_l=df_spontan_person6_l.set_index('Time')\n",
    "df_spontan_person7_r=df_spontan_person7_r.set_index('Time_r')\n",
    "df_spontan_person7_l=df_spontan_person7_l.set_index('Time')\n",
    "df_spontan_person8_r=df_spontan_person8_r.set_index('Time_r')\n",
    "df_spontan_person8_l=df_spontan_person8_l.set_index('Time')\n",
    "df_spontan_person9_r=df_spontan_person9_r.set_index('Time_r')\n",
    "df_spontan_person9_l=df_spontan_person9_l.set_index('Time')"
   ]
  },
  {
   "cell_type": "code",
   "execution_count": 141,
   "metadata": {},
   "outputs": [],
   "source": [
    "#combing the left and right back together so that they are in 1 row by the time stamp\n",
    "\n",
    "df_spontan_person1_combo=pd.concat([df_spontan_person1_l,df_spontan_person1_r],axis=1,)\n",
    "df_spontan_person2_combo=pd.concat([df_spontan_person2_l,df_spontan_person2_r],axis=1,)\n",
    "df_spontan_person3_combo=pd.concat([df_spontan_person3_l,df_spontan_person3_r],axis=1,)\n",
    "df_spontan_person4_combo=pd.concat([df_spontan_person4_l,df_spontan_person4_r],axis=1,)\n",
    "df_spontan_person5_combo=pd.concat([df_spontan_person5_l,df_spontan_person5_r],axis=1,)\n",
    "df_spontan_person6_combo=pd.concat([df_spontan_person6_l,df_spontan_person6_r],axis=1,)\n",
    "df_spontan_person7_combo=pd.concat([df_spontan_person7_l,df_spontan_person7_r],axis=1,)\n",
    "df_spontan_person8_combo=pd.concat([df_spontan_person8_l,df_spontan_person8_r],axis=1,)\n",
    "df_spontan_person9_combo=pd.concat([df_spontan_person9_l,df_spontan_person9_r],axis=1,)\n"
   ]
  },
  {
   "cell_type": "code",
   "execution_count": 142,
   "metadata": {},
   "outputs": [],
   "source": [
    "# only keeping the rows that have two hands\n",
    "\n",
    "df_spontan_person1_combo=df_spontan_person1_combo.loc[df_spontan_person1_combo[' # hands']==2]\n",
    "df_spontan_person2_combo=df_spontan_person2_combo.loc[df_spontan_person2_combo[' # hands']==2]\n",
    "df_spontan_person3_combo=df_spontan_person3_combo.loc[df_spontan_person3_combo[' # hands']==2]\n",
    "df_spontan_person4_combo=df_spontan_person4_combo.loc[df_spontan_person4_combo[' # hands']==2]\n",
    "df_spontan_person5_combo=df_spontan_person5_combo.loc[df_spontan_person5_combo[' # hands']==2]\n",
    "df_spontan_person6_combo=df_spontan_person6_combo.loc[df_spontan_person6_combo[' # hands']==2]\n",
    "df_spontan_person7_combo=df_spontan_person7_combo.loc[df_spontan_person7_combo[' # hands']==2]\n",
    "df_spontan_person8_combo=df_spontan_person8_combo.loc[df_spontan_person8_combo[' # hands']==2]\n",
    "df_spontan_person9_combo=df_spontan_person9_combo.loc[df_spontan_person9_combo[' # hands']==2]"
   ]
  },
  {
   "cell_type": "code",
   "execution_count": 143,
   "metadata": {},
   "outputs": [],
   "source": [
    "df_spontan_person1_combo[\"type\"]=2\n",
    "df_spontan_person2_combo[\"type\"]=2\n",
    "df_spontan_person3_combo[\"type\"]=2\n",
    "df_spontan_person4_combo[\"type\"]=2\n",
    "df_spontan_person5_combo[\"type\"]=2\n",
    "df_spontan_person6_combo[\"type\"]=2\n",
    "df_spontan_person7_combo[\"type\"]=2\n",
    "df_spontan_person8_combo[\"type\"]=2\n",
    "df_spontan_person9_combo[\"type\"]=2"
   ]
  },
  {
   "cell_type": "code",
   "execution_count": 144,
   "metadata": {},
   "outputs": [],
   "source": [
    "df_spontan_person1_combo=df_spontan_person1_combo.iloc[700:]\n",
    "df_spontan_person2_combo=df_spontan_person2_combo.iloc[700:]\n",
    "df_spontan_person3_combo=df_spontan_person3_combo.iloc[700:]\n",
    "df_spontan_person4_combo=df_spontan_person4_combo.iloc[700:]\n",
    "df_spontan_person5_combo=df_spontan_person5_combo.iloc[700:]\n",
    "df_spontan_person6_combo=df_spontan_person6_combo.iloc[700:]\n",
    "df_spontan_person7_combo=df_spontan_person7_combo.iloc[700:]\n",
    "df_spontan_person8_combo=df_spontan_person8_combo.iloc[700:]\n",
    "df_spontan_person9_combo=df_spontan_person9_combo.iloc[700:]\n"
   ]
  },
  {
   "cell_type": "code",
   "execution_count": 148,
   "metadata": {},
   "outputs": [
    {
     "name": "stdout",
     "output_type": "stream",
     "text": [
      "<class 'pandas.core.frame.DataFrame'>\n",
      "Float64Index: 26638 entries, 530.4075 to 764.5913\n",
      "Data columns (total 43 columns):\n",
      " #   Column            Non-Null Count  Dtype  \n",
      "---  ------            --------------  -----  \n",
      " 0    Frame ID         26638 non-null  float64\n",
      " 1    Hand Type        26638 non-null  object \n",
      " 2    # hands          26638 non-null  float64\n",
      " 3    Position X       26638 non-null  float64\n",
      " 4    Position Y       26638 non-null  float64\n",
      " 5    Position Z       26638 non-null  float64\n",
      " 6    Velocity X       26638 non-null  float64\n",
      " 7    Velocity Y       26638 non-null  float64\n",
      " 8    Velocity Z       26638 non-null  float64\n",
      " 9    Pitch            26638 non-null  float64\n",
      " 10   Roll             26638 non-null  float64\n",
      " 11   Yaw              26638 non-null  float64\n",
      " 12   Wrist Pos X      26638 non-null  float64\n",
      " 13   Wrist Pos Y      26638 non-null  float64\n",
      " 14   Wrist Pos Z      26638 non-null  float64\n",
      " 15   Elbow pos X      26638 non-null  float64\n",
      " 16   Elbow Pos Y      26638 non-null  float64\n",
      " 17   Elbow Pos Z      26638 non-null  float64\n",
      " 18   Grab Strenth     26638 non-null  float64\n",
      " 19   Grab Angle       26638 non-null  float64\n",
      " 20   Pinch Strength   26638 non-null  float64\n",
      " 21  Frame ID_r        26638 non-null  float64\n",
      " 22  Hand Type_r       26638 non-null  object \n",
      " 23  Position X_r      26638 non-null  float64\n",
      " 24  Position Y_r      26638 non-null  float64\n",
      " 25  Position Z_r      26638 non-null  float64\n",
      " 26  Velocity X_r      26638 non-null  float64\n",
      " 27  Velocity y_r      26638 non-null  float64\n",
      " 28  Velocity Z_r      26638 non-null  float64\n",
      " 29  Pitch_r           26638 non-null  float64\n",
      " 30  Roll_r            26638 non-null  float64\n",
      " 31  Yaw_r             26638 non-null  float64\n",
      " 32  Wrist Pos X_r     26638 non-null  float64\n",
      " 33  Wrist Pos X_r     26638 non-null  float64\n",
      " 34  Wrist Pos Y_r     26638 non-null  float64\n",
      " 35  Wrist Pos Z_r     26638 non-null  float64\n",
      " 36  Elbow pos X_r     26638 non-null  float64\n",
      " 37  Elbow pos Y_r     26638 non-null  float64\n",
      " 38  Elbow pos Z_r     26638 non-null  float64\n",
      " 39  Grab Strenth_r    26638 non-null  float64\n",
      " 40  Grab Angle_r      26638 non-null  float64\n",
      " 41  Pinch Strength_r  26638 non-null  float64\n",
      " 42  type              26638 non-null  int64  \n",
      "dtypes: float64(40), int64(1), object(2)\n",
      "memory usage: 8.9+ MB\n"
     ]
    }
   ],
   "source": [
    "data1=pd.concat([df_alone_person1_combo,df_alone_person2_combo,df_alone_person3_combo,df_alone_person4_combo,\n",
    "                 df_alone_person5_combo,df_alone_person6_combo,df_alone_person7_combo,df_alone_person8_combo,\n",
    "                df_alone_person9_combo],axis=0)\n",
    "data1=data1.drop(['Time_r'], axis=1)\n",
    "data1.info()\n"
   ]
  },
  {
   "cell_type": "code",
   "execution_count": 149,
   "metadata": {},
   "outputs": [
    {
     "name": "stdout",
     "output_type": "stream",
     "text": [
      "<class 'pandas.core.frame.DataFrame'>\n",
      "Float64Index: 34590 entries, 438.8282 to 856.3295\n",
      "Data columns (total 43 columns):\n",
      " #   Column            Non-Null Count  Dtype  \n",
      "---  ------            --------------  -----  \n",
      " 0    Frame ID         34590 non-null  float64\n",
      " 1    Hand Type        34590 non-null  object \n",
      " 2    # hands          34590 non-null  float64\n",
      " 3    Position X       34590 non-null  float64\n",
      " 4    Position Y       34590 non-null  float64\n",
      " 5    Position Z       34590 non-null  float64\n",
      " 6    Velocity X       34590 non-null  float64\n",
      " 7    Velocity Y       34590 non-null  float64\n",
      " 8    Velocity Z       34590 non-null  float64\n",
      " 9    Pitch            34590 non-null  float64\n",
      " 10   Roll             34590 non-null  float64\n",
      " 11   Yaw              34590 non-null  float64\n",
      " 12   Wrist Pos X      34590 non-null  float64\n",
      " 13   Wrist Pos Y      34590 non-null  float64\n",
      " 14   Wrist Pos Z      34590 non-null  float64\n",
      " 15   Elbow pos X      34590 non-null  float64\n",
      " 16   Elbow Pos Y      34590 non-null  float64\n",
      " 17   Elbow Pos Z      34590 non-null  float64\n",
      " 18   Grab Strenth     34590 non-null  float64\n",
      " 19   Grab Angle       34590 non-null  float64\n",
      " 20   Pinch Strength   34590 non-null  float64\n",
      " 21  Frame ID_r        34590 non-null  float64\n",
      " 22  Hand Type_r       34590 non-null  object \n",
      " 23  Position X_r      34590 non-null  float64\n",
      " 24  Position Y_r      34590 non-null  float64\n",
      " 25  Position Z_r      34590 non-null  float64\n",
      " 26  Velocity X_r      34590 non-null  float64\n",
      " 27  Velocity y_r      34590 non-null  float64\n",
      " 28  Velocity Z_r      34590 non-null  float64\n",
      " 29  Pitch_r           34590 non-null  float64\n",
      " 30  Roll_r            34590 non-null  float64\n",
      " 31  Yaw_r             34590 non-null  float64\n",
      " 32  Wrist Pos X_r     34590 non-null  float64\n",
      " 33  Wrist Pos X_r     34590 non-null  float64\n",
      " 34  Wrist Pos Y_r     34590 non-null  float64\n",
      " 35  Wrist Pos Z_r     34590 non-null  float64\n",
      " 36  Elbow pos X_r     34590 non-null  float64\n",
      " 37  Elbow pos Y_r     34590 non-null  float64\n",
      " 38  Elbow pos Z_r     34590 non-null  float64\n",
      " 39  Grab Strenth_r    34590 non-null  float64\n",
      " 40  Grab Angle_r      34590 non-null  float64\n",
      " 41  Pinch Strength_r  34590 non-null  float64\n",
      " 42  type              34590 non-null  int64  \n",
      "dtypes: float64(40), int64(1), object(2)\n",
      "memory usage: 11.6+ MB\n"
     ]
    }
   ],
   "source": [
    "data2=pd.concat([df_sync_person1_combo,df_sync_person2_combo,df_sync_person3_combo,df_sync_person4_combo,df_sync_person5_combo,\n",
    "                 df_sync_person5_combo,df_sync_person6_combo,df_sync_person7_combo,df_sync_person8_combo,\n",
    "                df_sync_person9_combo],axis=0)\n",
    "data2.info()"
   ]
  },
  {
   "cell_type": "code",
   "execution_count": 150,
   "metadata": {},
   "outputs": [
    {
     "name": "stdout",
     "output_type": "stream",
     "text": [
      "<class 'pandas.core.frame.DataFrame'>\n",
      "Float64Index: 31355 entries, 347.5953 to 673.556\n",
      "Data columns (total 43 columns):\n",
      " #   Column            Non-Null Count  Dtype  \n",
      "---  ------            --------------  -----  \n",
      " 0    Frame ID         31355 non-null  float64\n",
      " 1    Hand Type        31355 non-null  object \n",
      " 2    # hands          31355 non-null  float64\n",
      " 3    Position X       31355 non-null  float64\n",
      " 4    Position Y       31355 non-null  float64\n",
      " 5    Position Z       31355 non-null  float64\n",
      " 6    Velocity X       31355 non-null  float64\n",
      " 7    Velocity Y       31355 non-null  float64\n",
      " 8    Velocity Z       31355 non-null  float64\n",
      " 9    Pitch            31355 non-null  float64\n",
      " 10   Roll             31355 non-null  float64\n",
      " 11   Yaw              31355 non-null  float64\n",
      " 12   Wrist Pos X      31355 non-null  float64\n",
      " 13   Wrist Pos Y      31355 non-null  float64\n",
      " 14   Wrist Pos Z      31355 non-null  float64\n",
      " 15   Elbow pos X      31355 non-null  float64\n",
      " 16   Elbow Pos Y      31355 non-null  float64\n",
      " 17   Elbow Pos Z      31355 non-null  float64\n",
      " 18   Grab Strenth     31355 non-null  float64\n",
      " 19   Grab Angle       31355 non-null  float64\n",
      " 20   Pinch Strength   31355 non-null  float64\n",
      " 21  Frame ID_r        31355 non-null  float64\n",
      " 22  Hand Type_r       31355 non-null  object \n",
      " 23  Position X_r      31355 non-null  float64\n",
      " 24  Position Y_r      31355 non-null  float64\n",
      " 25  Position Z_r      31355 non-null  float64\n",
      " 26  Velocity X_r      31355 non-null  float64\n",
      " 27  Velocity y_r      31355 non-null  float64\n",
      " 28  Velocity Z_r      31355 non-null  float64\n",
      " 29  Pitch_r           31355 non-null  float64\n",
      " 30  Roll_r            31355 non-null  float64\n",
      " 31  Yaw_r             31355 non-null  float64\n",
      " 32  Wrist Pos X_r     31355 non-null  float64\n",
      " 33  Wrist Pos X_r     31355 non-null  float64\n",
      " 34  Wrist Pos Y_r     31355 non-null  float64\n",
      " 35  Wrist Pos Z_r     31355 non-null  float64\n",
      " 36  Elbow pos X_r     31355 non-null  float64\n",
      " 37  Elbow pos Y_r     31355 non-null  float64\n",
      " 38  Elbow pos Z_r     31355 non-null  float64\n",
      " 39  Grab Strenth_r    31355 non-null  float64\n",
      " 40  Grab Angle_r      31355 non-null  float64\n",
      " 41  Pinch Strength_r  31355 non-null  float64\n",
      " 42  type              31355 non-null  int64  \n",
      "dtypes: float64(40), int64(1), object(2)\n",
      "memory usage: 10.5+ MB\n"
     ]
    }
   ],
   "source": [
    "data3=pd.concat([df_spontan_person1_combo,df_spontan_person2_combo,df_spontan_person3_combo,df_spontan_person4_combo,\n",
    "                 df_spontan_person5_combo,df_spontan_person6_combo,df_spontan_person7_combo,df_spontan_person8_combo,\n",
    "                 df_spontan_person9_combo],axis=0)\n",
    "data3.info()"
   ]
  },
  {
   "cell_type": "code",
   "execution_count": 151,
   "metadata": {},
   "outputs": [
    {
     "name": "stdout",
     "output_type": "stream",
     "text": [
      "<class 'pandas.core.frame.DataFrame'>\n",
      "Float64Index: 92583 entries, 530.4075 to 673.556\n",
      "Data columns (total 43 columns):\n",
      " #   Column            Non-Null Count  Dtype  \n",
      "---  ------            --------------  -----  \n",
      " 0    Frame ID         92583 non-null  float64\n",
      " 1    Hand Type        92583 non-null  object \n",
      " 2    # hands          92583 non-null  float64\n",
      " 3    Position X       92583 non-null  float64\n",
      " 4    Position Y       92583 non-null  float64\n",
      " 5    Position Z       92583 non-null  float64\n",
      " 6    Velocity X       92583 non-null  float64\n",
      " 7    Velocity Y       92583 non-null  float64\n",
      " 8    Velocity Z       92583 non-null  float64\n",
      " 9    Pitch            92583 non-null  float64\n",
      " 10   Roll             92583 non-null  float64\n",
      " 11   Yaw              92583 non-null  float64\n",
      " 12   Wrist Pos X      92583 non-null  float64\n",
      " 13   Wrist Pos Y      92583 non-null  float64\n",
      " 14   Wrist Pos Z      92583 non-null  float64\n",
      " 15   Elbow pos X      92583 non-null  float64\n",
      " 16   Elbow Pos Y      92583 non-null  float64\n",
      " 17   Elbow Pos Z      92583 non-null  float64\n",
      " 18   Grab Strenth     92583 non-null  float64\n",
      " 19   Grab Angle       92583 non-null  float64\n",
      " 20   Pinch Strength   92583 non-null  float64\n",
      " 21  Frame ID_r        92583 non-null  float64\n",
      " 22  Hand Type_r       92583 non-null  object \n",
      " 23  Position X_r      92583 non-null  float64\n",
      " 24  Position Y_r      92583 non-null  float64\n",
      " 25  Position Z_r      92583 non-null  float64\n",
      " 26  Velocity X_r      92583 non-null  float64\n",
      " 27  Velocity y_r      92583 non-null  float64\n",
      " 28  Velocity Z_r      92583 non-null  float64\n",
      " 29  Pitch_r           92583 non-null  float64\n",
      " 30  Roll_r            92583 non-null  float64\n",
      " 31  Yaw_r             92583 non-null  float64\n",
      " 32  Wrist Pos X_r     92583 non-null  float64\n",
      " 33  Wrist Pos X_r     92583 non-null  float64\n",
      " 34  Wrist Pos Y_r     92583 non-null  float64\n",
      " 35  Wrist Pos Z_r     92583 non-null  float64\n",
      " 36  Elbow pos X_r     92583 non-null  float64\n",
      " 37  Elbow pos Y_r     92583 non-null  float64\n",
      " 38  Elbow pos Z_r     92583 non-null  float64\n",
      " 39  Grab Strenth_r    92583 non-null  float64\n",
      " 40  Grab Angle_r      92583 non-null  float64\n",
      " 41  Pinch Strength_r  92583 non-null  float64\n",
      " 42  type              92583 non-null  int64  \n",
      "dtypes: float64(40), int64(1), object(2)\n",
      "memory usage: 31.1+ MB\n"
     ]
    }
   ],
   "source": [
    "data=pd.concat([data1,data2,data3],axis=0)\n",
    "data.info()"
   ]
  },
  {
   "cell_type": "raw",
   "metadata": {},
   "source": []
  },
  {
   "cell_type": "code",
   "execution_count": 152,
   "metadata": {},
   "outputs": [
    {
     "data": {
      "text/html": [
       "<div>\n",
       "<style scoped>\n",
       "    .dataframe tbody tr th:only-of-type {\n",
       "        vertical-align: middle;\n",
       "    }\n",
       "\n",
       "    .dataframe tbody tr th {\n",
       "        vertical-align: top;\n",
       "    }\n",
       "\n",
       "    .dataframe thead th {\n",
       "        text-align: right;\n",
       "    }\n",
       "</style>\n",
       "<table border=\"1\" class=\"dataframe\">\n",
       "  <thead>\n",
       "    <tr style=\"text-align: right;\">\n",
       "      <th></th>\n",
       "      <th>Frame ID</th>\n",
       "      <th>Hand Type</th>\n",
       "      <th># hands</th>\n",
       "      <th>Position X</th>\n",
       "      <th>Position Y</th>\n",
       "      <th>Position Z</th>\n",
       "      <th>Velocity X</th>\n",
       "      <th>Velocity Y</th>\n",
       "      <th>Velocity Z</th>\n",
       "      <th>Pitch</th>\n",
       "      <th>...</th>\n",
       "      <th>Wrist Pos X_r</th>\n",
       "      <th>Wrist Pos Y_r</th>\n",
       "      <th>Wrist Pos Z_r</th>\n",
       "      <th>Elbow pos X_r</th>\n",
       "      <th>Elbow pos Y_r</th>\n",
       "      <th>Elbow pos Z_r</th>\n",
       "      <th>Grab Strenth_r</th>\n",
       "      <th>Grab Angle_r</th>\n",
       "      <th>Pinch Strength_r</th>\n",
       "      <th>type</th>\n",
       "    </tr>\n",
       "  </thead>\n",
       "  <tbody>\n",
       "    <tr>\n",
       "      <th>530.4075</th>\n",
       "      <td>150957.0</td>\n",
       "      <td>left</td>\n",
       "      <td>1.0</td>\n",
       "      <td>-62.14016</td>\n",
       "      <td>176.4449</td>\n",
       "      <td>27.85700</td>\n",
       "      <td>162.50850</td>\n",
       "      <td>419.44440</td>\n",
       "      <td>-59.98780</td>\n",
       "      <td>1.958783</td>\n",
       "      <td>...</td>\n",
       "      <td>39.77090</td>\n",
       "      <td>197.3047</td>\n",
       "      <td>99.29434</td>\n",
       "      <td>171.1660</td>\n",
       "      <td>52.26681</td>\n",
       "      <td>287.7588</td>\n",
       "      <td>0.0</td>\n",
       "      <td>0.498644</td>\n",
       "      <td>0.0</td>\n",
       "      <td>0</td>\n",
       "    </tr>\n",
       "    <tr>\n",
       "      <th>530.4240</th>\n",
       "      <td>150959.0</td>\n",
       "      <td>left</td>\n",
       "      <td>1.0</td>\n",
       "      <td>-59.53389</td>\n",
       "      <td>182.9531</td>\n",
       "      <td>26.70363</td>\n",
       "      <td>165.68980</td>\n",
       "      <td>414.00870</td>\n",
       "      <td>-55.57027</td>\n",
       "      <td>1.957630</td>\n",
       "      <td>...</td>\n",
       "      <td>44.53930</td>\n",
       "      <td>202.0048</td>\n",
       "      <td>101.27940</td>\n",
       "      <td>172.6115</td>\n",
       "      <td>51.28829</td>\n",
       "      <td>287.5629</td>\n",
       "      <td>0.0</td>\n",
       "      <td>0.520795</td>\n",
       "      <td>0.0</td>\n",
       "      <td>0</td>\n",
       "    </tr>\n",
       "    <tr>\n",
       "      <th>530.4407</th>\n",
       "      <td>150961.0</td>\n",
       "      <td>left</td>\n",
       "      <td>1.0</td>\n",
       "      <td>-57.38616</td>\n",
       "      <td>190.9170</td>\n",
       "      <td>25.55918</td>\n",
       "      <td>119.61220</td>\n",
       "      <td>426.42210</td>\n",
       "      <td>-76.86320</td>\n",
       "      <td>1.957033</td>\n",
       "      <td>...</td>\n",
       "      <td>48.87646</td>\n",
       "      <td>204.2281</td>\n",
       "      <td>103.38490</td>\n",
       "      <td>173.7377</td>\n",
       "      <td>52.08905</td>\n",
       "      <td>290.6891</td>\n",
       "      <td>0.0</td>\n",
       "      <td>0.527123</td>\n",
       "      <td>0.0</td>\n",
       "      <td>0</td>\n",
       "    </tr>\n",
       "    <tr>\n",
       "      <th>530.4572</th>\n",
       "      <td>150963.0</td>\n",
       "      <td>left</td>\n",
       "      <td>1.0</td>\n",
       "      <td>-56.21503</td>\n",
       "      <td>198.0746</td>\n",
       "      <td>24.11986</td>\n",
       "      <td>82.99512</td>\n",
       "      <td>353.61020</td>\n",
       "      <td>-96.85542</td>\n",
       "      <td>1.968468</td>\n",
       "      <td>...</td>\n",
       "      <td>53.62828</td>\n",
       "      <td>206.4552</td>\n",
       "      <td>105.76730</td>\n",
       "      <td>174.1449</td>\n",
       "      <td>50.32234</td>\n",
       "      <td>292.6303</td>\n",
       "      <td>0.0</td>\n",
       "      <td>0.504663</td>\n",
       "      <td>0.0</td>\n",
       "      <td>0</td>\n",
       "    </tr>\n",
       "    <tr>\n",
       "      <th>530.4738</th>\n",
       "      <td>150965.0</td>\n",
       "      <td>left</td>\n",
       "      <td>1.0</td>\n",
       "      <td>-54.58284</td>\n",
       "      <td>203.6519</td>\n",
       "      <td>22.74486</td>\n",
       "      <td>48.61330</td>\n",
       "      <td>404.18000</td>\n",
       "      <td>-72.40993</td>\n",
       "      <td>1.982430</td>\n",
       "      <td>...</td>\n",
       "      <td>58.09599</td>\n",
       "      <td>208.3566</td>\n",
       "      <td>108.21800</td>\n",
       "      <td>175.0809</td>\n",
       "      <td>48.86516</td>\n",
       "      <td>294.4880</td>\n",
       "      <td>0.0</td>\n",
       "      <td>0.515524</td>\n",
       "      <td>0.0</td>\n",
       "      <td>0</td>\n",
       "    </tr>\n",
       "    <tr>\n",
       "      <th>...</th>\n",
       "      <td>...</td>\n",
       "      <td>...</td>\n",
       "      <td>...</td>\n",
       "      <td>...</td>\n",
       "      <td>...</td>\n",
       "      <td>...</td>\n",
       "      <td>...</td>\n",
       "      <td>...</td>\n",
       "      <td>...</td>\n",
       "      <td>...</td>\n",
       "      <td>...</td>\n",
       "      <td>...</td>\n",
       "      <td>...</td>\n",
       "      <td>...</td>\n",
       "      <td>...</td>\n",
       "      <td>...</td>\n",
       "      <td>...</td>\n",
       "      <td>...</td>\n",
       "      <td>...</td>\n",
       "      <td>...</td>\n",
       "      <td>...</td>\n",
       "    </tr>\n",
       "    <tr>\n",
       "      <th>673.4224</th>\n",
       "      <td>52505.0</td>\n",
       "      <td>left</td>\n",
       "      <td>2.0</td>\n",
       "      <td>-93.01819</td>\n",
       "      <td>221.5837</td>\n",
       "      <td>37.95346</td>\n",
       "      <td>93.66040</td>\n",
       "      <td>-705.10900</td>\n",
       "      <td>-58.95358</td>\n",
       "      <td>1.390923</td>\n",
       "      <td>...</td>\n",
       "      <td>198.77440</td>\n",
       "      <td>148.9755</td>\n",
       "      <td>36.17215</td>\n",
       "      <td>429.8078</td>\n",
       "      <td>88.65751</td>\n",
       "      <td>136.2759</td>\n",
       "      <td>0.0</td>\n",
       "      <td>0.256132</td>\n",
       "      <td>0.0</td>\n",
       "      <td>2</td>\n",
       "    </tr>\n",
       "    <tr>\n",
       "      <th>673.4561</th>\n",
       "      <td>52509.0</td>\n",
       "      <td>left</td>\n",
       "      <td>2.0</td>\n",
       "      <td>-87.87977</td>\n",
       "      <td>207.0944</td>\n",
       "      <td>30.25084</td>\n",
       "      <td>161.30820</td>\n",
       "      <td>-332.78340</td>\n",
       "      <td>-239.55220</td>\n",
       "      <td>1.268201</td>\n",
       "      <td>...</td>\n",
       "      <td>198.76460</td>\n",
       "      <td>147.6285</td>\n",
       "      <td>30.82009</td>\n",
       "      <td>424.2537</td>\n",
       "      <td>67.32506</td>\n",
       "      <td>129.2876</td>\n",
       "      <td>0.0</td>\n",
       "      <td>0.275538</td>\n",
       "      <td>0.0</td>\n",
       "      <td>2</td>\n",
       "    </tr>\n",
       "    <tr>\n",
       "      <th>673.4894</th>\n",
       "      <td>52512.0</td>\n",
       "      <td>left</td>\n",
       "      <td>2.0</td>\n",
       "      <td>-81.66566</td>\n",
       "      <td>203.9826</td>\n",
       "      <td>24.04028</td>\n",
       "      <td>240.80950</td>\n",
       "      <td>-160.56200</td>\n",
       "      <td>-222.44420</td>\n",
       "      <td>1.124147</td>\n",
       "      <td>...</td>\n",
       "      <td>199.40050</td>\n",
       "      <td>147.6265</td>\n",
       "      <td>27.94176</td>\n",
       "      <td>413.8865</td>\n",
       "      <td>47.81111</td>\n",
       "      <td>132.7705</td>\n",
       "      <td>0.0</td>\n",
       "      <td>0.342347</td>\n",
       "      <td>0.0</td>\n",
       "      <td>2</td>\n",
       "    </tr>\n",
       "    <tr>\n",
       "      <th>673.5233</th>\n",
       "      <td>52516.0</td>\n",
       "      <td>left</td>\n",
       "      <td>2.0</td>\n",
       "      <td>-77.57621</td>\n",
       "      <td>198.9182</td>\n",
       "      <td>20.57973</td>\n",
       "      <td>127.00290</td>\n",
       "      <td>-218.65710</td>\n",
       "      <td>-80.40309</td>\n",
       "      <td>1.037299</td>\n",
       "      <td>...</td>\n",
       "      <td>200.46510</td>\n",
       "      <td>148.9561</td>\n",
       "      <td>25.42753</td>\n",
       "      <td>400.5782</td>\n",
       "      <td>31.01108</td>\n",
       "      <td>139.2796</td>\n",
       "      <td>0.0</td>\n",
       "      <td>0.448368</td>\n",
       "      <td>0.0</td>\n",
       "      <td>2</td>\n",
       "    </tr>\n",
       "    <tr>\n",
       "      <th>673.5560</th>\n",
       "      <td>52519.0</td>\n",
       "      <td>left</td>\n",
       "      <td>2.0</td>\n",
       "      <td>-76.10054</td>\n",
       "      <td>195.9422</td>\n",
       "      <td>18.30186</td>\n",
       "      <td>54.47641</td>\n",
       "      <td>-89.67952</td>\n",
       "      <td>-82.42619</td>\n",
       "      <td>1.016515</td>\n",
       "      <td>...</td>\n",
       "      <td>199.55870</td>\n",
       "      <td>149.5821</td>\n",
       "      <td>24.80171</td>\n",
       "      <td>390.8217</td>\n",
       "      <td>24.22654</td>\n",
       "      <td>145.6337</td>\n",
       "      <td>0.0</td>\n",
       "      <td>0.513919</td>\n",
       "      <td>0.0</td>\n",
       "      <td>2</td>\n",
       "    </tr>\n",
       "  </tbody>\n",
       "</table>\n",
       "<p>92583 rows × 43 columns</p>\n",
       "</div>"
      ],
      "text/plain": [
       "           Frame ID  Hand Type   # hands   Position X   Position Y  \\\n",
       "530.4075   150957.0       left       1.0    -62.14016     176.4449   \n",
       "530.4240   150959.0       left       1.0    -59.53389     182.9531   \n",
       "530.4407   150961.0       left       1.0    -57.38616     190.9170   \n",
       "530.4572   150963.0       left       1.0    -56.21503     198.0746   \n",
       "530.4738   150965.0       left       1.0    -54.58284     203.6519   \n",
       "...             ...        ...       ...          ...          ...   \n",
       "673.4224    52505.0       left       2.0    -93.01819     221.5837   \n",
       "673.4561    52509.0       left       2.0    -87.87977     207.0944   \n",
       "673.4894    52512.0       left       2.0    -81.66566     203.9826   \n",
       "673.5233    52516.0       left       2.0    -77.57621     198.9182   \n",
       "673.5560    52519.0       left       2.0    -76.10054     195.9422   \n",
       "\n",
       "           Position Z   Velocity X   Velocity Y   Velocity Z     Pitch  ...  \\\n",
       "530.4075     27.85700    162.50850    419.44440    -59.98780  1.958783  ...   \n",
       "530.4240     26.70363    165.68980    414.00870    -55.57027  1.957630  ...   \n",
       "530.4407     25.55918    119.61220    426.42210    -76.86320  1.957033  ...   \n",
       "530.4572     24.11986     82.99512    353.61020    -96.85542  1.968468  ...   \n",
       "530.4738     22.74486     48.61330    404.18000    -72.40993  1.982430  ...   \n",
       "...               ...          ...          ...          ...       ...  ...   \n",
       "673.4224     37.95346     93.66040   -705.10900    -58.95358  1.390923  ...   \n",
       "673.4561     30.25084    161.30820   -332.78340   -239.55220  1.268201  ...   \n",
       "673.4894     24.04028    240.80950   -160.56200   -222.44420  1.124147  ...   \n",
       "673.5233     20.57973    127.00290   -218.65710    -80.40309  1.037299  ...   \n",
       "673.5560     18.30186     54.47641    -89.67952    -82.42619  1.016515  ...   \n",
       "\n",
       "          Wrist Pos X_r  Wrist Pos Y_r  Wrist Pos Z_r  Elbow pos X_r  \\\n",
       "530.4075       39.77090       197.3047       99.29434       171.1660   \n",
       "530.4240       44.53930       202.0048      101.27940       172.6115   \n",
       "530.4407       48.87646       204.2281      103.38490       173.7377   \n",
       "530.4572       53.62828       206.4552      105.76730       174.1449   \n",
       "530.4738       58.09599       208.3566      108.21800       175.0809   \n",
       "...                 ...            ...            ...            ...   \n",
       "673.4224      198.77440       148.9755       36.17215       429.8078   \n",
       "673.4561      198.76460       147.6285       30.82009       424.2537   \n",
       "673.4894      199.40050       147.6265       27.94176       413.8865   \n",
       "673.5233      200.46510       148.9561       25.42753       400.5782   \n",
       "673.5560      199.55870       149.5821       24.80171       390.8217   \n",
       "\n",
       "          Elbow pos Y_r  Elbow pos Z_r  Grab Strenth_r  Grab Angle_r  \\\n",
       "530.4075       52.26681       287.7588             0.0      0.498644   \n",
       "530.4240       51.28829       287.5629             0.0      0.520795   \n",
       "530.4407       52.08905       290.6891             0.0      0.527123   \n",
       "530.4572       50.32234       292.6303             0.0      0.504663   \n",
       "530.4738       48.86516       294.4880             0.0      0.515524   \n",
       "...                 ...            ...             ...           ...   \n",
       "673.4224       88.65751       136.2759             0.0      0.256132   \n",
       "673.4561       67.32506       129.2876             0.0      0.275538   \n",
       "673.4894       47.81111       132.7705             0.0      0.342347   \n",
       "673.5233       31.01108       139.2796             0.0      0.448368   \n",
       "673.5560       24.22654       145.6337             0.0      0.513919   \n",
       "\n",
       "          Pinch Strength_r  type  \n",
       "530.4075               0.0     0  \n",
       "530.4240               0.0     0  \n",
       "530.4407               0.0     0  \n",
       "530.4572               0.0     0  \n",
       "530.4738               0.0     0  \n",
       "...                    ...   ...  \n",
       "673.4224               0.0     2  \n",
       "673.4561               0.0     2  \n",
       "673.4894               0.0     2  \n",
       "673.5233               0.0     2  \n",
       "673.5560               0.0     2  \n",
       "\n",
       "[92583 rows x 43 columns]"
      ]
     },
     "execution_count": 152,
     "metadata": {},
     "output_type": "execute_result"
    }
   ],
   "source": [
    "data"
   ]
  },
  {
   "cell_type": "code",
   "execution_count": 153,
   "metadata": {},
   "outputs": [
    {
     "name": "stderr",
     "output_type": "stream",
     "text": [
      "<ipython-input-153-5b80b42c08ed>:2: SettingWithCopyWarning: \n",
      "A value is trying to be set on a copy of a slice from a DataFrame.\n",
      "Try using .loc[row_indexer,col_indexer] = value instead\n",
      "\n",
      "See the caveats in the documentation: https://pandas.pydata.org/pandas-docs/stable/user_guide/indexing.html#returning-a-view-versus-a-copy\n",
      "  data[\" Hand Type\"]=0\n",
      "<ipython-input-153-5b80b42c08ed>:3: SettingWithCopyWarning: \n",
      "A value is trying to be set on a copy of a slice from a DataFrame.\n",
      "Try using .loc[row_indexer,col_indexer] = value instead\n",
      "\n",
      "See the caveats in the documentation: https://pandas.pydata.org/pandas-docs/stable/user_guide/indexing.html#returning-a-view-versus-a-copy\n",
      "  data[\"Hand Type_r\"]=1\n"
     ]
    },
    {
     "data": {
      "text/html": [
       "<div>\n",
       "<style scoped>\n",
       "    .dataframe tbody tr th:only-of-type {\n",
       "        vertical-align: middle;\n",
       "    }\n",
       "\n",
       "    .dataframe tbody tr th {\n",
       "        vertical-align: top;\n",
       "    }\n",
       "\n",
       "    .dataframe thead th {\n",
       "        text-align: right;\n",
       "    }\n",
       "</style>\n",
       "<table border=\"1\" class=\"dataframe\">\n",
       "  <thead>\n",
       "    <tr style=\"text-align: right;\">\n",
       "      <th></th>\n",
       "      <th>Frame ID</th>\n",
       "      <th>Hand Type</th>\n",
       "      <th>Position X</th>\n",
       "      <th>Position Y</th>\n",
       "      <th>Position Z</th>\n",
       "      <th>Velocity X</th>\n",
       "      <th>Velocity Y</th>\n",
       "      <th>Velocity Z</th>\n",
       "      <th>Pitch</th>\n",
       "      <th>Roll</th>\n",
       "      <th>...</th>\n",
       "      <th>Wrist Pos X_r</th>\n",
       "      <th>Wrist Pos Y_r</th>\n",
       "      <th>Wrist Pos Z_r</th>\n",
       "      <th>Elbow pos X_r</th>\n",
       "      <th>Elbow pos Y_r</th>\n",
       "      <th>Elbow pos Z_r</th>\n",
       "      <th>Grab Strenth_r</th>\n",
       "      <th>Grab Angle_r</th>\n",
       "      <th>Pinch Strength_r</th>\n",
       "      <th>type</th>\n",
       "    </tr>\n",
       "  </thead>\n",
       "  <tbody>\n",
       "    <tr>\n",
       "      <th>530.4075</th>\n",
       "      <td>150957.0</td>\n",
       "      <td>0</td>\n",
       "      <td>-62.14016</td>\n",
       "      <td>176.4449</td>\n",
       "      <td>27.85700</td>\n",
       "      <td>162.50850</td>\n",
       "      <td>419.44440</td>\n",
       "      <td>-59.98780</td>\n",
       "      <td>1.958783</td>\n",
       "      <td>0.267320</td>\n",
       "      <td>...</td>\n",
       "      <td>39.77090</td>\n",
       "      <td>197.3047</td>\n",
       "      <td>99.29434</td>\n",
       "      <td>171.1660</td>\n",
       "      <td>52.26681</td>\n",
       "      <td>287.7588</td>\n",
       "      <td>0.0</td>\n",
       "      <td>0.498644</td>\n",
       "      <td>0.0</td>\n",
       "      <td>0</td>\n",
       "    </tr>\n",
       "    <tr>\n",
       "      <th>530.4240</th>\n",
       "      <td>150959.0</td>\n",
       "      <td>0</td>\n",
       "      <td>-59.53389</td>\n",
       "      <td>182.9531</td>\n",
       "      <td>26.70363</td>\n",
       "      <td>165.68980</td>\n",
       "      <td>414.00870</td>\n",
       "      <td>-55.57027</td>\n",
       "      <td>1.957630</td>\n",
       "      <td>0.271045</td>\n",
       "      <td>...</td>\n",
       "      <td>44.53930</td>\n",
       "      <td>202.0048</td>\n",
       "      <td>101.27940</td>\n",
       "      <td>172.6115</td>\n",
       "      <td>51.28829</td>\n",
       "      <td>287.5629</td>\n",
       "      <td>0.0</td>\n",
       "      <td>0.520795</td>\n",
       "      <td>0.0</td>\n",
       "      <td>0</td>\n",
       "    </tr>\n",
       "    <tr>\n",
       "      <th>530.4407</th>\n",
       "      <td>150961.0</td>\n",
       "      <td>0</td>\n",
       "      <td>-57.38616</td>\n",
       "      <td>190.9170</td>\n",
       "      <td>25.55918</td>\n",
       "      <td>119.61220</td>\n",
       "      <td>426.42210</td>\n",
       "      <td>-76.86320</td>\n",
       "      <td>1.957033</td>\n",
       "      <td>0.272688</td>\n",
       "      <td>...</td>\n",
       "      <td>48.87646</td>\n",
       "      <td>204.2281</td>\n",
       "      <td>103.38490</td>\n",
       "      <td>173.7377</td>\n",
       "      <td>52.08905</td>\n",
       "      <td>290.6891</td>\n",
       "      <td>0.0</td>\n",
       "      <td>0.527123</td>\n",
       "      <td>0.0</td>\n",
       "      <td>0</td>\n",
       "    </tr>\n",
       "    <tr>\n",
       "      <th>530.4572</th>\n",
       "      <td>150963.0</td>\n",
       "      <td>0</td>\n",
       "      <td>-56.21503</td>\n",
       "      <td>198.0746</td>\n",
       "      <td>24.11986</td>\n",
       "      <td>82.99512</td>\n",
       "      <td>353.61020</td>\n",
       "      <td>-96.85542</td>\n",
       "      <td>1.968468</td>\n",
       "      <td>0.253811</td>\n",
       "      <td>...</td>\n",
       "      <td>53.62828</td>\n",
       "      <td>206.4552</td>\n",
       "      <td>105.76730</td>\n",
       "      <td>174.1449</td>\n",
       "      <td>50.32234</td>\n",
       "      <td>292.6303</td>\n",
       "      <td>0.0</td>\n",
       "      <td>0.504663</td>\n",
       "      <td>0.0</td>\n",
       "      <td>0</td>\n",
       "    </tr>\n",
       "    <tr>\n",
       "      <th>530.4738</th>\n",
       "      <td>150965.0</td>\n",
       "      <td>0</td>\n",
       "      <td>-54.58284</td>\n",
       "      <td>203.6519</td>\n",
       "      <td>22.74486</td>\n",
       "      <td>48.61330</td>\n",
       "      <td>404.18000</td>\n",
       "      <td>-72.40993</td>\n",
       "      <td>1.982430</td>\n",
       "      <td>0.240629</td>\n",
       "      <td>...</td>\n",
       "      <td>58.09599</td>\n",
       "      <td>208.3566</td>\n",
       "      <td>108.21800</td>\n",
       "      <td>175.0809</td>\n",
       "      <td>48.86516</td>\n",
       "      <td>294.4880</td>\n",
       "      <td>0.0</td>\n",
       "      <td>0.515524</td>\n",
       "      <td>0.0</td>\n",
       "      <td>0</td>\n",
       "    </tr>\n",
       "    <tr>\n",
       "      <th>...</th>\n",
       "      <td>...</td>\n",
       "      <td>...</td>\n",
       "      <td>...</td>\n",
       "      <td>...</td>\n",
       "      <td>...</td>\n",
       "      <td>...</td>\n",
       "      <td>...</td>\n",
       "      <td>...</td>\n",
       "      <td>...</td>\n",
       "      <td>...</td>\n",
       "      <td>...</td>\n",
       "      <td>...</td>\n",
       "      <td>...</td>\n",
       "      <td>...</td>\n",
       "      <td>...</td>\n",
       "      <td>...</td>\n",
       "      <td>...</td>\n",
       "      <td>...</td>\n",
       "      <td>...</td>\n",
       "      <td>...</td>\n",
       "      <td>...</td>\n",
       "    </tr>\n",
       "    <tr>\n",
       "      <th>673.4224</th>\n",
       "      <td>52505.0</td>\n",
       "      <td>0</td>\n",
       "      <td>-93.01819</td>\n",
       "      <td>221.5837</td>\n",
       "      <td>37.95346</td>\n",
       "      <td>93.66040</td>\n",
       "      <td>-705.10900</td>\n",
       "      <td>-58.95358</td>\n",
       "      <td>1.390923</td>\n",
       "      <td>1.208312</td>\n",
       "      <td>...</td>\n",
       "      <td>198.77440</td>\n",
       "      <td>148.9755</td>\n",
       "      <td>36.17215</td>\n",
       "      <td>429.8078</td>\n",
       "      <td>88.65751</td>\n",
       "      <td>136.2759</td>\n",
       "      <td>0.0</td>\n",
       "      <td>0.256132</td>\n",
       "      <td>0.0</td>\n",
       "      <td>2</td>\n",
       "    </tr>\n",
       "    <tr>\n",
       "      <th>673.4561</th>\n",
       "      <td>52509.0</td>\n",
       "      <td>0</td>\n",
       "      <td>-87.87977</td>\n",
       "      <td>207.0944</td>\n",
       "      <td>30.25084</td>\n",
       "      <td>161.30820</td>\n",
       "      <td>-332.78340</td>\n",
       "      <td>-239.55220</td>\n",
       "      <td>1.268201</td>\n",
       "      <td>1.078444</td>\n",
       "      <td>...</td>\n",
       "      <td>198.76460</td>\n",
       "      <td>147.6285</td>\n",
       "      <td>30.82009</td>\n",
       "      <td>424.2537</td>\n",
       "      <td>67.32506</td>\n",
       "      <td>129.2876</td>\n",
       "      <td>0.0</td>\n",
       "      <td>0.275538</td>\n",
       "      <td>0.0</td>\n",
       "      <td>2</td>\n",
       "    </tr>\n",
       "    <tr>\n",
       "      <th>673.4894</th>\n",
       "      <td>52512.0</td>\n",
       "      <td>0</td>\n",
       "      <td>-81.66566</td>\n",
       "      <td>203.9826</td>\n",
       "      <td>24.04028</td>\n",
       "      <td>240.80950</td>\n",
       "      <td>-160.56200</td>\n",
       "      <td>-222.44420</td>\n",
       "      <td>1.124147</td>\n",
       "      <td>0.938394</td>\n",
       "      <td>...</td>\n",
       "      <td>199.40050</td>\n",
       "      <td>147.6265</td>\n",
       "      <td>27.94176</td>\n",
       "      <td>413.8865</td>\n",
       "      <td>47.81111</td>\n",
       "      <td>132.7705</td>\n",
       "      <td>0.0</td>\n",
       "      <td>0.342347</td>\n",
       "      <td>0.0</td>\n",
       "      <td>2</td>\n",
       "    </tr>\n",
       "    <tr>\n",
       "      <th>673.5233</th>\n",
       "      <td>52516.0</td>\n",
       "      <td>0</td>\n",
       "      <td>-77.57621</td>\n",
       "      <td>198.9182</td>\n",
       "      <td>20.57973</td>\n",
       "      <td>127.00290</td>\n",
       "      <td>-218.65710</td>\n",
       "      <td>-80.40309</td>\n",
       "      <td>1.037299</td>\n",
       "      <td>0.911163</td>\n",
       "      <td>...</td>\n",
       "      <td>200.46510</td>\n",
       "      <td>148.9561</td>\n",
       "      <td>25.42753</td>\n",
       "      <td>400.5782</td>\n",
       "      <td>31.01108</td>\n",
       "      <td>139.2796</td>\n",
       "      <td>0.0</td>\n",
       "      <td>0.448368</td>\n",
       "      <td>0.0</td>\n",
       "      <td>2</td>\n",
       "    </tr>\n",
       "    <tr>\n",
       "      <th>673.5560</th>\n",
       "      <td>52519.0</td>\n",
       "      <td>0</td>\n",
       "      <td>-76.10054</td>\n",
       "      <td>195.9422</td>\n",
       "      <td>18.30186</td>\n",
       "      <td>54.47641</td>\n",
       "      <td>-89.67952</td>\n",
       "      <td>-82.42619</td>\n",
       "      <td>1.016515</td>\n",
       "      <td>0.881387</td>\n",
       "      <td>...</td>\n",
       "      <td>199.55870</td>\n",
       "      <td>149.5821</td>\n",
       "      <td>24.80171</td>\n",
       "      <td>390.8217</td>\n",
       "      <td>24.22654</td>\n",
       "      <td>145.6337</td>\n",
       "      <td>0.0</td>\n",
       "      <td>0.513919</td>\n",
       "      <td>0.0</td>\n",
       "      <td>2</td>\n",
       "    </tr>\n",
       "  </tbody>\n",
       "</table>\n",
       "<p>92583 rows × 42 columns</p>\n",
       "</div>"
      ],
      "text/plain": [
       "           Frame ID   Hand Type   Position X   Position Y   Position Z  \\\n",
       "530.4075   150957.0           0    -62.14016     176.4449     27.85700   \n",
       "530.4240   150959.0           0    -59.53389     182.9531     26.70363   \n",
       "530.4407   150961.0           0    -57.38616     190.9170     25.55918   \n",
       "530.4572   150963.0           0    -56.21503     198.0746     24.11986   \n",
       "530.4738   150965.0           0    -54.58284     203.6519     22.74486   \n",
       "...             ...         ...          ...          ...          ...   \n",
       "673.4224    52505.0           0    -93.01819     221.5837     37.95346   \n",
       "673.4561    52509.0           0    -87.87977     207.0944     30.25084   \n",
       "673.4894    52512.0           0    -81.66566     203.9826     24.04028   \n",
       "673.5233    52516.0           0    -77.57621     198.9182     20.57973   \n",
       "673.5560    52519.0           0    -76.10054     195.9422     18.30186   \n",
       "\n",
       "           Velocity X   Velocity Y   Velocity Z     Pitch      Roll  ...  \\\n",
       "530.4075    162.50850    419.44440    -59.98780  1.958783  0.267320  ...   \n",
       "530.4240    165.68980    414.00870    -55.57027  1.957630  0.271045  ...   \n",
       "530.4407    119.61220    426.42210    -76.86320  1.957033  0.272688  ...   \n",
       "530.4572     82.99512    353.61020    -96.85542  1.968468  0.253811  ...   \n",
       "530.4738     48.61330    404.18000    -72.40993  1.982430  0.240629  ...   \n",
       "...               ...          ...          ...       ...       ...  ...   \n",
       "673.4224     93.66040   -705.10900    -58.95358  1.390923  1.208312  ...   \n",
       "673.4561    161.30820   -332.78340   -239.55220  1.268201  1.078444  ...   \n",
       "673.4894    240.80950   -160.56200   -222.44420  1.124147  0.938394  ...   \n",
       "673.5233    127.00290   -218.65710    -80.40309  1.037299  0.911163  ...   \n",
       "673.5560     54.47641    -89.67952    -82.42619  1.016515  0.881387  ...   \n",
       "\n",
       "          Wrist Pos X_r  Wrist Pos Y_r  Wrist Pos Z_r  Elbow pos X_r  \\\n",
       "530.4075       39.77090       197.3047       99.29434       171.1660   \n",
       "530.4240       44.53930       202.0048      101.27940       172.6115   \n",
       "530.4407       48.87646       204.2281      103.38490       173.7377   \n",
       "530.4572       53.62828       206.4552      105.76730       174.1449   \n",
       "530.4738       58.09599       208.3566      108.21800       175.0809   \n",
       "...                 ...            ...            ...            ...   \n",
       "673.4224      198.77440       148.9755       36.17215       429.8078   \n",
       "673.4561      198.76460       147.6285       30.82009       424.2537   \n",
       "673.4894      199.40050       147.6265       27.94176       413.8865   \n",
       "673.5233      200.46510       148.9561       25.42753       400.5782   \n",
       "673.5560      199.55870       149.5821       24.80171       390.8217   \n",
       "\n",
       "          Elbow pos Y_r  Elbow pos Z_r  Grab Strenth_r  Grab Angle_r  \\\n",
       "530.4075       52.26681       287.7588             0.0      0.498644   \n",
       "530.4240       51.28829       287.5629             0.0      0.520795   \n",
       "530.4407       52.08905       290.6891             0.0      0.527123   \n",
       "530.4572       50.32234       292.6303             0.0      0.504663   \n",
       "530.4738       48.86516       294.4880             0.0      0.515524   \n",
       "...                 ...            ...             ...           ...   \n",
       "673.4224       88.65751       136.2759             0.0      0.256132   \n",
       "673.4561       67.32506       129.2876             0.0      0.275538   \n",
       "673.4894       47.81111       132.7705             0.0      0.342347   \n",
       "673.5233       31.01108       139.2796             0.0      0.448368   \n",
       "673.5560       24.22654       145.6337             0.0      0.513919   \n",
       "\n",
       "          Pinch Strength_r  type  \n",
       "530.4075               0.0     0  \n",
       "530.4240               0.0     0  \n",
       "530.4407               0.0     0  \n",
       "530.4572               0.0     0  \n",
       "530.4738               0.0     0  \n",
       "...                    ...   ...  \n",
       "673.4224               0.0     2  \n",
       "673.4561               0.0     2  \n",
       "673.4894               0.0     2  \n",
       "673.5233               0.0     2  \n",
       "673.5560               0.0     2  \n",
       "\n",
       "[92583 rows x 42 columns]"
      ]
     },
     "execution_count": 153,
     "metadata": {},
     "output_type": "execute_result"
    }
   ],
   "source": [
    "data=data.drop([' # hands'],axis=1)\n",
    "data[\" Hand Type\"]=0\n",
    "data[\"Hand Type_r\"]=1\n",
    "data"
   ]
  },
  {
   "cell_type": "code",
   "execution_count": 154,
   "metadata": {},
   "outputs": [
    {
     "name": "stdout",
     "output_type": "stream",
     "text": [
      "<class 'pandas.core.frame.DataFrame'>\n",
      "Float64Index: 92583 entries, 530.4075 to 673.556\n",
      "Data columns (total 42 columns):\n",
      " #   Column            Non-Null Count  Dtype  \n",
      "---  ------            --------------  -----  \n",
      " 0    Frame ID         92583 non-null  float64\n",
      " 1    Hand Type        92583 non-null  int64  \n",
      " 2    Position X       92583 non-null  float64\n",
      " 3    Position Y       92583 non-null  float64\n",
      " 4    Position Z       92583 non-null  float64\n",
      " 5    Velocity X       92583 non-null  float64\n",
      " 6    Velocity Y       92583 non-null  float64\n",
      " 7    Velocity Z       92583 non-null  float64\n",
      " 8    Pitch            92583 non-null  float64\n",
      " 9    Roll             92583 non-null  float64\n",
      " 10   Yaw              92583 non-null  float64\n",
      " 11   Wrist Pos X      92583 non-null  float64\n",
      " 12   Wrist Pos Y      92583 non-null  float64\n",
      " 13   Wrist Pos Z      92583 non-null  float64\n",
      " 14   Elbow pos X      92583 non-null  float64\n",
      " 15   Elbow Pos Y      92583 non-null  float64\n",
      " 16   Elbow Pos Z      92583 non-null  float64\n",
      " 17   Grab Strenth     92583 non-null  float64\n",
      " 18   Grab Angle       92583 non-null  float64\n",
      " 19   Pinch Strength   92583 non-null  float64\n",
      " 20  Frame ID_r        92583 non-null  float64\n",
      " 21  Hand Type_r       92583 non-null  int64  \n",
      " 22  Position X_r      92583 non-null  float64\n",
      " 23  Position Y_r      92583 non-null  float64\n",
      " 24  Position Z_r      92583 non-null  float64\n",
      " 25  Velocity X_r      92583 non-null  float64\n",
      " 26  Velocity y_r      92583 non-null  float64\n",
      " 27  Velocity Z_r      92583 non-null  float64\n",
      " 28  Pitch_r           92583 non-null  float64\n",
      " 29  Roll_r            92583 non-null  float64\n",
      " 30  Yaw_r             92583 non-null  float64\n",
      " 31  Wrist Pos X_r     92583 non-null  float64\n",
      " 32  Wrist Pos X_r     92583 non-null  float64\n",
      " 33  Wrist Pos Y_r     92583 non-null  float64\n",
      " 34  Wrist Pos Z_r     92583 non-null  float64\n",
      " 35  Elbow pos X_r     92583 non-null  float64\n",
      " 36  Elbow pos Y_r     92583 non-null  float64\n",
      " 37  Elbow pos Z_r     92583 non-null  float64\n",
      " 38  Grab Strenth_r    92583 non-null  float64\n",
      " 39  Grab Angle_r      92583 non-null  float64\n",
      " 40  Pinch Strength_r  92583 non-null  float64\n",
      " 41  type              92583 non-null  int64  \n",
      "dtypes: float64(39), int64(3)\n",
      "memory usage: 30.4 MB\n"
     ]
    }
   ],
   "source": [
    "data.info()"
   ]
  },
  {
   "cell_type": "code",
   "execution_count": null,
   "metadata": {},
   "outputs": [],
   "source": []
  },
  {
   "cell_type": "code",
   "execution_count": null,
   "metadata": {},
   "outputs": [],
   "source": []
  },
  {
   "cell_type": "code",
   "execution_count": 155,
   "metadata": {},
   "outputs": [],
   "source": [
    "train_set, test_set = train_test_split(data, test_size=0.2, random_state=42)"
   ]
  },
  {
   "cell_type": "code",
   "execution_count": 156,
   "metadata": {},
   "outputs": [],
   "source": [
    "train_set=np.array(train_set,dtype='float32')\n",
    "test_set=np.array(test_set,dtype='float32')\n",
    "\n",
    "train_set_x=train_set[:,0:41]\n",
    "train_set_y=train_set[:,41]\n",
    "test_set_x=test_set[:,0:41]\n",
    "test_set_y=test_set[:,41]"
   ]
  },
  {
   "cell_type": "code",
   "execution_count": 157,
   "metadata": {},
   "outputs": [],
   "source": [
    "# function to represent the confussion matrix nicely\n",
    "def confussion_matrix(cf_matrix):\n",
    "    plt.figure(figsize=(4,3))\n",
    "    sns.heatmap(cf_matrix, annot=True, fmt='', cmap='Purples')"
   ]
  },
  {
   "cell_type": "code",
   "execution_count": null,
   "metadata": {},
   "outputs": [],
   "source": []
  },
  {
   "cell_type": "code",
   "execution_count": 434,
   "metadata": {},
   "outputs": [
    {
     "name": "stdout",
     "output_type": "stream",
     "text": [
      "3 0.9998379867149106\n",
      "4 0.9998379867149106\n",
      "5 0.9996219690014582\n",
      "6 0.999567964573095\n",
      "7 0.9994059512880056\n",
      "8 0.9991899335745531\n",
      "9 0.9991899335745531\n",
      "10 0.9988119025760113\n",
      "11 0.9988659070043744\n",
      "12 0.9985958848625587\n",
      "13 0.9984338715774693\n",
      "14 0.9981638494356537\n",
      "15 0.9978938272938381\n",
      "16 0.9977318140087487\n",
      "17 0.9976238051520224\n",
      "18 0.9974617918669331\n",
      "19 0.9975157962952962\n",
      "20 0.9972457741534806\n",
      "21 0.9970297564400281\n",
      "22 0.9971917697251175\n",
      "23 0.9970837608683912\n",
      "24 0.9969217475833019\n",
      "25 0.9968137387265755\n",
      "26 0.9967597342982124\n",
      "27 0.9964357077280337\n",
      "28 0.9964357077280337\n",
      "29 0.9962196900145812\n",
      "30 0.9958956634444024\n",
      "31 0.9956256413025868\n",
      "32 0.9953016147324081\n",
      "33 0.9950855970189556\n",
      "34 0.9948155748771399\n",
      "35 0.994869579305503\n",
      "36 0.9942215261651456\n",
      "37 0.9942215261651456\n",
      "38 0.9937354863098774\n",
      "39 0.9937354863098774\n",
      "40 0.9934114597396987\n",
      "41 0.9933034508829724\n",
      "42 0.9928714154560674\n",
      "43 0.9930334287411567\n",
      "44 0.9926553977426149\n",
      "45 0.9924933844575256\n",
      "46 0.9920613490306205\n",
      "47 0.9921693578873467\n",
      "48 0.991845331317168\n",
      "49 0.9918993357455311\n",
      "50 0.9915753091753524\n",
      "51 0.9916833180320787\n",
      "52 0.9911432737484474\n",
      "53 0.9910892693200842\n",
      "54 0.9907652427499055\n",
      "55 0.9910352648917211\n",
      "56 0.9908192471782686\n",
      "57 0.9907112383215424\n",
      "58 0.9907652427499055\n",
      "59 0.990549225036453\n",
      "60 0.9902792028946373\n",
      "61 0.9902251984662742\n",
      "62 0.9898471674677324\n",
      "63 0.9899011718960955\n",
      "64 0.9895771453259167\n",
      "65 0.9898471674677324\n",
      "66 0.9893071231841011\n",
      "67 0.9896311497542799\n",
      "68 0.9889830966139224\n",
      "69 0.9888750877571961\n",
      "70 0.9882810390452017\n",
      "71 0.9882270346168386\n",
      "72 0.9880110169033861\n",
      "73 0.9880110169033861\n",
      "74 0.9877409947615704\n",
      "75 0.9876869903332073\n",
      "76 0.9871469460495761\n",
      "77 0.987092941621213\n",
      "78 0.9864988929092185\n",
      "79 0.9868769239077604\n",
      "80 0.986714910622671\n",
      "81 0.9866609061943079\n",
      "82 0.9864448884808554\n",
      "83 0.9864988929092185\n",
      "84 0.9862828751957661\n",
      "85 0.9861748663390398\n",
      "86 0.9855808176270454\n",
      "87 0.9857968353404979\n",
      "88 0.9855268131986823\n",
      "89 0.9857428309121348\n",
      "90 0.9852567910568667\n",
      "91 0.9852567910568667\n",
      "92 0.9849327644866879\n",
      "93 0.9850947777717772\n",
      "94 0.9848787600583248\n",
      "95 0.9848787600583248\n",
      "96 0.9845007290597829\n",
      "97 0.9843387157746936\n",
      "98 0.9841767024896041\n",
      "99 0.9839606847761516\n"
     ]
    }
   ],
   "source": [
    "for x in range (3,100):\n",
    "    knn1 = KNeighborsClassifier(n_neighbors=x)\n",
    "    knn1.fit(train_set_x, train_set_y)\n",
    "    y_pred_knn1=knn1.predict(test_set_x)\n",
    "    accuracy_knn1=metrics.accuracy_score(test_set_y, y_pred_knn1)\n",
    "    if(accuracy_knn1>0.98):\n",
    "        print(x, accuracy_knn1)"
   ]
  },
  {
   "cell_type": "code",
   "execution_count": 441,
   "metadata": {},
   "outputs": [
    {
     "data": {
      "text/plain": [
       "0.9998379867149106"
      ]
     },
     "execution_count": 441,
     "metadata": {},
     "output_type": "execute_result"
    }
   ],
   "source": [
    "# 4 neighbors has the highest result\n",
    "knn1 = KNeighborsClassifier(n_neighbors=4)\n",
    "knn1.fit(train_set_x, train_set_y)\n",
    "y_pred_knn1=knn1.predict(test_set_x)\n",
    "accuracy_knn1=metrics.accuracy_score(test_set_y, y_pred_knn1)\n",
    "accuracy_knn1"
   ]
  },
  {
   "cell_type": "code",
   "execution_count": 442,
   "metadata": {},
   "outputs": [
    {
     "data": {
      "image/png": "[encoded data removed]",
      "text/plain": [
       "<Figure size 288x216 with 2 Axes>"
      ]
     },
     "metadata": {
      "needs_background": "light"
     },
     "output_type": "display_data"
    }
   ],
   "source": [
    "mat_knn1=confusion_matrix(test_set_y, y_pred_knn1)\n",
    "confussion_matrix(mat_knn1)"
   ]
  },
  {
   "cell_type": "code",
   "execution_count": 443,
   "metadata": {},
   "outputs": [
    {
     "name": "stdout",
     "output_type": "stream",
     "text": [
      "precision_score_knn: 0.9998379965244661\n",
      "recall_score_knn: 0.9998379867149106\n",
      "f1_score_knn: 0.9998379875169597\n"
     ]
    }
   ],
   "source": [
    "print(\"precision_score_knn:\",precision_score(test_set_y, y_pred_knn1,average='weighted')) \n",
    "print(\"recall_score_knn:\",recall_score(test_set_y, y_pred_knn1,average='weighted'))\n",
    "print(\"f1_score_knn:\",f1_score(test_set_y, y_pred_knn1,average='weighted'))"
   ]
  },
  {
   "cell_type": "code",
   "execution_count": 444,
   "metadata": {},
   "outputs": [
    {
     "name": "stdout",
     "output_type": "stream",
     "text": [
      "[0.99945997 0.99966246 0.99945993 0.99945993 0.99932492] mean: 0.9994734427871425\n"
     ]
    }
   ],
   "source": [
    "cv_scores_knn1=cross_val_score(knn1, train_set_x, train_set_y, cv=5, scoring=\"accuracy\")\n",
    "print(cv_scores_knn1, \"mean:\", np.mean(cv_scores_knn1))"
   ]
  },
  {
   "cell_type": "code",
   "execution_count": 445,
   "metadata": {},
   "outputs": [
    {
     "data": {
      "image/png": "[encoded data removed]",
      "text/plain": [
       "<Figure size 288x216 with 2 Axes>"
      ]
     },
     "metadata": {
      "needs_background": "light"
     },
     "output_type": "display_data"
    }
   ],
   "source": [
    "y_pred_knn1_c = cross_val_predict(knn1,  train_set_x, train_set_y, cv=5)\n",
    "cofussion_knn1=confusion_matrix(train_set_y, y_pred_knn1_c)\n",
    "confussion_matrix(cofussion_knn1)"
   ]
  },
  {
   "cell_type": "code",
   "execution_count": 446,
   "metadata": {},
   "outputs": [
    {
     "name": "stdout",
     "output_type": "stream",
     "text": [
      "precision_score: 0.9994734422169833\n",
      "recall_score: 0.999473442605244\n",
      "f1_score: 0.9994734421547297\n"
     ]
    }
   ],
   "source": [
    "# precision call, recalll score, f1 score\n",
    "print(\"precision_score:\",precision_score(train_set_y, y_pred_knn1_c,average='weighted')) \n",
    "print(\"recall_score:\",recall_score(train_set_y, y_pred_knn1_c,average='weighted'))\n",
    "print(\"f1_score:\",f1_score(train_set_y, y_pred_knn1_c,average='weighted'))"
   ]
  },
  {
   "cell_type": "code",
   "execution_count": null,
   "metadata": {},
   "outputs": [],
   "source": []
  },
  {
   "cell_type": "code",
   "execution_count": 451,
   "metadata": {},
   "outputs": [
    {
     "data": {
      "text/plain": [
       "0.9902251984662742"
      ]
     },
     "execution_count": 451,
     "metadata": {},
     "output_type": "execute_result"
    }
   ],
   "source": [
    "# 61 neighbors is the last one with over 99% in the training\n",
    "knn2 = KNeighborsClassifier(n_neighbors=61)\n",
    "knn2.fit(train_set_x, train_set_y)\n",
    "y_pred_knn2=knn2.predict(test_set_x)\n",
    "accuracy_knn2=metrics.accuracy_score(test_set_y, y_pred_knn2)\n",
    "accuracy_knn2"
   ]
  },
  {
   "cell_type": "code",
   "execution_count": 452,
   "metadata": {},
   "outputs": [
    {
     "data": {
      "image/png": "[encoded data removed]",
      "text/plain": [
       "<Figure size 288x216 with 2 Axes>"
      ]
     },
     "metadata": {
      "needs_background": "light"
     },
     "output_type": "display_data"
    }
   ],
   "source": [
    "mat_knn2=confusion_matrix(test_set_y, y_pred_knn2)\n",
    "confussion_matrix(mat_knn2)"
   ]
  },
  {
   "cell_type": "code",
   "execution_count": 453,
   "metadata": {},
   "outputs": [
    {
     "name": "stdout",
     "output_type": "stream",
     "text": [
      "precision_score_knn: 0.9902306978478654\n",
      "recall_score_knn: 0.9902251984662742\n",
      "f1_score_knn: 0.9902235379575027\n"
     ]
    }
   ],
   "source": [
    "print(\"precision_score_knn:\",precision_score(test_set_y, y_pred_knn2,average='weighted')) \n",
    "print(\"recall_score_knn:\",recall_score(test_set_y, y_pred_knn2,average='weighted'))\n",
    "print(\"f1_score_knn:\",f1_score(test_set_y, y_pred_knn2,average='weighted'))"
   ]
  },
  {
   "cell_type": "code",
   "execution_count": 454,
   "metadata": {},
   "outputs": [
    {
     "name": "stdout",
     "output_type": "stream",
     "text": [
      "[0.98643175 0.98751097 0.98872612 0.98805104 0.98791602] mean: 0.987727179750844\n"
     ]
    }
   ],
   "source": [
    "cv_scores_knn2=cross_val_score(knn2, train_set_x, train_set_y, cv=5, scoring=\"accuracy\")\n",
    "print(cv_scores_knn2, \"mean:\", np.mean(cv_scores_knn2))"
   ]
  },
  {
   "cell_type": "code",
   "execution_count": 455,
   "metadata": {},
   "outputs": [
    {
     "data": {
      "image/png": "[encoded data removed]",
      "text/plain": [
       "<Figure size 288x216 with 2 Axes>"
      ]
     },
     "metadata": {
      "needs_background": "light"
     },
     "output_type": "display_data"
    }
   ],
   "source": [
    "y_pred_knn2_c = cross_val_predict(knn2,  train_set_x, train_set_y, cv=5)\n",
    "cofussion_knn2=confusion_matrix(train_set_y, y_pred_knn2_c)\n",
    "confussion_matrix(cofussion_knn2)"
   ]
  },
  {
   "cell_type": "code",
   "execution_count": 456,
   "metadata": {},
   "outputs": [
    {
     "name": "stdout",
     "output_type": "stream",
     "text": [
      "precision_score: 0.9877440596705539\n",
      "recall_score: 0.9877271622606865\n",
      "f1_score: 0.9877247991886547\n"
     ]
    }
   ],
   "source": [
    "# precision call, recalll score, f1 score\n",
    "print(\"precision_score:\",precision_score(train_set_y, y_pred_knn2_c,average='weighted')) \n",
    "print(\"recall_score:\",recall_score(train_set_y, y_pred_knn2_c,average='weighted'))\n",
    "print(\"f1_score:\",f1_score(train_set_y, y_pred_knn2_c,average='weighted'))"
   ]
  },
  {
   "cell_type": "code",
   "execution_count": null,
   "metadata": {},
   "outputs": [],
   "source": []
  },
  {
   "cell_type": "code",
   "execution_count": null,
   "metadata": {},
   "outputs": [],
   "source": []
  },
  {
   "cell_type": "code",
   "execution_count": 46,
   "metadata": {},
   "outputs": [
    {
     "data": {
      "text/plain": [
       "array([450, 455, 460, 465, 470, 475, 480, 485, 490, 495])"
      ]
     },
     "execution_count": 46,
     "metadata": {},
     "output_type": "execute_result"
    }
   ],
   "source": [
    "arr=np.arange(450,500,5)\n",
    "arr"
   ]
  },
  {
   "cell_type": "code",
   "execution_count": 47,
   "metadata": {},
   "outputs": [
    {
     "name": "stdout",
     "output_type": "stream",
     "text": [
      "450 0.9997839822865475\n",
      "455\n",
      "460\n",
      "465 0.9998919911432738\n",
      "470\n",
      "475\n",
      "480\n",
      "485\n",
      "490\n",
      "495\n"
     ]
    }
   ],
   "source": [
    "a=0\n",
    "for x in arr:\n",
    "    XG1=XGBClassifier(n_estimators=x, max_depth=2, eta=0.1, subsample=0.7, colsample_bytree=0.8,\n",
    "                 use_label_encoder =False,eval_metric = \"logloss\")\n",
    "    XG1.fit(train_set_x, train_set_y)\n",
    "    y_pred_XG1=XG1.predict(test_set_x)\n",
    "    accuracy_XG1=metrics.accuracy_score(test_set_y, y_pred_XG1)\n",
    "    if (accuracy_XG1>a):\n",
    "        a=accuracy_XG1\n",
    "        print( x, a)\n",
    "    else:\n",
    "        print(x)"
   ]
  },
  {
   "cell_type": "code",
   "execution_count": null,
   "metadata": {},
   "outputs": [],
   "source": []
  },
  {
   "cell_type": "code",
   "execution_count": 48,
   "metadata": {},
   "outputs": [
    {
     "data": {
      "text/plain": [
       "0.9998919911432738"
      ]
     },
     "execution_count": 48,
     "metadata": {},
     "output_type": "execute_result"
    }
   ],
   "source": [
    "XG1=XGBClassifier(n_estimators=465, max_depth=2, eta=0.1, subsample=0.7, colsample_bytree=0.8,\n",
    "                 use_label_encoder =False,eval_metric = \"logloss\") \n",
    "XG1.fit(train_set_x, train_set_y)\n",
    "y_pred_XG1=XG1.predict(test_set_x)\n",
    "accuracy_XG1=metrics.accuracy_score(test_set_y, y_pred_XG1)\n",
    "accuracy_XG1"
   ]
  },
  {
   "cell_type": "code",
   "execution_count": 49,
   "metadata": {},
   "outputs": [
    {
     "data": {
      "image/png": "[encoded data removed]",
      "text/plain": [
       "<Figure size 288x216 with 2 Axes>"
      ]
     },
     "metadata": {
      "needs_background": "light"
     },
     "output_type": "display_data"
    }
   ],
   "source": [
    "mat_XG1=confusion_matrix(test_set_y, y_pred_XG1)\n",
    "confussion_matrix(mat_XG1)"
   ]
  },
  {
   "cell_type": "code",
   "execution_count": 50,
   "metadata": {},
   "outputs": [
    {
     "name": "stdout",
     "output_type": "stream",
     "text": [
      "precision_score_XG: 0.99989202182325\n",
      "recall_score_XG: 0.9998919911432738\n",
      "f1_score_XG: 0.999891990070117\n"
     ]
    }
   ],
   "source": [
    "print(\"precision_score_XG:\",precision_score(test_set_y, y_pred_XG1,average='weighted')) \n",
    "print(\"recall_score_XG:\",recall_score(test_set_y, y_pred_XG1,average='weighted'))\n",
    "print(\"f1_score_XG:\",f1_score(test_set_y, y_pred_XG1,average='weighted'))"
   ]
  },
  {
   "cell_type": "code",
   "execution_count": 51,
   "metadata": {},
   "outputs": [
    {
     "name": "stdout",
     "output_type": "stream",
     "text": [
      "[0.99986499 0.99993249 1.         1.         0.99986498] mean: 0.9999324935530604\n"
     ]
    }
   ],
   "source": [
    "cv_scores_XG1=cross_val_score(XG1, train_set_x, train_set_y, cv=5, scoring=\"accuracy\")\n",
    "print(cv_scores_XG1, \"mean:\", np.mean(cv_scores_XG1))"
   ]
  },
  {
   "cell_type": "code",
   "execution_count": 52,
   "metadata": {},
   "outputs": [
    {
     "data": {
      "image/png": "[encoded data removed]",
      "text/plain": [
       "<Figure size 288x216 with 2 Axes>"
      ]
     },
     "metadata": {
      "needs_background": "light"
     },
     "output_type": "display_data"
    }
   ],
   "source": [
    "y_pred_XG1_c = cross_val_predict(XG1,  train_set_x, train_set_y, cv=5)\n",
    "cofussion_XG1=confusion_matrix(train_set_y, y_pred_XG1_c)\n",
    "confussion_matrix(cofussion_XG1)"
   ]
  },
  {
   "cell_type": "code",
   "execution_count": 80,
   "metadata": {},
   "outputs": [
    {
     "name": "stdout",
     "output_type": "stream",
     "text": [
      "precision_score: 0.9999324969127888\n",
      "recall_score: 0.9999324926416979\n",
      "f1_score: 0.9999324924682765\n"
     ]
    }
   ],
   "source": [
    "# precision call, recalll score, f1 score\n",
    "print(\"precision_score:\",precision_score(train_set_y, y_pred_XG1_c,average='weighted')) \n",
    "print(\"recall_score:\",recall_score(train_set_y, y_pred_XG1_c,average='weighted'))\n",
    "print(\"f1_score:\",f1_score(train_set_y, y_pred_XG1_c,average='weighted'))"
   ]
  },
  {
   "cell_type": "code",
   "execution_count": null,
   "metadata": {},
   "outputs": [],
   "source": []
  },
  {
   "cell_type": "code",
   "execution_count": 57,
   "metadata": {},
   "outputs": [],
   "source": [
    "# adaboost does not do well ~ 68%"
   ]
  },
  {
   "cell_type": "code",
   "execution_count": null,
   "metadata": {},
   "outputs": [],
   "source": []
  },
  {
   "cell_type": "code",
   "execution_count": 53,
   "metadata": {},
   "outputs": [],
   "source": [
    "from sklearn.ensemble import RandomForestClassifier"
   ]
  },
  {
   "cell_type": "code",
   "execution_count": 54,
   "metadata": {},
   "outputs": [
    {
     "data": {
      "text/plain": [
       "1.0"
      ]
     },
     "execution_count": 54,
     "metadata": {},
     "output_type": "execute_result"
    }
   ],
   "source": [
    "forest1= RandomForestClassifier(random_state=42)\n",
    "forest1.fit(train_set_x, train_set_y)\n",
    "y_pred_forest1=forest1.predict(test_set_x)\n",
    "accuracy_forest1=metrics.accuracy_score(test_set_y, y_pred_forest1)\n",
    "accuracy_forest1"
   ]
  },
  {
   "cell_type": "code",
   "execution_count": 57,
   "metadata": {},
   "outputs": [
    {
     "data": {
      "image/png": "[encoded data removed]",
      "text/plain": [
       "<Figure size 288x216 with 2 Axes>"
      ]
     },
     "metadata": {
      "needs_background": "light"
     },
     "output_type": "display_data"
    }
   ],
   "source": [
    "mat_forest1=confusion_matrix(test_set_y, y_pred_forest1)\n",
    "confussion_matrix(mat_forest1)"
   ]
  },
  {
   "cell_type": "code",
   "execution_count": 56,
   "metadata": {},
   "outputs": [
    {
     "name": "stdout",
     "output_type": "stream",
     "text": [
      "precision_score_forest: 1.0\n",
      "recall_score_forset: 1.0\n",
      "f1_score_forest: 1.0\n"
     ]
    }
   ],
   "source": [
    "print(\"precision_score_forest:\",precision_score(test_set_y, y_pred_forest1,average='weighted')) \n",
    "print(\"recall_score_forset:\",recall_score(test_set_y, y_pred_forest1,average='weighted'))\n",
    "print(\"f1_score_forest:\",f1_score(test_set_y, y_pred_forest1,average='weighted'))"
   ]
  },
  {
   "cell_type": "code",
   "execution_count": 58,
   "metadata": {},
   "outputs": [
    {
     "name": "stdout",
     "output_type": "stream",
     "text": [
      "[1.         1.         0.99993249 0.99993249 1.        ] mean: 0.9999729966920947\n"
     ]
    }
   ],
   "source": [
    "cv_scores_forest1=cross_val_score(forest1, train_set_x, train_set_y, cv=5, scoring=\"accuracy\")\n",
    "print(cv_scores_forest1, \"mean:\", np.mean(cv_scores_forest1))"
   ]
  },
  {
   "cell_type": "code",
   "execution_count": 59,
   "metadata": {},
   "outputs": [
    {
     "data": {
      "image/png": "[encoded data removed]",
      "text/plain": [
       "<Figure size 288x216 with 2 Axes>"
      ]
     },
     "metadata": {
      "needs_background": "light"
     },
     "output_type": "display_data"
    }
   ],
   "source": [
    "y_pred_forest1_c = cross_val_predict(forest1,  train_set_x, train_set_y, cv=5)\n",
    "cofussion_forest1=confusion_matrix(train_set_y, y_pred_forest1_c)\n",
    "confussion_matrix(cofussion_forest1)"
   ]
  },
  {
   "cell_type": "code",
   "execution_count": 81,
   "metadata": {},
   "outputs": [
    {
     "name": "stdout",
     "output_type": "stream",
     "text": [
      "precision_score: 0.9999729992014723\n",
      "recall_score: 0.9999729970566792\n",
      "f1_score: 0.9999729971028272\n"
     ]
    }
   ],
   "source": [
    "# precision call, recalll score, f1 score\n",
    "print(\"precision_score:\",precision_score(train_set_y, y_pred_forest1_c,average='weighted')) \n",
    "print(\"recall_score:\",recall_score(train_set_y, y_pred_forest1_c,average='weighted'))\n",
    "print(\"f1_score:\",f1_score(train_set_y, y_pred_forest1_c,average='weighted'))"
   ]
  },
  {
   "cell_type": "code",
   "execution_count": null,
   "metadata": {},
   "outputs": [],
   "source": []
  },
  {
   "cell_type": "code",
   "execution_count": 461,
   "metadata": {},
   "outputs": [
    {
     "data": {
      "text/plain": [
       "1.0"
      ]
     },
     "execution_count": 461,
     "metadata": {},
     "output_type": "execute_result"
    }
   ],
   "source": [
    "lr1=LogisticRegression(random_state=42)\n",
    "lr1.fit(train_set_x, train_set_y)\n",
    "y_pred_lr1=forest1.predict(test_set_x)\n",
    "accuracy_lr1=metrics.accuracy_score(test_set_y, y_pred_lr1)\n",
    "accuracy_lr1"
   ]
  },
  {
   "cell_type": "code",
   "execution_count": 462,
   "metadata": {},
   "outputs": [
    {
     "data": {
      "image/png": "[encoded data removed]",
      "text/plain": [
       "<Figure size 288x216 with 2 Axes>"
      ]
     },
     "metadata": {
      "needs_background": "light"
     },
     "output_type": "display_data"
    }
   ],
   "source": [
    "mat_lr1=confusion_matrix(test_set_y, y_pred_lr1)\n",
    "confussion_matrix(mat_lr1)"
   ]
  },
  {
   "cell_type": "code",
   "execution_count": 463,
   "metadata": {},
   "outputs": [
    {
     "name": "stdout",
     "output_type": "stream",
     "text": [
      "precision_score_lr: 1.0\n",
      "recall_score_lr: 1.0\n",
      "f1_score_lr: 1.0\n"
     ]
    }
   ],
   "source": [
    "print(\"precision_score_lr:\",precision_score(test_set_y, y_pred_lr1,average='weighted')) \n",
    "print(\"recall_score_lr:\",recall_score(test_set_y, y_pred_lr1,average='weighted'))\n",
    "print(\"f1_score_lr:\",f1_score(test_set_y, y_pred_lr1,average='weighted'))"
   ]
  },
  {
   "cell_type": "code",
   "execution_count": 464,
   "metadata": {},
   "outputs": [
    {
     "name": "stdout",
     "output_type": "stream",
     "text": [
      "[0.83299581 0.82994667 0.8277189  0.83372713 0.83575238] mean: 0.8320281780083066\n"
     ]
    }
   ],
   "source": [
    "cv_scores_lr1=cross_val_score(lr1, train_set_x, train_set_y, cv=5, scoring=\"accuracy\")\n",
    "print(cv_scores_lr1, \"mean:\", np.mean(cv_scores_lr1))"
   ]
  },
  {
   "cell_type": "code",
   "execution_count": 465,
   "metadata": {},
   "outputs": [
    {
     "data": {
      "image/png": "[encoded data removed]",
      "text/plain": [
       "<Figure size 288x216 with 2 Axes>"
      ]
     },
     "metadata": {
      "needs_background": "light"
     },
     "output_type": "display_data"
    }
   ],
   "source": [
    "y_pred_lr1_c = cross_val_predict(lr1,  train_set_x, train_set_y, cv=5)\n",
    "cofussion_lr1=confusion_matrix(train_set_y, y_pred_lr1_c)\n",
    "confussion_matrix(cofussion_lr1)"
   ]
  },
  {
   "cell_type": "code",
   "execution_count": 466,
   "metadata": {},
   "outputs": [
    {
     "name": "stdout",
     "output_type": "stream",
     "text": [
      "precision_score: 0.8323450742653038\n",
      "recall_score: 0.8320281910728269\n",
      "f1_score: 0.832097506416743\n"
     ]
    }
   ],
   "source": [
    "# precision call, recalll score, f1 score\n",
    "print(\"precision_score:\",precision_score(train_set_y, y_pred_lr1_c,average='weighted')) \n",
    "print(\"recall_score:\",recall_score(train_set_y, y_pred_lr1_c,average='weighted'))\n",
    "print(\"f1_score:\",f1_score(train_set_y, y_pred_lr1_c,average='weighted'))"
   ]
  },
  {
   "cell_type": "code",
   "execution_count": null,
   "metadata": {},
   "outputs": [],
   "source": []
  },
  {
   "cell_type": "code",
   "execution_count": null,
   "metadata": {},
   "outputs": [],
   "source": []
  },
  {
   "cell_type": "code",
   "execution_count": 373,
   "metadata": {},
   "outputs": [],
   "source": [
    "# importing the test data\n",
    "df_test_alone_person1=pd.read_csv(r'C:\\Users\\nechd\\Desktop\\data_science_part4\\extraFiles\\Validation\\Itiel Lab\\Itiel636770942529041679Alone.csv')\n",
    "df_test_alone_person2=pd.read_csv(r'C:\\Users\\nechd\\Desktop\\data_science_part4\\extraFiles\\Validation\\Mor SHerman\\Mor636771066407626524Alone.csv')\n",
    "df_test_alone_person3=pd.read_csv(r'C:\\Users\\nechd\\Desktop\\data_science_part4\\extraFiles\\Validation\\Oded Medina\\Oded636754669540564461Alone.csv')\n",
    "      \n",
    "df_hand_right=pd.read_csv(r'C:\\Users\\nechd\\Desktop\\data_science_part4\\extraFiles\\HandRight.csv')"
   ]
  },
  {
   "cell_type": "code",
   "execution_count": null,
   "metadata": {},
   "outputs": [],
   "source": []
  },
  {
   "cell_type": "code",
   "execution_count": 450,
   "metadata": {},
   "outputs": [],
   "source": [
    "# changing the nmes for the columns in the right hand data frame\n",
    "df_hand_right=df_hand_right.set_axis(columns_right, axis='columns') \n"
   ]
  },
  {
   "cell_type": "code",
   "execution_count": 376,
   "metadata": {},
   "outputs": [],
   "source": [
    "# deleting rows with null values\n",
    "df_test_alone_person1=df_test_alone_person1.dropna('index','any')\n",
    "df_test_alone_person2=df_test_alone_person2.dropna('index','any')\n",
    "df_test_alone_person3=df_test_alone_person3.dropna('index','any')"
   ]
  },
  {
   "cell_type": "code",
   "execution_count": 378,
   "metadata": {},
   "outputs": [],
   "source": [
    "# adding the right hand to the left\n",
    "df_test_alone_person1_combo=pd.concat([df_test_alone_person1,df_hand_right],axis=1,)\n",
    "df_test_alone_person2_combo=pd.concat([df_test_alone_person2,df_hand_right],axis=1,)\n",
    "df_test_alone_person3_combo=pd.concat([df_test_alone_person3,df_hand_right],axis=1,)"
   ]
  },
  {
   "cell_type": "code",
   "execution_count": 382,
   "metadata": {},
   "outputs": [],
   "source": [
    "df_test_alone_person1_combo[\"type\"]=0\n",
    "df_test_alone_person2_combo[\"type\"]=0\n",
    "df_test_alone_person3_combo[\"type\"]=0"
   ]
  },
  {
   "cell_type": "code",
   "execution_count": 384,
   "metadata": {},
   "outputs": [],
   "source": [
    "df_test_alone_person1_combo=df_test_alone_person1_combo.set_index('Time')\n",
    "df_test_alone_person2_combo=df_test_alone_person2_combo.set_index('Time')\n",
    "df_test_alone_person3_combo=df_test_alone_person3_combo.set_index('Time')"
   ]
  },
  {
   "cell_type": "code",
   "execution_count": 385,
   "metadata": {},
   "outputs": [],
   "source": [
    "df_test_alone_person1_combo=df_test_alone_person1_combo.dropna('index','any')\n",
    "df_test_alone_person1_combo=df_test_alone_person1_combo.dropna('index','any')\n",
    "df_test_alone_person1_combo=df_test_alone_person1_combo.dropna('index','any')"
   ]
  },
  {
   "cell_type": "code",
   "execution_count": 387,
   "metadata": {},
   "outputs": [],
   "source": [
    "df_test_alone_person1_combo=df_test_alone_person1_combo.iloc[700:]\n",
    "df_test_alone_person2_combo=df_test_alone_person2_combo.iloc[700:]\n",
    "df_test_alone_person3_combo=df_test_alone_person3_combo.iloc[700:]"
   ]
  },
  {
   "cell_type": "code",
   "execution_count": 388,
   "metadata": {},
   "outputs": [],
   "source": [
    "df_test_sync_person1=pd.read_csv(r'C:\\Users\\nechd\\Desktop\\data_science_part4\\extraFiles\\Validation\\Itiel Lab\\Itiel636770941638547912Sync.csv')\n",
    "df_test_sync_person2=pd.read_csv(r'C:\\Users\\nechd\\Desktop\\data_science_part4\\extraFiles\\Validation\\Mor SHerman\\Mor636771065531910215Sync.csv')\n",
    "df_test_sync_person3=pd.read_csv(r'C:\\Users\\nechd\\Desktop\\data_science_part4\\extraFiles\\Validation\\Oded Medina\\Oded636754671560850581Sync.csv')"
   ]
  },
  {
   "cell_type": "code",
   "execution_count": 390,
   "metadata": {},
   "outputs": [],
   "source": [
    "#seperating the left hand from the right hand\n",
    "df_test_sync_person1_r=df_test_sync_person1.loc[df_test_sync_person1[' Hand Type']==\"right\"]\n",
    "df_test_sync_person2_r=df_test_sync_person2.loc[df_test_sync_person2[' Hand Type']==\"right\"]\n",
    "df_test_sync_person3_r=df_test_sync_person3.loc[df_test_sync_person3[' Hand Type']==\"right\"]\n",
    "df_test_sync_person1_l=df_test_sync_person1.loc[df_test_sync_person1[' Hand Type']==\"left\"]\n",
    "df_test_sync_person2_l=df_test_sync_person2.loc[df_test_sync_person2[' Hand Type']==\"left\"]\n",
    "df_test_sync_person3_l=df_test_sync_person3.loc[df_test_sync_person3[' Hand Type']==\"left\"]"
   ]
  },
  {
   "cell_type": "code",
   "execution_count": 392,
   "metadata": {},
   "outputs": [],
   "source": [
    "df_test_sync_person1_r=df_test_sync_person1_r.set_axis(columns_right, axis='columns')\n",
    "df_test_sync_person2_r=df_test_sync_person2_r.set_axis(columns_right, axis='columns')\n",
    "df_test_sync_person3_r=df_test_sync_person3_r.set_axis(columns_right, axis='columns')"
   ]
  },
  {
   "cell_type": "code",
   "execution_count": 394,
   "metadata": {},
   "outputs": [],
   "source": [
    "df_test_sync_person1_r=df_test_sync_person1_r.set_index('Time_r')\n",
    "df_test_sync_person2_r=df_test_sync_person2_r.set_index('Time_r')\n",
    "df_test_sync_person3_r=df_test_sync_person3_r.set_index('Time_r')\n",
    "df_test_sync_person1_l=df_test_sync_person1_l.set_index('Time')\n",
    "df_test_sync_person2_l=df_test_sync_person2_l.set_index('Time')\n",
    "df_test_sync_person3_l=df_test_sync_person3_l.set_index('Time')"
   ]
  },
  {
   "cell_type": "code",
   "execution_count": 397,
   "metadata": {},
   "outputs": [],
   "source": [
    "df_test_sync_person1_combo=pd.concat([df_test_sync_person1_l,df_test_sync_person1_r],axis=1)\n",
    "df_test_sync_person2_combo=pd.concat([df_test_sync_person2_l,df_test_sync_person2_r],axis=1)\n",
    "df_test_sync_person3_combo=pd.concat([df_test_sync_person3_l,df_test_sync_person3_r],axis=1)"
   ]
  },
  {
   "cell_type": "code",
   "execution_count": 399,
   "metadata": {},
   "outputs": [],
   "source": [
    "df_test_sync_person1_combo=df_test_sync_person1_combo.loc[df_test_sync_person1_combo[' # hands']==2]\n",
    "df_test_sync_person2_combo=df_test_sync_person2_combo.loc[df_test_sync_person2_combo[' # hands']==2]\n",
    "df_test_sync_person3_combo=df_test_sync_person3_combo.loc[df_test_sync_person3_combo[' # hands']==2]"
   ]
  },
  {
   "cell_type": "code",
   "execution_count": 400,
   "metadata": {},
   "outputs": [
    {
     "name": "stderr",
     "output_type": "stream",
     "text": [
      "<ipython-input-400-5c3ea82e2d35>:3: SettingWithCopyWarning: \n",
      "A value is trying to be set on a copy of a slice from a DataFrame.\n",
      "Try using .loc[row_indexer,col_indexer] = value instead\n",
      "\n",
      "See the caveats in the documentation: https://pandas.pydata.org/pandas-docs/stable/user_guide/indexing.html#returning-a-view-versus-a-copy\n",
      "  df_test_sync_person3_combo[\"type\"]=1\n"
     ]
    }
   ],
   "source": [
    "df_test_sync_person1_combo[\"type\"]=1\n",
    "df_test_sync_person2_combo[\"type\"]=1\n",
    "df_test_sync_person3_combo[\"type\"]=1"
   ]
  },
  {
   "cell_type": "code",
   "execution_count": 401,
   "metadata": {},
   "outputs": [],
   "source": [
    "df_test_sync_person1_combo=df_test_sync_person1_combo.iloc[700:]\n",
    "df_test_sync_person2_combo=df_test_sync_person2_combo.iloc[700:]\n",
    "df_test_sync_person3_combo=df_test_sync_person3_combo.iloc[700:]"
   ]
  },
  {
   "cell_type": "code",
   "execution_count": null,
   "metadata": {},
   "outputs": [],
   "source": []
  },
  {
   "cell_type": "code",
   "execution_count": 402,
   "metadata": {},
   "outputs": [],
   "source": [
    "df_test_spontan_person1=pd.read_csv(r'C:\\Users\\nechd\\Desktop\\data_science_part4\\extraFiles\\Validation\\Itiel Lab\\Itiel636770940701219076Spontan.csv')\n",
    "df_test_spontan_person2=pd.read_csv(r'C:\\Users\\nechd\\Desktop\\data_science_part4\\extraFiles\\Validation\\Mor SHerman\\Mor636771064635567065Spontan.csv')\n",
    "df_test_spontan_person3=pd.read_csv(r'C:\\Users\\nechd\\Desktop\\data_science_part4\\extraFiles\\Validation\\Oded Medina\\Oded636754670490266956Spontan.csv')"
   ]
  },
  {
   "cell_type": "code",
   "execution_count": 404,
   "metadata": {},
   "outputs": [],
   "source": [
    "df_test_spontan_person1_r=df_test_spontan_person1.loc[df_test_spontan_person1[' Hand Type']==\"right\"]\n",
    "df_test_spontan_person2_r=df_test_spontan_person2.loc[df_test_spontan_person2[' Hand Type']==\"right\"]\n",
    "df_test_spontan_person3_r=df_test_spontan_person3.loc[df_test_spontan_person3[' Hand Type']==\"right\"]\n",
    "df_test_spontan_person1_l=df_test_spontan_person1.loc[df_test_spontan_person1[' Hand Type']==\"left\"]\n",
    "df_test_spontan_person2_l=df_test_spontan_person2.loc[df_test_spontan_person2[' Hand Type']==\"left\"]\n",
    "df_test_spontan_person3_l=df_test_spontan_person3.loc[df_test_spontan_person3[' Hand Type']==\"left\"]"
   ]
  },
  {
   "cell_type": "code",
   "execution_count": 406,
   "metadata": {},
   "outputs": [],
   "source": [
    "df_test_spontan_person1_r=df_test_spontan_person1_r.set_axis(columns_right,axis='columns')\n",
    "df_test_spontan_person2_r=df_test_spontan_person2_r.set_axis(columns_right,axis='columns')\n",
    "df_test_spontan_person3_r=df_test_spontan_person3_r.set_axis(columns_right,axis='columns')"
   ]
  },
  {
   "cell_type": "code",
   "execution_count": 408,
   "metadata": {},
   "outputs": [],
   "source": [
    "df_test_spontan_person1_r=df_test_spontan_person1_r.set_index('Time_r')\n",
    "df_test_spontan_person2_r=df_test_spontan_person2_r.set_index('Time_r')\n",
    "df_test_spontan_person3_r=df_test_spontan_person3_r.set_index('Time_r')\n",
    "df_test_spontan_person1_l=df_test_spontan_person1_l.set_index('Time')\n",
    "df_test_spontan_person2_l=df_test_spontan_person2_l.set_index('Time')\n",
    "df_test_spontan_person3_l=df_test_spontan_person3_l.set_index('Time')"
   ]
  },
  {
   "cell_type": "code",
   "execution_count": 409,
   "metadata": {},
   "outputs": [],
   "source": [
    "df_test_spontan_person1_combo=pd.concat([df_test_spontan_person1_l,df_test_spontan_person1_r],axis=1)\n",
    "df_test_spontan_person2_combo=pd.concat([df_test_spontan_person2_l,df_test_spontan_person2_r],axis=1)\n",
    "df_test_spontan_person3_combo=pd.concat([df_test_spontan_person3_l,df_test_spontan_person3_r],axis=1)"
   ]
  },
  {
   "cell_type": "code",
   "execution_count": 410,
   "metadata": {},
   "outputs": [],
   "source": [
    "df_test_spontan_person1_combo=df_test_spontan_person1_combo.loc[df_test_spontan_person1_combo[\" # hands\"]==2]\n",
    "df_test_spontan_person2_combo=df_test_spontan_person2_combo.loc[df_test_spontan_person2_combo[\" # hands\"]==2]\n",
    "df_test_spontan_person3_combo=df_test_spontan_person3_combo.loc[df_test_spontan_person3_combo[\" # hands\"]==2]"
   ]
  },
  {
   "cell_type": "code",
   "execution_count": 411,
   "metadata": {},
   "outputs": [],
   "source": [
    "df_test_spontan_person1_combo[\"type\"]=2\n",
    "df_test_spontan_person2_combo[\"type\"]=2\n",
    "df_test_spontan_person3_combo[\"type\"]=2"
   ]
  },
  {
   "cell_type": "code",
   "execution_count": 412,
   "metadata": {},
   "outputs": [],
   "source": [
    "df_test_spontan_person1_combo=df_test_spontan_person1_combo.iloc[700:]\n",
    "df_test_spontan_person2_combo=df_test_spontan_person2_combo.iloc[700:]\n",
    "df_test_spontan_person3_combo=df_test_spontan_person3_combo.iloc[700:]"
   ]
  },
  {
   "cell_type": "code",
   "execution_count": 413,
   "metadata": {},
   "outputs": [],
   "source": [
    "data_test1=pd.concat([df_test_alone_person1_combo,df_test_alone_person1_combo,df_test_alone_person1_combo],axis=0)\n",
    "data_test2=pd.concat([df_test_sync_person1_combo,df_test_sync_person2_combo,df_test_sync_person3_combo],axis=0)\n",
    "data_test3=pd.concat([df_test_spontan_person1_combo,df_test_spontan_person2_combo,df_test_spontan_person3_combo],axis=0)"
   ]
  },
  {
   "cell_type": "code",
   "execution_count": 414,
   "metadata": {},
   "outputs": [
    {
     "name": "stdout",
     "output_type": "stream",
     "text": [
      "<class 'pandas.core.frame.DataFrame'>\n",
      "Float64Index: 11184 entries, 966.6613 to 1025.529\n",
      "Data columns (total 43 columns):\n",
      " #   Column            Non-Null Count  Dtype  \n",
      "---  ------            --------------  -----  \n",
      " 0    Frame ID         11184 non-null  float64\n",
      " 1    Hand Type        11184 non-null  object \n",
      " 2    # hands          11184 non-null  float64\n",
      " 3    Position X       11184 non-null  float64\n",
      " 4    Position Y       11184 non-null  float64\n",
      " 5    Position Z       11184 non-null  float64\n",
      " 6    Velocity X       11184 non-null  float64\n",
      " 7    Velocity Y       11184 non-null  float64\n",
      " 8    Velocity Z       11184 non-null  float64\n",
      " 9    Pitch            11184 non-null  float64\n",
      " 10   Roll             11184 non-null  float64\n",
      " 11   Yaw              11184 non-null  float64\n",
      " 12   Wrist Pos X      11184 non-null  float64\n",
      " 13   Wrist Pos Y      11184 non-null  float64\n",
      " 14   Wrist Pos Z      11184 non-null  float64\n",
      " 15   Elbow pos X      11184 non-null  float64\n",
      " 16   Elbow Pos Y      11184 non-null  float64\n",
      " 17   Elbow Pos Z      11184 non-null  float64\n",
      " 18   Grab Strenth     11184 non-null  float64\n",
      " 19   Grab Angle       11184 non-null  float64\n",
      " 20   Pinch Strength   11184 non-null  float64\n",
      " 21  Frame ID_r        11184 non-null  int64  \n",
      " 22  Hand Type_r       11184 non-null  object \n",
      " 23  Position X_r      11184 non-null  int64  \n",
      " 24  Position Y_r      11184 non-null  float64\n",
      " 25  Position Z_r      11184 non-null  float64\n",
      " 26  Velocity X_r      11184 non-null  float64\n",
      " 27  Velocity y_r      11184 non-null  float64\n",
      " 28  Velocity Z_r      11184 non-null  float64\n",
      " 29  Pitch_r           11184 non-null  float64\n",
      " 30  Roll_r            11184 non-null  float64\n",
      " 31  Yaw_r             11184 non-null  float64\n",
      " 32  Wrist Pos X_r     11184 non-null  float64\n",
      " 33  Wrist Pos X_r     11184 non-null  float64\n",
      " 34  Wrist Pos Y_r     11184 non-null  float64\n",
      " 35  Wrist Pos Z_r     11184 non-null  float64\n",
      " 36  Elbow pos X_r     11184 non-null  float64\n",
      " 37  Elbow pos Y_r     11184 non-null  float64\n",
      " 38  Elbow pos Z_r     11184 non-null  float64\n",
      " 39  Grab Strenth_r    11184 non-null  float64\n",
      " 40  Grab Angle_r      11184 non-null  float64\n",
      " 41  Pinch Strength_r  11184 non-null  float64\n",
      " 42  type              11184 non-null  int64  \n",
      "dtypes: float64(38), int64(3), object(2)\n",
      "memory usage: 3.8+ MB\n"
     ]
    }
   ],
   "source": [
    "data_test1=data_test1.drop(['Time_r'],axis=1)\n",
    "data_test1.info()"
   ]
  },
  {
   "cell_type": "code",
   "execution_count": 415,
   "metadata": {},
   "outputs": [
    {
     "name": "stdout",
     "output_type": "stream",
     "text": [
      "<class 'pandas.core.frame.DataFrame'>\n",
      "Float64Index: 29153 entries, 966.6613 to 891.8492\n",
      "Data columns (total 43 columns):\n",
      " #   Column            Non-Null Count  Dtype  \n",
      "---  ------            --------------  -----  \n",
      " 0    Frame ID         29153 non-null  float64\n",
      " 1    Hand Type        29153 non-null  object \n",
      " 2    # hands          29153 non-null  float64\n",
      " 3    Position X       29153 non-null  float64\n",
      " 4    Position Y       29153 non-null  float64\n",
      " 5    Position Z       29153 non-null  float64\n",
      " 6    Velocity X       29153 non-null  float64\n",
      " 7    Velocity Y       29153 non-null  float64\n",
      " 8    Velocity Z       29153 non-null  float64\n",
      " 9    Pitch            29153 non-null  float64\n",
      " 10   Roll             29153 non-null  float64\n",
      " 11   Yaw              29153 non-null  float64\n",
      " 12   Wrist Pos X      29153 non-null  float64\n",
      " 13   Wrist Pos Y      29153 non-null  float64\n",
      " 14   Wrist Pos Z      29153 non-null  float64\n",
      " 15   Elbow pos X      29153 non-null  float64\n",
      " 16   Elbow Pos Y      29153 non-null  float64\n",
      " 17   Elbow Pos Z      29153 non-null  float64\n",
      " 18   Grab Strenth     29153 non-null  float64\n",
      " 19   Grab Angle       29153 non-null  float64\n",
      " 20   Pinch Strength   29153 non-null  float64\n",
      " 21  Frame ID_r        29153 non-null  float64\n",
      " 22  Hand Type_r       29153 non-null  object \n",
      " 23  Position X_r      29153 non-null  float64\n",
      " 24  Position Y_r      29153 non-null  float64\n",
      " 25  Position Z_r      29153 non-null  float64\n",
      " 26  Velocity X_r      29153 non-null  float64\n",
      " 27  Velocity y_r      29153 non-null  float64\n",
      " 28  Velocity Z_r      29153 non-null  float64\n",
      " 29  Pitch_r           29153 non-null  float64\n",
      " 30  Roll_r            29153 non-null  float64\n",
      " 31  Yaw_r             29153 non-null  float64\n",
      " 32  Wrist Pos X_r     29153 non-null  float64\n",
      " 33  Wrist Pos X_r     29153 non-null  float64\n",
      " 34  Wrist Pos Y_r     29153 non-null  float64\n",
      " 35  Wrist Pos Z_r     29153 non-null  float64\n",
      " 36  Elbow pos X_r     29153 non-null  float64\n",
      " 37  Elbow pos Y_r     29153 non-null  float64\n",
      " 38  Elbow pos Z_r     29153 non-null  float64\n",
      " 39  Grab Strenth_r    29153 non-null  float64\n",
      " 40  Grab Angle_r      29153 non-null  float64\n",
      " 41  Pinch Strength_r  29153 non-null  float64\n",
      " 42  type              29153 non-null  int64  \n",
      "dtypes: float64(40), int64(1), object(2)\n",
      "memory usage: 9.8+ MB\n"
     ]
    }
   ],
   "source": [
    "data_test=pd.concat([data_test1,data_test2,data_test3],axis=0)\n",
    "data_test.info()"
   ]
  },
  {
   "cell_type": "code",
   "execution_count": 416,
   "metadata": {},
   "outputs": [
    {
     "data": {
      "text/html": [
       "<div>\n",
       "<style scoped>\n",
       "    .dataframe tbody tr th:only-of-type {\n",
       "        vertical-align: middle;\n",
       "    }\n",
       "\n",
       "    .dataframe tbody tr th {\n",
       "        vertical-align: top;\n",
       "    }\n",
       "\n",
       "    .dataframe thead th {\n",
       "        text-align: right;\n",
       "    }\n",
       "</style>\n",
       "<table border=\"1\" class=\"dataframe\">\n",
       "  <thead>\n",
       "    <tr style=\"text-align: right;\">\n",
       "      <th></th>\n",
       "      <th>Frame ID</th>\n",
       "      <th>Hand Type</th>\n",
       "      <th># hands</th>\n",
       "      <th>Position X</th>\n",
       "      <th>Position Y</th>\n",
       "      <th>Position Z</th>\n",
       "      <th>Velocity X</th>\n",
       "      <th>Velocity Y</th>\n",
       "      <th>Velocity Z</th>\n",
       "      <th>Pitch</th>\n",
       "      <th>...</th>\n",
       "      <th>Wrist Pos X_r</th>\n",
       "      <th>Wrist Pos Y_r</th>\n",
       "      <th>Wrist Pos Z_r</th>\n",
       "      <th>Elbow pos X_r</th>\n",
       "      <th>Elbow pos Y_r</th>\n",
       "      <th>Elbow pos Z_r</th>\n",
       "      <th>Grab Strenth_r</th>\n",
       "      <th>Grab Angle_r</th>\n",
       "      <th>Pinch Strength_r</th>\n",
       "      <th>type</th>\n",
       "    </tr>\n",
       "  </thead>\n",
       "  <tbody>\n",
       "    <tr>\n",
       "      <th>966.6613</th>\n",
       "      <td>112701.0</td>\n",
       "      <td>left</td>\n",
       "      <td>1.0</td>\n",
       "      <td>-89.46551</td>\n",
       "      <td>282.5517</td>\n",
       "      <td>104.14670</td>\n",
       "      <td>59.477310</td>\n",
       "      <td>-222.84010</td>\n",
       "      <td>114.072300</td>\n",
       "      <td>2.621086</td>\n",
       "      <td>...</td>\n",
       "      <td>39.77090</td>\n",
       "      <td>197.3047</td>\n",
       "      <td>99.29434</td>\n",
       "      <td>171.1660</td>\n",
       "      <td>52.266810</td>\n",
       "      <td>287.7588</td>\n",
       "      <td>0.0</td>\n",
       "      <td>0.498644</td>\n",
       "      <td>0.0</td>\n",
       "      <td>0</td>\n",
       "    </tr>\n",
       "    <tr>\n",
       "      <th>966.6778</th>\n",
       "      <td>112703.0</td>\n",
       "      <td>left</td>\n",
       "      <td>1.0</td>\n",
       "      <td>-89.09656</td>\n",
       "      <td>278.4751</td>\n",
       "      <td>105.77440</td>\n",
       "      <td>-13.318180</td>\n",
       "      <td>-215.47790</td>\n",
       "      <td>72.303980</td>\n",
       "      <td>2.666370</td>\n",
       "      <td>...</td>\n",
       "      <td>44.53930</td>\n",
       "      <td>202.0048</td>\n",
       "      <td>101.27940</td>\n",
       "      <td>172.6115</td>\n",
       "      <td>51.288290</td>\n",
       "      <td>287.5629</td>\n",
       "      <td>0.0</td>\n",
       "      <td>0.520795</td>\n",
       "      <td>0.0</td>\n",
       "      <td>0</td>\n",
       "    </tr>\n",
       "    <tr>\n",
       "      <th>966.6948</th>\n",
       "      <td>112705.0</td>\n",
       "      <td>left</td>\n",
       "      <td>1.0</td>\n",
       "      <td>-88.56313</td>\n",
       "      <td>274.1503</td>\n",
       "      <td>106.46620</td>\n",
       "      <td>54.813290</td>\n",
       "      <td>-279.77750</td>\n",
       "      <td>22.959880</td>\n",
       "      <td>2.720711</td>\n",
       "      <td>...</td>\n",
       "      <td>48.87646</td>\n",
       "      <td>204.2281</td>\n",
       "      <td>103.38490</td>\n",
       "      <td>173.7377</td>\n",
       "      <td>52.089050</td>\n",
       "      <td>290.6891</td>\n",
       "      <td>0.0</td>\n",
       "      <td>0.527123</td>\n",
       "      <td>0.0</td>\n",
       "      <td>0</td>\n",
       "    </tr>\n",
       "    <tr>\n",
       "      <th>966.7109</th>\n",
       "      <td>112707.0</td>\n",
       "      <td>left</td>\n",
       "      <td>1.0</td>\n",
       "      <td>-88.37968</td>\n",
       "      <td>270.0990</td>\n",
       "      <td>107.01780</td>\n",
       "      <td>8.587542</td>\n",
       "      <td>-235.26190</td>\n",
       "      <td>21.513070</td>\n",
       "      <td>2.800939</td>\n",
       "      <td>...</td>\n",
       "      <td>53.62828</td>\n",
       "      <td>206.4552</td>\n",
       "      <td>105.76730</td>\n",
       "      <td>174.1449</td>\n",
       "      <td>50.322340</td>\n",
       "      <td>292.6303</td>\n",
       "      <td>0.0</td>\n",
       "      <td>0.504663</td>\n",
       "      <td>0.0</td>\n",
       "      <td>0</td>\n",
       "    </tr>\n",
       "    <tr>\n",
       "      <th>966.7275</th>\n",
       "      <td>112709.0</td>\n",
       "      <td>left</td>\n",
       "      <td>1.0</td>\n",
       "      <td>-89.64819</td>\n",
       "      <td>267.5950</td>\n",
       "      <td>106.91000</td>\n",
       "      <td>-70.051510</td>\n",
       "      <td>-158.77360</td>\n",
       "      <td>-12.247460</td>\n",
       "      <td>2.951404</td>\n",
       "      <td>...</td>\n",
       "      <td>58.09599</td>\n",
       "      <td>208.3566</td>\n",
       "      <td>108.21800</td>\n",
       "      <td>175.0809</td>\n",
       "      <td>48.865160</td>\n",
       "      <td>294.4880</td>\n",
       "      <td>0.0</td>\n",
       "      <td>0.515524</td>\n",
       "      <td>0.0</td>\n",
       "      <td>0</td>\n",
       "    </tr>\n",
       "    <tr>\n",
       "      <th>...</th>\n",
       "      <td>...</td>\n",
       "      <td>...</td>\n",
       "      <td>...</td>\n",
       "      <td>...</td>\n",
       "      <td>...</td>\n",
       "      <td>...</td>\n",
       "      <td>...</td>\n",
       "      <td>...</td>\n",
       "      <td>...</td>\n",
       "      <td>...</td>\n",
       "      <td>...</td>\n",
       "      <td>...</td>\n",
       "      <td>...</td>\n",
       "      <td>...</td>\n",
       "      <td>...</td>\n",
       "      <td>...</td>\n",
       "      <td>...</td>\n",
       "      <td>...</td>\n",
       "      <td>...</td>\n",
       "      <td>...</td>\n",
       "      <td>...</td>\n",
       "    </tr>\n",
       "    <tr>\n",
       "      <th>891.7161</th>\n",
       "      <td>58577.0</td>\n",
       "      <td>left</td>\n",
       "      <td>2.0</td>\n",
       "      <td>-119.09390</td>\n",
       "      <td>266.9509</td>\n",
       "      <td>90.19492</td>\n",
       "      <td>20.516860</td>\n",
       "      <td>-54.38897</td>\n",
       "      <td>-79.527550</td>\n",
       "      <td>0.935100</td>\n",
       "      <td>...</td>\n",
       "      <td>259.14380</td>\n",
       "      <td>214.1489</td>\n",
       "      <td>81.66591</td>\n",
       "      <td>357.1292</td>\n",
       "      <td>-23.849340</td>\n",
       "      <td>117.5243</td>\n",
       "      <td>0.0</td>\n",
       "      <td>0.000000</td>\n",
       "      <td>0.0</td>\n",
       "      <td>2</td>\n",
       "    </tr>\n",
       "    <tr>\n",
       "      <th>891.7498</th>\n",
       "      <td>58580.0</td>\n",
       "      <td>left</td>\n",
       "      <td>2.0</td>\n",
       "      <td>-119.68230</td>\n",
       "      <td>265.0744</td>\n",
       "      <td>88.75297</td>\n",
       "      <td>-31.678680</td>\n",
       "      <td>-38.33282</td>\n",
       "      <td>-30.122560</td>\n",
       "      <td>0.929250</td>\n",
       "      <td>...</td>\n",
       "      <td>263.39370</td>\n",
       "      <td>219.1755</td>\n",
       "      <td>90.31033</td>\n",
       "      <td>364.5702</td>\n",
       "      <td>-18.458120</td>\n",
       "      <td>118.9476</td>\n",
       "      <td>0.0</td>\n",
       "      <td>0.039183</td>\n",
       "      <td>0.0</td>\n",
       "      <td>2</td>\n",
       "    </tr>\n",
       "    <tr>\n",
       "      <th>891.7819</th>\n",
       "      <td>58583.0</td>\n",
       "      <td>left</td>\n",
       "      <td>2.0</td>\n",
       "      <td>-120.50570</td>\n",
       "      <td>263.0826</td>\n",
       "      <td>88.22878</td>\n",
       "      <td>-21.621920</td>\n",
       "      <td>-62.06139</td>\n",
       "      <td>-9.631733</td>\n",
       "      <td>0.933446</td>\n",
       "      <td>...</td>\n",
       "      <td>270.16560</td>\n",
       "      <td>225.3236</td>\n",
       "      <td>100.75550</td>\n",
       "      <td>377.3418</td>\n",
       "      <td>-11.117420</td>\n",
       "      <td>112.1917</td>\n",
       "      <td>0.0</td>\n",
       "      <td>0.070024</td>\n",
       "      <td>0.0</td>\n",
       "      <td>2</td>\n",
       "    </tr>\n",
       "    <tr>\n",
       "      <th>891.8161</th>\n",
       "      <td>58585.0</td>\n",
       "      <td>left</td>\n",
       "      <td>2.0</td>\n",
       "      <td>-121.26820</td>\n",
       "      <td>261.9093</td>\n",
       "      <td>88.43225</td>\n",
       "      <td>-38.911430</td>\n",
       "      <td>-56.67702</td>\n",
       "      <td>15.780990</td>\n",
       "      <td>0.933015</td>\n",
       "      <td>...</td>\n",
       "      <td>272.78680</td>\n",
       "      <td>227.7773</td>\n",
       "      <td>106.85620</td>\n",
       "      <td>384.1153</td>\n",
       "      <td>-6.891727</td>\n",
       "      <td>114.2839</td>\n",
       "      <td>0.0</td>\n",
       "      <td>0.104950</td>\n",
       "      <td>0.0</td>\n",
       "      <td>2</td>\n",
       "    </tr>\n",
       "    <tr>\n",
       "      <th>891.8492</th>\n",
       "      <td>58589.0</td>\n",
       "      <td>left</td>\n",
       "      <td>2.0</td>\n",
       "      <td>-123.13230</td>\n",
       "      <td>257.8682</td>\n",
       "      <td>89.95680</td>\n",
       "      <td>-50.611140</td>\n",
       "      <td>-107.05510</td>\n",
       "      <td>50.929630</td>\n",
       "      <td>0.947517</td>\n",
       "      <td>...</td>\n",
       "      <td>275.74120</td>\n",
       "      <td>230.0791</td>\n",
       "      <td>118.34110</td>\n",
       "      <td>390.4021</td>\n",
       "      <td>-3.014284</td>\n",
       "      <td>112.5219</td>\n",
       "      <td>0.0</td>\n",
       "      <td>0.077156</td>\n",
       "      <td>0.0</td>\n",
       "      <td>2</td>\n",
       "    </tr>\n",
       "  </tbody>\n",
       "</table>\n",
       "<p>29153 rows × 43 columns</p>\n",
       "</div>"
      ],
      "text/plain": [
       "           Frame ID  Hand Type   # hands   Position X   Position Y  \\\n",
       "966.6613   112701.0       left       1.0    -89.46551     282.5517   \n",
       "966.6778   112703.0       left       1.0    -89.09656     278.4751   \n",
       "966.6948   112705.0       left       1.0    -88.56313     274.1503   \n",
       "966.7109   112707.0       left       1.0    -88.37968     270.0990   \n",
       "966.7275   112709.0       left       1.0    -89.64819     267.5950   \n",
       "...             ...        ...       ...          ...          ...   \n",
       "891.7161    58577.0       left       2.0   -119.09390     266.9509   \n",
       "891.7498    58580.0       left       2.0   -119.68230     265.0744   \n",
       "891.7819    58583.0       left       2.0   -120.50570     263.0826   \n",
       "891.8161    58585.0       left       2.0   -121.26820     261.9093   \n",
       "891.8492    58589.0       left       2.0   -123.13230     257.8682   \n",
       "\n",
       "           Position Z   Velocity X   Velocity Y   Velocity Z     Pitch  ...  \\\n",
       "966.6613    104.14670    59.477310   -222.84010   114.072300  2.621086  ...   \n",
       "966.6778    105.77440   -13.318180   -215.47790    72.303980  2.666370  ...   \n",
       "966.6948    106.46620    54.813290   -279.77750    22.959880  2.720711  ...   \n",
       "966.7109    107.01780     8.587542   -235.26190    21.513070  2.800939  ...   \n",
       "966.7275    106.91000   -70.051510   -158.77360   -12.247460  2.951404  ...   \n",
       "...               ...          ...          ...          ...       ...  ...   \n",
       "891.7161     90.19492    20.516860    -54.38897   -79.527550  0.935100  ...   \n",
       "891.7498     88.75297   -31.678680    -38.33282   -30.122560  0.929250  ...   \n",
       "891.7819     88.22878   -21.621920    -62.06139    -9.631733  0.933446  ...   \n",
       "891.8161     88.43225   -38.911430    -56.67702    15.780990  0.933015  ...   \n",
       "891.8492     89.95680   -50.611140   -107.05510    50.929630  0.947517  ...   \n",
       "\n",
       "          Wrist Pos X_r  Wrist Pos Y_r  Wrist Pos Z_r  Elbow pos X_r  \\\n",
       "966.6613       39.77090       197.3047       99.29434       171.1660   \n",
       "966.6778       44.53930       202.0048      101.27940       172.6115   \n",
       "966.6948       48.87646       204.2281      103.38490       173.7377   \n",
       "966.7109       53.62828       206.4552      105.76730       174.1449   \n",
       "966.7275       58.09599       208.3566      108.21800       175.0809   \n",
       "...                 ...            ...            ...            ...   \n",
       "891.7161      259.14380       214.1489       81.66591       357.1292   \n",
       "891.7498      263.39370       219.1755       90.31033       364.5702   \n",
       "891.7819      270.16560       225.3236      100.75550       377.3418   \n",
       "891.8161      272.78680       227.7773      106.85620       384.1153   \n",
       "891.8492      275.74120       230.0791      118.34110       390.4021   \n",
       "\n",
       "          Elbow pos Y_r  Elbow pos Z_r  Grab Strenth_r  Grab Angle_r  \\\n",
       "966.6613      52.266810       287.7588             0.0      0.498644   \n",
       "966.6778      51.288290       287.5629             0.0      0.520795   \n",
       "966.6948      52.089050       290.6891             0.0      0.527123   \n",
       "966.7109      50.322340       292.6303             0.0      0.504663   \n",
       "966.7275      48.865160       294.4880             0.0      0.515524   \n",
       "...                 ...            ...             ...           ...   \n",
       "891.7161     -23.849340       117.5243             0.0      0.000000   \n",
       "891.7498     -18.458120       118.9476             0.0      0.039183   \n",
       "891.7819     -11.117420       112.1917             0.0      0.070024   \n",
       "891.8161      -6.891727       114.2839             0.0      0.104950   \n",
       "891.8492      -3.014284       112.5219             0.0      0.077156   \n",
       "\n",
       "          Pinch Strength_r  type  \n",
       "966.6613               0.0     0  \n",
       "966.6778               0.0     0  \n",
       "966.6948               0.0     0  \n",
       "966.7109               0.0     0  \n",
       "966.7275               0.0     0  \n",
       "...                    ...   ...  \n",
       "891.7161               0.0     2  \n",
       "891.7498               0.0     2  \n",
       "891.7819               0.0     2  \n",
       "891.8161               0.0     2  \n",
       "891.8492               0.0     2  \n",
       "\n",
       "[29153 rows x 43 columns]"
      ]
     },
     "execution_count": 416,
     "metadata": {},
     "output_type": "execute_result"
    }
   ],
   "source": [
    "data_test"
   ]
  },
  {
   "cell_type": "code",
   "execution_count": 417,
   "metadata": {},
   "outputs": [
    {
     "name": "stderr",
     "output_type": "stream",
     "text": [
      "<ipython-input-417-a32d2a800cf0>:2: SettingWithCopyWarning: \n",
      "A value is trying to be set on a copy of a slice from a DataFrame.\n",
      "Try using .loc[row_indexer,col_indexer] = value instead\n",
      "\n",
      "See the caveats in the documentation: https://pandas.pydata.org/pandas-docs/stable/user_guide/indexing.html#returning-a-view-versus-a-copy\n",
      "  data_test[\" Hand Type\"]=0\n",
      "<ipython-input-417-a32d2a800cf0>:3: SettingWithCopyWarning: \n",
      "A value is trying to be set on a copy of a slice from a DataFrame.\n",
      "Try using .loc[row_indexer,col_indexer] = value instead\n",
      "\n",
      "See the caveats in the documentation: https://pandas.pydata.org/pandas-docs/stable/user_guide/indexing.html#returning-a-view-versus-a-copy\n",
      "  data_test[\"Hand Type_r\"]=1\n"
     ]
    },
    {
     "data": {
      "text/html": [
       "<div>\n",
       "<style scoped>\n",
       "    .dataframe tbody tr th:only-of-type {\n",
       "        vertical-align: middle;\n",
       "    }\n",
       "\n",
       "    .dataframe tbody tr th {\n",
       "        vertical-align: top;\n",
       "    }\n",
       "\n",
       "    .dataframe thead th {\n",
       "        text-align: right;\n",
       "    }\n",
       "</style>\n",
       "<table border=\"1\" class=\"dataframe\">\n",
       "  <thead>\n",
       "    <tr style=\"text-align: right;\">\n",
       "      <th></th>\n",
       "      <th>Frame ID</th>\n",
       "      <th>Hand Type</th>\n",
       "      <th>Position X</th>\n",
       "      <th>Position Y</th>\n",
       "      <th>Position Z</th>\n",
       "      <th>Velocity X</th>\n",
       "      <th>Velocity Y</th>\n",
       "      <th>Velocity Z</th>\n",
       "      <th>Pitch</th>\n",
       "      <th>Roll</th>\n",
       "      <th>...</th>\n",
       "      <th>Wrist Pos X_r</th>\n",
       "      <th>Wrist Pos Y_r</th>\n",
       "      <th>Wrist Pos Z_r</th>\n",
       "      <th>Elbow pos X_r</th>\n",
       "      <th>Elbow pos Y_r</th>\n",
       "      <th>Elbow pos Z_r</th>\n",
       "      <th>Grab Strenth_r</th>\n",
       "      <th>Grab Angle_r</th>\n",
       "      <th>Pinch Strength_r</th>\n",
       "      <th>type</th>\n",
       "    </tr>\n",
       "  </thead>\n",
       "  <tbody>\n",
       "    <tr>\n",
       "      <th>966.6613</th>\n",
       "      <td>112701.0</td>\n",
       "      <td>0</td>\n",
       "      <td>-89.46551</td>\n",
       "      <td>282.5517</td>\n",
       "      <td>104.14670</td>\n",
       "      <td>59.477310</td>\n",
       "      <td>-222.84010</td>\n",
       "      <td>114.072300</td>\n",
       "      <td>2.621086</td>\n",
       "      <td>-0.292849</td>\n",
       "      <td>...</td>\n",
       "      <td>39.77090</td>\n",
       "      <td>197.3047</td>\n",
       "      <td>99.29434</td>\n",
       "      <td>171.1660</td>\n",
       "      <td>52.266810</td>\n",
       "      <td>287.7588</td>\n",
       "      <td>0.0</td>\n",
       "      <td>0.498644</td>\n",
       "      <td>0.0</td>\n",
       "      <td>0</td>\n",
       "    </tr>\n",
       "    <tr>\n",
       "      <th>966.6778</th>\n",
       "      <td>112703.0</td>\n",
       "      <td>0</td>\n",
       "      <td>-89.09656</td>\n",
       "      <td>278.4751</td>\n",
       "      <td>105.77440</td>\n",
       "      <td>-13.318180</td>\n",
       "      <td>-215.47790</td>\n",
       "      <td>72.303980</td>\n",
       "      <td>2.666370</td>\n",
       "      <td>-0.231436</td>\n",
       "      <td>...</td>\n",
       "      <td>44.53930</td>\n",
       "      <td>202.0048</td>\n",
       "      <td>101.27940</td>\n",
       "      <td>172.6115</td>\n",
       "      <td>51.288290</td>\n",
       "      <td>287.5629</td>\n",
       "      <td>0.0</td>\n",
       "      <td>0.520795</td>\n",
       "      <td>0.0</td>\n",
       "      <td>0</td>\n",
       "    </tr>\n",
       "    <tr>\n",
       "      <th>966.6948</th>\n",
       "      <td>112705.0</td>\n",
       "      <td>0</td>\n",
       "      <td>-88.56313</td>\n",
       "      <td>274.1503</td>\n",
       "      <td>106.46620</td>\n",
       "      <td>54.813290</td>\n",
       "      <td>-279.77750</td>\n",
       "      <td>22.959880</td>\n",
       "      <td>2.720711</td>\n",
       "      <td>-0.178354</td>\n",
       "      <td>...</td>\n",
       "      <td>48.87646</td>\n",
       "      <td>204.2281</td>\n",
       "      <td>103.38490</td>\n",
       "      <td>173.7377</td>\n",
       "      <td>52.089050</td>\n",
       "      <td>290.6891</td>\n",
       "      <td>0.0</td>\n",
       "      <td>0.527123</td>\n",
       "      <td>0.0</td>\n",
       "      <td>0</td>\n",
       "    </tr>\n",
       "    <tr>\n",
       "      <th>966.7109</th>\n",
       "      <td>112707.0</td>\n",
       "      <td>0</td>\n",
       "      <td>-88.37968</td>\n",
       "      <td>270.0990</td>\n",
       "      <td>107.01780</td>\n",
       "      <td>8.587542</td>\n",
       "      <td>-235.26190</td>\n",
       "      <td>21.513070</td>\n",
       "      <td>2.800939</td>\n",
       "      <td>-0.122899</td>\n",
       "      <td>...</td>\n",
       "      <td>53.62828</td>\n",
       "      <td>206.4552</td>\n",
       "      <td>105.76730</td>\n",
       "      <td>174.1449</td>\n",
       "      <td>50.322340</td>\n",
       "      <td>292.6303</td>\n",
       "      <td>0.0</td>\n",
       "      <td>0.504663</td>\n",
       "      <td>0.0</td>\n",
       "      <td>0</td>\n",
       "    </tr>\n",
       "    <tr>\n",
       "      <th>966.7275</th>\n",
       "      <td>112709.0</td>\n",
       "      <td>0</td>\n",
       "      <td>-89.64819</td>\n",
       "      <td>267.5950</td>\n",
       "      <td>106.91000</td>\n",
       "      <td>-70.051510</td>\n",
       "      <td>-158.77360</td>\n",
       "      <td>-12.247460</td>\n",
       "      <td>2.951404</td>\n",
       "      <td>-0.102620</td>\n",
       "      <td>...</td>\n",
       "      <td>58.09599</td>\n",
       "      <td>208.3566</td>\n",
       "      <td>108.21800</td>\n",
       "      <td>175.0809</td>\n",
       "      <td>48.865160</td>\n",
       "      <td>294.4880</td>\n",
       "      <td>0.0</td>\n",
       "      <td>0.515524</td>\n",
       "      <td>0.0</td>\n",
       "      <td>0</td>\n",
       "    </tr>\n",
       "    <tr>\n",
       "      <th>...</th>\n",
       "      <td>...</td>\n",
       "      <td>...</td>\n",
       "      <td>...</td>\n",
       "      <td>...</td>\n",
       "      <td>...</td>\n",
       "      <td>...</td>\n",
       "      <td>...</td>\n",
       "      <td>...</td>\n",
       "      <td>...</td>\n",
       "      <td>...</td>\n",
       "      <td>...</td>\n",
       "      <td>...</td>\n",
       "      <td>...</td>\n",
       "      <td>...</td>\n",
       "      <td>...</td>\n",
       "      <td>...</td>\n",
       "      <td>...</td>\n",
       "      <td>...</td>\n",
       "      <td>...</td>\n",
       "      <td>...</td>\n",
       "      <td>...</td>\n",
       "    </tr>\n",
       "    <tr>\n",
       "      <th>891.7161</th>\n",
       "      <td>58577.0</td>\n",
       "      <td>0</td>\n",
       "      <td>-119.09390</td>\n",
       "      <td>266.9509</td>\n",
       "      <td>90.19492</td>\n",
       "      <td>20.516860</td>\n",
       "      <td>-54.38897</td>\n",
       "      <td>-79.527550</td>\n",
       "      <td>0.935100</td>\n",
       "      <td>0.581712</td>\n",
       "      <td>...</td>\n",
       "      <td>259.14380</td>\n",
       "      <td>214.1489</td>\n",
       "      <td>81.66591</td>\n",
       "      <td>357.1292</td>\n",
       "      <td>-23.849340</td>\n",
       "      <td>117.5243</td>\n",
       "      <td>0.0</td>\n",
       "      <td>0.000000</td>\n",
       "      <td>0.0</td>\n",
       "      <td>2</td>\n",
       "    </tr>\n",
       "    <tr>\n",
       "      <th>891.7498</th>\n",
       "      <td>58580.0</td>\n",
       "      <td>0</td>\n",
       "      <td>-119.68230</td>\n",
       "      <td>265.0744</td>\n",
       "      <td>88.75297</td>\n",
       "      <td>-31.678680</td>\n",
       "      <td>-38.33282</td>\n",
       "      <td>-30.122560</td>\n",
       "      <td>0.929250</td>\n",
       "      <td>0.578519</td>\n",
       "      <td>...</td>\n",
       "      <td>263.39370</td>\n",
       "      <td>219.1755</td>\n",
       "      <td>90.31033</td>\n",
       "      <td>364.5702</td>\n",
       "      <td>-18.458120</td>\n",
       "      <td>118.9476</td>\n",
       "      <td>0.0</td>\n",
       "      <td>0.039183</td>\n",
       "      <td>0.0</td>\n",
       "      <td>2</td>\n",
       "    </tr>\n",
       "    <tr>\n",
       "      <th>891.7819</th>\n",
       "      <td>58583.0</td>\n",
       "      <td>0</td>\n",
       "      <td>-120.50570</td>\n",
       "      <td>263.0826</td>\n",
       "      <td>88.22878</td>\n",
       "      <td>-21.621920</td>\n",
       "      <td>-62.06139</td>\n",
       "      <td>-9.631733</td>\n",
       "      <td>0.933446</td>\n",
       "      <td>0.582374</td>\n",
       "      <td>...</td>\n",
       "      <td>270.16560</td>\n",
       "      <td>225.3236</td>\n",
       "      <td>100.75550</td>\n",
       "      <td>377.3418</td>\n",
       "      <td>-11.117420</td>\n",
       "      <td>112.1917</td>\n",
       "      <td>0.0</td>\n",
       "      <td>0.070024</td>\n",
       "      <td>0.0</td>\n",
       "      <td>2</td>\n",
       "    </tr>\n",
       "    <tr>\n",
       "      <th>891.8161</th>\n",
       "      <td>58585.0</td>\n",
       "      <td>0</td>\n",
       "      <td>-121.26820</td>\n",
       "      <td>261.9093</td>\n",
       "      <td>88.43225</td>\n",
       "      <td>-38.911430</td>\n",
       "      <td>-56.67702</td>\n",
       "      <td>15.780990</td>\n",
       "      <td>0.933015</td>\n",
       "      <td>0.586312</td>\n",
       "      <td>...</td>\n",
       "      <td>272.78680</td>\n",
       "      <td>227.7773</td>\n",
       "      <td>106.85620</td>\n",
       "      <td>384.1153</td>\n",
       "      <td>-6.891727</td>\n",
       "      <td>114.2839</td>\n",
       "      <td>0.0</td>\n",
       "      <td>0.104950</td>\n",
       "      <td>0.0</td>\n",
       "      <td>2</td>\n",
       "    </tr>\n",
       "    <tr>\n",
       "      <th>891.8492</th>\n",
       "      <td>58589.0</td>\n",
       "      <td>0</td>\n",
       "      <td>-123.13230</td>\n",
       "      <td>257.8682</td>\n",
       "      <td>89.95680</td>\n",
       "      <td>-50.611140</td>\n",
       "      <td>-107.05510</td>\n",
       "      <td>50.929630</td>\n",
       "      <td>0.947517</td>\n",
       "      <td>0.600099</td>\n",
       "      <td>...</td>\n",
       "      <td>275.74120</td>\n",
       "      <td>230.0791</td>\n",
       "      <td>118.34110</td>\n",
       "      <td>390.4021</td>\n",
       "      <td>-3.014284</td>\n",
       "      <td>112.5219</td>\n",
       "      <td>0.0</td>\n",
       "      <td>0.077156</td>\n",
       "      <td>0.0</td>\n",
       "      <td>2</td>\n",
       "    </tr>\n",
       "  </tbody>\n",
       "</table>\n",
       "<p>29153 rows × 42 columns</p>\n",
       "</div>"
      ],
      "text/plain": [
       "           Frame ID   Hand Type   Position X   Position Y   Position Z  \\\n",
       "966.6613   112701.0           0    -89.46551     282.5517    104.14670   \n",
       "966.6778   112703.0           0    -89.09656     278.4751    105.77440   \n",
       "966.6948   112705.0           0    -88.56313     274.1503    106.46620   \n",
       "966.7109   112707.0           0    -88.37968     270.0990    107.01780   \n",
       "966.7275   112709.0           0    -89.64819     267.5950    106.91000   \n",
       "...             ...         ...          ...          ...          ...   \n",
       "891.7161    58577.0           0   -119.09390     266.9509     90.19492   \n",
       "891.7498    58580.0           0   -119.68230     265.0744     88.75297   \n",
       "891.7819    58583.0           0   -120.50570     263.0826     88.22878   \n",
       "891.8161    58585.0           0   -121.26820     261.9093     88.43225   \n",
       "891.8492    58589.0           0   -123.13230     257.8682     89.95680   \n",
       "\n",
       "           Velocity X   Velocity Y   Velocity Z     Pitch      Roll  ...  \\\n",
       "966.6613    59.477310   -222.84010   114.072300  2.621086 -0.292849  ...   \n",
       "966.6778   -13.318180   -215.47790    72.303980  2.666370 -0.231436  ...   \n",
       "966.6948    54.813290   -279.77750    22.959880  2.720711 -0.178354  ...   \n",
       "966.7109     8.587542   -235.26190    21.513070  2.800939 -0.122899  ...   \n",
       "966.7275   -70.051510   -158.77360   -12.247460  2.951404 -0.102620  ...   \n",
       "...               ...          ...          ...       ...       ...  ...   \n",
       "891.7161    20.516860    -54.38897   -79.527550  0.935100  0.581712  ...   \n",
       "891.7498   -31.678680    -38.33282   -30.122560  0.929250  0.578519  ...   \n",
       "891.7819   -21.621920    -62.06139    -9.631733  0.933446  0.582374  ...   \n",
       "891.8161   -38.911430    -56.67702    15.780990  0.933015  0.586312  ...   \n",
       "891.8492   -50.611140   -107.05510    50.929630  0.947517  0.600099  ...   \n",
       "\n",
       "          Wrist Pos X_r  Wrist Pos Y_r  Wrist Pos Z_r  Elbow pos X_r  \\\n",
       "966.6613       39.77090       197.3047       99.29434       171.1660   \n",
       "966.6778       44.53930       202.0048      101.27940       172.6115   \n",
       "966.6948       48.87646       204.2281      103.38490       173.7377   \n",
       "966.7109       53.62828       206.4552      105.76730       174.1449   \n",
       "966.7275       58.09599       208.3566      108.21800       175.0809   \n",
       "...                 ...            ...            ...            ...   \n",
       "891.7161      259.14380       214.1489       81.66591       357.1292   \n",
       "891.7498      263.39370       219.1755       90.31033       364.5702   \n",
       "891.7819      270.16560       225.3236      100.75550       377.3418   \n",
       "891.8161      272.78680       227.7773      106.85620       384.1153   \n",
       "891.8492      275.74120       230.0791      118.34110       390.4021   \n",
       "\n",
       "          Elbow pos Y_r  Elbow pos Z_r  Grab Strenth_r  Grab Angle_r  \\\n",
       "966.6613      52.266810       287.7588             0.0      0.498644   \n",
       "966.6778      51.288290       287.5629             0.0      0.520795   \n",
       "966.6948      52.089050       290.6891             0.0      0.527123   \n",
       "966.7109      50.322340       292.6303             0.0      0.504663   \n",
       "966.7275      48.865160       294.4880             0.0      0.515524   \n",
       "...                 ...            ...             ...           ...   \n",
       "891.7161     -23.849340       117.5243             0.0      0.000000   \n",
       "891.7498     -18.458120       118.9476             0.0      0.039183   \n",
       "891.7819     -11.117420       112.1917             0.0      0.070024   \n",
       "891.8161      -6.891727       114.2839             0.0      0.104950   \n",
       "891.8492      -3.014284       112.5219             0.0      0.077156   \n",
       "\n",
       "          Pinch Strength_r  type  \n",
       "966.6613               0.0     0  \n",
       "966.6778               0.0     0  \n",
       "966.6948               0.0     0  \n",
       "966.7109               0.0     0  \n",
       "966.7275               0.0     0  \n",
       "...                    ...   ...  \n",
       "891.7161               0.0     2  \n",
       "891.7498               0.0     2  \n",
       "891.7819               0.0     2  \n",
       "891.8161               0.0     2  \n",
       "891.8492               0.0     2  \n",
       "\n",
       "[29153 rows x 42 columns]"
      ]
     },
     "execution_count": 417,
     "metadata": {},
     "output_type": "execute_result"
    }
   ],
   "source": [
    "data_test=data_test.drop([' # hands'],axis=1)\n",
    "data_test[\" Hand Type\"]=0\n",
    "data_test[\"Hand Type_r\"]=1\n",
    "data_test"
   ]
  },
  {
   "cell_type": "code",
   "execution_count": 418,
   "metadata": {},
   "outputs": [
    {
     "name": "stdout",
     "output_type": "stream",
     "text": [
      "<class 'pandas.core.frame.DataFrame'>\n",
      "Float64Index: 29153 entries, 966.6613 to 891.8492\n",
      "Data columns (total 42 columns):\n",
      " #   Column            Non-Null Count  Dtype  \n",
      "---  ------            --------------  -----  \n",
      " 0    Frame ID         29153 non-null  float64\n",
      " 1    Hand Type        29153 non-null  int64  \n",
      " 2    Position X       29153 non-null  float64\n",
      " 3    Position Y       29153 non-null  float64\n",
      " 4    Position Z       29153 non-null  float64\n",
      " 5    Velocity X       29153 non-null  float64\n",
      " 6    Velocity Y       29153 non-null  float64\n",
      " 7    Velocity Z       29153 non-null  float64\n",
      " 8    Pitch            29153 non-null  float64\n",
      " 9    Roll             29153 non-null  float64\n",
      " 10   Yaw              29153 non-null  float64\n",
      " 11   Wrist Pos X      29153 non-null  float64\n",
      " 12   Wrist Pos Y      29153 non-null  float64\n",
      " 13   Wrist Pos Z      29153 non-null  float64\n",
      " 14   Elbow pos X      29153 non-null  float64\n",
      " 15   Elbow Pos Y      29153 non-null  float64\n",
      " 16   Elbow Pos Z      29153 non-null  float64\n",
      " 17   Grab Strenth     29153 non-null  float64\n",
      " 18   Grab Angle       29153 non-null  float64\n",
      " 19   Pinch Strength   29153 non-null  float64\n",
      " 20  Frame ID_r        29153 non-null  float64\n",
      " 21  Hand Type_r       29153 non-null  int64  \n",
      " 22  Position X_r      29153 non-null  float64\n",
      " 23  Position Y_r      29153 non-null  float64\n",
      " 24  Position Z_r      29153 non-null  float64\n",
      " 25  Velocity X_r      29153 non-null  float64\n",
      " 26  Velocity y_r      29153 non-null  float64\n",
      " 27  Velocity Z_r      29153 non-null  float64\n",
      " 28  Pitch_r           29153 non-null  float64\n",
      " 29  Roll_r            29153 non-null  float64\n",
      " 30  Yaw_r             29153 non-null  float64\n",
      " 31  Wrist Pos X_r     29153 non-null  float64\n",
      " 32  Wrist Pos X_r     29153 non-null  float64\n",
      " 33  Wrist Pos Y_r     29153 non-null  float64\n",
      " 34  Wrist Pos Z_r     29153 non-null  float64\n",
      " 35  Elbow pos X_r     29153 non-null  float64\n",
      " 36  Elbow pos Y_r     29153 non-null  float64\n",
      " 37  Elbow pos Z_r     29153 non-null  float64\n",
      " 38  Grab Strenth_r    29153 non-null  float64\n",
      " 39  Grab Angle_r      29153 non-null  float64\n",
      " 40  Pinch Strength_r  29153 non-null  float64\n",
      " 41  type              29153 non-null  int64  \n",
      "dtypes: float64(39), int64(3)\n",
      "memory usage: 9.6 MB\n"
     ]
    }
   ],
   "source": [
    "data_test.info()"
   ]
  },
  {
   "cell_type": "code",
   "execution_count": 421,
   "metadata": {},
   "outputs": [],
   "source": [
    "data_test=np.array(data_test,dtype='float32')\n",
    "data_test_x=data_test[:,0:41]\n",
    "data_test_y=data_test[:,41]"
   ]
  },
  {
   "cell_type": "code",
   "execution_count": 447,
   "metadata": {},
   "outputs": [
    {
     "data": {
      "text/plain": [
       "0.6724522347614311"
      ]
     },
     "execution_count": 447,
     "metadata": {},
     "output_type": "execute_result"
    }
   ],
   "source": [
    "y_pred_knn1_test=knn1.predict(data_test_x)\n",
    "accuracy_knn1_test=metrics.accuracy_score(data_test_y,y_pred_knn1_test)\n",
    "accuracy_knn1_test"
   ]
  },
  {
   "cell_type": "code",
   "execution_count": 448,
   "metadata": {},
   "outputs": [
    {
     "data": {
      "image/png": "[encoded data removed]",
      "text/plain": [
       "<Figure size 288x216 with 2 Axes>"
      ]
     },
     "metadata": {
      "needs_background": "light"
     },
     "output_type": "display_data"
    }
   ],
   "source": [
    "mat_knn1_test=confusion_matrix(data_test_y,y_pred_knn1_test)\n",
    "confussion_matrix(mat_knn1_test)"
   ]
  },
  {
   "cell_type": "code",
   "execution_count": 449,
   "metadata": {},
   "outputs": [
    {
     "name": "stdout",
     "output_type": "stream",
     "text": [
      "precision_score_knn: 0.6724337674424334\n",
      "recall_score_knn: 0.6724522347614311\n",
      "f1_score_knn: 0.6724394512202873\n"
     ]
    }
   ],
   "source": [
    "print(\"precision_score_knn:\",precision_score(data_test_y, y_pred_knn1_test,average='weighted')) \n",
    "print(\"recall_score_knn:\",recall_score(data_test_y, y_pred_knn1_test,average='weighted'))\n",
    "print(\"f1_score_knn:\",f1_score(data_test_y, y_pred_knn1_test,average='weighted'))"
   ]
  },
  {
   "cell_type": "code",
   "execution_count": null,
   "metadata": {},
   "outputs": [],
   "source": []
  },
  {
   "cell_type": "code",
   "execution_count": 457,
   "metadata": {},
   "outputs": [
    {
     "data": {
      "text/plain": [
       "0.6741673241175865"
      ]
     },
     "execution_count": 457,
     "metadata": {},
     "output_type": "execute_result"
    }
   ],
   "source": [
    "y_pred_knn2_test=knn2.predict(data_test_x)\n",
    "accuracy_knn2_test=metrics.accuracy_score(data_test_y,y_pred_knn2_test)\n",
    "accuracy_knn2_test"
   ]
  },
  {
   "cell_type": "code",
   "execution_count": 458,
   "metadata": {},
   "outputs": [
    {
     "data": {
      "image/png": "[encoded data removed]",
      "text/plain": [
       "<Figure size 288x216 with 2 Axes>"
      ]
     },
     "metadata": {
      "needs_background": "light"
     },
     "output_type": "display_data"
    }
   ],
   "source": [
    "mat_knn2_test=confusion_matrix(data_test_y,y_pred_knn2_test)\n",
    "confussion_matrix(mat_knn2_test)"
   ]
  },
  {
   "cell_type": "code",
   "execution_count": 459,
   "metadata": {},
   "outputs": [
    {
     "name": "stdout",
     "output_type": "stream",
     "text": [
      "precision_score_knn: 0.6741719616095256\n",
      "recall_score_knn: 0.6741673241175865\n",
      "f1_score_knn: 0.6741693828331805\n"
     ]
    }
   ],
   "source": [
    "print(\"precision_score_knn:\",precision_score(data_test_y, y_pred_knn2_test,average='weighted')) \n",
    "print(\"recall_score_knn:\",recall_score(data_test_y, y_pred_knn2_test,average='weighted'))\n",
    "print(\"f1_score_knn:\",f1_score(data_test_y, y_pred_knn2_test,average='weighted'))"
   ]
  },
  {
   "cell_type": "code",
   "execution_count": null,
   "metadata": {},
   "outputs": [],
   "source": []
  },
  {
   "cell_type": "code",
   "execution_count": 427,
   "metadata": {},
   "outputs": [
    {
     "data": {
      "text/plain": [
       "0.7102528041710973"
      ]
     },
     "execution_count": 427,
     "metadata": {},
     "output_type": "execute_result"
    }
   ],
   "source": [
    "y_pred_xg1_test=XG1.predict(data_test_x)\n",
    "accuracy_xg1_test=metrics.accuracy_score(data_test_y,y_pred_xg1_test)\n",
    "accuracy_xg1_test"
   ]
  },
  {
   "cell_type": "code",
   "execution_count": 428,
   "metadata": {},
   "outputs": [
    {
     "data": {
      "image/png": "[encoded data removed]",
      "text/plain": [
       "<Figure size 288x216 with 2 Axes>"
      ]
     },
     "metadata": {
      "needs_background": "light"
     },
     "output_type": "display_data"
    }
   ],
   "source": [
    "mat_xg1_test=confusion_matrix(data_test_y,y_pred_xg1_test)\n",
    "confussion_matrix(mat_xg1_test)"
   ]
  },
  {
   "cell_type": "code",
   "execution_count": 430,
   "metadata": {},
   "outputs": [
    {
     "name": "stdout",
     "output_type": "stream",
     "text": [
      "precision_score_xg: 0.7101922373932142\n",
      "recall_score_xg: 0.7102528041710973\n",
      "f1_score_xg: 0.7097245060835766\n"
     ]
    }
   ],
   "source": [
    "print(\"precision_score_xg:\",precision_score(data_test_y, y_pred_xg1_test,average='weighted')) \n",
    "print(\"recall_score_xg:\",recall_score(data_test_y, y_pred_xg1_test,average='weighted'))\n",
    "print(\"f1_score_xg:\",f1_score(data_test_y, y_pred_xg1_test,average='weighted'))"
   ]
  },
  {
   "cell_type": "code",
   "execution_count": null,
   "metadata": {},
   "outputs": [],
   "source": []
  },
  {
   "cell_type": "code",
   "execution_count": 431,
   "metadata": {},
   "outputs": [
    {
     "data": {
      "text/plain": [
       "0.71646142764038"
      ]
     },
     "execution_count": 431,
     "metadata": {},
     "output_type": "execute_result"
    }
   ],
   "source": [
    "y_pred_forest1_test=forest1.predict(data_test_x)\n",
    "accuracy_forest1_test=metrics.accuracy_score(data_test_y,y_pred_forest1_test)\n",
    "accuracy_forest1_test"
   ]
  },
  {
   "cell_type": "code",
   "execution_count": 432,
   "metadata": {},
   "outputs": [
    {
     "data": {
      "image/png": "[encoded data removed]",
      "text/plain": [
       "<Figure size 288x216 with 2 Axes>"
      ]
     },
     "metadata": {
      "needs_background": "light"
     },
     "output_type": "display_data"
    }
   ],
   "source": [
    "mat_forest1_test=confusion_matrix(data_test_y,y_pred_forest1_test)\n",
    "confussion_matrix(mat_forest1_test)"
   ]
  },
  {
   "cell_type": "code",
   "execution_count": 433,
   "metadata": {},
   "outputs": [
    {
     "name": "stdout",
     "output_type": "stream",
     "text": [
      "precision_score_forest: 0.7164590166298529\n",
      "recall_score_forest: 0.71646142764038\n",
      "f1_score_forest: 0.7158346801711613\n"
     ]
    }
   ],
   "source": [
    "print(\"precision_score_forest:\",precision_score(data_test_y, y_pred_forest1_test,average='weighted')) \n",
    "print(\"recall_score_forest:\",recall_score(data_test_y, y_pred_forest1_test,average='weighted'))\n",
    "print(\"f1_score_forest:\",f1_score(data_test_y, y_pred_forest1_test,average='weighted'))"
   ]
  },
  {
   "cell_type": "code",
   "execution_count": null,
   "metadata": {},
   "outputs": [],
   "source": []
  }
 ],
 "metadata": {
  "kernelspec": {
   "display_name": "Python 3",
   "language": "python",
   "name": "python3"
  },
  "language_info": {
   "codemirror_mode": {
    "name": "ipython",
    "version": 3
   },
   "file_extension": ".py",
   "mimetype": "text/x-python",
   "name": "python",
   "nbconvert_exporter": "python",
   "pygments_lexer": "ipython3",
   "version": "3.8.3"
  }
 },
 "nbformat": 4,
 "nbformat_minor": 4
}

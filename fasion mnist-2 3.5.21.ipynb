{
 "cells": [
  {
   "cell_type": "markdown",
   "metadata": {},
   "source": [
    "data science end of year project part 2\n",
    "Fasion mnist-2 3.8.21"
   ]
  },
  {
   "cell_type": "code",
   "execution_count": 1,
   "metadata": {},
   "outputs": [],
   "source": [
    "# all imports that i wuill need\n",
    "import numpy as np\n",
    "import pandas as pd\n",
    "import matplotlib.pyplot as plt\n",
    "from sklearn.model_selection import train_test_split\n",
    "from sklearn.decomposition import PCA\n",
    "import warnings\n",
    "warnings.filterwarnings(action='ignore', category=UserWarning)\n",
    "from sklearn.model_selection import cross_val_score # didnt use\n",
    "from sklearn.model_selection import cross_val_predict  # didnt use\n",
    "from sklearn.metrics import confusion_matrix\n",
    "from sklearn.metrics import precision_score, recall_score \n",
    "from sklearn.metrics import f1_score  \n",
    "from sklearn.metrics import accuracy_score\n",
    "from sklearn import metrics\n",
    "from sklearn.neighbors import KNeighborsClassifier\n",
    "from xgboost import XGBClassifier\n",
    "from sklearn.ensemble import VotingClassifier"
   ]
  },
  {
   "cell_type": "code",
   "execution_count": 2,
   "metadata": {},
   "outputs": [],
   "source": [
    "# importing the data set\n",
    "training_set=pd.read_csv(r\"C:\\Users\\nechd\\Documents\\Yehudit docs\\אוניברסיטת אריאל\\שנה א סמסטר ב\\הדמיית נתונים\\מטלת גמר\\fasion mnist\\fashion-mnist_train.csv\")\n",
    "testing_set_dont_touch=pd.read_csv(r\"C:\\Users\\nechd\\Documents\\Yehudit docs\\אוניברסיטת אריאל\\שנה א סמסטר ב\\הדמיית נתונים\\מטלת גמר\\fasion mnist\\fashion-mnist_test.csv\")"
   ]
  },
  {
   "cell_type": "code",
   "execution_count": 3,
   "metadata": {},
   "outputs": [
    {
     "data": {
      "text/html": [
       "<div>\n",
       "<style scoped>\n",
       "    .dataframe tbody tr th:only-of-type {\n",
       "        vertical-align: middle;\n",
       "    }\n",
       "\n",
       "    .dataframe tbody tr th {\n",
       "        vertical-align: top;\n",
       "    }\n",
       "\n",
       "    .dataframe thead th {\n",
       "        text-align: right;\n",
       "    }\n",
       "</style>\n",
       "<table border=\"1\" class=\"dataframe\">\n",
       "  <thead>\n",
       "    <tr style=\"text-align: right;\">\n",
       "      <th></th>\n",
       "      <th>label</th>\n",
       "      <th>pixel1</th>\n",
       "      <th>pixel2</th>\n",
       "      <th>pixel3</th>\n",
       "      <th>pixel4</th>\n",
       "      <th>pixel5</th>\n",
       "      <th>pixel6</th>\n",
       "      <th>pixel7</th>\n",
       "      <th>pixel8</th>\n",
       "      <th>pixel9</th>\n",
       "      <th>...</th>\n",
       "      <th>pixel775</th>\n",
       "      <th>pixel776</th>\n",
       "      <th>pixel777</th>\n",
       "      <th>pixel778</th>\n",
       "      <th>pixel779</th>\n",
       "      <th>pixel780</th>\n",
       "      <th>pixel781</th>\n",
       "      <th>pixel782</th>\n",
       "      <th>pixel783</th>\n",
       "      <th>pixel784</th>\n",
       "    </tr>\n",
       "  </thead>\n",
       "  <tbody>\n",
       "    <tr>\n",
       "      <th>0</th>\n",
       "      <td>2</td>\n",
       "      <td>0</td>\n",
       "      <td>0</td>\n",
       "      <td>0</td>\n",
       "      <td>0</td>\n",
       "      <td>0</td>\n",
       "      <td>0</td>\n",
       "      <td>0</td>\n",
       "      <td>0</td>\n",
       "      <td>0</td>\n",
       "      <td>...</td>\n",
       "      <td>0</td>\n",
       "      <td>0</td>\n",
       "      <td>0</td>\n",
       "      <td>0</td>\n",
       "      <td>0</td>\n",
       "      <td>0</td>\n",
       "      <td>0</td>\n",
       "      <td>0</td>\n",
       "      <td>0</td>\n",
       "      <td>0</td>\n",
       "    </tr>\n",
       "    <tr>\n",
       "      <th>1</th>\n",
       "      <td>9</td>\n",
       "      <td>0</td>\n",
       "      <td>0</td>\n",
       "      <td>0</td>\n",
       "      <td>0</td>\n",
       "      <td>0</td>\n",
       "      <td>0</td>\n",
       "      <td>0</td>\n",
       "      <td>0</td>\n",
       "      <td>0</td>\n",
       "      <td>...</td>\n",
       "      <td>0</td>\n",
       "      <td>0</td>\n",
       "      <td>0</td>\n",
       "      <td>0</td>\n",
       "      <td>0</td>\n",
       "      <td>0</td>\n",
       "      <td>0</td>\n",
       "      <td>0</td>\n",
       "      <td>0</td>\n",
       "      <td>0</td>\n",
       "    </tr>\n",
       "    <tr>\n",
       "      <th>2</th>\n",
       "      <td>6</td>\n",
       "      <td>0</td>\n",
       "      <td>0</td>\n",
       "      <td>0</td>\n",
       "      <td>0</td>\n",
       "      <td>0</td>\n",
       "      <td>0</td>\n",
       "      <td>0</td>\n",
       "      <td>5</td>\n",
       "      <td>0</td>\n",
       "      <td>...</td>\n",
       "      <td>0</td>\n",
       "      <td>0</td>\n",
       "      <td>0</td>\n",
       "      <td>30</td>\n",
       "      <td>43</td>\n",
       "      <td>0</td>\n",
       "      <td>0</td>\n",
       "      <td>0</td>\n",
       "      <td>0</td>\n",
       "      <td>0</td>\n",
       "    </tr>\n",
       "    <tr>\n",
       "      <th>3</th>\n",
       "      <td>0</td>\n",
       "      <td>0</td>\n",
       "      <td>0</td>\n",
       "      <td>0</td>\n",
       "      <td>1</td>\n",
       "      <td>2</td>\n",
       "      <td>0</td>\n",
       "      <td>0</td>\n",
       "      <td>0</td>\n",
       "      <td>0</td>\n",
       "      <td>...</td>\n",
       "      <td>3</td>\n",
       "      <td>0</td>\n",
       "      <td>0</td>\n",
       "      <td>0</td>\n",
       "      <td>0</td>\n",
       "      <td>1</td>\n",
       "      <td>0</td>\n",
       "      <td>0</td>\n",
       "      <td>0</td>\n",
       "      <td>0</td>\n",
       "    </tr>\n",
       "    <tr>\n",
       "      <th>4</th>\n",
       "      <td>3</td>\n",
       "      <td>0</td>\n",
       "      <td>0</td>\n",
       "      <td>0</td>\n",
       "      <td>0</td>\n",
       "      <td>0</td>\n",
       "      <td>0</td>\n",
       "      <td>0</td>\n",
       "      <td>0</td>\n",
       "      <td>0</td>\n",
       "      <td>...</td>\n",
       "      <td>0</td>\n",
       "      <td>0</td>\n",
       "      <td>0</td>\n",
       "      <td>0</td>\n",
       "      <td>0</td>\n",
       "      <td>0</td>\n",
       "      <td>0</td>\n",
       "      <td>0</td>\n",
       "      <td>0</td>\n",
       "      <td>0</td>\n",
       "    </tr>\n",
       "  </tbody>\n",
       "</table>\n",
       "<p>5 rows × 785 columns</p>\n",
       "</div>"
      ],
      "text/plain": [
       "   label  pixel1  pixel2  pixel3  pixel4  pixel5  pixel6  pixel7  pixel8  \\\n",
       "0      2       0       0       0       0       0       0       0       0   \n",
       "1      9       0       0       0       0       0       0       0       0   \n",
       "2      6       0       0       0       0       0       0       0       5   \n",
       "3      0       0       0       0       1       2       0       0       0   \n",
       "4      3       0       0       0       0       0       0       0       0   \n",
       "\n",
       "   pixel9  ...  pixel775  pixel776  pixel777  pixel778  pixel779  pixel780  \\\n",
       "0       0  ...         0         0         0         0         0         0   \n",
       "1       0  ...         0         0         0         0         0         0   \n",
       "2       0  ...         0         0         0        30        43         0   \n",
       "3       0  ...         3         0         0         0         0         1   \n",
       "4       0  ...         0         0         0         0         0         0   \n",
       "\n",
       "   pixel781  pixel782  pixel783  pixel784  \n",
       "0         0         0         0         0  \n",
       "1         0         0         0         0  \n",
       "2         0         0         0         0  \n",
       "3         0         0         0         0  \n",
       "4         0         0         0         0  \n",
       "\n",
       "[5 rows x 785 columns]"
      ]
     },
     "execution_count": 3,
     "metadata": {},
     "output_type": "execute_result"
    }
   ],
   "source": [
    "training_set.head()"
   ]
  },
  {
   "cell_type": "code",
   "execution_count": 4,
   "metadata": {},
   "outputs": [],
   "source": [
    "# spliting the training set so that i can train and test the models\n",
    "train_set, test_set = train_test_split(training_set, test_size=0.2, random_state=42)"
   ]
  },
  {
   "cell_type": "code",
   "execution_count": 5,
   "metadata": {},
   "outputs": [],
   "source": [
    "# changing the the data into a numpy array wuth the data type  being float 32, so tha i cab see the pictures\n",
    "\n",
    "train_set=np.array(train_set,dtype='float32')\n",
    "test_set=np.array(test_set,dtype='float32')\n",
    "\n",
    "# dividing the data intu x,y groups.\n",
    "# x is all the features\n",
    "# y is the classification\n",
    "\n",
    "x_train_set=train_set[:, 1:]\n",
    "y_train_set=train_set[:, 0]\n",
    "x_test_set=test_set[:, 1:]\n",
    "y_test_set=test_set[:, 0]\n",
    "\n",
    "\n",
    "testing_set_dont_touch=np.array(testing_set_dont_touch,dtype='float32')\n",
    "\n",
    "x_testing_set_dont_touch=testing_set_dont_touch[:, 1:]\n",
    "y_testing_set_dont_touch=testing_set_dont_touch[:, 0]"
   ]
  },
  {
   "cell_type": "code",
   "execution_count": 6,
   "metadata": {},
   "outputs": [
    {
     "data": {
      "text/plain": [
       "array([[0., 0., 0., ..., 0., 0., 0.],\n",
       "       [0., 0., 0., ..., 0., 0., 0.],\n",
       "       [0., 0., 0., ..., 0., 0., 0.],\n",
       "       ...,\n",
       "       [0., 0., 0., ..., 0., 0., 0.],\n",
       "       [0., 0., 0., ..., 0., 0., 0.],\n",
       "       [0., 0., 0., ..., 1., 0., 0.]], dtype=float32)"
      ]
     },
     "execution_count": 6,
     "metadata": {},
     "output_type": "execute_result"
    }
   ],
   "source": [
    "x_train_set"
   ]
  },
  {
   "cell_type": "code",
   "execution_count": 7,
   "metadata": {},
   "outputs": [
    {
     "data": {
      "text/plain": [
       "<matplotlib.image.AxesImage at 0x1c48ab7f1f0>"
      ]
     },
     "execution_count": 7,
     "metadata": {},
     "output_type": "execute_result"
    },
    {
     "data": {
      "image/png": "[encoded data removed]",
      "text/plain": [
       "<Figure size 432x288 with 1 Axes>"
      ]
     },
     "metadata": {
      "needs_background": "light"
     },
     "output_type": "display_data"
    }
   ],
   "source": [
    "image1=x_train_set[1, :].reshape((28,28))\n",
    "plt.imshow(image1)"
   ]
  },
  {
   "cell_type": "code",
   "execution_count": 8,
   "metadata": {},
   "outputs": [],
   "source": [
    "# pca lowers the amount of featues,\n",
    "# here we are making are data set containe the features that represnt 90% of the varience."
   ]
  },
  {
   "cell_type": "code",
   "execution_count": 9,
   "metadata": {},
   "outputs": [],
   "source": [
    "pca=PCA(n_components=0.9)\n",
    "x_train_reduced=pca.fit_transform(x_train_set)\n",
    "x_train_recovered=pca.inverse_transform(x_train_reduced)"
   ]
  },
  {
   "cell_type": "code",
   "execution_count": 10,
   "metadata": {},
   "outputs": [
    {
     "data": {
      "text/plain": [
       "<matplotlib.image.AxesImage at 0x1c48a96dc40>"
      ]
     },
     "execution_count": 10,
     "metadata": {},
     "output_type": "execute_result"
    },
    {
     "data": {
      "image/png": "[encoded data removed]",
      "text/plain": [
       "<Figure size 432x288 with 1 Axes>"
      ]
     },
     "metadata": {
      "needs_background": "light"
     },
     "output_type": "display_data"
    }
   ],
   "source": [
    "image1=x_train_recovered[1, :].reshape((28,28))\n",
    "plt.imshow(image1)"
   ]
  },
  {
   "cell_type": "code",
   "execution_count": null,
   "metadata": {},
   "outputs": [],
   "source": []
  },
  {
   "cell_type": "code",
   "execution_count": 11,
   "metadata": {},
   "outputs": [],
   "source": [
    "# here we are making are data set containe the features that represnt 90% of the varience.\n",
    "pca1=PCA(n_components=0.9)\n",
    "x_train_reduced1=pca1.fit_transform(x_train_set)\n",
    "x_train_recovered1=pca1.inverse_transform(x_train_reduced1)\n",
    "x_test_reduced1=pca1.transform(x_test_set)\n",
    "x_test_recovered1=pca1.inverse_transform(x_test_reduced1)"
   ]
  },
  {
   "cell_type": "code",
   "execution_count": 12,
   "metadata": {},
   "outputs": [
    {
     "data": {
      "text/plain": [
       "84"
      ]
     },
     "execution_count": 12,
     "metadata": {},
     "output_type": "execute_result"
    }
   ],
   "source": [
    "# this data set has 84 features\n",
    "pca1.n_components_"
   ]
  },
  {
   "cell_type": "code",
   "execution_count": 13,
   "metadata": {},
   "outputs": [
    {
     "data": {
      "text/plain": [
       "0.85025"
      ]
     },
     "execution_count": 13,
     "metadata": {},
     "output_type": "execute_result"
    }
   ],
   "source": [
    "knn1 = KNeighborsClassifier(n_neighbors=27)\n",
    "knn1.fit(x_train_reduced1, y_train_set)\n",
    "y_pred_knn1=knn1.predict(x_test_reduced1)\n",
    "accuracy_knn1=metrics.accuracy_score(y_test_set, y_pred_knn1)\n",
    "accuracy_knn1"
   ]
  },
  {
   "cell_type": "code",
   "execution_count": 14,
   "metadata": {},
   "outputs": [
    {
     "data": {
      "text/plain": [
       "array([[1056,    1,   13,   38,    6,    0,  109,    0,    9,    0],\n",
       "       [   8, 1116,    3,   38,    4,    0,    5,    0,    0,    0],\n",
       "       [   7,    2,  920,   12,  150,    0,  102,    0,    7,    0],\n",
       "       [  48,    5,    7, 1094,   60,    0,   26,    0,    1,    1],\n",
       "       [   4,    1,   98,   36,  928,    0,  113,    0,    5,    0],\n",
       "       [   0,    0,    0,    0,    0,  984,    3,   88,    5,   61],\n",
       "       [ 256,    0,  147,   22,  115,    0,  684,    0,   18,    1],\n",
       "       [   0,    0,    0,    0,    0,   13,    0, 1154,    1,   56],\n",
       "       [   2,    0,   13,    6,    7,    2,   11,    6, 1101,    1],\n",
       "       [   0,    0,    0,    0,    0,    5,    0,   39,    0, 1166]],\n",
       "      dtype=int64)"
      ]
     },
     "execution_count": 14,
     "metadata": {},
     "output_type": "execute_result"
    }
   ],
   "source": [
    "mat_knn1=confusion_matrix(y_test_set, y_pred_knn1)\n",
    "mat_knn1"
   ]
  },
  {
   "cell_type": "code",
   "execution_count": 15,
   "metadata": {},
   "outputs": [
    {
     "name": "stdout",
     "output_type": "stream",
     "text": [
      "precision_score_knn: 0.8504580520435633\n",
      "recall_score_knn: 0.85025\n",
      "f1_score_knn: 0.8490208813908782\n"
     ]
    }
   ],
   "source": [
    "print(\"precision_score_knn:\",precision_score(y_test_set, y_pred_knn1, average='weighted')) \n",
    "print(\"recall_score_knn:\",recall_score(y_test_set, y_pred_knn1,average='weighted'))\n",
    "print(\"f1_score_knn:\",f1_score(y_test_set, y_pred_knn1,average='weighted'))"
   ]
  },
  {
   "cell_type": "code",
   "execution_count": 16,
   "metadata": {},
   "outputs": [
    {
     "name": "stdout",
     "output_type": "stream",
     "text": [
      "[0.85083333 0.853125   0.8484375  0.845625   0.84364583] mean: 0.8483333333333334\n"
     ]
    }
   ],
   "source": [
    "#cross validation\n",
    "cv_scores_knn1=cross_val_score(knn1, x_train_reduced1, y_train_set, cv=5, scoring=\"accuracy\")\n",
    "print(cv_scores_knn1, \"mean:\", np.mean(cv_scores_knn1))\n",
    "\n",
    "y_pred_knn1_c = cross_val_predict(knn1,  x_train_reduced1, y_train_set, cv=5)\n",
    "cofussion_knn1=confusion_matrix(y_train_set, y_pred_knn1_c)\n",
    "cofussion_knn1\n",
    "\n",
    "# precision call, recalll score, f1 score\n",
    "print(\"precision_score:\",precision_score(y_train_set, y_pred_knn1_c,average='weighted')) \n",
    "print(\"recall_score:\",recall_score(y_train_set, y_pred_knn1_c,average='weighted'))\n",
    "print(\"f1_score:\",f1_score(y_train_set, y_pred_knn1_c,average='weighted'))"
   ]
  },
  {
   "cell_type": "code",
   "execution_count": 75,
   "metadata": {},
   "outputs": [
    {
     "data": {
      "text/plain": [
       "array([[4126,    3,   83,  121,   36,    1,  340,    0,   58,    0],\n",
       "       [  27, 4588,   39,  125,   16,    0,   27,    0,    3,    1],\n",
       "       [  62,    1, 3605,   36,  594,    0,  475,    1,   25,    1],\n",
       "       [ 191,   20,   36, 4168,  211,    0,  118,    0,   14,    0],\n",
       "       [  15,    7,  415,  149, 3732,    0,  475,    0,   22,    0],\n",
       "       [   2,    0,    0,    4,    0, 4178,    6,  371,   22,  276],\n",
       "       [ 913,    6,  554,   84,  450,    0, 2684,    0,   66,    0],\n",
       "       [   0,    0,    0,    0,    0,   38,    0, 4439,    1,  298],\n",
       "       [  13,    0,   56,   36,   42,   10,   48,   28, 4608,   10],\n",
       "       [   1,    0,    0,    2,    1,   30,    1,  162,    1, 4592]],\n",
       "      dtype=int64)"
      ]
     },
     "execution_count": 75,
     "metadata": {},
     "output_type": "execute_result"
    }
   ],
   "source": [
    "y_pred_knn1_c = cross_val_predict(knn1,  x_train_reduced1, y_train_set, cv=5)\n",
    "cofussion_knn1=confusion_matrix(y_train_set, y_pred_knn1_c)\n",
    "cofussion_knn1"
   ]
  },
  {
   "cell_type": "code",
   "execution_count": 77,
   "metadata": {},
   "outputs": [
    {
     "name": "stdout",
     "output_type": "stream",
     "text": [
      "precision_score: 0.8492533799725965\n",
      "recall_score: 0.8483333333333334\n",
      "f1_score: 0.847574247035811\n"
     ]
    }
   ],
   "source": [
    "# precision call, recalll score, f1 score\n",
    "print(\"precision_score:\",precision_score(y_train_set, y_pred_knn1_c,average='weighted')) \n",
    "print(\"recall_score:\",recall_score(y_train_set, y_pred_knn1_c,average='weighted'))\n",
    "print(\"f1_score:\",f1_score(y_train_set, y_pred_knn1_c,average='weighted'))"
   ]
  },
  {
   "cell_type": "code",
   "execution_count": 18,
   "metadata": {},
   "outputs": [
    {
     "data": {
      "text/plain": [
       "0.857"
      ]
     },
     "execution_count": 18,
     "metadata": {},
     "output_type": "execute_result"
    }
   ],
   "source": [
    "XG1=XGBClassifier(n_estimators=400, max_depth=2, eta=0.1, subsample=0.7, colsample_bytree=0.8,\n",
    "                 use_label_encoder =False,eval_metric = \"logloss\")\n",
    "XG1.fit(x_train_reduced1, y_train_set)\n",
    "y_pred_XG1=XG1.predict(x_test_reduced1)\n",
    "accuracy_XG1=metrics.accuracy_score(y_test_set, y_pred_XG1)\n",
    "accuracy_XG1"
   ]
  },
  {
   "cell_type": "code",
   "execution_count": 19,
   "metadata": {},
   "outputs": [
    {
     "data": {
      "text/plain": [
       "array([[1038,    2,   10,   55,    4,    3,  107,    0,   13,    0],\n",
       "       [   3, 1125,    5,   38,    1,    0,    2,    0,    0,    0],\n",
       "       [   9,    1,  930,   11,  127,    0,  111,    2,    9,    0],\n",
       "       [  39,    6,    9, 1112,   45,    0,   27,    0,    3,    1],\n",
       "       [   4,    1,  109,   43,  934,    2,   85,    0,    7,    0],\n",
       "       [   1,    1,    1,    1,    0, 1060,    0,   51,    5,   21],\n",
       "       [ 204,    2,  129,   45,  130,    2,  710,    0,   20,    1],\n",
       "       [   0,    0,    0,    0,    0,   46,    0, 1135,    1,   42],\n",
       "       [   6,    0,    5,    7,    2,   12,   21,    4, 1090,    2],\n",
       "       [   1,    0,    0,    0,    0,   19,    0,   38,    2, 1150]],\n",
       "      dtype=int64)"
      ]
     },
     "execution_count": 19,
     "metadata": {},
     "output_type": "execute_result"
    }
   ],
   "source": [
    "mat_XG1=confusion_matrix(y_test_set, y_pred_XG1)\n",
    "mat_XG1"
   ]
  },
  {
   "cell_type": "code",
   "execution_count": 20,
   "metadata": {},
   "outputs": [
    {
     "name": "stdout",
     "output_type": "stream",
     "text": [
      "precision_score_XG1: 0.8553760887246975\n",
      "recall_score_XG1: 0.857\n",
      "f1_score_XG1: 0.85559160519721\n"
     ]
    }
   ],
   "source": [
    "print(\"precision_score_XG1:\",precision_score(y_test_set, y_pred_XG1, average='weighted')) \n",
    "print(\"recall_score_XG1:\",recall_score(y_test_set, y_pred_XG1,average='weighted'))\n",
    "print(\"f1_score_XG1:\",f1_score(y_test_set, y_pred_XG1,average='weighted'))"
   ]
  },
  {
   "cell_type": "code",
   "execution_count": 83,
   "metadata": {},
   "outputs": [
    {
     "name": "stdout",
     "output_type": "stream",
     "text": [
      "[0.86104167 0.85958333 0.85677083 0.85       0.86010417] mean: 0.8575000000000002\n"
     ]
    }
   ],
   "source": [
    "#cross validation\n",
    "cv_scores_XG1=cross_val_score(XG1, x_train_reduced1, y_train_set, cv=5, scoring=\"accuracy\")\n",
    "print(cv_scores_XG1, \"mean:\", np.mean(cv_scores_XG1))"
   ]
  },
  {
   "cell_type": "code",
   "execution_count": 85,
   "metadata": {},
   "outputs": [
    {
     "data": {
      "text/plain": [
       "array([[3998,   19,   69,  207,   19,    9,  386,    0,   61,    0],\n",
       "       [  12, 4656,   26,  100,   14,    0,    9,    0,    8,    1],\n",
       "       [  77,    2, 3671,   49,  547,    6,  411,    1,   36,    0],\n",
       "       [ 151,   33,   48, 4191,  158,    1,  149,    0,   25,    2],\n",
       "       [  13,    6,  438,  171, 3788,    4,  366,    0,   29,    0],\n",
       "       [   4,    0,    0,    5,    0, 4528,    3,  214,   21,   84],\n",
       "       [ 744,    6,  518,  146,  459,    4, 2782,    0,   97,    1],\n",
       "       [   0,    0,    0,    0,    0,  160,    0, 4398,    5,  213],\n",
       "       [  16,    2,   31,   30,   24,   37,   93,   28, 4580,   10],\n",
       "       [   2,    0,    0,    3,    0,   62,    0,  153,    2, 4568]],\n",
       "      dtype=int64)"
      ]
     },
     "execution_count": 85,
     "metadata": {},
     "output_type": "execute_result"
    }
   ],
   "source": [
    "y_pred_xg1_c = cross_val_predict(XG1,  x_train_reduced1, y_train_set, cv=5)\n",
    "cofussion_xg1=confusion_matrix(y_train_set, y_pred_xg1_c)\n",
    "cofussion_xg1"
   ]
  },
  {
   "cell_type": "code",
   "execution_count": 86,
   "metadata": {},
   "outputs": [
    {
     "name": "stdout",
     "output_type": "stream",
     "text": [
      "precision_score: 0.8561314432045871\n",
      "recall_score: 0.8575\n",
      "f1_score: 0.8564518874954093\n"
     ]
    }
   ],
   "source": [
    "# precision call, recalll score, f1 score\n",
    "print(\"precision_score:\",precision_score(y_train_set, y_pred_xg1_c,average='weighted')) \n",
    "print(\"recall_score:\",recall_score(y_train_set, y_pred_xg1_c,average='weighted'))\n",
    "print(\"f1_score:\",f1_score(y_train_set, y_pred_xg1_c,average='weighted'))"
   ]
  },
  {
   "cell_type": "code",
   "execution_count": 94,
   "metadata": {},
   "outputs": [],
   "source": []
  },
  {
   "cell_type": "code",
   "execution_count": 101,
   "metadata": {},
   "outputs": [
    {
     "name": "stdout",
     "output_type": "stream",
     "text": [
      "<class 'sklearn.neighbors._classification.KNeighborsClassifier'> 0.85025\n",
      "<class 'xgboost.sklearn.XGBClassifier'> 0.857\n",
      "<class 'sklearn.ensemble._voting.VotingClassifier'> 0.8635833333333334\n"
     ]
    },
    {
     "data": {
      "text/plain": [
       "0.8635833333333334"
      ]
     },
     "execution_count": 101,
     "metadata": {},
     "output_type": "execute_result"
    }
   ],
   "source": [
    "vote1=VotingClassifier(estimators=[('knn1',knn1),('XG1',XG1)], voting='soft', weights=[0.45,0.55])\n",
    "vote1.fit(x_train_reduced1, y_train_set)\n",
    "for clf in(knn1, XG1, vote1):\n",
    "    clf.fit(x_train_reduced1, y_train_set) \n",
    "    y_pred_vote1=clf.predict(x_test_reduced1)\n",
    "    print(clf.__class__ ,accuracy_score(y_test_set,y_pred_vote1))\n",
    "a_vote1=metrics.accuracy_score(y_test_set, y_pred_vote1)\n",
    "a_vote1"
   ]
  },
  {
   "cell_type": "code",
   "execution_count": 102,
   "metadata": {},
   "outputs": [
    {
     "data": {
      "text/plain": [
       "array([[1067,    0,   10,   42,    5,    1,   98,    0,    9,    0],\n",
       "       [   5, 1123,    5,   37,    2,    0,    2,    0,    0,    0],\n",
       "       [   8,    1,  939,   11,  129,    0,  100,    0,   12,    0],\n",
       "       [  40,    3,    5, 1120,   48,    0,   23,    0,    2,    1],\n",
       "       [   2,    1,   86,   40,  950,    0,   98,    0,    8,    0],\n",
       "       [   1,    0,    0,    0,    0, 1037,    0,   65,    5,   33],\n",
       "       [ 236,    2,  135,   30,  113,    0,  709,    0,   17,    1],\n",
       "       [   0,    0,    0,    0,    0,   26,    0, 1153,    1,   44],\n",
       "       [   2,    0,    7,    7,    3,    6,   12,    6, 1104,    2],\n",
       "       [   0,    0,    0,    0,    0,   11,    0,   37,    1, 1161]],\n",
       "      dtype=int64)"
      ]
     },
     "execution_count": 102,
     "metadata": {},
     "output_type": "execute_result"
    }
   ],
   "source": [
    "mat_vote1=confusion_matrix(y_test_set, y_pred_vote1)\n",
    "mat_vote1"
   ]
  },
  {
   "cell_type": "code",
   "execution_count": 103,
   "metadata": {},
   "outputs": [
    {
     "name": "stdout",
     "output_type": "stream",
     "text": [
      "precision_score: 0.8623641572884693\n",
      "recall_score: 0.8635833333333334\n",
      "f1_score: 0.862037994215409\n"
     ]
    }
   ],
   "source": [
    "# precision call, recalll score, f1 score\n",
    "print(\"precision_score:\",precision_score(y_test_set, y_pred_vote1,average='weighted')) \n",
    "print(\"recall_score:\",recall_score(y_test_set, y_pred_vote1,average='weighted'))\n",
    "print(\"f1_score:\",f1_score(y_test_set, y_pred_vote1,average='weighted'))"
   ]
  },
  {
   "cell_type": "code",
   "execution_count": null,
   "metadata": {},
   "outputs": [],
   "source": []
  },
  {
   "cell_type": "code",
   "execution_count": null,
   "metadata": {},
   "outputs": [],
   "source": []
  },
  {
   "cell_type": "code",
   "execution_count": null,
   "metadata": {},
   "outputs": [],
   "source": []
  },
  {
   "cell_type": "code",
   "execution_count": 23,
   "metadata": {},
   "outputs": [],
   "source": [
    "# here we are making are data set contane the features that represnt 80% of the varience."
   ]
  },
  {
   "cell_type": "code",
   "execution_count": 24,
   "metadata": {},
   "outputs": [],
   "source": [
    "pca2=PCA(n_components=0.8)\n",
    "x_train_reduced2=pca2.fit_transform(x_train_set)\n",
    "x_train_recovered2=pca2.inverse_transform(x_train_reduced2)\n",
    "x_test_reduced2=pca2.transform(x_test_set)\n",
    "x_test_recovered2=pca2.inverse_transform(x_test_reduced2)"
   ]
  },
  {
   "cell_type": "code",
   "execution_count": 25,
   "metadata": {},
   "outputs": [
    {
     "data": {
      "text/plain": [
       "24"
      ]
     },
     "execution_count": 25,
     "metadata": {},
     "output_type": "execute_result"
    }
   ],
   "source": [
    "# this data set has 24 features\n",
    "pca2.n_components_"
   ]
  },
  {
   "cell_type": "code",
   "execution_count": 26,
   "metadata": {},
   "outputs": [
    {
     "data": {
      "text/plain": [
       "0.8411666666666666"
      ]
     },
     "execution_count": 26,
     "metadata": {},
     "output_type": "execute_result"
    }
   ],
   "source": [
    "knn2 = KNeighborsClassifier(n_neighbors=27)\n",
    "knn2.fit(x_train_recovered2, y_train_set)\n",
    "y_pred_knn2=knn2.predict(x_test_recovered2)\n",
    "accuracy_knn2=metrics.accuracy_score(y_test_set, y_pred_knn2)\n",
    "accuracy_knn2"
   ]
  },
  {
   "cell_type": "code",
   "execution_count": 27,
   "metadata": {},
   "outputs": [
    {
     "data": {
      "text/plain": [
       "array([[1048,    1,   18,   49,    9,    0,   94,    0,   13,    0],\n",
       "       [   8, 1112,    3,   41,    2,    0,    8,    0,    0,    0],\n",
       "       [   3,    3,  915,   16,  142,    0,  113,    0,    8,    0],\n",
       "       [  45,    5,    4, 1099,   63,    0,   24,    0,    2,    0],\n",
       "       [   6,    2,  108,   44,  909,    0,  109,    0,    7,    0],\n",
       "       [   1,    0,    0,    0,    0,  982,    0,   99,    4,   55],\n",
       "       [ 246,    0,  158,   28,  130,    0,  658,    0,   22,    1],\n",
       "       [   0,    0,    0,    0,    0,   33,    0, 1132,    0,   59],\n",
       "       [   2,    0,   13,    8,    8,   10,    7,    4, 1095,    2],\n",
       "       [   0,    0,    0,    0,    0,   14,    0,   51,    1, 1144]],\n",
       "      dtype=int64)"
      ]
     },
     "execution_count": 27,
     "metadata": {},
     "output_type": "execute_result"
    }
   ],
   "source": [
    "mat_knn2=confusion_matrix(y_test_set, y_pred_knn2)\n",
    "mat_knn2"
   ]
  },
  {
   "cell_type": "code",
   "execution_count": 28,
   "metadata": {},
   "outputs": [
    {
     "name": "stdout",
     "output_type": "stream",
     "text": [
      "precision_score_knn2: 0.8401246188415095\n",
      "recall_score_knn2: 0.8411666666666666\n",
      "f1_score_knn2: 0.8393749439193116\n"
     ]
    }
   ],
   "source": [
    "print(\"precision_score_knn2:\",precision_score(y_test_set, y_pred_knn2, average='weighted')) \n",
    "print(\"recall_score_knn2:\",recall_score(y_test_set, y_pred_knn2,average='weighted'))\n",
    "print(\"f1_score_knn2:\",f1_score(y_test_set, y_pred_knn2,average='weighted'))"
   ]
  },
  {
   "cell_type": "code",
   "execution_count": 29,
   "metadata": {},
   "outputs": [
    {
     "name": "stdout",
     "output_type": "stream",
     "text": [
      "[0.84333333 0.843125   0.83875    0.83541667 0.84041667] mean: 0.8402083333333333\n"
     ]
    }
   ],
   "source": [
    "#cross validation\n",
    "cv_scores_knn2=cross_val_score(knn2, x_train_reduced2, y_train_set, cv=5, scoring=\"accuracy\")\n",
    "print(cv_scores_knn2, \"mean:\", np.mean(cv_scores_knn2))"
   ]
  },
  {
   "cell_type": "code",
   "execution_count": 78,
   "metadata": {},
   "outputs": [
    {
     "data": {
      "text/plain": [
       "array([[4056,    9,   94,  177,   34,    1,  333,    0,   63,    1],\n",
       "       [  27, 4585,   45,  125,   17,    0,   23,    0,    3,    1],\n",
       "       [  53,    2, 3594,   48,  609,    1,  449,    0,   43,    1],\n",
       "       [ 194,   38,   41, 4126,  223,    0,  113,    0,   23,    0],\n",
       "       [  15,    6,  449,  179, 3696,    0,  444,    0,   26,    0],\n",
       "       [   1,    0,    0,    3,    0, 4230,    4,  375,   21,  225],\n",
       "       [ 889,    6,  626,  112,  484,    1, 2559,    0,   80,    0],\n",
       "       [   0,    0,    0,    0,    0,  107,    0, 4345,    3,  321],\n",
       "       [  14,    0,   42,   46,   37,   27,   48,   30, 4598,    9],\n",
       "       [   1,    0,    0,    1,    1,   62,    1,  182,    1, 4541]],\n",
       "      dtype=int64)"
      ]
     },
     "execution_count": 78,
     "metadata": {},
     "output_type": "execute_result"
    }
   ],
   "source": [
    "y_pred_knn2_c = cross_val_predict(knn2,  x_train_reduced2, y_train_set, cv=5)\n",
    "cofussion_knn2=confusion_matrix(y_train_set, y_pred_knn2_c)\n",
    "cofussion_knn2"
   ]
  },
  {
   "cell_type": "code",
   "execution_count": 79,
   "metadata": {},
   "outputs": [
    {
     "name": "stdout",
     "output_type": "stream",
     "text": [
      "precision_score: 0.8492533799725965\n",
      "recall_score: 0.8483333333333334\n",
      "f1_score: 0.847574247035811\n"
     ]
    }
   ],
   "source": [
    "# precision call, recalll score, f1 score\n",
    "print(\"precision_score:\",precision_score(y_train_set, y_pred_knn1_c,average='weighted')) \n",
    "print(\"recall_score:\",recall_score(y_train_set, y_pred_knn1_c,average='weighted'))\n",
    "print(\"f1_score:\",f1_score(y_train_set, y_pred_knn1_c,average='weighted'))"
   ]
  },
  {
   "cell_type": "code",
   "execution_count": 31,
   "metadata": {},
   "outputs": [
    {
     "data": {
      "text/plain": [
       "0.8393333333333334"
      ]
     },
     "execution_count": 31,
     "metadata": {},
     "output_type": "execute_result"
    }
   ],
   "source": [
    "XG2=XGBClassifier(n_estimators=400, max_depth=2, eta=0.1, subsample=0.7, colsample_bytree=0.8,\n",
    "                 use_label_encoder =False,eval_metric = \"logloss\")\n",
    "XG2.fit(x_train_reduced2, y_train_set)\n",
    "y_pred_XG2=XG2.predict(x_test_reduced2)\n",
    "accuracy_XG2=metrics.accuracy_score(y_test_set, y_pred_XG2)\n",
    "accuracy_XG2"
   ]
  },
  {
   "cell_type": "code",
   "execution_count": 32,
   "metadata": {},
   "outputs": [
    {
     "data": {
      "text/plain": [
       "array([[1034,    3,   11,   65,    6,    2,   94,    0,   17,    0],\n",
       "       [   4, 1113,    7,   46,    2,    0,    2,    0,    0,    0],\n",
       "       [  12,    2,  918,   11,  128,    0,  118,    0,   11,    0],\n",
       "       [  38,   15,    7, 1093,   51,    0,   35,    0,    3,    0],\n",
       "       [   4,    3,  107,   55,  915,    0,   92,    0,    9,    0],\n",
       "       [   1,    0,    0,    0,    0, 1032,    0,   75,    4,   29],\n",
       "       [ 236,    4,  151,   46,  138,    2,  645,    1,   20,    0],\n",
       "       [   0,    0,    0,    0,    0,   64,    0, 1098,    1,   61],\n",
       "       [   9,    0,   10,    6,    0,   14,   19,    4, 1083,    4],\n",
       "       [   0,    0,    0,    1,    0,   17,    0,   50,    1, 1141]],\n",
       "      dtype=int64)"
      ]
     },
     "execution_count": 32,
     "metadata": {},
     "output_type": "execute_result"
    }
   ],
   "source": [
    "mat_XG2=confusion_matrix(y_test_set, y_pred_XG2)\n",
    "mat_XG2"
   ]
  },
  {
   "cell_type": "code",
   "execution_count": 33,
   "metadata": {},
   "outputs": [
    {
     "name": "stdout",
     "output_type": "stream",
     "text": [
      "precision_score_XG2: 0.8368861716499038\n",
      "recall_score_XG2: 0.8393333333333334\n",
      "f1_score_XG2: 0.8371350934792667\n"
     ]
    }
   ],
   "source": [
    "print(\"precision_score_XG2:\",precision_score(y_test_set, y_pred_XG2, average='weighted')) \n",
    "print(\"recall_score_XG2:\",recall_score(y_test_set, y_pred_XG2,average='weighted'))\n",
    "print(\"f1_score_XG2:\",f1_score(y_test_set, y_pred_XG2,average='weighted'))"
   ]
  },
  {
   "cell_type": "code",
   "execution_count": 87,
   "metadata": {},
   "outputs": [
    {
     "name": "stdout",
     "output_type": "stream",
     "text": [
      "[0.84614583 0.8428125  0.84833333 0.839375   0.83875   ] mean: 0.8430833333333332\n"
     ]
    }
   ],
   "source": [
    "#cross validation\n",
    "cv_scores_XG2=cross_val_score(XG2, x_train_reduced2, y_train_set, cv=5, scoring=\"accuracy\")\n",
    "print(cv_scores_XG2, \"mean:\", np.mean(cv_scores_XG2))"
   ]
  },
  {
   "cell_type": "code",
   "execution_count": 88,
   "metadata": {},
   "outputs": [
    {
     "data": {
      "text/plain": [
       "array([[3941,   21,   92,  249,   17,    8,  371,    0,   68,    1],\n",
       "       [  20, 4625,   35,  121,    9,    0,    8,    0,    7,    1],\n",
       "       [  54,    3, 3608,   51,  577,    6,  464,    1,   36,    0],\n",
       "       [ 175,   52,   39, 4128,  175,    0,  164,    0,   22,    3],\n",
       "       [  14,   10,  435,  178, 3780,    5,  365,    0,   28,    0],\n",
       "       [   3,    0,    3,    4,    0, 4418,    2,  278,   25,  126],\n",
       "       [ 801,    4,  599,  163,  476,    7, 2620,    0,   86,    1],\n",
       "       [   0,    0,    0,    0,    0,  211,    0, 4285,    9,  271],\n",
       "       [  14,    3,   40,   30,   19,   41,  107,   22, 4563,   12],\n",
       "       [   0,    0,    0,    2,    0,   98,    2,  186,    2, 4500]],\n",
       "      dtype=int64)"
      ]
     },
     "execution_count": 88,
     "metadata": {},
     "output_type": "execute_result"
    }
   ],
   "source": [
    "y_pred_xg2_c = cross_val_predict(XG2,  x_train_reduced2, y_train_set, cv=5)\n",
    "cofussion_xg2=confusion_matrix(y_train_set, y_pred_xg2_c)\n",
    "cofussion_xg2"
   ]
  },
  {
   "cell_type": "code",
   "execution_count": 89,
   "metadata": {},
   "outputs": [
    {
     "name": "stdout",
     "output_type": "stream",
     "text": [
      "precision_score: 0.8414408494081917\n",
      "recall_score: 0.8430833333333333\n",
      "f1_score: 0.8417827785822511\n"
     ]
    }
   ],
   "source": [
    "# precision call, recalll score, f1 score\n",
    "print(\"precision_score:\",precision_score(y_train_set, y_pred_xg2_c,average='weighted')) \n",
    "print(\"recall_score:\",recall_score(y_train_set, y_pred_xg2_c,average='weighted'))\n",
    "print(\"f1_score:\",f1_score(y_train_set, y_pred_xg2_c,average='weighted'))"
   ]
  },
  {
   "cell_type": "code",
   "execution_count": null,
   "metadata": {},
   "outputs": [],
   "source": []
  },
  {
   "cell_type": "code",
   "execution_count": 36,
   "metadata": {},
   "outputs": [],
   "source": [
    "# here we are making are data set containe the features that represnt 70% of the varience.\n",
    "pca3=PCA(n_components=0.7)\n",
    "x_train_reduced3=pca3.fit_transform(x_train_set)\n",
    "x_train_recovered3=pca3.inverse_transform(x_train_reduced3)\n",
    "x_test_reduced3=pca3.transform(x_test_set)\n",
    "x_test_recovered3=pca3.inverse_transform(x_test_reduced3)"
   ]
  },
  {
   "cell_type": "code",
   "execution_count": 37,
   "metadata": {},
   "outputs": [
    {
     "data": {
      "text/plain": [
       "9"
      ]
     },
     "execution_count": 37,
     "metadata": {},
     "output_type": "execute_result"
    }
   ],
   "source": [
    "# this data set has 9 features\n",
    "pca3.n_components_"
   ]
  },
  {
   "cell_type": "code",
   "execution_count": 38,
   "metadata": {},
   "outputs": [
    {
     "data": {
      "text/plain": [
       "0.805"
      ]
     },
     "execution_count": 38,
     "metadata": {},
     "output_type": "execute_result"
    }
   ],
   "source": [
    "knn3 = KNeighborsClassifier(n_neighbors=27)\n",
    "knn3.fit(x_train_reduced3, y_train_set)\n",
    "y_pred_knn3=knn3.predict(x_test_reduced3)\n",
    "accuracy_knn3=metrics.accuracy_score(y_test_set, y_pred_knn3)\n",
    "accuracy_knn3"
   ]
  },
  {
   "cell_type": "code",
   "execution_count": 39,
   "metadata": {},
   "outputs": [
    {
     "data": {
      "text/plain": [
       "array([[ 995,    1,   22,   77,   12,    1,  110,    0,   14,    0],\n",
       "       [   8, 1092,    8,   56,    6,    0,    4,    0,    0,    0],\n",
       "       [   5,    1,  825,   14,  179,    0,  163,    0,   13,    0],\n",
       "       [  46,   12,    3, 1083,   60,    0,   36,    0,    2,    0],\n",
       "       [   4,    5,  159,   84,  773,    0,  150,    0,   10,    0],\n",
       "       [   2,    0,    0,    0,    0,  968,    0,  111,    5,   55],\n",
       "       [ 226,    0,  195,   56,  119,    0,  623,    0,   23,    1],\n",
       "       [   0,    0,    0,    0,    0,   58,    0, 1089,    0,   77],\n",
       "       [   3,    0,    8,    7,    4,   12,   17,    5, 1091,    2],\n",
       "       [   0,    0,    0,    0,    0,   28,    0,   61,    0, 1121]],\n",
       "      dtype=int64)"
      ]
     },
     "execution_count": 39,
     "metadata": {},
     "output_type": "execute_result"
    }
   ],
   "source": [
    "mat_knn3=confusion_matrix(y_test_set, y_pred_knn3)\n",
    "mat_knn3"
   ]
  },
  {
   "cell_type": "code",
   "execution_count": 40,
   "metadata": {},
   "outputs": [
    {
     "name": "stdout",
     "output_type": "stream",
     "text": [
      "precision_score_knn3: 0.8033518506138512\n",
      "recall_score_knn3: 0.805\n",
      "f1_score_knn3: 0.803469354900917\n"
     ]
    }
   ],
   "source": [
    "print(\"precision_score_knn3:\",precision_score(y_test_set, y_pred_knn3, average='weighted')) \n",
    "print(\"recall_score_knn3:\",recall_score(y_test_set, y_pred_knn3,average='weighted'))\n",
    "print(\"f1_score_knn3:\",f1_score(y_test_set, y_pred_knn3,average='weighted'))"
   ]
  },
  {
   "cell_type": "code",
   "execution_count": 80,
   "metadata": {},
   "outputs": [
    {
     "name": "stdout",
     "output_type": "stream",
     "text": [
      "[0.80604167 0.8015625  0.8040625  0.8034375  0.80145833] mean: 0.8033125\n"
     ]
    }
   ],
   "source": [
    "#cross validation\n",
    "cv_scores_knn3=cross_val_score(knn3, x_train_reduced3, y_train_set, cv=5, scoring=\"accuracy\")\n",
    "print(cv_scores_knn3, \"mean:\", np.mean(cv_scores_knn3))"
   ]
  },
  {
   "cell_type": "code",
   "execution_count": 81,
   "metadata": {},
   "outputs": [
    {
     "data": {
      "text/plain": [
       "array([[3850,   16,   93,  319,   48,    1,  379,    0,   62,    0],\n",
       "       [  34, 4504,   59,  187,   22,    0,   16,    0,    3,    1],\n",
       "       [  46,    1, 3163,   43,  763,    3,  729,    0,   52,    0],\n",
       "       [ 206,   52,   40, 4071,  223,    0,  141,    0,   25,    0],\n",
       "       [  15,    4,  692,  311, 3222,    0,  536,    0,   35,    0],\n",
       "       [   3,    0,    1,    4,    0, 4118,    2,  416,   27,  288],\n",
       "       [ 843,    6,  655,  186,  510,    1, 2453,    0,  103,    0],\n",
       "       [   0,    0,    0,    0,    0,  218,    0, 4205,    7,  346],\n",
       "       [  15,    0,   66,   50,   32,   49,   63,   29, 4539,    8],\n",
       "       [   0,    0,    1,    1,    1,  130,    0,  223,    0, 4434]],\n",
       "      dtype=int64)"
      ]
     },
     "execution_count": 81,
     "metadata": {},
     "output_type": "execute_result"
    }
   ],
   "source": [
    "y_pred_knn3_c = cross_val_predict(knn3,  x_train_reduced3, y_train_set, cv=5)\n",
    "cofussion_knn3=confusion_matrix(y_train_set, y_pred_knn3_c)\n",
    "cofussion_knn3"
   ]
  },
  {
   "cell_type": "code",
   "execution_count": 82,
   "metadata": {},
   "outputs": [
    {
     "name": "stdout",
     "output_type": "stream",
     "text": [
      "precision_score: 0.8025371795203896\n",
      "recall_score: 0.8033125\n",
      "f1_score: 0.8023436351005391\n"
     ]
    }
   ],
   "source": [
    "# precision call, recalll score, f1 score\n",
    "print(\"precision_score:\",precision_score(y_train_set, y_pred_knn3_c,average='weighted')) \n",
    "print(\"recall_score:\",recall_score(y_train_set, y_pred_knn3_c,average='weighted'))\n",
    "print(\"f1_score:\",f1_score(y_train_set, y_pred_knn3_c,average='weighted'))"
   ]
  },
  {
   "cell_type": "code",
   "execution_count": null,
   "metadata": {},
   "outputs": [],
   "source": []
  },
  {
   "cell_type": "code",
   "execution_count": 43,
   "metadata": {},
   "outputs": [
    {
     "data": {
      "text/plain": [
       "0.817"
      ]
     },
     "execution_count": 43,
     "metadata": {},
     "output_type": "execute_result"
    }
   ],
   "source": [
    "XG3=XGBClassifier(n_estimators=400, max_depth=2, eta=0.1, subsample=0.7, colsample_bytree=0.8,\n",
    "                 use_label_encoder =False,eval_metric = \"logloss\")\n",
    "XG3.fit(x_train_recovered3, y_train_set)\n",
    "y_pred_XG3=XG3.predict(x_test_recovered3)\n",
    "accuracy_XG3=metrics.accuracy_score(y_test_set, y_pred_XG3)\n",
    "accuracy_XG3"
   ]
  },
  {
   "cell_type": "code",
   "execution_count": 44,
   "metadata": {},
   "outputs": [
    {
     "data": {
      "text/plain": [
       "array([[1005,    3,   18,   58,    6,    3,  127,    0,   12,    0],\n",
       "       [   6, 1111,    5,   43,    4,    0,    5,    0,    0,    0],\n",
       "       [   4,    2,  843,   11,  192,    0,  136,    0,   12,    0],\n",
       "       [  49,   20,    7, 1067,   47,    0,   50,    0,    2,    0],\n",
       "       [   3,    2,  176,   58,  810,    0,  131,    0,    5,    0],\n",
       "       [   0,    0,    1,    1,    0, 1036,    1,   65,    4,   33],\n",
       "       [ 217,    0,  195,   58,  134,    0,  610,    0,   28,    1],\n",
       "       [   0,    0,    0,    0,    0,   60,    0, 1106,    1,   57],\n",
       "       [   3,    0,    8,    6,    3,    9,   23,    3, 1094,    0],\n",
       "       [   0,    0,    1,    0,    0,   33,    0,   54,    0, 1122]],\n",
       "      dtype=int64)"
      ]
     },
     "execution_count": 44,
     "metadata": {},
     "output_type": "execute_result"
    }
   ],
   "source": [
    "mat_XG3=confusion_matrix(y_test_set, y_pred_XG3)\n",
    "mat_XG3"
   ]
  },
  {
   "cell_type": "code",
   "execution_count": 45,
   "metadata": {},
   "outputs": [
    {
     "name": "stdout",
     "output_type": "stream",
     "text": [
      "precision_score_XG3: 0.8148762732609454\n",
      "recall_score_XG3: 0.817\n",
      "f1_score_XG3: 0.8155331560943708\n"
     ]
    }
   ],
   "source": [
    "print(\"precision_score_XG3:\",precision_score(y_test_set, y_pred_XG3, average='weighted')) \n",
    "print(\"recall_score_XG3:\",recall_score(y_test_set, y_pred_XG3,average='weighted'))\n",
    "print(\"f1_score_XG3:\",f1_score(y_test_set, y_pred_XG3,average='weighted'))"
   ]
  },
  {
   "cell_type": "code",
   "execution_count": 90,
   "metadata": {},
   "outputs": [
    {
     "name": "stdout",
     "output_type": "stream",
     "text": [
      "[0.79625    0.79395833 0.798125   0.79208333 0.79270833] mean: 0.7946250000000001\n"
     ]
    }
   ],
   "source": [
    "#cross validation\n",
    "cv_scores_XG3=cross_val_score(XG3, x_train_reduced3, y_train_set, cv=5, scoring=\"accuracy\")\n",
    "print(cv_scores_XG3, \"mean:\", np.mean(cv_scores_XG3))"
   ]
  },
  {
   "cell_type": "code",
   "execution_count": 91,
   "metadata": {},
   "outputs": [
    {
     "data": {
      "text/plain": [
       "array([[3853,   32,   71,  349,   36,    7,  349,    0,   71,    0],\n",
       "       [  15, 4564,   36,  167,   17,    0,   22,    0,    5,    0],\n",
       "       [  61,    4, 3058,   39,  878,    8,  689,    0,   63,    0],\n",
       "       [ 203,   72,   27, 4023,  192,    1,  204,    0,   35,    1],\n",
       "       [  10,    7,  757,  305, 3238,    2,  454,    0,   42,    0],\n",
       "       [   0,    0,    0,    8,    0, 4215,    3,  408,   30,  195],\n",
       "       [ 862,   14,  762,  281,  532,    6, 2185,    0,  115,    0],\n",
       "       [   0,    0,    0,    0,    0,  293,    0, 4130,   17,  336],\n",
       "       [  15,    2,   60,   43,   31,   72,  106,   21, 4489,   12],\n",
       "       [   1,    0,    1,    4,    0,  159,    1,  236,    1, 4387]],\n",
       "      dtype=int64)"
      ]
     },
     "execution_count": 91,
     "metadata": {},
     "output_type": "execute_result"
    }
   ],
   "source": [
    "y_pred_xg3_c = cross_val_predict(XG3,  x_train_reduced3, y_train_set, cv=5)\n",
    "cofussion_xg3=confusion_matrix(y_train_set, y_pred_xg3_c)\n",
    "cofussion_xg3"
   ]
  },
  {
   "cell_type": "code",
   "execution_count": 92,
   "metadata": {},
   "outputs": [
    {
     "name": "stdout",
     "output_type": "stream",
     "text": [
      "precision_score: 0.7916541405196663\n",
      "recall_score: 0.794625\n",
      "f1_score: 0.7925031198374151\n"
     ]
    }
   ],
   "source": [
    "# precision call, recalll score, f1 score\n",
    "print(\"precision_score:\",precision_score(y_train_set, y_pred_xg3_c,average='weighted')) \n",
    "print(\"recall_score:\",recall_score(y_train_set, y_pred_xg3_c,average='weighted'))\n",
    "print(\"f1_score:\",f1_score(y_train_set, y_pred_xg3_c,average='weighted'))"
   ]
  },
  {
   "cell_type": "code",
   "execution_count": null,
   "metadata": {},
   "outputs": [],
   "source": []
  },
  {
   "cell_type": "code",
   "execution_count": null,
   "metadata": {},
   "outputs": [],
   "source": []
  },
  {
   "cell_type": "code",
   "execution_count": null,
   "metadata": {},
   "outputs": [],
   "source": []
  },
  {
   "cell_type": "code",
   "execution_count": null,
   "metadata": {},
   "outputs": [],
   "source": []
  },
  {
   "cell_type": "code",
   "execution_count": null,
   "metadata": {},
   "outputs": [],
   "source": []
  },
  {
   "cell_type": "markdown",
   "metadata": {},
   "source": [
    "testing with a different split"
   ]
  },
  {
   "cell_type": "code",
   "execution_count": 48,
   "metadata": {},
   "outputs": [],
   "source": [
    "train_set1, test_set1 = train_test_split(training_set, test_size=0.2, random_state=9)\n",
    "\n",
    "train_set1=np.array(train_set,dtype='float32')\n",
    "test_set1=np.array(test_set,dtype='float32')\n",
    "\n",
    "x_train_set1=train_set1[:, 1:]\n",
    "y_train_set1=train_set1[:, 0]\n",
    "x_test_set1=test_set1[:, 1:]\n",
    "y_test_set1=test_set1[:, 0]\n"
   ]
  },
  {
   "cell_type": "code",
   "execution_count": 49,
   "metadata": {},
   "outputs": [
    {
     "data": {
      "text/plain": [
       "<matplotlib.image.AxesImage at 0x1c48a9fbe20>"
      ]
     },
     "execution_count": 49,
     "metadata": {},
     "output_type": "execute_result"
    },
    {
     "data": {
      "image/png": "[encoded data removed]",
      "text/plain": [
       "<Figure size 432x288 with 1 Axes>"
      ]
     },
     "metadata": {
      "needs_background": "light"
     },
     "output_type": "display_data"
    }
   ],
   "source": [
    "image1=x_train_set1[1, :].reshape((28,28))\n",
    "plt.imshow(image1)"
   ]
  },
  {
   "cell_type": "code",
   "execution_count": 50,
   "metadata": {},
   "outputs": [],
   "source": [
    "pca4=PCA(n_components=0.9)\n",
    "x_train_reduced4=pca4.fit_transform(x_train_set1)\n",
    "x_train_recovered4=pca4.inverse_transform(x_train_reduced4)\n",
    "x_test_reduced4=pca4.transform(x_test_set1)\n",
    "x_test_recovered4=pca4.inverse_transform(x_test_reduced4)"
   ]
  },
  {
   "cell_type": "code",
   "execution_count": 51,
   "metadata": {},
   "outputs": [
    {
     "name": "stdout",
     "output_type": "stream",
     "text": [
      "[0.28984118 0.17740473 0.06014274 0.04988384 0.03857298 0.03455602\n",
      " 0.02352779 0.01906941 0.01344911 0.01306139 0.0099056  0.00910351\n",
      " 0.00763417 0.0065899  0.00610854 0.00590688 0.00554202 0.00529724\n",
      " 0.00463077 0.00455368 0.00431895 0.00407812 0.00383489 0.00376273\n",
      " 0.00364112 0.00350273 0.00333314 0.00319524 0.00310191 0.00296527\n",
      " 0.00276032 0.00265654 0.00264357 0.00255114 0.00249119 0.00239356\n",
      " 0.00230545 0.00223689 0.0022014  0.0021076  0.00201102 0.00196958\n",
      " 0.00194251 0.0018329  0.00175576 0.0017161  0.00167287 0.00165303\n",
      " 0.00161782 0.00156227 0.00154179 0.00151261 0.00147693 0.00143162\n",
      " 0.00138067 0.00137089 0.00131089 0.00129371 0.0012724  0.00126102\n",
      " 0.00122869 0.00120763 0.00118734 0.00116227 0.00115414 0.00112174\n",
      " 0.00111105 0.00109231 0.00106667 0.00103951 0.00103836 0.00101901\n",
      " 0.0009715  0.0009503  0.00093803 0.00093292 0.00093169 0.00091016\n",
      " 0.00089413 0.00087516 0.00085688 0.00084265 0.00082548 0.00082042]\n"
     ]
    }
   ],
   "source": [
    "print(pca4.explained_variance_ratio_)\n",
    "#6*14=84"
   ]
  },
  {
   "cell_type": "code",
   "execution_count": 52,
   "metadata": {},
   "outputs": [
    {
     "data": {
      "text/plain": [
       "0.85025"
      ]
     },
     "execution_count": 52,
     "metadata": {},
     "output_type": "execute_result"
    }
   ],
   "source": [
    "knn4 = KNeighborsClassifier(n_neighbors=27)\n",
    "knn4.fit(x_train_reduced4,y_train_set1)\n",
    "y_pred_knn4=knn4.predict(x_test_reduced4)\n",
    "accuracy_knn4=metrics.accuracy_score(y_test_set1, y_pred_knn4)\n",
    "accuracy_knn4"
   ]
  },
  {
   "cell_type": "code",
   "execution_count": 53,
   "metadata": {},
   "outputs": [
    {
     "data": {
      "text/plain": [
       "array([[1056,    1,   13,   38,    6,    0,  109,    0,    9,    0],\n",
       "       [   8, 1116,    3,   38,    4,    0,    5,    0,    0,    0],\n",
       "       [   7,    2,  920,   12,  150,    0,  102,    0,    7,    0],\n",
       "       [  48,    5,    7, 1094,   60,    0,   26,    0,    1,    1],\n",
       "       [   4,    1,   98,   36,  928,    0,  113,    0,    5,    0],\n",
       "       [   0,    0,    0,    0,    0,  984,    3,   88,    5,   61],\n",
       "       [ 256,    0,  147,   22,  115,    0,  684,    0,   18,    1],\n",
       "       [   0,    0,    0,    0,    0,   13,    0, 1154,    1,   56],\n",
       "       [   2,    0,   13,    6,    7,    2,   11,    6, 1101,    1],\n",
       "       [   0,    0,    0,    0,    0,    5,    0,   39,    0, 1166]],\n",
       "      dtype=int64)"
      ]
     },
     "execution_count": 53,
     "metadata": {},
     "output_type": "execute_result"
    }
   ],
   "source": [
    "mat_knn4=confusion_matrix(y_test_set1, y_pred_knn4)\n",
    "mat_knn4"
   ]
  },
  {
   "cell_type": "code",
   "execution_count": 54,
   "metadata": {},
   "outputs": [
    {
     "name": "stdout",
     "output_type": "stream",
     "text": [
      "precision_score_knn4: 0.8504580520435633\n",
      "recall_score_knn4: 0.85025\n",
      "f1_score_knn4: 0.8490208813908782\n"
     ]
    }
   ],
   "source": [
    "print(\"precision_score_knn4:\",precision_score(y_test_set1, y_pred_knn4, average='weighted')) \n",
    "print(\"recall_score_knn4:\",recall_score(y_test_set1, y_pred_knn4,average='weighted'))\n",
    "print(\"f1_score_knn4:\",f1_score(y_test_set1, y_pred_knn4,average='weighted'))"
   ]
  },
  {
   "cell_type": "code",
   "execution_count": 55,
   "metadata": {},
   "outputs": [
    {
     "data": {
      "text/plain": [
       "0.857"
      ]
     },
     "execution_count": 55,
     "metadata": {},
     "output_type": "execute_result"
    }
   ],
   "source": [
    "XG4=XGBClassifier(n_estimators=400, max_depth=2, eta=0.1, subsample=0.7, colsample_bytree=0.8,\n",
    "                 use_label_encoder =False,eval_metric = \"logloss\")\n",
    "XG4.fit(x_train_reduced4, y_train_set1)\n",
    "y_pred_XG4=XG4.predict(x_test_reduced4)\n",
    "accuracy_XG4=metrics.accuracy_score(y_test_set1, y_pred_XG4)\n",
    "accuracy_XG4"
   ]
  },
  {
   "cell_type": "code",
   "execution_count": 56,
   "metadata": {},
   "outputs": [
    {
     "data": {
      "text/plain": [
       "array([[1038,    2,   10,   55,    4,    3,  107,    0,   13,    0],\n",
       "       [   3, 1125,    5,   38,    1,    0,    2,    0,    0,    0],\n",
       "       [   9,    1,  930,   11,  127,    0,  111,    2,    9,    0],\n",
       "       [  39,    6,    9, 1112,   45,    0,   27,    0,    3,    1],\n",
       "       [   4,    1,  109,   43,  934,    2,   85,    0,    7,    0],\n",
       "       [   1,    1,    1,    1,    0, 1060,    0,   51,    5,   21],\n",
       "       [ 204,    2,  129,   45,  130,    2,  710,    0,   20,    1],\n",
       "       [   0,    0,    0,    0,    0,   46,    0, 1135,    1,   42],\n",
       "       [   6,    0,    5,    7,    2,   12,   21,    4, 1090,    2],\n",
       "       [   1,    0,    0,    0,    0,   19,    0,   38,    2, 1150]],\n",
       "      dtype=int64)"
      ]
     },
     "execution_count": 56,
     "metadata": {},
     "output_type": "execute_result"
    }
   ],
   "source": [
    "mat_XG4=confusion_matrix(y_test_set1, y_pred_XG4)\n",
    "mat_XG4"
   ]
  },
  {
   "cell_type": "code",
   "execution_count": 57,
   "metadata": {},
   "outputs": [
    {
     "name": "stdout",
     "output_type": "stream",
     "text": [
      "precision_score_XG4: 0.8553760887246975\n",
      "recall_score_XG4: 0.857\n",
      "f1_score_XG4: 0.85559160519721\n"
     ]
    }
   ],
   "source": [
    "print(\"precision_score_XG4:\",precision_score(y_test_set1, y_pred_XG4, average='weighted')) \n",
    "print(\"recall_score_XG4:\",recall_score(y_test_set1, y_pred_XG4,average='weighted'))\n",
    "print(\"f1_score_XG4:\",f1_score(y_test_set1, y_pred_XG4,average='weighted'))"
   ]
  },
  {
   "cell_type": "code",
   "execution_count": 58,
   "metadata": {},
   "outputs": [],
   "source": [
    "pca5=PCA(n_components=0.8)\n",
    "x_train_reduced5=pca5.fit_transform(x_train_set1)\n",
    "x_train_recovered5=pca5.inverse_transform(x_train_reduced5)\n",
    "x_test_reduced5=pca5.fit_transform(x_test_set1)\n",
    "x_test_recovered5=pca2.inverse_transform(x_test_reduced5)"
   ]
  },
  {
   "cell_type": "code",
   "execution_count": 59,
   "metadata": {},
   "outputs": [
    {
     "name": "stdout",
     "output_type": "stream",
     "text": [
      "[0.2913279  0.17671171 0.06060459 0.04901269 0.03766733 0.03534918\n",
      " 0.02313465 0.01944976 0.0134384  0.01329758 0.00992759 0.00924182\n",
      " 0.00775141 0.00667874 0.00605891 0.00596349 0.00548039 0.00534439\n",
      " 0.00458174 0.00449609 0.00437624 0.00399073 0.00386107 0.00368459]\n"
     ]
    }
   ],
   "source": [
    "print(pca5.explained_variance_ratio_)\n",
    "#6*4=24"
   ]
  },
  {
   "cell_type": "code",
   "execution_count": 60,
   "metadata": {},
   "outputs": [
    {
     "data": {
      "text/plain": [
       "0.6043333333333333"
      ]
     },
     "execution_count": 60,
     "metadata": {},
     "output_type": "execute_result"
    }
   ],
   "source": [
    "knn5 = KNeighborsClassifier(n_neighbors=27)\n",
    "knn5.fit(x_train_recovered5, y_train_set1)\n",
    "y_pred_knn5=knn5.predict(x_test_recovered5)\n",
    "accuracy_knn5=metrics.accuracy_score(y_test_set1, y_pred_knn5)\n",
    "accuracy_knn5"
   ]
  },
  {
   "cell_type": "code",
   "execution_count": 61,
   "metadata": {},
   "outputs": [
    {
     "data": {
      "text/plain": [
       "array([[ 936,    9,   11,  138,   19,    8,   99,    0,   12,    0],\n",
       "       [  10, 1103,    1,   35,    9,    0,    7,    0,    2,    7],\n",
       "       [  21,    5,  486,   59,  218,   62,   63,    0,   44,  242],\n",
       "       [  55,   28,    1, 1048,   60,    0,   46,    0,    4,    0],\n",
       "       [   8,    3,   65,  109,  773,   26,   48,    0,   20,  133],\n",
       "       [   0,    0,   16,    1,    3,  476,   19,  595,   18,   13],\n",
       "       [ 266,    3,   93,  128,  235,   83,  265,    3,   52,  115],\n",
       "       [   0,    0,    5,    0,    3,  116,    0, 1091,    9,    0],\n",
       "       [   5,    0,    2,   15,    6,   19,    7,   30, 1064,    1],\n",
       "       [   0,    0,  292,    0,  175,  406,  188,   51,   88,   10]],\n",
       "      dtype=int64)"
      ]
     },
     "execution_count": 61,
     "metadata": {},
     "output_type": "execute_result"
    }
   ],
   "source": [
    "mat_knn5=confusion_matrix(y_test_set1, y_pred_knn5)\n",
    "mat_knn5"
   ]
  },
  {
   "cell_type": "code",
   "execution_count": 62,
   "metadata": {},
   "outputs": [
    {
     "name": "stdout",
     "output_type": "stream",
     "text": [
      "precision_score_knn5: 0.5564621497259947\n",
      "recall_score_knn5: 0.6043333333333333\n",
      "f1_score_knn5: 0.5731181533983735\n"
     ]
    }
   ],
   "source": [
    "print(\"precision_score_knn5:\",precision_score(y_test_set1, y_pred_knn5, average='weighted')) \n",
    "print(\"recall_score_knn5:\",recall_score(y_test_set1, y_pred_knn5,average='weighted'))\n",
    "print(\"f1_score_knn5:\",f1_score(y_test_set1, y_pred_knn5,average='weighted'))"
   ]
  },
  {
   "cell_type": "code",
   "execution_count": 63,
   "metadata": {},
   "outputs": [
    {
     "data": {
      "text/plain": [
       "0.5678333333333333"
      ]
     },
     "execution_count": 63,
     "metadata": {},
     "output_type": "execute_result"
    }
   ],
   "source": [
    "XG5=XGBClassifier(n_estimators=400, max_depth=2, eta=0.1, subsample=0.7, colsample_bytree=0.8,\n",
    "                 use_label_encoder =False,eval_metric = \"logloss\")\n",
    "XG5.fit(x_train_recovered5, y_train_set1)\n",
    "y_pred_XG5=XG5.predict(x_test_recovered5)\n",
    "accuracy_XG5=metrics.accuracy_score(y_test_set1, y_pred_XG5)\n",
    "accuracy_XG5"
   ]
  },
  {
   "cell_type": "code",
   "execution_count": 64,
   "metadata": {},
   "outputs": [
    {
     "data": {
      "text/plain": [
       "array([[ 882,    1,   70,  134,    5,   29,   97,    1,   11,    2],\n",
       "       [  23, 1055,   18,   64,    2,    2,    6,    0,    1,    3],\n",
       "       [  51,    1,  568,   43,   39,  133,  171,    1,   28,  165],\n",
       "       [  43,   11,   89, 1016,   37,    6,   33,    1,    6,    0],\n",
       "       [  15,    1,  204,   99,  371,   77,  340,    0,   23,   55],\n",
       "       [   1,    0,    7,    7,   11,  549,   35,  486,   13,   32],\n",
       "       [ 259,    3,  109,  115,   59,  110,  439,    6,   40,  103],\n",
       "       [   0,    0,    2,    1,    1,  315,    8,  875,   22,    0],\n",
       "       [   4,    0,    5,   17,    1,   15,   31,   17, 1055,    4],\n",
       "       [   0,    0,  119,    2,   37,  601,  347,    9,   91,    4]],\n",
       "      dtype=int64)"
      ]
     },
     "execution_count": 64,
     "metadata": {},
     "output_type": "execute_result"
    }
   ],
   "source": [
    "mat_XG5=confusion_matrix(y_test_set1, y_pred_XG5)\n",
    "mat_XG5"
   ]
  },
  {
   "cell_type": "code",
   "execution_count": 65,
   "metadata": {},
   "outputs": [
    {
     "name": "stdout",
     "output_type": "stream",
     "text": [
      "precision_score_XG5: 0.5520249406963974\n",
      "recall_score_XG5: 0.5678333333333333\n",
      "f1_score_XG5: 0.5498519626021436\n"
     ]
    }
   ],
   "source": [
    "print(\"precision_score_XG5:\",precision_score(y_test_set1, y_pred_XG5, average='weighted')) \n",
    "print(\"recall_score_XG5:\",recall_score(y_test_set1, y_pred_XG5,average='weighted'))\n",
    "print(\"f1_score_XG5:\",f1_score(y_test_set1, y_pred_XG5,average='weighted'))"
   ]
  },
  {
   "cell_type": "code",
   "execution_count": 66,
   "metadata": {},
   "outputs": [],
   "source": [
    "pca6=PCA(n_components=0.7)\n",
    "x_train_reduced6=pca6.fit_transform(x_train_set1)\n",
    "x_train_recovered6=pca6.inverse_transform(x_train_reduced6)\n",
    "x_test_reduced6=pca6.transform(x_test_set1)\n",
    "x_test_recovered6=pca6.inverse_transform(x_test_reduced6)"
   ]
  },
  {
   "cell_type": "code",
   "execution_count": 67,
   "metadata": {},
   "outputs": [
    {
     "name": "stdout",
     "output_type": "stream",
     "text": [
      "[0.28984118 0.17740473 0.06014274 0.04988384 0.03857298 0.03455602\n",
      " 0.02352779 0.01906941 0.01344911]\n"
     ]
    }
   ],
   "source": [
    "print(pca6.explained_variance_ratio_)\n",
    "#9"
   ]
  },
  {
   "cell_type": "code",
   "execution_count": 68,
   "metadata": {},
   "outputs": [
    {
     "data": {
      "text/plain": [
       "0.805"
      ]
     },
     "execution_count": 68,
     "metadata": {},
     "output_type": "execute_result"
    }
   ],
   "source": [
    "knn6 = KNeighborsClassifier(n_neighbors=27)\n",
    "knn6.fit(x_train_recovered6, y_train_set1)\n",
    "y_pred_knn6=knn6.predict(x_test_recovered6)\n",
    "accuracy_knn6=metrics.accuracy_score(y_test_set1, y_pred_knn6)\n",
    "accuracy_knn6"
   ]
  },
  {
   "cell_type": "code",
   "execution_count": 69,
   "metadata": {},
   "outputs": [
    {
     "data": {
      "text/plain": [
       "array([[ 995,    1,   22,   77,   12,    1,  110,    0,   14,    0],\n",
       "       [   8, 1092,    8,   56,    6,    0,    4,    0,    0,    0],\n",
       "       [   5,    1,  825,   14,  179,    0,  163,    0,   13,    0],\n",
       "       [  46,   12,    3, 1083,   60,    0,   36,    0,    2,    0],\n",
       "       [   4,    5,  159,   84,  773,    0,  150,    0,   10,    0],\n",
       "       [   2,    0,    0,    0,    0,  968,    0,  111,    5,   55],\n",
       "       [ 226,    0,  195,   56,  119,    0,  623,    0,   23,    1],\n",
       "       [   0,    0,    0,    0,    0,   58,    0, 1089,    0,   77],\n",
       "       [   3,    0,    8,    7,    4,   12,   17,    5, 1091,    2],\n",
       "       [   0,    0,    0,    0,    0,   28,    0,   61,    0, 1121]],\n",
       "      dtype=int64)"
      ]
     },
     "execution_count": 69,
     "metadata": {},
     "output_type": "execute_result"
    }
   ],
   "source": [
    "mat_knn6=confusion_matrix(y_test_set1, y_pred_knn6)\n",
    "mat_knn6"
   ]
  },
  {
   "cell_type": "code",
   "execution_count": 70,
   "metadata": {},
   "outputs": [
    {
     "name": "stdout",
     "output_type": "stream",
     "text": [
      "precision_score_knn6: 0.8033518506138512\n",
      "recall_score_knn6: 0.805\n",
      "f1_score_knn6: 0.803469354900917\n"
     ]
    }
   ],
   "source": [
    "print(\"precision_score_knn6:\",precision_score(y_test_set1, y_pred_knn6, average='weighted')) \n",
    "print(\"recall_score_knn6:\",recall_score(y_test_set1, y_pred_knn6,average='weighted'))\n",
    "print(\"f1_score_knn6:\",f1_score(y_test_set1, y_pred_knn6,average='weighted'))"
   ]
  },
  {
   "cell_type": "code",
   "execution_count": 71,
   "metadata": {},
   "outputs": [
    {
     "data": {
      "text/plain": [
       "0.817"
      ]
     },
     "execution_count": 71,
     "metadata": {},
     "output_type": "execute_result"
    }
   ],
   "source": [
    "XG6=XGBClassifier(n_estimators=400, max_depth=2, eta=0.1, subsample=0.7, colsample_bytree=0.8,\n",
    "                 use_label_encoder =False,eval_metric = \"logloss\")\n",
    "XG6.fit(x_train_recovered6, y_train_set1)\n",
    "y_pred_XG6=XG3.predict(x_test_recovered6)\n",
    "accuracy_XG6=metrics.accuracy_score(y_test_set1, y_pred_XG6)\n",
    "accuracy_XG6"
   ]
  },
  {
   "cell_type": "code",
   "execution_count": 72,
   "metadata": {},
   "outputs": [
    {
     "data": {
      "text/plain": [
       "array([[1005,    3,   18,   58,    6,    3,  127,    0,   12,    0],\n",
       "       [   6, 1111,    5,   43,    4,    0,    5,    0,    0,    0],\n",
       "       [   4,    2,  843,   11,  192,    0,  136,    0,   12,    0],\n",
       "       [  49,   20,    7, 1067,   47,    0,   50,    0,    2,    0],\n",
       "       [   3,    2,  176,   58,  810,    0,  131,    0,    5,    0],\n",
       "       [   0,    0,    1,    1,    0, 1036,    1,   65,    4,   33],\n",
       "       [ 217,    0,  195,   58,  134,    0,  610,    0,   28,    1],\n",
       "       [   0,    0,    0,    0,    0,   60,    0, 1106,    1,   57],\n",
       "       [   3,    0,    8,    6,    3,    9,   23,    3, 1094,    0],\n",
       "       [   0,    0,    1,    0,    0,   33,    0,   54,    0, 1122]],\n",
       "      dtype=int64)"
      ]
     },
     "execution_count": 72,
     "metadata": {},
     "output_type": "execute_result"
    }
   ],
   "source": [
    "mat_XG6=confusion_matrix(y_test_set1, y_pred_XG6)\n",
    "mat_XG6"
   ]
  },
  {
   "cell_type": "code",
   "execution_count": 73,
   "metadata": {},
   "outputs": [
    {
     "name": "stdout",
     "output_type": "stream",
     "text": [
      "precision_score_XG6: 0.8148762732609454\n",
      "recall_score_XG6: 0.817\n",
      "f1_score_XG6: 0.8155331560943708\n"
     ]
    }
   ],
   "source": [
    "print(\"precision_score_XG6:\",precision_score(y_test_set1, y_pred_XG6, average='weighted')) \n",
    "print(\"recall_score_XG6:\",recall_score(y_test_set1, y_pred_XG6,average='weighted'))\n",
    "print(\"f1_score_XG6:\",f1_score(y_test_set1, y_pred_XG6,average='weighted'))"
   ]
  },
  {
   "cell_type": "code",
   "execution_count": null,
   "metadata": {},
   "outputs": [],
   "source": []
  }
 ],
 "metadata": {
  "kernelspec": {
   "display_name": "Python 3",
   "language": "python",
   "name": "python3"
  },
  "language_info": {
   "codemirror_mode": {
    "name": "ipython",
    "version": 3
   },
   "file_extension": ".py",
   "mimetype": "text/x-python",
   "name": "python",
   "nbconvert_exporter": "python",
   "pygments_lexer": "ipython3",
   "version": "3.8.3"
  }
 },
 "nbformat": 4,
 "nbformat_minor": 4
}
